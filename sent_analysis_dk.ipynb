{
 "cells": [
  {
   "cell_type": "code",
   "execution_count": 1,
   "id": "05e857ba",
   "metadata": {},
   "outputs": [],
   "source": [
    "import pandas as pd\n",
    "import numpy as np\n",
    "import re\n",
    "import matplotlib.pyplot as plt"
   ]
  },
  {
   "cell_type": "markdown",
   "id": "34696ae7",
   "metadata": {},
   "source": [
    "## Overall Sentiment Divergence"
   ]
  },
  {
   "cell_type": "code",
   "execution_count": 2,
   "id": "084bc854",
   "metadata": {},
   "outputs": [],
   "source": [
    "df_dk = pd.read_csv(\"ParlaMint-DK-SENT.csv\", delimiter = \",\", dtype = object)\n",
    "df_dk = df_dk[~df_dk[\"Speaker_party\"].isin([\"IA\", \"JF\", \"SIU\", \"T\", \"SP\", \"NQ\", \"FG\"])]\n",
    "df_dk = df_dk[df_dk[\"Speaker_role\"]!= \"Chairperson\"]\n",
    "df_dk = df_dk.drop(df_dk[(df_dk[\"Speaker_Minister\"] == \"-\") & (df_dk[\"Speaker_MP\"] == \"notMP\")].index)"
   ]
  },
  {
   "cell_type": "code",
   "execution_count": 3,
   "id": "9e6b930b",
   "metadata": {},
   "outputs": [],
   "source": [
    "df_dk[\"Score\"] = df_dk[\"Score\"].astype(float)\n",
    "df_dk[\"Word_total\"] = df_dk[\"Word_total\"].astype(float)\n",
    "df_dk[\"Sentiment\"] = df_dk[\"Sentiment\"].astype(float)"
   ]
  },
  {
   "cell_type": "code",
   "execution_count": 4,
   "id": "f6d0cc42",
   "metadata": {
    "scrolled": true
   },
   "outputs": [
    {
     "data": {
      "text/plain": [
       "Party_status\n",
       "Coalition     0.031806\n",
       "Opposition    0.023382\n",
       "NaN           0.024134\n",
       "dtype: float64"
      ]
     },
     "execution_count": 4,
     "metadata": {},
     "output_type": "execute_result"
    }
   ],
   "source": [
    "df_dk.groupby([\"Party_status\"], dropna = False)[\"Sentiment\"].sum() / df_dk.groupby([\"Party_status\"], dropna = False)[\"Word_total\"].sum()"
   ]
  },
  {
   "cell_type": "code",
   "execution_count": 5,
   "id": "89717c46",
   "metadata": {},
   "outputs": [
    {
     "data": {
      "text/plain": [
       "0.024986840814007653"
      ]
     },
     "execution_count": 5,
     "metadata": {},
     "output_type": "execute_result"
    }
   ],
   "source": [
    "df_dk[\"Score\"].mean()"
   ]
  },
  {
   "cell_type": "code",
   "execution_count": 6,
   "id": "f765ddd3",
   "metadata": {},
   "outputs": [],
   "source": [
    "status = df_dk.groupby([\"Party_status\", \"Speaker_Minister\"], dropna = False)[\"Sentiment\"].sum() / df_dk.groupby([\"Party_status\", \"Speaker_Minister\"], dropna = False)[\"Word_total\"].sum()"
   ]
  },
  {
   "cell_type": "code",
   "execution_count": 7,
   "id": "23899fe9",
   "metadata": {},
   "outputs": [
    {
     "data": {
      "text/plain": [
       "Text(0.5, 1.0, 'Sentiment by Party Status')"
      ]
     },
     "execution_count": 7,
     "metadata": {},
     "output_type": "execute_result"
    },
    {
     "data": {
      "image/png": "[encoded data removed]",
      "text/plain": [
       "<Figure size 432x288 with 1 Axes>"
      ]
     },
     "metadata": {
      "needs_background": "light"
     },
     "output_type": "display_data"
    }
   ],
   "source": [
    "cmap = plt.cm.get_cmap('viridis')\n",
    "\n",
    "\n",
    "labels = [\"Coalition MP\", \"Coalition Min\", \"Opposition MP\", \"Other MP\"]\n",
    "plt.bar(labels, status.to_numpy(), color = [cmap(0.1), cmap(0.1), cmap(0.5), cmap(0.99)])\n",
    "plt.ylabel(\"Normalized Sentiment Score\")\n",
    "plt.title(\"Sentiment by Party Status\", fontsize = 14)"
   ]
  },
  {
   "cell_type": "code",
   "execution_count": 8,
   "id": "75ae5c07",
   "metadata": {},
   "outputs": [
    {
     "data": {
      "text/plain": [
       "Party_status  Speaker_party\n",
       "Coalition     KF               0.029811\n",
       "              LA               0.031456\n",
       "              RV               0.033878\n",
       "              S                0.031388\n",
       "              V                0.032664\n",
       "Opposition    ALT              0.026381\n",
       "              DF               0.019968\n",
       "              EL               0.019314\n",
       "              KF               0.026282\n",
       "              LA               0.020491\n",
       "              NB               0.018995\n",
       "              RV               0.025588\n",
       "              S                0.026736\n",
       "              SF               0.024294\n",
       "              V                0.026186\n",
       "NaN           ALT              0.029016\n",
       "              DF               0.021891\n",
       "              EL               0.021793\n",
       "              KD               0.021590\n",
       "              KF               0.026687\n",
       "              LA               0.026206\n",
       "              RV               0.026701\n",
       "              SF               0.027947\n",
       "              UFG              0.027825\n",
       "dtype: float64"
      ]
     },
     "execution_count": 8,
     "metadata": {},
     "output_type": "execute_result"
    }
   ],
   "source": [
    "df_dk.groupby([\"Party_status\", \"Speaker_party\"], dropna = False)[\"Sentiment\"].sum() / df_dk.groupby([\"Party_status\", \"Speaker_party\"], dropna = False)[\"Word_total\"].sum()"
   ]
  },
  {
   "cell_type": "markdown",
   "id": "f30454c0",
   "metadata": {},
   "source": [
    "## By Status and Gender"
   ]
  },
  {
   "cell_type": "code",
   "execution_count": 13,
   "id": "eb41ded3",
   "metadata": {},
   "outputs": [],
   "source": [
    "statusgender = df_dk.groupby([\"Speaker_gender\", \"Party_status\", \"Speaker_Minister\"], dropna = False)[\"Sentiment\"].sum() / df_dk.groupby([\"Speaker_gender\", \"Party_status\", \"Speaker_Minister\"], dropna = False)[\"Word_total\"].sum()"
   ]
  },
  {
   "cell_type": "code",
   "execution_count": 14,
   "id": "2b8ab353",
   "metadata": {},
   "outputs": [
    {
     "data": {
      "text/plain": [
       "Speaker_gender  Party_status  Speaker_Minister\n",
       "F               Coalition     -                   0.033959\n",
       "                              Minister            0.033426\n",
       "                Opposition    -                   0.024137\n",
       "                NaN           -                   0.025145\n",
       "M               Coalition     -                   0.030058\n",
       "                              Minister            0.031591\n",
       "                Opposition    -                   0.023001\n",
       "                NaN           -                   0.023536\n",
       "dtype: float64"
      ]
     },
     "execution_count": 14,
     "metadata": {},
     "output_type": "execute_result"
    }
   ],
   "source": [
    "statusgender"
   ]
  },
  {
   "cell_type": "code",
   "execution_count": 133,
   "id": "c623bd40",
   "metadata": {},
   "outputs": [
    {
     "data": {
      "text/plain": [
       "<AxesSubplot:xlabel='Party Status', ylabel='Sentiment Score'>"
      ]
     },
     "execution_count": 133,
     "metadata": {},
     "output_type": "execute_result"
    },
    {
     "data": {
      "image/png": "[encoded data removed]",
      "text/plain": [
       "<Figure size 576x360 with 1 Axes>"
      ]
     },
     "metadata": {
      "needs_background": "light"
     },
     "output_type": "display_data"
    }
   ],
   "source": [
    "plt.rcParams[\"figure.figsize\"] = (8,5)\n",
    "\n",
    "\n",
    "test_df = pd.DataFrame({'Party Status': ['Coalition MP', 'Coalition Min', 'Opposition MP', \"Other MP\"], \n",
    "                        'Male': statusgender.to_numpy()[-4:], 'Female': statusgender.to_numpy()[:4]})\n",
    "\n",
    "# set name as the index and then Transpose the dataframe\n",
    "test_df = test_df.set_index('Party Status')\n",
    "\n",
    "#display(test_df)\n",
    "cmap = plt.get_cmap(\"RdGy\")(np.linspace(0.1, 0.8, 2))\n",
    "\n",
    "# plot and annotate\n",
    "test_df.plot(kind='bar', rot=0, ylabel = \"Sentiment Score\", \n",
    "            color = cmap, alpha = 0.8)\n",
    "\n"
   ]
  },
  {
   "cell_type": "markdown",
   "id": "4405b163",
   "metadata": {},
   "source": [
    "### By-Speech Gender and Status"
   ]
  },
  {
   "cell_type": "markdown",
   "id": "58e8dceb",
   "metadata": {},
   "source": [
    "#### Histogram"
   ]
  },
  {
   "cell_type": "code",
   "execution_count": 31,
   "id": "ec11c536",
   "metadata": {},
   "outputs": [
    {
     "name": "stdout",
     "output_type": "stream",
     "text": [
      "Ttest_indResult(statistic=51.36061488578711, pvalue=0.0)\n"
     ]
    }
   ],
   "source": [
    "import numpy as np\n",
    "from scipy.stats import ttest_ind\n",
    "\n",
    "v1 = df_dk[df_dk[\"Party_status\"] == \"Coalition\"][\"Score\"].to_numpy()\n",
    "v2 = df_dk[df_dk[\"Party_status\"] == \"Opposition\"][\"Score\"].to_numpy()\n",
    "\n",
    "res = ttest_ind(v1, v2)\n",
    "\n",
    "print(res)"
   ]
  },
  {
   "cell_type": "code",
   "execution_count": 137,
   "id": "88da68ab",
   "metadata": {},
   "outputs": [
    {
     "data": {
      "image/png": "[encoded data removed]",
      "text/plain": [
       "<Figure size 648x432 with 1 Axes>"
      ]
     },
     "metadata": {
      "needs_background": "light"
     },
     "output_type": "display_data"
    }
   ],
   "source": [
    "from matplotlib.ticker import PercentFormatter\n",
    "import seaborn as sns\n",
    "cmap = plt.get_cmap(\"RdGy\")\n",
    "fig, ax = plt.subplots()\n",
    "\n",
    "sns.histplot(np.clip(v1, -0.05, 0.15), stat='probability', bins = 100, kde=False, alpha = 0.6, \n",
    "             color = cmap(0.2), edgecolor = None, label = \"Coalition\")\n",
    "sns.histplot(np.clip(v2, -0.05, 0.15), stat='probability', bins = 100, kde=False, alpha = 0.6, \n",
    "             color = cmap(0.8), edgecolor = None, label = \"Opposition\")\n",
    "\n",
    "ax.set_xlabel(\"Sentiment Score\", fontsize = 12)\n",
    "ax.set_ylabel(\"Probability\", fontsize = 12)\n",
    "\n",
    "\n",
    "#ax.set_title(\"Speech Score Histogram\", fontsize = 14)\n",
    "ax.legend(fontsize = 12);\n",
    "plt.show()\n",
    "\n",
    "\n"
   ]
  },
  {
   "cell_type": "markdown",
   "id": "9afe8c00",
   "metadata": {},
   "source": [
    "#### Significance tests"
   ]
  },
  {
   "cell_type": "code",
   "execution_count": 38,
   "id": "4ba16dd1",
   "metadata": {},
   "outputs": [
    {
     "data": {
      "text/plain": [
       "Party_status  Speaker_Minister  Speaker_gender\n",
       "Coalition     -                 F                 [0.0896559306219239, 0.10658321670287811, 0.09...\n",
       "                                M                 [0.04041143137636344, 0.027176004266774505, 0....\n",
       "              Minister          F                 [0.020488505547076482, 0.03675953704815516, 0....\n",
       "                                M                 [0.041912736217882905, 0.022427205484498842, 0...\n",
       "Opposition    -                 F                 [0.06876544093825647, 0.040219351246754624, 0....\n",
       "                                M                 [0.05221502759762253, 0.09895967449972483, 0.0...\n",
       "NaN           -                 F                 [0.03431448354408886, 0.03339781938853782, 0.0...\n",
       "                                M                 [0.0927017653429002, 0.03673739854363984, 0.00...\n",
       "Name: Score, dtype: object"
      ]
     },
     "execution_count": 38,
     "metadata": {},
     "output_type": "execute_result"
    }
   ],
   "source": [
    "df_dk.groupby([\"Party_status\", \"Speaker_Minister\", \"Speaker_gender\"], dropna = False)[\"Score\"].apply(list)"
   ]
  },
  {
   "cell_type": "code",
   "execution_count": 39,
   "id": "06deed64",
   "metadata": {},
   "outputs": [],
   "source": [
    "lists = df_dk.groupby([\"Party_status\",\"Speaker_Minister\", \"Speaker_gender\"], dropna = False)[\"Score\"].apply(list)"
   ]
  },
  {
   "cell_type": "code",
   "execution_count": 40,
   "id": "8c8aef97",
   "metadata": {},
   "outputs": [],
   "source": [
    "from scipy.stats import ttest_ind"
   ]
  },
  {
   "cell_type": "markdown",
   "id": "f27bd38c",
   "metadata": {},
   "source": [
    "##### Gender differences"
   ]
  },
  {
   "cell_type": "code",
   "execution_count": 41,
   "id": "edc81a36",
   "metadata": {},
   "outputs": [
    {
     "data": {
      "text/plain": [
       "Ttest_indResult(statistic=7.7381330029676105, pvalue=1.0505051959398439e-14)"
      ]
     },
     "execution_count": 41,
     "metadata": {},
     "output_type": "execute_result"
    }
   ],
   "source": [
    "#coalition MP\n",
    "ttest_ind(lists[0], lists[1])"
   ]
  },
  {
   "cell_type": "code",
   "execution_count": 42,
   "id": "31a91358",
   "metadata": {},
   "outputs": [
    {
     "data": {
      "text/plain": [
       "Ttest_indResult(statistic=7.277829222089784, pvalue=3.467727291355618e-13)"
      ]
     },
     "execution_count": 42,
     "metadata": {},
     "output_type": "execute_result"
    }
   ],
   "source": [
    "#coalition Min\n",
    "ttest_ind(lists[2], lists[3])"
   ]
  },
  {
   "cell_type": "code",
   "execution_count": 43,
   "id": "27c213b8",
   "metadata": {},
   "outputs": [
    {
     "data": {
      "text/plain": [
       "Ttest_indResult(statistic=4.238855194383285, pvalue=2.2489541095966903e-05)"
      ]
     },
     "execution_count": 43,
     "metadata": {},
     "output_type": "execute_result"
    }
   ],
   "source": [
    "#opposition\n",
    "ttest_ind(lists[4], lists[5])"
   ]
  },
  {
   "cell_type": "code",
   "execution_count": 44,
   "id": "69baf51a",
   "metadata": {},
   "outputs": [
    {
     "data": {
      "text/plain": [
       "Ttest_indResult(statistic=5.373966105255297, pvalue=7.744931131440395e-08)"
      ]
     },
     "execution_count": 44,
     "metadata": {},
     "output_type": "execute_result"
    }
   ],
   "source": [
    "#other\n",
    "ttest_ind(lists[6], lists[7])"
   ]
  },
  {
   "cell_type": "markdown",
   "id": "e10226e2",
   "metadata": {},
   "source": [
    "###### Party Status Differences"
   ]
  },
  {
   "cell_type": "code",
   "execution_count": 45,
   "id": "ecc3e859",
   "metadata": {},
   "outputs": [
    {
     "data": {
      "text/plain": [
       "Ttest_indResult(statistic=-4.618257349224061, pvalue=3.878361772760541e-06)"
      ]
     },
     "execution_count": 45,
     "metadata": {},
     "output_type": "execute_result"
    }
   ],
   "source": [
    "#coalition MP vs Min\n",
    "ttest_ind(lists[0]+lists[1], lists[2]+lists[3])"
   ]
  },
  {
   "cell_type": "code",
   "execution_count": 46,
   "id": "8ec3dff0",
   "metadata": {},
   "outputs": [
    {
     "data": {
      "text/plain": [
       "Ttest_indResult(statistic=51.360614885787136, pvalue=0.0)"
      ]
     },
     "execution_count": 46,
     "metadata": {},
     "output_type": "execute_result"
    }
   ],
   "source": [
    "#coalition vs oppositoin\n",
    "ttest_ind(lists[0]+lists[1]+lists[2]+lists[3], lists[4]+lists[5])"
   ]
  },
  {
   "cell_type": "code",
   "execution_count": 47,
   "id": "23278e87",
   "metadata": {},
   "outputs": [
    {
     "data": {
      "text/plain": [
       "Ttest_indResult(statistic=-4.627877025387087, pvalue=3.6979829579427827e-06)"
      ]
     },
     "execution_count": 47,
     "metadata": {},
     "output_type": "execute_result"
    }
   ],
   "source": [
    "#opposition vs. other\n",
    "ttest_ind(lists[4]+lists[5], lists[6]+lists[7])"
   ]
  },
  {
   "cell_type": "code",
   "execution_count": 48,
   "id": "c12ca026",
   "metadata": {},
   "outputs": [
    {
     "data": {
      "text/plain": [
       "Ttest_indResult(statistic=38.36380756992834, pvalue=0.0)"
      ]
     },
     "execution_count": 48,
     "metadata": {},
     "output_type": "execute_result"
    }
   ],
   "source": [
    "#coalition vs other\n",
    "ttest_ind(lists[0]+lists[1]+lists[2]+lists[3], lists[6]+lists[7])"
   ]
  },
  {
   "cell_type": "markdown",
   "id": "010b1b6a",
   "metadata": {},
   "source": [
    "## Sentiment Divergence over Time"
   ]
  },
  {
   "cell_type": "code",
   "execution_count": 49,
   "id": "cb522c82",
   "metadata": {},
   "outputs": [],
   "source": [
    "timeseries = (df_dk.groupby([\"YearMonth\", \"Party_status\"], dropna = False)[\"Sentiment\"].sum() \n",
    "              / df_dk.groupby([\"YearMonth\", \"Party_status\"], dropna = False)[\"Word_total\"].sum())"
   ]
  },
  {
   "cell_type": "code",
   "execution_count": 50,
   "id": "bfc0bfed",
   "metadata": {},
   "outputs": [],
   "source": [
    "coalition = df_dk[df_dk[\"Party_status\"] == \"Coalition\"].groupby([\"YearMonth\"])[\"Sentiment\"].sum() / df_dk[df_dk[\"Party_status\"] == \"Coalition\"].groupby([\"YearMonth\"])[\"Word_total\"].sum()\n",
    "opposition = df_dk[df_dk[\"Party_status\"] == \"Opposition\"].groupby([\"YearMonth\"])[\"Sentiment\"].sum() /df_dk[df_dk[\"Party_status\"] == \"Opposition\"].groupby([\"YearMonth\"])[\"Word_total\"].sum()\n",
    "other = df_dk[df_dk[\"Party_status\"].isna()].groupby([\"YearMonth\"])[\"Sentiment\"].sum() /df_dk[df_dk[\"Party_status\"].isna()].groupby([\"YearMonth\"])[\"Word_total\"].sum()"
   ]
  },
  {
   "cell_type": "code",
   "execution_count": 51,
   "id": "b535484b",
   "metadata": {},
   "outputs": [
    {
     "data": {
      "text/plain": [
       "(0.031647122295008795,\n",
       " 0.002908155253387001,\n",
       " 0.00032115202269410853,\n",
       " -0.04515335082436165)"
      ]
     },
     "execution_count": 51,
     "metadata": {},
     "output_type": "execute_result"
    }
   ],
   "source": [
    "coalition.mean(), coalition.std(), coalition.sem(), coalition.autocorr(7)"
   ]
  },
  {
   "cell_type": "code",
   "execution_count": 52,
   "id": "c882d619",
   "metadata": {},
   "outputs": [
    {
     "data": {
      "text/plain": [
       "(0.02408232672898794,\n",
       " 0.003898221696729746,\n",
       " 0.00042788541981729565,\n",
       " 0.09559013320987701)"
      ]
     },
     "execution_count": 52,
     "metadata": {},
     "output_type": "execute_result"
    }
   ],
   "source": [
    "opposition.mean(), opposition.std(), opposition.sem(), opposition.autocorr()"
   ]
  },
  {
   "cell_type": "code",
   "execution_count": 53,
   "id": "1ad0d844",
   "metadata": {},
   "outputs": [
    {
     "data": {
      "text/plain": [
       "(0.024254809868105284,\n",
       " 0.003267952378625002,\n",
       " 0.00036310581984722246,\n",
       " 0.2883857690163366)"
      ]
     },
     "execution_count": 53,
     "metadata": {},
     "output_type": "execute_result"
    }
   ],
   "source": [
    "other.mean(), other.std(), other.sem(), other.autocorr()"
   ]
  },
  {
   "cell_type": "code",
   "execution_count": 54,
   "id": "7b7b115d",
   "metadata": {},
   "outputs": [],
   "source": [
    "coalition = df_dk[df_dk[\"Party_status\"] == \"Coalition\"].groupby([\"Date\"])[\"Sentiment\"].sum() / df_dk[df_dk[\"Party_status\"] == \"Coalition\"].groupby([\"Date\"])[\"Word_total\"].sum()\n",
    "opposition = df_dk[df_dk[\"Party_status\"] == \"Opposition\"].groupby([\"Date\"])[\"Sentiment\"].sum() /df_dk[df_dk[\"Party_status\"] == \"Opposition\"].groupby([\"Date\"])[\"Word_total\"].sum()\n",
    "other = df_dk[df_dk[\"Party_status\"].isna()].groupby([\"Date\"])[\"Sentiment\"].sum() /df_dk[df_dk[\"Party_status\"].isna()].groupby([\"Date\"])[\"Word_total\"].sum()"
   ]
  },
  {
   "cell_type": "code",
   "execution_count": 55,
   "id": "8237bd43",
   "metadata": {},
   "outputs": [
    {
     "data": {
      "text/plain": [
       "(0.03190795684041404,\n",
       " 0.007052553978158712,\n",
       " 0.0002450931933936092,\n",
       " 0.03600512834721464)"
      ]
     },
     "execution_count": 55,
     "metadata": {},
     "output_type": "execute_result"
    }
   ],
   "source": [
    "coalition.mean(), coalition.std(), coalition.sem(), coalition.autocorr()"
   ]
  },
  {
   "cell_type": "code",
   "execution_count": 56,
   "id": "fff55a22",
   "metadata": {},
   "outputs": [
    {
     "data": {
      "text/plain": [
       "(0.023507101461725702,\n",
       " 0.0058439190485010785,\n",
       " 0.00020358256669691794,\n",
       " 0.06581128591472496)"
      ]
     },
     "execution_count": 56,
     "metadata": {},
     "output_type": "execute_result"
    }
   ],
   "source": [
    "opposition.mean(), opposition.std(), opposition.sem(), opposition.autocorr()"
   ]
  },
  {
   "cell_type": "code",
   "execution_count": 57,
   "id": "51a97e0b",
   "metadata": {},
   "outputs": [
    {
     "data": {
      "text/plain": [
       "(0.02397108464004347,\n",
       " 0.007321835773165252,\n",
       " 0.00025790066539737726,\n",
       " 0.043479179418540015)"
      ]
     },
     "execution_count": 57,
     "metadata": {},
     "output_type": "execute_result"
    }
   ],
   "source": [
    "other.mean(), other.std(), other.sem(), other.autocorr()"
   ]
  },
  {
   "cell_type": "code",
   "execution_count": 58,
   "id": "0d381505",
   "metadata": {},
   "outputs": [],
   "source": [
    "opposition = df_dk[df_dk[\"Party_status\"] == \"Opposition\"].groupby([\"YearMonth\"])[\"Sentiment\"].sum() /df_dk[df_dk[\"Party_status\"] == \"Opposition\"].groupby([\"YearMonth\"])[\"Word_total\"].sum()"
   ]
  },
  {
   "cell_type": "code",
   "execution_count": 59,
   "id": "2071b97d",
   "metadata": {},
   "outputs": [
    {
     "data": {
      "text/plain": [
       "YearMonth  Party_status\n",
       "2014-10    Coalition       0.035868\n",
       "           Opposition      0.028531\n",
       "           NaN             0.030056\n",
       "2014-11    Coalition       0.034448\n",
       "           Opposition      0.024958\n",
       "                             ...   \n",
       "2022-05    Opposition      0.024391\n",
       "           NaN             0.025635\n",
       "2022-06    Coalition       0.033817\n",
       "           Opposition      0.027604\n",
       "           NaN             0.031362\n",
       "Length: 246, dtype: float64"
      ]
     },
     "execution_count": 59,
     "metadata": {},
     "output_type": "execute_result"
    }
   ],
   "source": [
    "timeseries"
   ]
  },
  {
   "cell_type": "code",
   "execution_count": 60,
   "id": "6a8915a4",
   "metadata": {},
   "outputs": [],
   "source": [
    "timeseries = timeseries.reset_index().pivot(\"YearMonth\", \"Party_status\")"
   ]
  },
  {
   "cell_type": "code",
   "execution_count": 61,
   "id": "de250399",
   "metadata": {},
   "outputs": [],
   "source": [
    "timeseries.columns = timeseries.columns.droplevel()"
   ]
  },
  {
   "cell_type": "code",
   "execution_count": 62,
   "id": "b9412c16",
   "metadata": {},
   "outputs": [
    {
     "data": {
      "text/html": [
       "<div>\n",
       "<style scoped>\n",
       "    .dataframe tbody tr th:only-of-type {\n",
       "        vertical-align: middle;\n",
       "    }\n",
       "\n",
       "    .dataframe tbody tr th {\n",
       "        vertical-align: top;\n",
       "    }\n",
       "\n",
       "    .dataframe thead th {\n",
       "        text-align: right;\n",
       "    }\n",
       "</style>\n",
       "<table border=\"1\" class=\"dataframe\">\n",
       "  <thead>\n",
       "    <tr style=\"text-align: right;\">\n",
       "      <th>Party_status</th>\n",
       "      <th>NaN</th>\n",
       "      <th>Coalition</th>\n",
       "      <th>Opposition</th>\n",
       "    </tr>\n",
       "    <tr>\n",
       "      <th>YearMonth</th>\n",
       "      <th></th>\n",
       "      <th></th>\n",
       "      <th></th>\n",
       "    </tr>\n",
       "  </thead>\n",
       "  <tbody>\n",
       "    <tr>\n",
       "      <th>2014-10</th>\n",
       "      <td>0.030056</td>\n",
       "      <td>0.035868</td>\n",
       "      <td>0.028531</td>\n",
       "    </tr>\n",
       "    <tr>\n",
       "      <th>2014-11</th>\n",
       "      <td>0.025309</td>\n",
       "      <td>0.034448</td>\n",
       "      <td>0.024958</td>\n",
       "    </tr>\n",
       "    <tr>\n",
       "      <th>2014-12</th>\n",
       "      <td>0.024626</td>\n",
       "      <td>0.029907</td>\n",
       "      <td>0.022821</td>\n",
       "    </tr>\n",
       "    <tr>\n",
       "      <th>2015-01</th>\n",
       "      <td>0.023125</td>\n",
       "      <td>0.030403</td>\n",
       "      <td>0.023078</td>\n",
       "    </tr>\n",
       "    <tr>\n",
       "      <th>2015-02</th>\n",
       "      <td>0.022882</td>\n",
       "      <td>0.032678</td>\n",
       "      <td>0.022772</td>\n",
       "    </tr>\n",
       "    <tr>\n",
       "      <th>...</th>\n",
       "      <td>...</td>\n",
       "      <td>...</td>\n",
       "      <td>...</td>\n",
       "    </tr>\n",
       "    <tr>\n",
       "      <th>2022-02</th>\n",
       "      <td>0.023717</td>\n",
       "      <td>0.030265</td>\n",
       "      <td>0.024900</td>\n",
       "    </tr>\n",
       "    <tr>\n",
       "      <th>2022-03</th>\n",
       "      <td>0.025535</td>\n",
       "      <td>0.030349</td>\n",
       "      <td>0.023917</td>\n",
       "    </tr>\n",
       "    <tr>\n",
       "      <th>2022-04</th>\n",
       "      <td>0.026416</td>\n",
       "      <td>0.033296</td>\n",
       "      <td>0.024661</td>\n",
       "    </tr>\n",
       "    <tr>\n",
       "      <th>2022-05</th>\n",
       "      <td>0.025635</td>\n",
       "      <td>0.032165</td>\n",
       "      <td>0.024391</td>\n",
       "    </tr>\n",
       "    <tr>\n",
       "      <th>2022-06</th>\n",
       "      <td>0.031362</td>\n",
       "      <td>0.033817</td>\n",
       "      <td>0.027604</td>\n",
       "    </tr>\n",
       "  </tbody>\n",
       "</table>\n",
       "<p>83 rows × 3 columns</p>\n",
       "</div>"
      ],
      "text/plain": [
       "Party_status       NaN  Coalition  Opposition\n",
       "YearMonth                                    \n",
       "2014-10       0.030056   0.035868    0.028531\n",
       "2014-11       0.025309   0.034448    0.024958\n",
       "2014-12       0.024626   0.029907    0.022821\n",
       "2015-01       0.023125   0.030403    0.023078\n",
       "2015-02       0.022882   0.032678    0.022772\n",
       "...                ...        ...         ...\n",
       "2022-02       0.023717   0.030265    0.024900\n",
       "2022-03       0.025535   0.030349    0.023917\n",
       "2022-04       0.026416   0.033296    0.024661\n",
       "2022-05       0.025635   0.032165    0.024391\n",
       "2022-06       0.031362   0.033817    0.027604\n",
       "\n",
       "[83 rows x 3 columns]"
      ]
     },
     "execution_count": 62,
     "metadata": {},
     "output_type": "execute_result"
    }
   ],
   "source": [
    "timeseries"
   ]
  },
  {
   "cell_type": "code",
   "execution_count": 63,
   "id": "54867521",
   "metadata": {},
   "outputs": [],
   "source": [
    "coalition = timeseries[\"Coalition\"].to_numpy()\n",
    "opposition = timeseries[\"Opposition\"].to_numpy()\n",
    "other = timeseries[np.nan].to_numpy()"
   ]
  },
  {
   "cell_type": "code",
   "execution_count": 64,
   "id": "c1115be3",
   "metadata": {},
   "outputs": [],
   "source": [
    "index = timeseries.index"
   ]
  },
  {
   "cell_type": "code",
   "execution_count": 65,
   "id": "8282e10d",
   "metadata": {},
   "outputs": [],
   "source": [
    "lines = (\"2015-05\", \"2016-11\", \"2019-06\")"
   ]
  },
  {
   "cell_type": "code",
   "execution_count": 106,
   "id": "2a9f9de1",
   "metadata": {
    "scrolled": false
   },
   "outputs": [
    {
     "data": {
      "image/png": "[encoded data removed]",
      "text/plain": [
       "<Figure size 1152x576 with 1 Axes>"
      ]
     },
     "metadata": {
      "needs_background": "light"
     },
     "output_type": "display_data"
    }
   ],
   "source": [
    "plt.rcParams[\"figure.figsize\"] = (16,8)\n",
    "\n",
    "plt.plot(index, coalition, label = \"Coalition\", color = cmap(0.2));\n",
    "plt.plot(index, opposition, label = \"Opposition\", color = cmap(0.9));\n",
    "plt.plot(index, other, label = \"Other\", color = cmap(0.7))\n",
    "plt.xticks(rotation=90);\n",
    "plt.xlabel(\"Year-Month\", fontsize = 14)\n",
    "plt.ylabel(\"Sentiment Scores\", fontsize = 14)\n",
    "#plt.title(\"Sentiment over Time\", fontsize = 16)\n",
    "plt.text(-1,0.045, \"Thorning-\\nSchmidt II\", c = \"black\", fontsize = 12)\n",
    "plt.text(10,0.045, \"Rasmussen II\", c = \"black\", fontsize = 12)\n",
    "plt.text(30,0.045, \"Rasmussen III\", c = \"black\", fontsize = 12)\n",
    "plt.text(60,0.045, \"Frederiksen I\", c = \"black\", fontsize = 12)\n",
    "plt.axvspan(53,82, facecolor= cmap(0.2), alpha=0.2, zorder=-1000)\n",
    "\n",
    "\n",
    "for date in lines:\n",
    "    x = np.where(index == date)[0][0]\n",
    "    plt.axvline(x, c = \"black\", linestyle = \"--\")\n",
    "plt.legend(fontsize = 13, loc = \"upper right\", framealpha = 1);"
   ]
  },
  {
   "cell_type": "code",
   "execution_count": 76,
   "id": "8526e209",
   "metadata": {},
   "outputs": [
    {
     "data": {
      "text/plain": [
       "Subcorpus  Party_status\n",
       "COVID      Coalition       0.031318\n",
       "           Opposition      0.022555\n",
       "           NaN             0.025119\n",
       "Reference  Coalition       0.032096\n",
       "           Opposition      0.023848\n",
       "           NaN             0.023245\n",
       "dtype: float64"
      ]
     },
     "execution_count": 76,
     "metadata": {},
     "output_type": "execute_result"
    }
   ],
   "source": [
    "df_dk.groupby([\"Subcorpus\", \"Party_status\"], dropna = False)[\"Sentiment\"].sum() / df_dk.groupby([\"Subcorpus\", \"Party_status\"], dropna = False)[\"Word_total\"].sum() "
   ]
  },
  {
   "cell_type": "code",
   "execution_count": 66,
   "id": "ee050885",
   "metadata": {},
   "outputs": [
    {
     "data": {
      "text/plain": [
       "array(['2022-05', '2022-01', '2022-02', '2022-03', '2022-04', '2022-06',\n",
       "       '2019-12', '2019-11', '2021-05', '2021-11', '2021-12', '2021-08',\n",
       "       '2021-03', '2021-02', '2021-10', '2021-01', '2021-04', '2021-06',\n",
       "       '2021-09', '2020-11', '2020-01', '2020-06', '2020-10', '2020-12',\n",
       "       '2020-05', '2020-03', '2020-02', '2020-09', '2020-04', '2020-08'],\n",
       "      dtype=object)"
      ]
     },
     "execution_count": 66,
     "metadata": {},
     "output_type": "execute_result"
    }
   ],
   "source": [
    "df_dk.groupby([\"Subcorpus\"])[\"YearMonth\"].unique()[0]"
   ]
  },
  {
   "cell_type": "markdown",
   "id": "2ee3468f",
   "metadata": {},
   "source": [
    "### By meeting type"
   ]
  },
  {
   "cell_type": "code",
   "execution_count": 110,
   "id": "9cf7c79d",
   "metadata": {},
   "outputs": [],
   "source": [
    "df_dk[\"Meeting_type\"] = pd.Series(dtype='str')"
   ]
  },
  {
   "cell_type": "code",
   "execution_count": 111,
   "id": "b107a73d",
   "metadata": {},
   "outputs": [],
   "source": [
    "reading = df_dk[\"Topic_title\"].str.contains(\"behandling\")\n",
    "negotiation = df_dk[\"Topic_title\"].str.contains(\"forhandling|Forhandling\")\n",
    "question = df_dk[\"Topic_title\"].str.contains(\"Spm.|spørgetime|Spørgetime\")"
   ]
  },
  {
   "cell_type": "code",
   "execution_count": 112,
   "id": "53365cf2",
   "metadata": {},
   "outputs": [],
   "source": [
    "df_dk[\"Meeting_type\"] = df_dk[\"Meeting_type\"].mask(reading, other = \"reading\")\n",
    "df_dk[\"Meeting_type\"] = df_dk[\"Meeting_type\"].mask(negotiation, other = \"negotiation\")\n",
    "df_dk[\"Meeting_type\"] = df_dk[\"Meeting_type\"].mask(question, other = \"question\")"
   ]
  },
  {
   "cell_type": "code",
   "execution_count": 113,
   "id": "c3db94e1",
   "metadata": {},
   "outputs": [
    {
     "data": {
      "text/plain": [
       "Meeting_type\n",
       "negotiation    0.028280\n",
       "question       0.025280\n",
       "reading        0.025752\n",
       "NaN            0.030707\n",
       "dtype: float64"
      ]
     },
     "execution_count": 113,
     "metadata": {},
     "output_type": "execute_result"
    }
   ],
   "source": [
    "df_dk.groupby([\"Meeting_type\"], dropna = False)[\"Sentiment\"].sum() / df_dk.groupby([\"Meeting_type\"], dropna = False)[\"Word_total\"].sum()"
   ]
  },
  {
   "cell_type": "code",
   "execution_count": 114,
   "id": "8a954fb7",
   "metadata": {},
   "outputs": [],
   "source": [
    "df = df_dk.groupby([\"Meeting_type\", \"Party_status\"], dropna = False)[\"Sentiment\"].sum() / df_dk.groupby([\"Meeting_type\", \"Party_status\"], dropna = False)[\"Word_total\"].sum()"
   ]
  },
  {
   "cell_type": "code",
   "execution_count": 115,
   "id": "99f4e4ba",
   "metadata": {
    "scrolled": true
   },
   "outputs": [
    {
     "data": {
      "text/plain": [
       "Meeting_type  Party_status\n",
       "negotiation   Coalition       0.034762\n",
       "              Opposition      0.025284\n",
       "              NaN             0.025571\n",
       "question      Coalition       0.029903\n",
       "              Opposition      0.019595\n",
       "              NaN             0.018806\n",
       "reading       Coalition       0.031324\n",
       "              Opposition      0.023286\n",
       "              NaN             0.024037\n",
       "NaN           Coalition       0.039516\n",
       "              Opposition      0.025032\n",
       "              NaN             0.025654\n",
       "dtype: float64"
      ]
     },
     "execution_count": 115,
     "metadata": {},
     "output_type": "execute_result"
    }
   ],
   "source": [
    "df"
   ]
  },
  {
   "cell_type": "code",
   "execution_count": 116,
   "id": "72175f9b",
   "metadata": {},
   "outputs": [
    {
     "data": {
      "text/plain": [
       "array([0.00947813, 0.01030815, 0.00803748])"
      ]
     },
     "execution_count": 116,
     "metadata": {},
     "output_type": "execute_result"
    }
   ],
   "source": [
    "df.to_numpy()[0:8:3] - df.to_numpy()[1:8:3]"
   ]
  },
  {
   "cell_type": "code",
   "execution_count": 117,
   "id": "ec5426ff",
   "metadata": {},
   "outputs": [
    {
     "data": {
      "text/plain": [
       "0.024986840814007653"
      ]
     },
     "execution_count": 117,
     "metadata": {},
     "output_type": "execute_result"
    }
   ],
   "source": [
    "df_dk[\"Score\"].mean()"
   ]
  },
  {
   "cell_type": "code",
   "execution_count": 138,
   "id": "6791de90",
   "metadata": {},
   "outputs": [
    {
     "data": {
      "image/png": "[encoded data removed]",
      "text/plain": [
       "<Figure size 648x432 with 1 Axes>"
      ]
     },
     "metadata": {
      "needs_background": "light"
     },
     "output_type": "display_data"
    }
   ],
   "source": [
    "test_df = pd.DataFrame({'Meeting Type': ['Negotiation\\n (Mean = 0.0283)', \n",
    "                                         'Question\\n (Mean = 0.0253)', 'Reading\\n (Mean = 0.0257)'], \n",
    "                        'Coalition': df.to_numpy()[0:9:3], \"Opposition\": df.to_numpy()[1:9:3], \n",
    "                        \"Other\": df.to_numpy()[2:9:3]})\n",
    "\n",
    "# set name as the index and then Transpose the dataframe\n",
    "test_df = test_df.set_index('Meeting Type')\n",
    "plt.rcParams[\"figure.figsize\"] = (9,6)\n",
    "\n",
    "\n",
    "\n",
    "#display(test_df)\n",
    "cmap = plt.get_cmap(\"RdGy\")\n",
    "# plot and annotate\n",
    "test_df.plot(kind='bar', rot=0, color = [cmap(0.18), cmap(0.95), cmap(0.7)], fontsize = 12, alpha = 0.8)\n",
    "plt.xlabel(\"Proceeding Type\", fontsize = 14)\n",
    "plt.ylabel(\"Sentiment Score\", fontsize = 14)\n",
    "#plt.title(\"Sentiment by Party Status, Meeting Type\", fontsize = 14)\n",
    "plt.show()\n",
    "\n"
   ]
  },
  {
   "cell_type": "code",
   "execution_count": null,
   "id": "abaf4344",
   "metadata": {},
   "outputs": [],
   "source": []
  }
 ],
 "metadata": {
  "kernelspec": {
   "display_name": "Python [conda env:root] *",
   "language": "python",
   "name": "conda-root-py"
  },
  "language_info": {
   "codemirror_mode": {
    "name": "ipython",
    "version": 3
   },
   "file_extension": ".py",
   "mimetype": "text/x-python",
   "name": "python",
   "nbconvert_exporter": "python",
   "pygments_lexer": "ipython3",
   "version": "3.9.7"
  }
 },
 "nbformat": 4,
 "nbformat_minor": 5
}
