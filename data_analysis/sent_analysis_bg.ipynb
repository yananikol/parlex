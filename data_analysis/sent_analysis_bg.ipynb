{
 "cells": [
  {
   "cell_type": "code",
   "execution_count": 18,
   "id": "05e857ba",
   "metadata": {},
   "outputs": [],
   "source": [
    "import pandas as pd\n",
    "import numpy as np\n",
    "import re\n",
    "import matplotlib.pyplot as plt"
   ]
  },
  {
   "cell_type": "markdown",
   "id": "34696ae7",
   "metadata": {},
   "source": [
    "## Overall Sentiment Divergence"
   ]
  },
  {
   "cell_type": "code",
   "execution_count": 19,
   "id": "084bc854",
   "metadata": {},
   "outputs": [],
   "source": [
    "df_bg = pd.read_csv(\"ParlaMint-BG-SENT.csv\", delimiter = \",\", dtype = object)\n",
    "df_bg[\"Score\"] = df_bg[\"Score\"].astype(float)\n",
    "df_bg[\"Word_total\"] = df_bg[\"Word_total\"].astype(float)\n",
    "df_bg[\"Sentiment\"] = df_bg[\"Sentiment\"].astype(float)\n",
    "df_bg = df_bg[df_bg[\"Speaker_role\"]!= \"Chairperson\"]\n",
    "#df_bg = df_bg[df_bg[\"Word_total\"]>15]\n",
    "df_bg = df_bg.drop(df_bg[(df_bg[\"Speaker_Minister\"] == \"-\") & (df_bg[\"Speaker_MP\"] == \"notMP\")].index)"
   ]
  },
  {
   "cell_type": "code",
   "execution_count": 20,
   "id": "c3d4f69d",
   "metadata": {},
   "outputs": [
    {
     "data": {
      "text/plain": [
       "0.21606395758253594"
      ]
     },
     "execution_count": 20,
     "metadata": {},
     "output_type": "execute_result"
    }
   ],
   "source": [
    "(df_bg[\"Word_total\"]<15).sum()/len(df_bg)"
   ]
  },
  {
   "cell_type": "code",
   "execution_count": 21,
   "id": "9e6b930b",
   "metadata": {},
   "outputs": [
    {
     "data": {
      "text/plain": [
       "<AxesSubplot:>"
      ]
     },
     "execution_count": 21,
     "metadata": {},
     "output_type": "execute_result"
    },
    {
     "data": {
      "image/png": "[encoded data removed]",
      "text/plain": [
       "<Figure size 432x288 with 1 Axes>"
      ]
     },
     "metadata": {
      "needs_background": "light"
     },
     "output_type": "display_data"
    }
   ],
   "source": [
    "df_bg[\"Word_total\"].hist(bins = 100)"
   ]
  },
  {
   "cell_type": "code",
   "execution_count": 22,
   "id": "87dd5f8a",
   "metadata": {},
   "outputs": [],
   "source": [
    "nocom = df_bg[df_bg[\"Comission\"] == \"False\"]"
   ]
  },
  {
   "cell_type": "code",
   "execution_count": 23,
   "id": "f6d0cc42",
   "metadata": {
    "scrolled": true
   },
   "outputs": [
    {
     "data": {
      "text/plain": [
       "Party_status\n",
       "Coalition     0.035140\n",
       "Opposition    0.037638\n",
       "NaN           0.039511\n",
       "dtype: float64"
      ]
     },
     "execution_count": 23,
     "metadata": {},
     "output_type": "execute_result"
    }
   ],
   "source": [
    "df_bg.groupby([\"Party_status\"], dropna = False)[\"Sentiment\"].sum() / df_bg.groupby([\"Party_status\"], dropna = False)[\"Word_total\"].sum()"
   ]
  },
  {
   "cell_type": "code",
   "execution_count": 24,
   "id": "17a7143d",
   "metadata": {},
   "outputs": [
    {
     "data": {
      "text/plain": [
       "Party_status\n",
       "Coalition     0.041053\n",
       "Opposition    0.038311\n",
       "NaN           0.040004\n",
       "dtype: float64"
      ]
     },
     "execution_count": 24,
     "metadata": {},
     "output_type": "execute_result"
    }
   ],
   "source": [
    "nocom.groupby([\"Party_status\"], dropna = False)[\"Sentiment\"].sum() / nocom.groupby([\"Party_status\"], dropna = False)[\"Word_total\"].sum()"
   ]
  },
  {
   "cell_type": "code",
   "execution_count": 25,
   "id": "d08c64f1",
   "metadata": {},
   "outputs": [
    {
     "data": {
      "text/plain": [
       "Party_status\n",
       "Coalition     0.035141\n",
       "Opposition    0.038087\n",
       "NaN           0.041981\n",
       "Name: Score, dtype: float64"
      ]
     },
     "execution_count": 25,
     "metadata": {},
     "output_type": "execute_result"
    }
   ],
   "source": [
    "nocom.groupby([\"Party_status\"], dropna = False)[\"Score\"].mean()"
   ]
  },
  {
   "cell_type": "code",
   "execution_count": 26,
   "id": "c477baa4",
   "metadata": {},
   "outputs": [
    {
     "data": {
      "text/plain": [
       "Party_status  Comission\n",
       "Coalition     False        0.041053\n",
       "              True         0.019551\n",
       "Opposition    False        0.038311\n",
       "              True         0.021657\n",
       "NaN           False        0.040004\n",
       "              True         0.020787\n",
       "dtype: float64"
      ]
     },
     "execution_count": 26,
     "metadata": {},
     "output_type": "execute_result"
    }
   ],
   "source": [
    "df_bg.groupby([\"Party_status\", \"Comission\"], dropna = False)[\"Sentiment\"].sum() / df_bg.groupby([\"Party_status\", \"Comission\"], dropna = False)[\"Word_total\"].sum()"
   ]
  },
  {
   "cell_type": "code",
   "execution_count": 10,
   "id": "f765ddd3",
   "metadata": {},
   "outputs": [],
   "source": [
    "status = df_bg.groupby([\"Party_status\", \"Comission\"], dropna = False)[\"Sentiment\"].sum() / df_bg.groupby([\"Party_status\", \"Comission\"], dropna = False)[\"Word_total\"].sum()"
   ]
  },
  {
   "cell_type": "code",
   "execution_count": 11,
   "id": "23899fe9",
   "metadata": {},
   "outputs": [
    {
     "data": {
      "text/plain": [
       "Text(0.5, 1.0, 'Sentiment by Party Status')"
      ]
     },
     "execution_count": 11,
     "metadata": {},
     "output_type": "execute_result"
    },
    {
     "data": {
      "image/png": "[encoded data removed]",
      "text/plain": [
       "<Figure size 432x288 with 1 Axes>"
      ]
     },
     "metadata": {
      "needs_background": "light"
     },
     "output_type": "display_data"
    }
   ],
   "source": [
    "cmap = plt.cm.get_cmap('viridis')\n",
    "labels = [\"Coalition MP\", \"Coalition -Com\", \"Opposition MP\", \"Opposition -Com\", \"Other MP\", \"Other -Com\"]\n",
    "plt.bar(labels, status.to_numpy(), color = [cmap(0.1), cmap(0.1), cmap(0.5), cmap (0.5), cmap(0.99), cmap(0.99)])\n",
    "plt.ylabel(\"Normalized Sentiment Score\")\n",
    "plt.title(\"Sentiment by Party Status\", fontsize = 14)"
   ]
  },
  {
   "cell_type": "code",
   "execution_count": 15,
   "id": "a5ece072",
   "metadata": {},
   "outputs": [],
   "source": [
    "nocom = nocom[nocom[\"Caretaker\"] == \"False\"]"
   ]
  },
  {
   "cell_type": "code",
   "execution_count": 16,
   "id": "f6c8d00d",
   "metadata": {},
   "outputs": [
    {
     "data": {
      "text/plain": [
       "Party_status  Speaker_party\n",
       "Coalition     ABV              0.045635\n",
       "              BSPFB            0.037834\n",
       "              DB               0.044620\n",
       "              GERB             0.042067\n",
       "              RB               0.039914\n",
       "              TISP             0.036217\n",
       "              UP               0.038304\n",
       "              WCC              0.039234\n",
       "Opposition    BSPFB            0.037190\n",
       "              BSPLB            0.037375\n",
       "              GERB-UDF         0.037838\n",
       "              MRF              0.041019\n",
       "              PF               0.039098\n",
       "              RP               0.034609\n",
       "              VOLYA            0.046951\n",
       "NaN           AP               0.033616\n",
       "              BDC-NU           0.042759\n",
       "              GERB             0.054716\n",
       "              NaN              0.042619\n",
       "dtype: float64"
      ]
     },
     "execution_count": 16,
     "metadata": {},
     "output_type": "execute_result"
    }
   ],
   "source": [
    "nocom.groupby([\"Party_status\", \"Speaker_party\"], dropna = False)[\"Sentiment\"].sum() / nocom.groupby([\"Party_status\", \"Speaker_party\"], dropna = False)[\"Word_total\"].sum()"
   ]
  },
  {
   "cell_type": "markdown",
   "id": "f30454c0",
   "metadata": {},
   "source": [
    "## By Status and Gender"
   ]
  },
  {
   "cell_type": "code",
   "execution_count": 12,
   "id": "eb41ded3",
   "metadata": {},
   "outputs": [],
   "source": [
    "statusgender = df_bg.groupby([\"Speaker_gender\", \"Party_status\"], dropna = False)[\"Sentiment\"].sum() / df_bg.groupby([\"Speaker_gender\", \"Party_status\"], dropna = False)[\"Word_total\"].sum()"
   ]
  },
  {
   "cell_type": "code",
   "execution_count": 13,
   "id": "2b8ab353",
   "metadata": {},
   "outputs": [
    {
     "data": {
      "text/plain": [
       "Speaker_gender  Party_status\n",
       "F               Coalition       0.032463\n",
       "                Opposition      0.041019\n",
       "                NaN             0.040580\n",
       "M               Coalition       0.036610\n",
       "                Opposition      0.036927\n",
       "                NaN             0.039325\n",
       "dtype: float64"
      ]
     },
     "execution_count": 13,
     "metadata": {},
     "output_type": "execute_result"
    }
   ],
   "source": [
    "statusgender"
   ]
  },
  {
   "cell_type": "code",
   "execution_count": 14,
   "id": "4e4c8921",
   "metadata": {},
   "outputs": [],
   "source": [
    "statusgender = df_bg.groupby([\"Party_status\", \"Speaker_gender\"], dropna = False)[\"Sentiment\"].sum() / df_bg.groupby([\"Party_status\", \"Speaker_gender\"], dropna = False)[\"Word_total\"].sum()"
   ]
  },
  {
   "cell_type": "code",
   "execution_count": 15,
   "id": "7b4bf779",
   "metadata": {},
   "outputs": [
    {
     "data": {
      "text/plain": [
       "Party_status  Speaker_gender\n",
       "Coalition     F                 0.032463\n",
       "              M                 0.036610\n",
       "Opposition    F                 0.041019\n",
       "              M                 0.036927\n",
       "NaN           F                 0.040580\n",
       "              M                 0.039325\n",
       "dtype: float64"
      ]
     },
     "execution_count": 15,
     "metadata": {},
     "output_type": "execute_result"
    }
   ],
   "source": [
    "statusgender"
   ]
  },
  {
   "cell_type": "code",
   "execution_count": 22,
   "id": "c623bd40",
   "metadata": {},
   "outputs": [
    {
     "data": {
      "text/plain": [
       "<AxesSubplot:xlabel='Party Status', ylabel='Sentiment Score'>"
      ]
     },
     "execution_count": 22,
     "metadata": {},
     "output_type": "execute_result"
    },
    {
     "data": {
      "image/png": "[encoded data removed]",
      "text/plain": [
       "<Figure size 576x360 with 1 Axes>"
      ]
     },
     "metadata": {
      "needs_background": "light"
     },
     "output_type": "display_data"
    }
   ],
   "source": [
    "plt.rcParams[\"figure.figsize\"] = (8,5)\n",
    "test_df = pd.DataFrame({'Party Status': ['Coalition', 'Opposition', \"Other \"], \n",
    "                        'Female': statusgender.to_numpy()[0::2], 'Male': statusgender.to_numpy()[1::2]})\n",
    "\n",
    "# set name as the index and then Transpose the dataframe\n",
    "test_df = test_df.set_index('Party Status')\n",
    "cmap = plt.get_cmap(\"RdGy\")(np.linspace(0.1, 0.8, 2))\n",
    "\n",
    "#display(test_df)\n",
    "\n",
    "# plot and annotate\n",
    "test_df.plot(kind='bar', rot=0, ylabel = \"Sentiment Score\", \n",
    "            color = cmap, ylim = (0, 0.05))\n",
    "\n"
   ]
  },
  {
   "cell_type": "code",
   "execution_count": 23,
   "id": "4100410e",
   "metadata": {},
   "outputs": [
    {
     "data": {
      "text/plain": [
       "Index(['Unnamed: 0', 'ID', 'Sentiment', 'Word_total', 'Score', 'Negscore',\n",
       "       'Title', 'Date', 'Body', 'Term', 'Session', 'Meeting', 'Sitting',\n",
       "       'Agenda', 'Subcorpus', 'Speaker_role', 'Speaker_MP', 'Speaker_Minister',\n",
       "       'Speaker_party', 'Speaker_party_name', 'Party_status', 'Speaker_name',\n",
       "       'Speaker_gender', 'Speaker_birth', 'Topic_title', 'Meeting_type',\n",
       "       'Comission', 'YearMonth', 'Government', 'Caretaker', 'Bloc'],\n",
       "      dtype='object')"
      ]
     },
     "execution_count": 23,
     "metadata": {},
     "output_type": "execute_result"
    }
   ],
   "source": [
    "df_bg.columns"
   ]
  },
  {
   "cell_type": "code",
   "execution_count": 24,
   "id": "3568876f",
   "metadata": {},
   "outputs": [
    {
     "data": {
      "text/plain": [
       "Comission  Party_status  Speaker_gender\n",
       "False      Coalition     F                  7501\n",
       "                         M                 23940\n",
       "           Opposition    F                  7181\n",
       "                         M                 34948\n",
       "True       Coalition     F                  6159\n",
       "                         M                  4480\n",
       "           Opposition    F                    88\n",
       "                         M                  1543\n",
       "Name: Score, dtype: int64"
      ]
     },
     "execution_count": 24,
     "metadata": {},
     "output_type": "execute_result"
    }
   ],
   "source": [
    "df_bg.groupby([\"Comission\",\"Party_status\", \"Speaker_gender\"])[\"Score\"].count() "
   ]
  },
  {
   "cell_type": "code",
   "execution_count": 25,
   "id": "3eb38ea8",
   "metadata": {},
   "outputs": [
    {
     "data": {
      "text/plain": [
       "Comission\n",
       "False    195.713007\n",
       "True     224.673334\n",
       "Name: Word_total, dtype: float64"
      ]
     },
     "execution_count": 25,
     "metadata": {},
     "output_type": "execute_result"
    }
   ],
   "source": [
    "df_bg.groupby([\"Comission\"], dropna = False)[\"Word_total\"].mean()"
   ]
  },
  {
   "cell_type": "code",
   "execution_count": 26,
   "id": "5e7ca957",
   "metadata": {},
   "outputs": [
    {
     "data": {
      "text/plain": [
       "Comission\n",
       "False    0.853641\n",
       "True     0.146359\n",
       "Name: Word_total, dtype: float64"
      ]
     },
     "execution_count": 26,
     "metadata": {},
     "output_type": "execute_result"
    }
   ],
   "source": [
    "df_bg.groupby([\"Comission\"], dropna = False)[\"Word_total\"].sum() /df_bg[\"Word_total\"].sum()"
   ]
  },
  {
   "cell_type": "code",
   "execution_count": 27,
   "id": "4bfc1f55",
   "metadata": {},
   "outputs": [],
   "source": [
    "statusgender = nocom[nocom[\"Caretaker\"] == \"False\"].groupby([\"Party_status\", \"Speaker_gender\"], dropna = False)[\"Sentiment\"].sum() / nocom[nocom[\"Caretaker\"] == \"False\"].groupby([\"Party_status\", \"Speaker_gender\"], dropna = False)[\"Word_total\"].sum()"
   ]
  },
  {
   "cell_type": "code",
   "execution_count": 66,
   "id": "0b7cdcab",
   "metadata": {},
   "outputs": [
    {
     "data": {
      "image/png": "[encoded data removed]",
      "text/plain": [
       "<Figure size 576x360 with 1 Axes>"
      ]
     },
     "metadata": {
      "needs_background": "light"
     },
     "output_type": "display_data"
    }
   ],
   "source": [
    "test_df = pd.DataFrame({'Party Status': ['Coalition', 'Opposition', \"Other \"], \n",
    "                        'Male': statusgender.to_numpy()[1::2], 'Female': statusgender.to_numpy()[0::2]})\n",
    "\n",
    "plt.rcParams[\"figure.figsize\"] = (8,5)\n",
    "cmap = plt.get_cmap(\"RdGy\")(np.linspace(0.1, 0.8, 2))\n",
    "\n",
    "\n",
    "\n",
    "# set name as the index and then Transpose the dataframe\n",
    "test_df = test_df.set_index('Party Status')\n",
    "\n",
    "#display(test_df)\n",
    "\n",
    "# plot and annotate\n",
    "bar = test_df.plot(kind='bar', rot=0, color = cmap, figsize = (8,5), alpha = 0.8)\n",
    "plt.ylim([0, 0.052]);\n",
    "plt.ylabel(\"Sentiment Score\", fontsize = 12)\n",
    "plt.xlabel(\"Party Status\", fontsize = 12)\n",
    "#plt.title(\"Sentiment by Party Status, Gender\", fontsize = 14)\n",
    "\n",
    "plt.show()\n"
   ]
  },
  {
   "cell_type": "markdown",
   "id": "4405b163",
   "metadata": {},
   "source": [
    "### By-Speech Gender and Status"
   ]
  },
  {
   "cell_type": "markdown",
   "id": "58e8dceb",
   "metadata": {},
   "source": [
    "#### Histogram"
   ]
  },
  {
   "cell_type": "code",
   "execution_count": 32,
   "id": "ec11c536",
   "metadata": {},
   "outputs": [
    {
     "name": "stderr",
     "output_type": "stream",
     "text": [
      "/Users/yananikolova/opt/anaconda3/lib/python3.9/site-packages/scipy/__init__.py:146: UserWarning: A NumPy version >=1.16.5 and <1.23.0 is required for this version of SciPy (detected version 1.23.0\n",
      "  warnings.warn(f\"A NumPy version >={np_minversion} and <{np_maxversion}\"\n"
     ]
    },
    {
     "name": "stdout",
     "output_type": "stream",
     "text": [
      "Ttest_indResult(statistic=-7.209465979109046, pvalue=5.671320181448349e-13)\n"
     ]
    }
   ],
   "source": [
    "import numpy as np\n",
    "from scipy.stats import ttest_ind\n",
    "\n",
    "v1 = nocom[nocom[\"Caretaker\"] == \"False\"][nocom[nocom[\"Caretaker\"] == \"False\"][\"Party_status\"] == \"Coalition\"][\"Score\"].to_numpy()\n",
    "v2 = nocom[nocom[\"Caretaker\"] == \"False\"][nocom[nocom[\"Caretaker\"] == \"False\"][\"Party_status\"] == \"Opposition\"][\"Score\"].to_numpy()\n",
    "\n",
    "res = ttest_ind(v1, v2)\n",
    "\n",
    "print(res)"
   ]
  },
  {
   "cell_type": "code",
   "execution_count": 69,
   "id": "88da68ab",
   "metadata": {},
   "outputs": [
    {
     "data": {
      "image/png": "[encoded data removed]",
      "text/plain": [
       "<Figure size 792x1008 with 2 Axes>"
      ]
     },
     "metadata": {
      "needs_background": "light"
     },
     "output_type": "display_data"
    }
   ],
   "source": [
    "from matplotlib.ticker import PercentFormatter\n",
    "import seaborn as sns\n",
    "\n",
    "fig, ax = plt.subplots(2,1, figsize = (11,14))\n",
    "cmap = plt.get_cmap(\"RdGy\")\n",
    " \n",
    "sns.histplot(np.clip(v1, -0.1, 0.2), stat='probability', bins = 100, kde=False, alpha = 0.7, \n",
    "             color = cmap(0.2), edgecolor = None, label = \"Coalition\", ax = ax[0])\n",
    "sns.histplot(np.clip(v2, -0.1, 0.2), stat='probability', bins = 100, kde=False, alpha = 0.7, \n",
    "             color = cmap(0.8), edgecolor = None, label = \"Opposition\", ax = ax[0])\n",
    "\n",
    "sns.histplot(np.clip(v1, -0.1, 0.2), stat='probability', bins = 100, kde=False, alpha = 0.7, \n",
    "             color = cmap(0.2), edgecolor = None, label = \"Coalition\", ax = ax[1])\n",
    "sns.histplot(np.clip(v2, -0.1, 0.2), stat='probability', bins = 100, kde=False, alpha = 0.7, \n",
    "             color = cmap(0.8), edgecolor = None, label = \"Opposition\", ax = ax[1])\n",
    "ax[0].set_yscale('linear')\n",
    "ax[1].set_ylim([0,0.05])\n",
    "\n",
    "\n",
    "ax[0].set_xlabel(\"Sentiment Score\", fontsize = 12)\n",
    "ax[0].set_ylabel(\"Probability\", fontsize = 12)\n",
    "\n",
    "\n",
    "ax[1].set_xlabel(\"Sentiment Score\")\n",
    "\n",
    "\n",
    "#ax[0].set_title(\"Speech Score Histogram\", fontsize = 15)\n",
    "ax[0].legend(fontsize = 12);\n",
    "ax[1].legend();\n",
    "\n",
    "\n",
    "plt.show()\n",
    "\n",
    "\n"
   ]
  },
  {
   "cell_type": "code",
   "execution_count": 26,
   "id": "392cb7e3",
   "metadata": {},
   "outputs": [
    {
     "name": "stdout",
     "output_type": "stream",
     "text": [
      "Ttest_indResult(statistic=-7.209465979109046, pvalue=5.671320181448349e-13)\n"
     ]
    }
   ],
   "source": [
    "import numpy as np\n",
    "from scipy.stats import ttest_ind\n",
    "\n",
    "v1 = nocom[(nocom[\"Party_status\"] == \"Coalition\") & (nocom[\"Caretaker\"] == \"False\")][\"Score\"].to_numpy()\n",
    "v2 = nocom[(nocom[\"Party_status\"] == \"Opposition\")  & (nocom[\"Caretaker\"] == \"False\")][\"Score\"].to_numpy()\n",
    "\n",
    "res = ttest_ind(v1, v2)\n",
    "\n",
    "print(res)"
   ]
  },
  {
   "cell_type": "code",
   "execution_count": 27,
   "id": "af202acd",
   "metadata": {},
   "outputs": [
    {
     "data": {
      "image/png": "[encoded data removed]",
      "text/plain": [
       "<Figure size 792x1008 with 2 Axes>"
      ]
     },
     "metadata": {
      "needs_background": "light"
     },
     "output_type": "display_data"
    }
   ],
   "source": [
    "from matplotlib.ticker import PercentFormatter\n",
    "import seaborn as sns\n",
    "\n",
    "fig, ax = plt.subplots(2,1, figsize = (11,14))\n",
    "\n",
    " \n",
    "sns.histplot(np.clip(v1, -0.1, 0.2), stat='probability', bins = 100, kde=False, alpha = 0.5, \n",
    "             color = cmap(0.5), edgecolor = None, label = \"Coalition\", ax = ax[0])\n",
    "sns.histplot(np.clip(v2, -0.1, 0.2), stat='probability', bins = 100, kde=False, alpha = 0.5, \n",
    "             color = cmap(0.1), edgecolor = None, label = \"Opposition\", ax = ax[0])\n",
    "\n",
    "sns.histplot(np.clip(v1, -0.1, 0.2), stat='probability', bins = 100, kde=False, alpha = 0.5, \n",
    "             color = cmap(0.5), edgecolor = None, label = \"Coalition\", ax = ax[1])\n",
    "sns.histplot(np.clip(v2, -0.1, 0.2), stat='probability', bins = 100, kde=False, alpha = 0.5, \n",
    "             color = cmap(0.1), edgecolor = None, label = \"Opposition\", ax = ax[1])\n",
    "ax[0].set_yscale('linear')\n",
    "ax[1].set_ylim([0,0.05])\n",
    "\n",
    "\n",
    "ax[0].set_xlabel(\"Sentiment Score\")\n",
    "ax[1].set_xlabel(\"Sentiment Score\")\n",
    "\n",
    "\n",
    "ax[0].set_title(\"Speech Score Histogram\", fontsize = 15)\n",
    "ax[0].legend();\n",
    "ax[1].legend();\n",
    "\n",
    "\n",
    "plt.show()\n",
    "\n"
   ]
  },
  {
   "cell_type": "code",
   "execution_count": 28,
   "id": "213b97d9",
   "metadata": {},
   "outputs": [
    {
     "data": {
      "text/plain": [
       "0.6453996983408749"
      ]
     },
     "execution_count": 28,
     "metadata": {},
     "output_type": "execute_result"
    }
   ],
   "source": [
    "(df_bg[df_bg[\"Score\"] == 0.0][\"Word_total\"] < 10).sum() / len(df_bg[df_bg[\"Score\"] == 0.0])"
   ]
  },
  {
   "cell_type": "code",
   "execution_count": 29,
   "id": "36d77183",
   "metadata": {},
   "outputs": [
    {
     "data": {
      "text/html": [
       "<div>\n",
       "<style scoped>\n",
       "    .dataframe tbody tr th:only-of-type {\n",
       "        vertical-align: middle;\n",
       "    }\n",
       "\n",
       "    .dataframe tbody tr th {\n",
       "        vertical-align: top;\n",
       "    }\n",
       "\n",
       "    .dataframe thead th {\n",
       "        text-align: right;\n",
       "    }\n",
       "</style>\n",
       "<table border=\"1\" class=\"dataframe\">\n",
       "  <thead>\n",
       "    <tr style=\"text-align: right;\">\n",
       "      <th></th>\n",
       "      <th>Unnamed: 0</th>\n",
       "      <th>ID</th>\n",
       "      <th>Sentiment</th>\n",
       "      <th>Word_total</th>\n",
       "      <th>Score</th>\n",
       "      <th>Negscore</th>\n",
       "      <th>Title</th>\n",
       "      <th>Date</th>\n",
       "      <th>Body</th>\n",
       "      <th>Term</th>\n",
       "      <th>...</th>\n",
       "      <th>Speaker_name</th>\n",
       "      <th>Speaker_gender</th>\n",
       "      <th>Speaker_birth</th>\n",
       "      <th>Topic_title</th>\n",
       "      <th>Meeting_type</th>\n",
       "      <th>Comission</th>\n",
       "      <th>YearMonth</th>\n",
       "      <th>Government</th>\n",
       "      <th>Caretaker</th>\n",
       "      <th>Bloc</th>\n",
       "    </tr>\n",
       "  </thead>\n",
       "  <tbody>\n",
       "    <tr>\n",
       "      <th>12</th>\n",
       "      <td>12</td>\n",
       "      <td>ParlaMint-BG_2014-10-27.u20</td>\n",
       "      <td>0.0</td>\n",
       "      <td>3.0</td>\n",
       "      <td>0.0</td>\n",
       "      <td>0.0</td>\n",
       "      <td>Report of the meeting of the Bulgarian Nationa...</td>\n",
       "      <td>2014-10-27</td>\n",
       "      <td>NaN</td>\n",
       "      <td>43</td>\n",
       "      <td>...</td>\n",
       "      <td>Летиф Рашидов, Вежди</td>\n",
       "      <td>M</td>\n",
       "      <td>1951</td>\n",
       "      <td>NaN</td>\n",
       "      <td>NaN</td>\n",
       "      <td>False</td>\n",
       "      <td>2014-10</td>\n",
       "      <td>Bliznashki</td>\n",
       "      <td>True</td>\n",
       "      <td>Right</td>\n",
       "    </tr>\n",
       "    <tr>\n",
       "      <th>14</th>\n",
       "      <td>14</td>\n",
       "      <td>ParlaMint-BG_2014-10-27.u22</td>\n",
       "      <td>0.0</td>\n",
       "      <td>4.0</td>\n",
       "      <td>0.0</td>\n",
       "      <td>0.0</td>\n",
       "      <td>Report of the meeting of the Bulgarian Nationa...</td>\n",
       "      <td>2014-10-27</td>\n",
       "      <td>NaN</td>\n",
       "      <td>43</td>\n",
       "      <td>...</td>\n",
       "      <td>Летиф Рашидов, Вежди</td>\n",
       "      <td>M</td>\n",
       "      <td>1951</td>\n",
       "      <td>NaN</td>\n",
       "      <td>NaN</td>\n",
       "      <td>False</td>\n",
       "      <td>2014-10</td>\n",
       "      <td>Bliznashki</td>\n",
       "      <td>True</td>\n",
       "      <td>Right</td>\n",
       "    </tr>\n",
       "    <tr>\n",
       "      <th>26</th>\n",
       "      <td>26</td>\n",
       "      <td>ParlaMint-BG_2014-10-27.u33</td>\n",
       "      <td>0.0</td>\n",
       "      <td>3.0</td>\n",
       "      <td>0.0</td>\n",
       "      <td>0.0</td>\n",
       "      <td>Report of the meeting of the Bulgarian Nationa...</td>\n",
       "      <td>2014-10-27</td>\n",
       "      <td>NaN</td>\n",
       "      <td>43</td>\n",
       "      <td>...</td>\n",
       "      <td>Славов Чуколов, Десислав</td>\n",
       "      <td>M</td>\n",
       "      <td>1974</td>\n",
       "      <td>NaN</td>\n",
       "      <td>NaN</td>\n",
       "      <td>False</td>\n",
       "      <td>2014-10</td>\n",
       "      <td>Bliznashki</td>\n",
       "      <td>True</td>\n",
       "      <td>Right</td>\n",
       "    </tr>\n",
       "    <tr>\n",
       "      <th>48</th>\n",
       "      <td>48</td>\n",
       "      <td>ParlaMint-BG_2014-10-27.u53</td>\n",
       "      <td>0.0</td>\n",
       "      <td>1.0</td>\n",
       "      <td>0.0</td>\n",
       "      <td>0.0</td>\n",
       "      <td>Report of the meeting of the Bulgarian Nationa...</td>\n",
       "      <td>2014-10-27</td>\n",
       "      <td>NaN</td>\n",
       "      <td>43</td>\n",
       "      <td>...</td>\n",
       "      <td>Симеонов Симеонов, Валери</td>\n",
       "      <td>M</td>\n",
       "      <td>1955</td>\n",
       "      <td>ИЗБОР НА ЗАМЕСТНИК-ПРЕДСЕДАТЕЛИ НА НАРОДНОТО С...</td>\n",
       "      <td>ИЗБОР</td>\n",
       "      <td>False</td>\n",
       "      <td>2014-10</td>\n",
       "      <td>Bliznashki</td>\n",
       "      <td>True</td>\n",
       "      <td>Right</td>\n",
       "    </tr>\n",
       "    <tr>\n",
       "      <th>79</th>\n",
       "      <td>79</td>\n",
       "      <td>ParlaMint-BG_2014-10-27.u81</td>\n",
       "      <td>0.0</td>\n",
       "      <td>21.0</td>\n",
       "      <td>0.0</td>\n",
       "      <td>0.0</td>\n",
       "      <td>Report of the meeting of the Bulgarian Nationa...</td>\n",
       "      <td>2014-10-27</td>\n",
       "      <td>NaN</td>\n",
       "      <td>43</td>\n",
       "      <td>...</td>\n",
       "      <td>Georgiev Kalfin, Ivaylo</td>\n",
       "      <td>M</td>\n",
       "      <td>1964</td>\n",
       "      <td>ПРОЕКТ НА РЕШЕНИЕ ЗА ИЗБИРАНЕ НА ВРЕМЕННИ СЕКР...</td>\n",
       "      <td>ПРОЕКТ</td>\n",
       "      <td>False</td>\n",
       "      <td>2014-10</td>\n",
       "      <td>Bliznashki</td>\n",
       "      <td>True</td>\n",
       "      <td>Left</td>\n",
       "    </tr>\n",
       "    <tr>\n",
       "      <th>...</th>\n",
       "      <td>...</td>\n",
       "      <td>...</td>\n",
       "      <td>...</td>\n",
       "      <td>...</td>\n",
       "      <td>...</td>\n",
       "      <td>...</td>\n",
       "      <td>...</td>\n",
       "      <td>...</td>\n",
       "      <td>...</td>\n",
       "      <td>...</td>\n",
       "      <td>...</td>\n",
       "      <td>...</td>\n",
       "      <td>...</td>\n",
       "      <td>...</td>\n",
       "      <td>...</td>\n",
       "      <td>...</td>\n",
       "      <td>...</td>\n",
       "      <td>...</td>\n",
       "      <td>...</td>\n",
       "      <td>...</td>\n",
       "      <td>...</td>\n",
       "    </tr>\n",
       "    <tr>\n",
       "      <th>209997</th>\n",
       "      <td>199</td>\n",
       "      <td>ParlaMint-BG_2016-03-24.u81</td>\n",
       "      <td>0.0</td>\n",
       "      <td>16.0</td>\n",
       "      <td>0.0</td>\n",
       "      <td>0.0</td>\n",
       "      <td>Report of the meeting of the Bulgarian Nationa...</td>\n",
       "      <td>2016-03-24</td>\n",
       "      <td>NaN</td>\n",
       "      <td>43</td>\n",
       "      <td>...</td>\n",
       "      <td>Вълчева Караянчева, Цвета</td>\n",
       "      <td>F</td>\n",
       "      <td>1968</td>\n",
       "      <td>ВТОРО ГЛАСУВАНЕ НА ЗАКОНОПРОЕКТА ЗА ИЗМЕНЕНИЕ ...</td>\n",
       "      <td>ГЛАСУВАНЕ</td>\n",
       "      <td>True</td>\n",
       "      <td>2016-03</td>\n",
       "      <td>Borisov II</td>\n",
       "      <td>False</td>\n",
       "      <td>Right</td>\n",
       "    </tr>\n",
       "    <tr>\n",
       "      <th>210001</th>\n",
       "      <td>203</td>\n",
       "      <td>ParlaMint-BG_2016-03-24.u85</td>\n",
       "      <td>0.0</td>\n",
       "      <td>20.0</td>\n",
       "      <td>0.0</td>\n",
       "      <td>0.0</td>\n",
       "      <td>Report of the meeting of the Bulgarian Nationa...</td>\n",
       "      <td>2016-03-24</td>\n",
       "      <td>NaN</td>\n",
       "      <td>43</td>\n",
       "      <td>...</td>\n",
       "      <td>Вълчева Караянчева, Цвета</td>\n",
       "      <td>F</td>\n",
       "      <td>1968</td>\n",
       "      <td>ВТОРО ГЛАСУВАНЕ НА ЗАКОНОПРОЕКТА ЗА ИЗМЕНЕНИЕ ...</td>\n",
       "      <td>ГЛАСУВАНЕ</td>\n",
       "      <td>False</td>\n",
       "      <td>2016-03</td>\n",
       "      <td>Borisov II</td>\n",
       "      <td>False</td>\n",
       "      <td>Right</td>\n",
       "    </tr>\n",
       "    <tr>\n",
       "      <th>210003</th>\n",
       "      <td>205</td>\n",
       "      <td>ParlaMint-BG_2016-03-24.u87</td>\n",
       "      <td>0.0</td>\n",
       "      <td>12.0</td>\n",
       "      <td>0.0</td>\n",
       "      <td>0.0</td>\n",
       "      <td>Report of the meeting of the Bulgarian Nationa...</td>\n",
       "      <td>2016-03-24</td>\n",
       "      <td>NaN</td>\n",
       "      <td>43</td>\n",
       "      <td>...</td>\n",
       "      <td>Вълчева Караянчева, Цвета</td>\n",
       "      <td>F</td>\n",
       "      <td>1968</td>\n",
       "      <td>ВТОРО ГЛАСУВАНЕ НА ЗАКОНОПРОЕКТА ЗА ИЗМЕНЕНИЕ ...</td>\n",
       "      <td>ГЛАСУВАНЕ</td>\n",
       "      <td>True</td>\n",
       "      <td>2016-03</td>\n",
       "      <td>Borisov II</td>\n",
       "      <td>False</td>\n",
       "      <td>Right</td>\n",
       "    </tr>\n",
       "    <tr>\n",
       "      <th>210005</th>\n",
       "      <td>207</td>\n",
       "      <td>ParlaMint-BG_2016-03-24.u89</td>\n",
       "      <td>0.0</td>\n",
       "      <td>13.0</td>\n",
       "      <td>0.0</td>\n",
       "      <td>0.0</td>\n",
       "      <td>Report of the meeting of the Bulgarian Nationa...</td>\n",
       "      <td>2016-03-24</td>\n",
       "      <td>NaN</td>\n",
       "      <td>43</td>\n",
       "      <td>...</td>\n",
       "      <td>Вълчева Караянчева, Цвета</td>\n",
       "      <td>F</td>\n",
       "      <td>1968</td>\n",
       "      <td>ВТОРО ГЛАСУВАНЕ НА ЗАКОНОПРОЕКТА ЗА ИЗМЕНЕНИЕ ...</td>\n",
       "      <td>ГЛАСУВАНЕ</td>\n",
       "      <td>True</td>\n",
       "      <td>2016-03</td>\n",
       "      <td>Borisov II</td>\n",
       "      <td>False</td>\n",
       "      <td>Right</td>\n",
       "    </tr>\n",
       "    <tr>\n",
       "      <th>210010</th>\n",
       "      <td>212</td>\n",
       "      <td>ParlaMint-BG_2016-03-24.u93</td>\n",
       "      <td>0.0</td>\n",
       "      <td>12.0</td>\n",
       "      <td>0.0</td>\n",
       "      <td>0.0</td>\n",
       "      <td>Report of the meeting of the Bulgarian Nationa...</td>\n",
       "      <td>2016-03-24</td>\n",
       "      <td>NaN</td>\n",
       "      <td>43</td>\n",
       "      <td>...</td>\n",
       "      <td>Вълчева Караянчева, Цвета</td>\n",
       "      <td>F</td>\n",
       "      <td>1968</td>\n",
       "      <td>ВТОРО ГЛАСУВАНЕ НА ЗАКОНОПРОЕКТА ЗА ИЗМЕНЕНИЕ ...</td>\n",
       "      <td>ГЛАСУВАНЕ</td>\n",
       "      <td>True</td>\n",
       "      <td>2016-03</td>\n",
       "      <td>Borisov II</td>\n",
       "      <td>False</td>\n",
       "      <td>Right</td>\n",
       "    </tr>\n",
       "  </tbody>\n",
       "</table>\n",
       "<p>19890 rows × 31 columns</p>\n",
       "</div>"
      ],
      "text/plain": [
       "       Unnamed: 0                           ID  Sentiment  Word_total  Score  \\\n",
       "12             12  ParlaMint-BG_2014-10-27.u20        0.0         3.0    0.0   \n",
       "14             14  ParlaMint-BG_2014-10-27.u22        0.0         4.0    0.0   \n",
       "26             26  ParlaMint-BG_2014-10-27.u33        0.0         3.0    0.0   \n",
       "48             48  ParlaMint-BG_2014-10-27.u53        0.0         1.0    0.0   \n",
       "79             79  ParlaMint-BG_2014-10-27.u81        0.0        21.0    0.0   \n",
       "...           ...                          ...        ...         ...    ...   \n",
       "209997        199  ParlaMint-BG_2016-03-24.u81        0.0        16.0    0.0   \n",
       "210001        203  ParlaMint-BG_2016-03-24.u85        0.0        20.0    0.0   \n",
       "210003        205  ParlaMint-BG_2016-03-24.u87        0.0        12.0    0.0   \n",
       "210005        207  ParlaMint-BG_2016-03-24.u89        0.0        13.0    0.0   \n",
       "210010        212  ParlaMint-BG_2016-03-24.u93        0.0        12.0    0.0   \n",
       "\n",
       "       Negscore                                              Title  \\\n",
       "12          0.0  Report of the meeting of the Bulgarian Nationa...   \n",
       "14          0.0  Report of the meeting of the Bulgarian Nationa...   \n",
       "26          0.0  Report of the meeting of the Bulgarian Nationa...   \n",
       "48          0.0  Report of the meeting of the Bulgarian Nationa...   \n",
       "79          0.0  Report of the meeting of the Bulgarian Nationa...   \n",
       "...         ...                                                ...   \n",
       "209997      0.0  Report of the meeting of the Bulgarian Nationa...   \n",
       "210001      0.0  Report of the meeting of the Bulgarian Nationa...   \n",
       "210003      0.0  Report of the meeting of the Bulgarian Nationa...   \n",
       "210005      0.0  Report of the meeting of the Bulgarian Nationa...   \n",
       "210010      0.0  Report of the meeting of the Bulgarian Nationa...   \n",
       "\n",
       "              Date Body Term  ...               Speaker_name Speaker_gender  \\\n",
       "12      2014-10-27  NaN   43  ...       Летиф Рашидов, Вежди              M   \n",
       "14      2014-10-27  NaN   43  ...       Летиф Рашидов, Вежди              M   \n",
       "26      2014-10-27  NaN   43  ...   Славов Чуколов, Десислав              M   \n",
       "48      2014-10-27  NaN   43  ...  Симеонов Симеонов, Валери              M   \n",
       "79      2014-10-27  NaN   43  ...    Georgiev Kalfin, Ivaylo              M   \n",
       "...            ...  ...  ...  ...                        ...            ...   \n",
       "209997  2016-03-24  NaN   43  ...  Вълчева Караянчева, Цвета              F   \n",
       "210001  2016-03-24  NaN   43  ...  Вълчева Караянчева, Цвета              F   \n",
       "210003  2016-03-24  NaN   43  ...  Вълчева Караянчева, Цвета              F   \n",
       "210005  2016-03-24  NaN   43  ...  Вълчева Караянчева, Цвета              F   \n",
       "210010  2016-03-24  NaN   43  ...  Вълчева Караянчева, Цвета              F   \n",
       "\n",
       "       Speaker_birth                                        Topic_title  \\\n",
       "12              1951                                                NaN   \n",
       "14              1951                                                NaN   \n",
       "26              1974                                                NaN   \n",
       "48              1955  ИЗБОР НА ЗАМЕСТНИК-ПРЕДСЕДАТЕЛИ НА НАРОДНОТО С...   \n",
       "79              1964  ПРОЕКТ НА РЕШЕНИЕ ЗА ИЗБИРАНЕ НА ВРЕМЕННИ СЕКР...   \n",
       "...              ...                                                ...   \n",
       "209997          1968  ВТОРО ГЛАСУВАНЕ НА ЗАКОНОПРОЕКТА ЗА ИЗМЕНЕНИЕ ...   \n",
       "210001          1968  ВТОРО ГЛАСУВАНЕ НА ЗАКОНОПРОЕКТА ЗА ИЗМЕНЕНИЕ ...   \n",
       "210003          1968  ВТОРО ГЛАСУВАНЕ НА ЗАКОНОПРОЕКТА ЗА ИЗМЕНЕНИЕ ...   \n",
       "210005          1968  ВТОРО ГЛАСУВАНЕ НА ЗАКОНОПРОЕКТА ЗА ИЗМЕНЕНИЕ ...   \n",
       "210010          1968  ВТОРО ГЛАСУВАНЕ НА ЗАКОНОПРОЕКТА ЗА ИЗМЕНЕНИЕ ...   \n",
       "\n",
       "       Meeting_type Comission YearMonth  Government Caretaker   Bloc  \n",
       "12              NaN     False   2014-10  Bliznashki      True  Right  \n",
       "14              NaN     False   2014-10  Bliznashki      True  Right  \n",
       "26              NaN     False   2014-10  Bliznashki      True  Right  \n",
       "48            ИЗБОР     False   2014-10  Bliznashki      True  Right  \n",
       "79           ПРОЕКТ     False   2014-10  Bliznashki      True   Left  \n",
       "...             ...       ...       ...         ...       ...    ...  \n",
       "209997    ГЛАСУВАНЕ      True   2016-03  Borisov II     False  Right  \n",
       "210001    ГЛАСУВАНЕ     False   2016-03  Borisov II     False  Right  \n",
       "210003    ГЛАСУВАНЕ      True   2016-03  Borisov II     False  Right  \n",
       "210005    ГЛАСУВАНЕ      True   2016-03  Borisov II     False  Right  \n",
       "210010    ГЛАСУВАНЕ      True   2016-03  Borisov II     False  Right  \n",
       "\n",
       "[19890 rows x 31 columns]"
      ]
     },
     "execution_count": 29,
     "metadata": {},
     "output_type": "execute_result"
    }
   ],
   "source": [
    "df_bg[df_bg[\"Score\"] == 0.0]"
   ]
  },
  {
   "cell_type": "code",
   "execution_count": 27,
   "id": "84c63286",
   "metadata": {},
   "outputs": [
    {
     "data": {
      "text/plain": [
       "Meeting_type\n",
       "ГЛАСУВАНЕ       10996\n",
       "ДОКЛАД            320\n",
       "ЗАКОНОПРОЕКТ     1298\n",
       "ИЗБОР             544\n",
       "ИЗСЛУШВАНЕ        511\n",
       "КОНТРОЛ           245\n",
       "ОСТАВКА             6\n",
       "ОТНОСНО            19\n",
       "ОТЧЕТ              51\n",
       "ПРЕДСТАВЯНЕ         6\n",
       "ПРОЕКТ           2270\n",
       "ПРОЕКТИ           165\n",
       "ПРОМЕНИ            22\n",
       "РАЗИСКВАНИЯ        60\n",
       "РЕШЕНИЕ            91\n",
       "ЧЕТЕНЕ            630\n",
       "Name: Score, dtype: int64"
      ]
     },
     "execution_count": 27,
     "metadata": {},
     "output_type": "execute_result"
    }
   ],
   "source": [
    "df_bg[df_bg[\"Score\"] == 0.0].groupby([\"Meeting_type\"])[\"Score\"].count()"
   ]
  },
  {
   "cell_type": "code",
   "execution_count": 28,
   "id": "c274e312",
   "metadata": {},
   "outputs": [
    {
     "data": {
      "text/plain": [
       "247.4292328559877"
      ]
     },
     "execution_count": 28,
     "metadata": {},
     "output_type": "execute_result"
    }
   ],
   "source": [
    "df_bg[df_bg[\"Score\"] != 0.0][\"Word_total\"].mean()"
   ]
  },
  {
   "cell_type": "markdown",
   "id": "9afe8c00",
   "metadata": {},
   "source": [
    "#### Significance tests"
   ]
  },
  {
   "cell_type": "code",
   "execution_count": 32,
   "id": "4ba16dd1",
   "metadata": {},
   "outputs": [
    {
     "data": {
      "text/plain": [
       "Party_status  Speaker_Minister  Speaker_gender\n",
       "Coalition     -                 F                 [0.0327631206115072, 0.042696143213887934, 0.0...\n",
       "                                M                 [0.006588439627045427, -0.0182015248759302, 0....\n",
       "Opposition    -                 F                 [0.0, 0.0, 0.05295474275172567, 0.068290387525...\n",
       "                                M                 [0.040370464951826834, 0.049363026250151966, 0...\n",
       "NaN           -                 F                 [0.1210150177978173, 0.055606902807249815, 0.3...\n",
       "                                M                 [0.06105800845271225, 0.0637275381559616, 0.06...\n",
       "              Minister          F                 [0.016646351675544537, 0.11860148263511375, 0....\n",
       "                                M                 [0.020803429048381294, 0.04937459629568864, 0....\n",
       "Name: Score, dtype: object"
      ]
     },
     "execution_count": 32,
     "metadata": {},
     "output_type": "execute_result"
    }
   ],
   "source": [
    "df_bg.groupby([\"Party_status\", \"Speaker_Minister\", \"Speaker_gender\"], dropna = False)[\"Score\"].apply(list)"
   ]
  },
  {
   "cell_type": "code",
   "execution_count": 33,
   "id": "06deed64",
   "metadata": {},
   "outputs": [],
   "source": [
    "lists = df_bg.groupby([\"Party_status\",\"Speaker_Minister\", \"Speaker_gender\"], dropna = False)[\"Score\"].apply(list)"
   ]
  },
  {
   "cell_type": "code",
   "execution_count": 34,
   "id": "8c8aef97",
   "metadata": {},
   "outputs": [],
   "source": [
    "from scipy.stats import ttest_ind"
   ]
  },
  {
   "cell_type": "markdown",
   "id": "f27bd38c",
   "metadata": {},
   "source": [
    "##### Gender differences"
   ]
  },
  {
   "cell_type": "code",
   "execution_count": 35,
   "id": "edc81a36",
   "metadata": {},
   "outputs": [
    {
     "data": {
      "text/plain": [
       "Ttest_indResult(statistic=-15.199004400421108, pvalue=4.937663466220429e-52)"
      ]
     },
     "execution_count": 35,
     "metadata": {},
     "output_type": "execute_result"
    }
   ],
   "source": [
    "#coalition MP\n",
    "ttest_ind(lists[0], lists[1])"
   ]
  },
  {
   "cell_type": "code",
   "execution_count": 36,
   "id": "31a91358",
   "metadata": {},
   "outputs": [
    {
     "data": {
      "text/plain": [
       "Ttest_indResult(statistic=4.744297212800475, pvalue=2.0989082633489487e-06)"
      ]
     },
     "execution_count": 36,
     "metadata": {},
     "output_type": "execute_result"
    }
   ],
   "source": [
    "#coalition Min\n",
    "ttest_ind(lists[2], lists[3])"
   ]
  },
  {
   "cell_type": "code",
   "execution_count": 37,
   "id": "27c213b8",
   "metadata": {},
   "outputs": [
    {
     "data": {
      "text/plain": [
       "Ttest_indResult(statistic=4.479827228575547, pvalue=7.554970455917573e-06)"
      ]
     },
     "execution_count": 37,
     "metadata": {},
     "output_type": "execute_result"
    }
   ],
   "source": [
    "#opposition\n",
    "ttest_ind(lists[4], lists[5])"
   ]
  },
  {
   "cell_type": "code",
   "execution_count": 38,
   "id": "69baf51a",
   "metadata": {},
   "outputs": [
    {
     "data": {
      "text/plain": [
       "Ttest_indResult(statistic=0.3533669861761496, pvalue=0.7238943749510178)"
      ]
     },
     "execution_count": 38,
     "metadata": {},
     "output_type": "execute_result"
    }
   ],
   "source": [
    "#other\n",
    "ttest_ind(lists[6], lists[7])"
   ]
  },
  {
   "cell_type": "markdown",
   "id": "e10226e2",
   "metadata": {},
   "source": [
    "###### Party Status Differences"
   ]
  },
  {
   "cell_type": "code",
   "execution_count": 39,
   "id": "ecc3e859",
   "metadata": {},
   "outputs": [
    {
     "data": {
      "text/plain": [
       "Ttest_indResult(statistic=-21.59794967838327, pvalue=3.540212374731623e-103)"
      ]
     },
     "execution_count": 39,
     "metadata": {},
     "output_type": "execute_result"
    }
   ],
   "source": [
    "#coalition MP vs Min\n",
    "ttest_ind(lists[0]+lists[1], lists[2]+lists[3])"
   ]
  },
  {
   "cell_type": "code",
   "execution_count": 40,
   "id": "8ec3dff0",
   "metadata": {},
   "outputs": [
    {
     "data": {
      "text/plain": [
       "Ttest_indResult(statistic=-12.608678102241685, pvalue=2.022088721587204e-36)"
      ]
     },
     "execution_count": 40,
     "metadata": {},
     "output_type": "execute_result"
    }
   ],
   "source": [
    "#coalition vs oppositoin\n",
    "ttest_ind(lists[0]+lists[1]+lists[2]+lists[3], lists[4]+lists[5])"
   ]
  },
  {
   "cell_type": "code",
   "execution_count": 41,
   "id": "23278e87",
   "metadata": {},
   "outputs": [
    {
     "data": {
      "text/plain": [
       "Ttest_indResult(statistic=-3.957196284802508, pvalue=7.63235371106144e-05)"
      ]
     },
     "execution_count": 41,
     "metadata": {},
     "output_type": "execute_result"
    }
   ],
   "source": [
    "#opposition vs. other\n",
    "ttest_ind(lists[4]+lists[5], lists[6]+lists[7])"
   ]
  },
  {
   "cell_type": "code",
   "execution_count": 42,
   "id": "c12ca026",
   "metadata": {},
   "outputs": [
    {
     "data": {
      "text/plain": [
       "Ttest_indResult(statistic=-8.83311669854868, pvalue=1.036454520199601e-18)"
      ]
     },
     "execution_count": 42,
     "metadata": {},
     "output_type": "execute_result"
    }
   ],
   "source": [
    "#coalition vs other\n",
    "ttest_ind(lists[0]+lists[1]+lists[2]+lists[3], lists[6]+lists[7])"
   ]
  },
  {
   "cell_type": "markdown",
   "id": "010b1b6a",
   "metadata": {},
   "source": [
    "## Sentiment Divergence over Time"
   ]
  },
  {
   "cell_type": "code",
   "execution_count": 38,
   "id": "cb522c82",
   "metadata": {},
   "outputs": [],
   "source": [
    "timeseries = (nocom.groupby([\"YearMonth\", \"Party_status\"], dropna = False)[\"Sentiment\"].sum() \n",
    "              / nocom.groupby([\"YearMonth\", \"Party_status\"], dropna = False)[\"Word_total\"].sum())"
   ]
  },
  {
   "cell_type": "code",
   "execution_count": 39,
   "id": "bfc0bfed",
   "metadata": {},
   "outputs": [],
   "source": [
    "coalition = nocom[nocom[\"Party_status\"] == \"Coalition\"].groupby([\"YearMonth\"])[\"Sentiment\"].sum() / nocom[nocom[\"Party_status\"] == \"Coalition\"].groupby([\"YearMonth\"])[\"Word_total\"].sum()\n",
    "opposition = nocom[nocom[\"Party_status\"] == \"Opposition\"].groupby([\"YearMonth\"])[\"Sentiment\"].sum() /nocom[nocom[\"Party_status\"] == \"Opposition\"].groupby([\"YearMonth\"])[\"Word_total\"].sum()\n",
    "other = nocom[nocom[\"Party_status\"].isna()].groupby([\"YearMonth\"])[\"Sentiment\"].sum() /nocom[nocom[\"Party_status\"].isna()].groupby([\"YearMonth\"])[\"Word_total\"].sum()"
   ]
  },
  {
   "cell_type": "code",
   "execution_count": 40,
   "id": "b535484b",
   "metadata": {},
   "outputs": [
    {
     "data": {
      "text/plain": [
       "(0.041150530305734866,\n",
       " 0.0036335046648886976,\n",
       " 0.00041141338855107273,\n",
       " 0.20175604012310522)"
      ]
     },
     "execution_count": 40,
     "metadata": {},
     "output_type": "execute_result"
    }
   ],
   "source": [
    "coalition.mean(), coalition.std(), coalition.sem(), coalition.autocorr()"
   ]
  },
  {
   "cell_type": "code",
   "execution_count": 41,
   "id": "c882d619",
   "metadata": {},
   "outputs": [
    {
     "data": {
      "text/plain": [
       "(0.03905872518334643,\n",
       " 0.0036298173373882875,\n",
       " 0.000405825915615375,\n",
       " 0.2946058502084774)"
      ]
     },
     "execution_count": 41,
     "metadata": {},
     "output_type": "execute_result"
    }
   ],
   "source": [
    "opposition.mean(), opposition.std(), opposition.sem(), opposition.autocorr()"
   ]
  },
  {
   "cell_type": "code",
   "execution_count": 42,
   "id": "1ad0d844",
   "metadata": {},
   "outputs": [
    {
     "data": {
      "text/plain": [
       "(0.04265244919433115,\n",
       " 0.009733952275912835,\n",
       " 0.0010684400683405345,\n",
       " 0.3942420821663937)"
      ]
     },
     "execution_count": 42,
     "metadata": {},
     "output_type": "execute_result"
    }
   ],
   "source": [
    "other.mean(), other.std(), other.sem(), other.autocorr()"
   ]
  },
  {
   "cell_type": "code",
   "execution_count": 43,
   "id": "2071b97d",
   "metadata": {},
   "outputs": [
    {
     "data": {
      "text/plain": [
       "YearMonth  Party_status\n",
       "2014-10    NaN             0.038956\n",
       "2014-11    Coalition       0.035812\n",
       "           Opposition      0.035910\n",
       "           NaN             0.035107\n",
       "2014-12    Coalition       0.038195\n",
       "                             ...   \n",
       "2022-06    Opposition      0.036138\n",
       "           NaN             0.052237\n",
       "2022-07    Coalition       0.039331\n",
       "           Opposition      0.034730\n",
       "           NaN             0.045118\n",
       "Length: 241, dtype: float64"
      ]
     },
     "execution_count": 43,
     "metadata": {},
     "output_type": "execute_result"
    }
   ],
   "source": [
    "timeseries"
   ]
  },
  {
   "cell_type": "code",
   "execution_count": 44,
   "id": "6a8915a4",
   "metadata": {},
   "outputs": [],
   "source": [
    "timeseries = timeseries.reset_index().pivot(\"YearMonth\", \"Party_status\")"
   ]
  },
  {
   "cell_type": "code",
   "execution_count": 45,
   "id": "de250399",
   "metadata": {},
   "outputs": [],
   "source": [
    "timeseries.columns = timeseries.columns.droplevel()"
   ]
  },
  {
   "cell_type": "code",
   "execution_count": 46,
   "id": "b9412c16",
   "metadata": {},
   "outputs": [
    {
     "data": {
      "text/html": [
       "<div>\n",
       "<style scoped>\n",
       "    .dataframe tbody tr th:only-of-type {\n",
       "        vertical-align: middle;\n",
       "    }\n",
       "\n",
       "    .dataframe tbody tr th {\n",
       "        vertical-align: top;\n",
       "    }\n",
       "\n",
       "    .dataframe thead th {\n",
       "        text-align: right;\n",
       "    }\n",
       "</style>\n",
       "<table border=\"1\" class=\"dataframe\">\n",
       "  <thead>\n",
       "    <tr style=\"text-align: right;\">\n",
       "      <th>Party_status</th>\n",
       "      <th>NaN</th>\n",
       "      <th>Coalition</th>\n",
       "      <th>Opposition</th>\n",
       "    </tr>\n",
       "    <tr>\n",
       "      <th>YearMonth</th>\n",
       "      <th></th>\n",
       "      <th></th>\n",
       "      <th></th>\n",
       "    </tr>\n",
       "  </thead>\n",
       "  <tbody>\n",
       "    <tr>\n",
       "      <th>2014-10</th>\n",
       "      <td>0.038956</td>\n",
       "      <td>NaN</td>\n",
       "      <td>NaN</td>\n",
       "    </tr>\n",
       "    <tr>\n",
       "      <th>2014-11</th>\n",
       "      <td>0.035107</td>\n",
       "      <td>0.035812</td>\n",
       "      <td>0.035910</td>\n",
       "    </tr>\n",
       "    <tr>\n",
       "      <th>2014-12</th>\n",
       "      <td>0.037879</td>\n",
       "      <td>0.038195</td>\n",
       "      <td>0.037616</td>\n",
       "    </tr>\n",
       "    <tr>\n",
       "      <th>2015-01</th>\n",
       "      <td>0.037754</td>\n",
       "      <td>0.041378</td>\n",
       "      <td>0.040740</td>\n",
       "    </tr>\n",
       "    <tr>\n",
       "      <th>2015-02</th>\n",
       "      <td>0.040202</td>\n",
       "      <td>0.045401</td>\n",
       "      <td>0.037097</td>\n",
       "    </tr>\n",
       "    <tr>\n",
       "      <th>...</th>\n",
       "      <td>...</td>\n",
       "      <td>...</td>\n",
       "      <td>...</td>\n",
       "    </tr>\n",
       "    <tr>\n",
       "      <th>2022-03</th>\n",
       "      <td>0.045059</td>\n",
       "      <td>0.039991</td>\n",
       "      <td>0.039120</td>\n",
       "    </tr>\n",
       "    <tr>\n",
       "      <th>2022-04</th>\n",
       "      <td>NaN</td>\n",
       "      <td>0.037973</td>\n",
       "      <td>0.035734</td>\n",
       "    </tr>\n",
       "    <tr>\n",
       "      <th>2022-05</th>\n",
       "      <td>0.045346</td>\n",
       "      <td>0.041957</td>\n",
       "      <td>0.036262</td>\n",
       "    </tr>\n",
       "    <tr>\n",
       "      <th>2022-06</th>\n",
       "      <td>0.052237</td>\n",
       "      <td>0.038068</td>\n",
       "      <td>0.036138</td>\n",
       "    </tr>\n",
       "    <tr>\n",
       "      <th>2022-07</th>\n",
       "      <td>0.045118</td>\n",
       "      <td>0.039331</td>\n",
       "      <td>0.034730</td>\n",
       "    </tr>\n",
       "  </tbody>\n",
       "</table>\n",
       "<p>85 rows × 3 columns</p>\n",
       "</div>"
      ],
      "text/plain": [
       "Party_status       NaN  Coalition  Opposition\n",
       "YearMonth                                    \n",
       "2014-10       0.038956        NaN         NaN\n",
       "2014-11       0.035107   0.035812    0.035910\n",
       "2014-12       0.037879   0.038195    0.037616\n",
       "2015-01       0.037754   0.041378    0.040740\n",
       "2015-02       0.040202   0.045401    0.037097\n",
       "...                ...        ...         ...\n",
       "2022-03       0.045059   0.039991    0.039120\n",
       "2022-04            NaN   0.037973    0.035734\n",
       "2022-05       0.045346   0.041957    0.036262\n",
       "2022-06       0.052237   0.038068    0.036138\n",
       "2022-07       0.045118   0.039331    0.034730\n",
       "\n",
       "[85 rows x 3 columns]"
      ]
     },
     "execution_count": 46,
     "metadata": {},
     "output_type": "execute_result"
    }
   ],
   "source": [
    "timeseries"
   ]
  },
  {
   "cell_type": "code",
   "execution_count": 47,
   "id": "54867521",
   "metadata": {},
   "outputs": [],
   "source": [
    "coalition = timeseries[\"Coalition\"].to_numpy()\n",
    "opposition = timeseries[\"Opposition\"].to_numpy()\n",
    "other = timeseries[np.nan].to_numpy()"
   ]
  },
  {
   "cell_type": "code",
   "execution_count": 48,
   "id": "c1115be3",
   "metadata": {},
   "outputs": [],
   "source": [
    "index = timeseries.index"
   ]
  },
  {
   "cell_type": "code",
   "execution_count": 49,
   "id": "8282e10d",
   "metadata": {},
   "outputs": [],
   "source": [
    "lines = (\"2014-11\", \"2017-01\", \"2017-05\", \"2021-05\", \"2021-09\", \"2021-12\")"
   ]
  },
  {
   "cell_type": "code",
   "execution_count": 50,
   "id": "910b48ad",
   "metadata": {},
   "outputs": [
    {
     "name": "stdout",
     "output_type": "stream",
     "text": [
      "1\n",
      "26\n",
      "28\n",
      "73\n",
      "76\n",
      "77\n"
     ]
    }
   ],
   "source": [
    "for date in lines:\n",
    "    x = np.where(index == date)[0][0]\n",
    "    print(x)"
   ]
  },
  {
   "cell_type": "code",
   "execution_count": 63,
   "id": "2a9f9de1",
   "metadata": {
    "scrolled": false
   },
   "outputs": [
    {
     "data": {
      "image/png": "[encoded data removed]",
      "text/plain": [
       "<Figure size 1152x576 with 1 Axes>"
      ]
     },
     "metadata": {
      "needs_background": "light"
     },
     "output_type": "display_data"
    }
   ],
   "source": [
    "plt.rcParams[\"figure.figsize\"] = (16,8)\n",
    "\n",
    "\n",
    "plt.plot(index, coalition, label = \"Coalition\", color = cmap(0.2));\n",
    "plt.plot(index, opposition, label = \"Opposition\", color = cmap(0.9));\n",
    "plt.plot(index, other, label = \"Other\", color = cmap(0.7))\n",
    "plt.xticks(rotation=90);\n",
    "plt.xlabel(\"Year-Month\", fontsize = 14)\n",
    "plt.ylabel(\"Sentiment Score\", fontsize = 14)\n",
    "#plt.title(\"Sentiment over Time\", fontsize = 16)\n",
    "plt.text(12,0.075, \"Borisov II\", c = \"black\", fontsize = 12)\n",
    "plt.text(50,0.075, \"Borisov III\", c = \"black\", fontsize = 12)\n",
    "plt.text(80,0.075, \"Petkov\", c = \"black\", fontsize = 12)\n",
    "plt.axvspan(56,84, facecolor= cmap(0.2), alpha=0.2, zorder=-10000)\n",
    "\n",
    "\n",
    "\n",
    "for date in lines:\n",
    "    x = np.where(index == date)[0][0]\n",
    "    plt.axvline(x, c = \"black\", linestyle = \"--\")\n",
    "plt.legend(fontsize = 13, loc = \"lower right\", framealpha = 1);"
   ]
  },
  {
   "cell_type": "code",
   "execution_count": 52,
   "id": "4a34660f",
   "metadata": {},
   "outputs": [
    {
     "data": {
      "text/plain": [
       "Government   Party_status\n",
       "Bliznashki   NaN             0.038043\n",
       "Borisov II   Coalition       0.040085\n",
       "             Opposition      0.038490\n",
       "             NaN             0.036951\n",
       "Borisov III  Coalition       0.042249\n",
       "             Opposition      0.038447\n",
       "             NaN             0.045661\n",
       "Gerdzhikov   NaN             0.041030\n",
       "Petkov       Coalition       0.039103\n",
       "             Opposition      0.037480\n",
       "             NaN             0.049474\n",
       "Yanev I      NaN             0.039409\n",
       "Yanev II     NaN             0.043833\n",
       "NaN          Opposition      0.039694\n",
       "             NaN             0.041596\n",
       "dtype: float64"
      ]
     },
     "execution_count": 52,
     "metadata": {},
     "output_type": "execute_result"
    }
   ],
   "source": [
    "nocom.groupby([\"Government\", \"Party_status\"], dropna = False)[\"Sentiment\"].sum() /nocom.groupby([\"Government\", \"Party_status\"], dropna = False)[\"Word_total\"].sum() "
   ]
  },
  {
   "cell_type": "code",
   "execution_count": 53,
   "id": "06432f18",
   "metadata": {},
   "outputs": [
    {
     "data": {
      "text/plain": [
       "Subcorpus  Party_status\n",
       "COVID      Coalition       0.039674\n",
       "           Opposition      0.037714\n",
       "           NaN             0.040286\n",
       "Reference  Coalition       0.041643\n",
       "           Opposition      0.038646\n",
       "           NaN             0.039780\n",
       "dtype: float64"
      ]
     },
     "execution_count": 53,
     "metadata": {},
     "output_type": "execute_result"
    }
   ],
   "source": [
    "nocom.groupby([\"Subcorpus\", \"Party_status\"], dropna = False)[\"Sentiment\"].sum() / nocom.groupby([\"Subcorpus\", \"Party_status\"], dropna = False)[\"Word_total\"].sum() "
   ]
  },
  {
   "cell_type": "markdown",
   "id": "2ee3468f",
   "metadata": {},
   "source": [
    "### By meeting type"
   ]
  },
  {
   "cell_type": "code",
   "execution_count": 29,
   "id": "9cf7c79d",
   "metadata": {},
   "outputs": [],
   "source": [
    "df_bg[\"Meeting_name\"] = pd.Series(dtype='str')"
   ]
  },
  {
   "cell_type": "code",
   "execution_count": 30,
   "id": "b107a73d",
   "metadata": {},
   "outputs": [],
   "source": [
    "legislative = df_bg[\"Meeting_type\"].isin([\"ГЛАСУВАНЕ\",\"ЧЕТЕНЕ\", \"ЗАКОНОПРОЕКТ\"])\n",
    "draft = df_bg[\"Meeting_type\"].isin([\"ПРОЕКТ\", \"ПРОЕКТИ\", \"РЕШЕНИЕ\", \"ИЗБОР\", \"ПРОМЕНИ\"])\n",
    "question = df_bg[\"Meeting_type\"].isin([\"ИЗСЛУШВАНЕ\", \"КОНТРОЛ\"])"
   ]
  },
  {
   "cell_type": "code",
   "execution_count": 36,
   "id": "428357ab",
   "metadata": {},
   "outputs": [],
   "source": [
    "vote = df_bg[\"Meeting_type\"].isin([\"ГЛАСУВАНЕ\"])\n",
    "reading = df_bg[\"Meeting_type\"].isin([\"ЧЕТЕНЕ\"])\n",
    "draft_bill = df_bg[\"Meeting_type\"].isin([\"ЗАКОНОПРОЕКТ\"])"
   ]
  },
  {
   "cell_type": "code",
   "execution_count": 31,
   "id": "53365cf2",
   "metadata": {
    "scrolled": true
   },
   "outputs": [],
   "source": [
    "df_bg[\"Meeting_name\"] = df_bg[\"Meeting_name\"].mask(legislative, other = \"legislative\")\n",
    "df_bg[\"Meeting_name\"] = df_bg[\"Meeting_name\"].mask(draft, other = \"draft decision\")\n",
    "df_bg[\"Meeting_name\"] = df_bg[\"Meeting_name\"].mask(question, other = \"question\")"
   ]
  },
  {
   "cell_type": "code",
   "execution_count": 38,
   "id": "4377a6a9",
   "metadata": {},
   "outputs": [],
   "source": [
    "df_bg[\"Meeting_name\"] = df_bg[\"Meeting_name\"].mask(vote, other = \"vote\")\n",
    "df_bg[\"Meeting_name\"] = df_bg[\"Meeting_name\"].mask(reading, other = \"reading\")\n",
    "df_bg[\"Meeting_name\"] = df_bg[\"Meeting_name\"].mask(draft_bill, other = \"draft bill\")"
   ]
  },
  {
   "cell_type": "code",
   "execution_count": 39,
   "id": "d6330cfc",
   "metadata": {},
   "outputs": [
    {
     "data": {
      "text/plain": [
       "array([nan, 'draft decision', 'draft bill', 'vote', 'question', 'reading'],\n",
       "      dtype=object)"
      ]
     },
     "execution_count": 39,
     "metadata": {},
     "output_type": "execute_result"
    }
   ],
   "source": [
    "df_bg[\"Meeting_name\"].unique()"
   ]
  },
  {
   "cell_type": "code",
   "execution_count": 40,
   "id": "94f20de9",
   "metadata": {},
   "outputs": [],
   "source": [
    "nocom = df_bg[df_bg[\"Comission\"] == \"False\"]"
   ]
  },
  {
   "cell_type": "code",
   "execution_count": 41,
   "id": "8a954fb7",
   "metadata": {},
   "outputs": [],
   "source": [
    "df = nocom.groupby([\"Meeting_name\", \"Party_status\"], dropna = False)[\"Sentiment\"].sum() / nocom.groupby([\"Meeting_name\", \"Party_status\"], dropna = False)[\"Word_total\"].sum()"
   ]
  },
  {
   "cell_type": "code",
   "execution_count": 42,
   "id": "99f4e4ba",
   "metadata": {
    "scrolled": true
   },
   "outputs": [
    {
     "data": {
      "text/plain": [
       "Meeting_name    Party_status\n",
       "draft bill      Coalition       0.039980\n",
       "                Opposition      0.037745\n",
       "                NaN             0.038840\n",
       "draft decision  Coalition       0.046596\n",
       "                Opposition      0.040624\n",
       "                NaN             0.038926\n",
       "question        Coalition       0.043619\n",
       "                Opposition      0.036351\n",
       "                NaN             0.041380\n",
       "reading         Coalition       0.035974\n",
       "                Opposition      0.037838\n",
       "                NaN             0.032374\n",
       "vote            Coalition       0.038413\n",
       "                Opposition      0.037367\n",
       "                NaN             0.039693\n",
       "NaN             Coalition       0.044388\n",
       "                Opposition      0.039523\n",
       "                NaN             0.041225\n",
       "dtype: float64"
      ]
     },
     "execution_count": 42,
     "metadata": {},
     "output_type": "execute_result"
    }
   ],
   "source": [
    "df"
   ]
  },
  {
   "cell_type": "code",
   "execution_count": 87,
   "id": "e2812cd9",
   "metadata": {},
   "outputs": [
    {
     "data": {
      "text/plain": [
       "Meeting_name\n",
       "draft decision    0.042736\n",
       "legislative       0.038008\n",
       "question          0.040021\n",
       "NaN               0.041423\n",
       "dtype: float64"
      ]
     },
     "execution_count": 87,
     "metadata": {},
     "output_type": "execute_result"
    }
   ],
   "source": [
    "nocom.groupby([\"Meeting_name\"], dropna = False)[\"Sentiment\"].sum() / nocom.groupby([\"Meeting_name\"], dropna = False)[\"Word_total\"].sum()"
   ]
  },
  {
   "cell_type": "code",
   "execution_count": 88,
   "id": "72175f9b",
   "metadata": {},
   "outputs": [
    {
     "data": {
      "text/plain": [
       "array([0.00597291, 0.00106341, 0.00726739])"
      ]
     },
     "execution_count": 88,
     "metadata": {},
     "output_type": "execute_result"
    }
   ],
   "source": [
    "df.to_numpy()[0:8:3] - df.to_numpy()[1:8:3]"
   ]
  },
  {
   "cell_type": "code",
   "execution_count": 89,
   "id": "431ebaa7",
   "metadata": {},
   "outputs": [
    {
     "data": {
      "text/plain": [
       "0.03424112839038697"
      ]
     },
     "execution_count": 89,
     "metadata": {},
     "output_type": "execute_result"
    }
   ],
   "source": [
    "df_bg[\"Score\"].mean()"
   ]
  },
  {
   "cell_type": "code",
   "execution_count": 93,
   "id": "6791de90",
   "metadata": {},
   "outputs": [
    {
     "data": {
      "image/png": "[encoded data removed]",
      "text/plain": [
       "<Figure size 720x432 with 1 Axes>"
      ]
     },
     "metadata": {
      "needs_background": "light"
     },
     "output_type": "display_data"
    }
   ],
   "source": [
    "test_df = pd.DataFrame({'Meeting Type': ['Draft Decision \\n (Mean = 0.0427)', 'Legislative \\n (Mean = 0.0380)', 'Question \\n (Mean = 0.0400)'], \n",
    "                        'Coalition': df.to_numpy()[0:9:3], \"Opposition\": df.to_numpy()[1:9:3], \n",
    "                        \"Other\": df.to_numpy()[2:9:3]})\n",
    "plt.rcParams[\"figure.figsize\"] = (10,6)\n",
    "\n",
    "\n",
    "# set name as the index and then Transpose the dataframe\n",
    "test_df = test_df.set_index('Meeting Type')\n",
    "\n",
    "#display(test_df)\n",
    "\n",
    "# plot and annotate\n",
    "test_df.plot(kind='bar', rot=0, color = [cmap(0.18), cmap(0.95), cmap(0.7)], fontsize = 12, alpha = 0.8)\n",
    "plt.xlabel(\"Proceeding Type\", fontsize = 14)\n",
    "plt.ylabel(\"Sentiment Score\", fontsize = 14)\n",
    "plt.ylim(0, 0.053)\n",
    "#plt.title(\"Sentiment by Party Status, Meeting Type\", fontsize = 14)\n",
    "plt.show()\n",
    "\n"
   ]
  },
  {
   "cell_type": "code",
   "execution_count": 81,
   "id": "abaf4344",
   "metadata": {},
   "outputs": [],
   "source": [
    "df = nocom.groupby([\"Meeting_name\", \"Party_status\", \"Speaker_gender\"], dropna = False)[\"Sentiment\"].sum() / nocom.groupby([\"Meeting_name\", \"Party_status\", \"Speaker_gender\"], dropna = False)[\"Word_total\"].sum()"
   ]
  },
  {
   "cell_type": "code",
   "execution_count": null,
   "id": "81f3cc06",
   "metadata": {},
   "outputs": [],
   "source": []
  },
  {
   "cell_type": "code",
   "execution_count": null,
   "id": "cc38e7f8",
   "metadata": {},
   "outputs": [],
   "source": []
  },
  {
   "cell_type": "code",
   "execution_count": null,
   "id": "a10cf01e",
   "metadata": {},
   "outputs": [],
   "source": []
  }
 ],
 "metadata": {
  "kernelspec": {
   "display_name": "Python [conda env:root] *",
   "language": "python",
   "name": "conda-root-py"
  },
  "language_info": {
   "codemirror_mode": {
    "name": "ipython",
    "version": 3
   },
   "file_extension": ".py",
   "mimetype": "text/x-python",
   "name": "python",
   "nbconvert_exporter": "python",
   "pygments_lexer": "ipython3",
   "version": "3.9.7"
  }
 },
 "nbformat": 4,
 "nbformat_minor": 5
}
