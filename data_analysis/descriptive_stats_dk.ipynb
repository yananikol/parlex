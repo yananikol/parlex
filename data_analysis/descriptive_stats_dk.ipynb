{
 "cells": [
  {
   "cell_type": "code",
   "execution_count": 1,
   "id": "14b860fa",
   "metadata": {},
   "outputs": [],
   "source": [
    "import pandas as pd\n",
    "import numpy as np\n",
    "import re\n",
    "import matplotlib.pyplot as plt"
   ]
  },
  {
   "cell_type": "markdown",
   "id": "925f6d24",
   "metadata": {},
   "source": [
    "# Danish Parliament"
   ]
  },
  {
   "cell_type": "code",
   "execution_count": 2,
   "id": "031740b6",
   "metadata": {},
   "outputs": [],
   "source": [
    "df_dk = pd.read_csv(\"ParlaMint-DK-SENT.csv\", delimiter = \",\", dtype = object)\n",
    "df_dk[\"YearMonth\"] = df_dk[\"Date\"].str[:-3]"
   ]
  },
  {
   "cell_type": "code",
   "execution_count": 3,
   "id": "fb10890d",
   "metadata": {},
   "outputs": [],
   "source": [
    "df_dk[\"Word_total\"] = df_dk[\"Word_total\"].astype(float)"
   ]
  },
  {
   "cell_type": "code",
   "execution_count": 4,
   "id": "f89d2d5f",
   "metadata": {
    "scrolled": true
   },
   "outputs": [
    {
     "data": {
      "text/plain": [
       "40797597.0"
      ]
     },
     "execution_count": 4,
     "metadata": {},
     "output_type": "execute_result"
    }
   ],
   "source": [
    "df_dk[\"Word_total\"].astype(float).sum()"
   ]
  },
  {
   "cell_type": "code",
   "execution_count": 5,
   "id": "a1a75f23",
   "metadata": {},
   "outputs": [
    {
     "data": {
      "text/plain": [
       "102.34965756002107"
      ]
     },
     "execution_count": 5,
     "metadata": {},
     "output_type": "execute_result"
    }
   ],
   "source": [
    "df_dk[\"Word_total\"].mean()"
   ]
  },
  {
   "cell_type": "code",
   "execution_count": 6,
   "id": "18ac01e7",
   "metadata": {},
   "outputs": [
    {
     "data": {
      "text/plain": [
       "0.8735079400918191"
      ]
     },
     "execution_count": 6,
     "metadata": {},
     "output_type": "execute_result"
    }
   ],
   "source": [
    "(df_dk[\"Word_total\"] < 200).sum() / len(df_dk)"
   ]
  },
  {
   "cell_type": "code",
   "execution_count": 7,
   "id": "ded19382",
   "metadata": {},
   "outputs": [
    {
     "data": {
      "text/plain": [
       "398610"
      ]
     },
     "execution_count": 7,
     "metadata": {},
     "output_type": "execute_result"
    }
   ],
   "source": [
    "len(df_dk)"
   ]
  },
  {
   "cell_type": "code",
   "execution_count": 8,
   "id": "9eb0c031",
   "metadata": {},
   "outputs": [
    {
     "data": {
      "text/plain": [
       "Speaker_role\n",
       "Chairperson    0.521736\n",
       "Regular        0.478264\n",
       "Name: Word_total, dtype: float64"
      ]
     },
     "execution_count": 8,
     "metadata": {},
     "output_type": "execute_result"
    }
   ],
   "source": [
    "df_dk.groupby(\"Speaker_role\", dropna=False)[\"Word_total\"].count()/len(df_dk)"
   ]
  },
  {
   "cell_type": "code",
   "execution_count": 9,
   "id": "98455b48",
   "metadata": {},
   "outputs": [
    {
     "data": {
      "text/plain": [
       "Speaker_MP  Speaker_Minister  Speaker_role\n",
       "MP          -                 Chairperson     0.057003\n",
       "                              Regular         0.727540\n",
       "            Minister          Chairperson     0.000067\n",
       "                              Regular         0.184716\n",
       "notMP       -                 Chairperson     0.001257\n",
       "                              Regular         0.024653\n",
       "            Minister          Regular         0.004764\n",
       "Name: Word_total, dtype: float64"
      ]
     },
     "execution_count": 9,
     "metadata": {},
     "output_type": "execute_result"
    }
   ],
   "source": [
    "df_dk.groupby([\"Speaker_MP\", \"Speaker_Minister\", \"Speaker_role\"])[\"Word_total\"].sum()/df_dk[\"Word_total\"].sum()"
   ]
  },
  {
   "cell_type": "code",
   "execution_count": 10,
   "id": "62ebf6a6",
   "metadata": {},
   "outputs": [
    {
     "data": {
      "text/plain": [
       "Speaker_MP  Speaker_Minister  Speaker_role\n",
       "MP          -                 Chairperson     0.051125\n",
       "                              Regular         0.734151\n",
       "            Minister          Chairperson     0.002045\n",
       "                              Regular         0.130879\n",
       "notMP       -                 Chairperson     0.002045\n",
       "                              Regular         0.069530\n",
       "            Minister          Regular         0.012270\n",
       "Name: Speaker_name, dtype: float64"
      ]
     },
     "execution_count": 10,
     "metadata": {},
     "output_type": "execute_result"
    }
   ],
   "source": [
    "df_dk.groupby([\"Speaker_MP\", \"Speaker_Minister\", \"Speaker_role\"])[\"Speaker_name\"].nunique()/489"
   ]
  },
  {
   "cell_type": "code",
   "execution_count": 11,
   "id": "28f83064",
   "metadata": {},
   "outputs": [
    {
     "data": {
      "text/plain": [
       "372"
      ]
     },
     "execution_count": 11,
     "metadata": {},
     "output_type": "execute_result"
    }
   ],
   "source": [
    "df_dk[\"Speaker_name\"].nunique()"
   ]
  },
  {
   "cell_type": "code",
   "execution_count": 12,
   "id": "4f2a95e1",
   "metadata": {},
   "outputs": [
    {
     "data": {
      "text/plain": [
       "Speaker_MP  Speaker_Minister  Speaker_role\n",
       "MP          -                 Chairperson     [Lykketoft, Mogens, Loklindt, Lone, Clausen, P...\n",
       "                              Regular         [Haarder, Bertel, Sørensen, Finn, Lind, Annett...\n",
       "            Minister          Chairperson                                     [Haarder, Bertel]\n",
       "                              Regular         [Hansen, Carsten, Wammen, Nicolai, Hækkerup, N...\n",
       "notMP       -                 Chairperson                             [Petersen, Rasmus Helveg]\n",
       "                              Regular         [Berth, Kenneth Kristensen, Nørris, Sarah, Rii...\n",
       "            Minister          Regular         [Lidegaard, Martin, Jørgensen, Dan, Christense...\n",
       "Name: Speaker_name, dtype: object"
      ]
     },
     "execution_count": 12,
     "metadata": {},
     "output_type": "execute_result"
    }
   ],
   "source": [
    "df_dk.groupby([\"Speaker_MP\", \"Speaker_Minister\", \"Speaker_role\"])[\"Speaker_name\"].unique()"
   ]
  },
  {
   "cell_type": "code",
   "execution_count": 13,
   "id": "fed16dbd",
   "metadata": {},
   "outputs": [
    {
     "data": {
      "text/plain": [
       "Speaker_MP  Speaker_Minister  Speaker_role\n",
       "MP          -                 Chairperson      11.447002\n",
       "                              Regular         194.874252\n",
       "            Minister          Chairperson     144.526316\n",
       "                              Regular         234.421906\n",
       "notMP       -                 Chairperson      10.708559\n",
       "                              Regular         191.428245\n",
       "            Minister          Regular         209.683927\n",
       "Name: Word_total, dtype: float64"
      ]
     },
     "execution_count": 13,
     "metadata": {},
     "output_type": "execute_result"
    }
   ],
   "source": [
    "df_dk.groupby([\"Speaker_MP\", \"Speaker_Minister\", \"Speaker_role\"])[\"Word_total\"].mean()"
   ]
  },
  {
   "cell_type": "code",
   "execution_count": 14,
   "id": "ccdee290",
   "metadata": {},
   "outputs": [
    {
     "data": {
      "text/plain": [
       "Speaker_MP  Speaker_Minister  Speaker_role\n",
       "MP          -                 Chairperson     0.509671\n",
       "                              Regular         0.382110\n",
       "            Minister          Chairperson     0.000048\n",
       "                              Regular         0.080648\n",
       "notMP       -                 Chairperson     0.012017\n",
       "                              Regular         0.013181\n",
       "            Minister          Regular         0.002326\n",
       "Name: Word_total, dtype: float64"
      ]
     },
     "execution_count": 14,
     "metadata": {},
     "output_type": "execute_result"
    }
   ],
   "source": [
    "df_dk.groupby([\"Speaker_MP\", \"Speaker_Minister\", \"Speaker_role\"])[\"Word_total\"].count()/len(df_dk)"
   ]
  },
  {
   "cell_type": "markdown",
   "id": "011ad793",
   "metadata": {},
   "source": [
    "#### Speaker"
   ]
  },
  {
   "cell_type": "code",
   "execution_count": 15,
   "id": "063a9196",
   "metadata": {},
   "outputs": [
    {
     "data": {
      "text/plain": [
       "0.5217355309701212"
      ]
     },
     "execution_count": 15,
     "metadata": {},
     "output_type": "execute_result"
    }
   ],
   "source": [
    "(df_dk[\"Speaker_role\"]== \"Chairperson\").sum()/len(df_dk)"
   ]
  },
  {
   "cell_type": "code",
   "execution_count": 16,
   "id": "a3ff10f9",
   "metadata": {},
   "outputs": [
    {
     "data": {
      "text/plain": [
       "array(['Lykketoft, Mogens', 'Loklindt, Lone', 'Clausen, Per',\n",
       "       'Kjærsgaard, Pia', 'Haarder, Bertel', 'Lilleholt, Lars Christian',\n",
       "       'Bøgsted, Bent', 'Paulsen, John Dyrby', 'Klint, Karen J.',\n",
       "       'Kristensen, Henrik Dam', 'Ellemann, Karen', 'Torp, Trine',\n",
       "       'Bonnesen, Erling', 'Petersen, Rasmus Helveg', 'Juhl, Christian',\n",
       "       'Lind, Annette', 'Dahl, Jens Henrik Thulesen', 'Brix, Stine',\n",
       "       'Thorning-Schmidt, Helle', 'Engelbrecht, Benny',\n",
       "       'Halsboe-Jørgensen, Ane', 'Bock, Mette',\n",
       "       'Lorentzen, Kristian Pihl', 'Mikkelsen, Leif', 'Rohde, Jens',\n",
       "       'Ahrendtsen, Alex'], dtype=object)"
      ]
     },
     "execution_count": 16,
     "metadata": {},
     "output_type": "execute_result"
    }
   ],
   "source": [
    "pd.unique(df_dk[df_dk[\"Speaker_role\"]== \"Chairperson\"][\"Speaker_name\"])"
   ]
  },
  {
   "cell_type": "code",
   "execution_count": 17,
   "id": "dde670fd",
   "metadata": {},
   "outputs": [],
   "source": [
    "speaker_words = df_dk[df_dk[\"Speaker_role\"] == \"Chairperson\"][\"Word_total\"].astype(float).sum()\n",
    "total_words = df_dk[\"Word_total\"].astype(float).sum()"
   ]
  },
  {
   "cell_type": "code",
   "execution_count": 18,
   "id": "37535b6d",
   "metadata": {},
   "outputs": [
    {
     "name": "stdout",
     "output_type": "stream",
     "text": [
      "2379613.0 40797597.0 0.058327283344653855\n"
     ]
    }
   ],
   "source": [
    "print(speaker_words, total_words, speaker_words/total_words)"
   ]
  },
  {
   "cell_type": "code",
   "execution_count": 19,
   "id": "79567e6e",
   "metadata": {},
   "outputs": [
    {
     "data": {
      "text/plain": [
       "11.442152436180391"
      ]
     },
     "execution_count": 19,
     "metadata": {},
     "output_type": "execute_result"
    }
   ],
   "source": [
    "#speech length\n",
    "df_dk[df_dk[\"Speaker_role\"] == \"Chairperson\"][\"Word_total\"].astype(float).mean()"
   ]
  },
  {
   "cell_type": "markdown",
   "id": "5bc9be71",
   "metadata": {},
   "source": [
    "#### Who lacks party status?\n",
    "\n",
    "The \"sympathizers\"/supporting parties -- parties of the same bloc as the coalition but not in it. + Greenland and Faroese parties (remove them) "
   ]
  },
  {
   "cell_type": "code",
   "execution_count": 20,
   "id": "20fcd4f1",
   "metadata": {},
   "outputs": [
    {
     "data": {
      "text/plain": [
       "Chairperson    67834\n",
       "Regular        46622\n",
       "Name: Speaker_role, dtype: int64"
      ]
     },
     "execution_count": 20,
     "metadata": {},
     "output_type": "execute_result"
    }
   ],
   "source": [
    "df_dk[df_dk[\"Party_status\"].isna()][\"Speaker_role\"].value_counts()"
   ]
  },
  {
   "cell_type": "code",
   "execution_count": 21,
   "id": "54b36430",
   "metadata": {},
   "outputs": [
    {
     "data": {
      "text/plain": [
       "Dansk Folkeparti                45341\n",
       "Socialistisk Folkeparti         23805\n",
       "Enhedslisten                    17021\n",
       "Radikale Venstre                12877\n",
       "Liberal Alliance                 7042\n",
       "Alternativet                     1777\n",
       "Det Konservative Folkeparti      1474\n",
       "Uden for folketingsgrupperne     1315\n",
       "Inuit Ataqatigiit                1029\n",
       "Kristendemokraterne               678\n",
       "Frie Grønne                       639\n",
       "Javnaðarflokkurin                 399\n",
       "Siumut                            390\n",
       "Tjóðveldi                         261\n",
       "Sambandsflokkurin                 172\n",
       "Nunatta Qitornai                   97\n",
       "Name: Speaker_party_name, dtype: int64"
      ]
     },
     "execution_count": 21,
     "metadata": {},
     "output_type": "execute_result"
    }
   ],
   "source": [
    "df_dk[df_dk[\"Party_status\"].isna()][\"Speaker_party_name\"].value_counts()"
   ]
  },
  {
   "cell_type": "code",
   "execution_count": 22,
   "id": "3f0e76ce",
   "metadata": {},
   "outputs": [
    {
     "data": {
      "text/plain": [
       "DF     45341\n",
       "SF     23805\n",
       "EL     17021\n",
       "RV     12877\n",
       "LA      7042\n",
       "ALT     1777\n",
       "KF      1474\n",
       "UFG     1315\n",
       "IA      1029\n",
       "KD       678\n",
       "FG       639\n",
       "JF       399\n",
       "SIU      390\n",
       "T        261\n",
       "SP       172\n",
       "NQ        97\n",
       "Name: Speaker_party, dtype: int64"
      ]
     },
     "execution_count": 22,
     "metadata": {},
     "output_type": "execute_result"
    }
   ],
   "source": [
    "df_dk[df_dk[\"Party_status\"].isna()][\"Speaker_party\"].value_counts()"
   ]
  },
  {
   "cell_type": "code",
   "execution_count": 23,
   "id": "cfc38147",
   "metadata": {},
   "outputs": [
    {
     "name": "stdout",
     "output_type": "stream",
     "text": [
      "YearMonth  Speaker_party\n",
      "2014-10    EL                327\n",
      "           SF                127\n",
      "           IA                 12\n",
      "           JF                  9\n",
      "           SP                  8\n",
      "           SIU                 7\n",
      "           UFG                 3\n",
      "2014-11    EL                702\n",
      "           SF                146\n",
      "           JF                  1\n",
      "2014-12    EL                486\n",
      "           SF                215\n",
      "           UFG                11\n",
      "           IA                  6\n",
      "           JF                  4\n",
      "           SIU                 3\n",
      "           SP                  3\n",
      "2015-01    EL                492\n",
      "           SF                138\n",
      "           UFG                21\n",
      "           SIU                 7\n",
      "           IA                  6\n",
      "2015-02    EL                385\n",
      "           SF                179\n",
      "           IA                  8\n",
      "           SIU                 4\n",
      "           SP                  1\n",
      "2015-03    EL                596\n",
      "           SF                148\n",
      "           UFG                12\n",
      "           ALT                 3\n",
      "           IA                  3\n",
      "           SP                  3\n",
      "2015-04    EL               1034\n",
      "           SF                254\n",
      "           ALT                 3\n",
      "           SIU                 1\n",
      "2015-05    EL                670\n",
      "           SF                272\n",
      "           IA                 11\n",
      "           JF                  9\n",
      "           SIU                 8\n",
      "           ALT                 6\n",
      "           SP                  3\n",
      "2015-07    LA                129\n",
      "           DF                 34\n",
      "           KF                 26\n",
      "2015-08    DF                 37\n",
      "           LA                 13\n",
      "           KF                  5\n",
      "2015-10    DF               1115\n",
      "           LA                468\n",
      "           KF                149\n",
      "           SIU                32\n",
      "           IA                 20\n",
      "           JF                 20\n",
      "           T                  10\n",
      "2015-11    DF               1478\n",
      "           LA                627\n",
      "           KF                164\n",
      "           IA                 26\n",
      "           SIU                20\n",
      "2015-12    DF               1126\n",
      "           LA                786\n",
      "           KF                156\n",
      "           IA                 11\n",
      "           JF                  3\n",
      "           SIU                 3\n",
      "           T                   3\n",
      "2016-01    DF               1529\n",
      "           LA                326\n",
      "           KF                123\n",
      "           IA                 39\n",
      "           JF                  6\n",
      "2016-02    DF               1183\n",
      "           LA                489\n",
      "           KF                 78\n",
      "2016-03    DF               1728\n",
      "           LA                432\n",
      "           KF                 98\n",
      "           IA                  3\n",
      "           JF                  3\n",
      "           T                   3\n",
      "2016-04    DF               1613\n",
      "           LA                932\n",
      "           KF                205\n",
      "           IA                 35\n",
      "           SIU                19\n",
      "           T                   5\n",
      "2016-05    DF               2956\n",
      "           LA               1521\n",
      "           KF                190\n",
      "           IA                 31\n",
      "           SIU                26\n",
      "           T                  18\n",
      "           JF                  9\n",
      "2016-06    DF                561\n",
      "           LA                237\n",
      "           KF                 53\n",
      "           IA                 21\n",
      "           SIU                15\n",
      "           T                  15\n",
      "           JF                  5\n",
      "2016-08    LA                 28\n",
      "           DF                 17\n",
      "           KF                  1\n",
      "2016-09    DF                227\n",
      "           LA                144\n",
      "           KF                 31\n",
      "           IA                  5\n",
      "           T                   3\n",
      "           UFG                 3\n",
      "           JF                  1\n",
      "2016-10    DF                989\n",
      "           LA                534\n",
      "           KF                134\n",
      "           IA                 53\n",
      "           UFG                41\n",
      "           T                  36\n",
      "           JF                 27\n",
      "2016-11    DF               1299\n",
      "           LA                376\n",
      "           KF                 61\n",
      "           IA                  8\n",
      "           JF                  3\n",
      "           T                   3\n",
      "           UFG                 3\n",
      "2016-12    DF               1623\n",
      "           IA                 31\n",
      "           T                  23\n",
      "           UFG                14\n",
      "           JF                  7\n",
      "2017-01    DF               1373\n",
      "           IA                  3\n",
      "           JF                  3\n",
      "           T                   3\n",
      "           UFG                 3\n",
      "2017-02    DF               1310\n",
      "           JF                  1\n",
      "           T                   1\n",
      "2017-03    DF               1586\n",
      "           IA                  6\n",
      "           UFG                 4\n",
      "           JF                  3\n",
      "           T                   3\n",
      "2017-04    DF               1631\n",
      "           IA                  7\n",
      "           T                   7\n",
      "           UFG                 5\n",
      "           JF                  1\n",
      "2017-05    DF               2351\n",
      "           IA                 53\n",
      "           UFG                42\n",
      "           T                  26\n",
      "           JF                 13\n",
      "2017-06    DF                323\n",
      "           IA                 22\n",
      "           UFG                14\n",
      "2017-09    DF                287\n",
      "           IA                  7\n",
      "           UFG                 3\n",
      "2017-10    DF               1080\n",
      "           IA                 29\n",
      "           UFG                23\n",
      "           T                  17\n",
      "           JF                  7\n",
      "2017-11    DF               1388\n",
      "           IA                  1\n",
      "           UFG                 1\n",
      "2017-12    DF               1287\n",
      "           IA                 10\n",
      "2018-01    DF               1539\n",
      "           IA                 22\n",
      "           UFG                21\n",
      "           T                  10\n",
      "           JF                  6\n",
      "2018-02    DF               1108\n",
      "           IA                  3\n",
      "           JF                  3\n",
      "           T                   3\n",
      "           UFG                 3\n",
      "2018-03    DF                645\n",
      "2018-04    DF               1689\n",
      "2018-05    DF               1799\n",
      "           IA                 67\n",
      "           NQ                 54\n",
      "           T                  34\n",
      "           JF                 23\n",
      "2018-06    DF                 94\n",
      "           IA                  2\n",
      "2018-09    DF                231\n",
      "           IA                 11\n",
      "           NQ                  7\n",
      "2018-10    DF                600\n",
      "           IA                 38\n",
      "           NQ                 14\n",
      "           JF                 13\n",
      "           T                   9\n",
      "2018-11    DF               1520\n",
      "           IA                 10\n",
      "           T                   7\n",
      "           NQ                  5\n",
      "           JF                  3\n",
      "2018-12    DF               1249\n",
      "           IA                 19\n",
      "           T                   6\n",
      "           NQ                  5\n",
      "           JF                  3\n",
      "2019-01    DF               1211\n",
      "2019-02    DF               1183\n",
      "2019-03    DF                993\n",
      "           T                  10\n",
      "           JF                  7\n",
      "           IA                  4\n",
      "           NQ                  3\n",
      "2019-04    DF               1142\n",
      "           IA                 12\n",
      "           NQ                  9\n",
      "           T                   6\n",
      "2019-05    DF                207\n",
      "2019-08    EL                 24\n",
      "           ALT                 1\n",
      "           RV                  1\n",
      "           SF                  1\n",
      "2019-10    SF                873\n",
      "           RV                603\n",
      "           EL                453\n",
      "           ALT               164\n",
      "           IA                 58\n",
      "           SIU                26\n",
      "           JF                 17\n",
      "           SP                 13\n",
      "2019-11    SF                758\n",
      "           EL                418\n",
      "           RV                269\n",
      "           ALT               137\n",
      "           UFG                15\n",
      "           IA                  6\n",
      "           SIU                 4\n",
      "           SP                  3\n",
      "           JF                  1\n",
      "2019-12    SF                866\n",
      "           RV                707\n",
      "           EL                706\n",
      "           ALT               192\n",
      "           IA                 25\n",
      "           UFG                16\n",
      "           SIU                14\n",
      "           JF                 11\n",
      "           SP                  8\n",
      "2020-01    SF               1274\n",
      "           RV                561\n",
      "           EL                555\n",
      "           ALT               183\n",
      "2020-02    SF                448\n",
      "           EL                265\n",
      "           RV                262\n",
      "           ALT                84\n",
      "           JF                  1\n",
      "2020-03    RV                275\n",
      "           SF                242\n",
      "           EL                143\n",
      "           ALT                 6\n",
      "           UFG                 6\n",
      "2020-04    SF                485\n",
      "           EL                398\n",
      "           RV                109\n",
      "           ALT                23\n",
      "           UFG                20\n",
      "2020-05    SF               1377\n",
      "           EL                778\n",
      "           RV                316\n",
      "           ALT                59\n",
      "           UFG                 7\n",
      "           IA                  1\n",
      "2020-06    SF               1497\n",
      "           EL                349\n",
      "           RV                300\n",
      "           UFG                67\n",
      "           ALT                40\n",
      "           IA                 23\n",
      "           SIU                16\n",
      "           JF                 14\n",
      "           SP                  9\n",
      "2020-08    SF                 20\n",
      "           RV                 11\n",
      "           UFG                 5\n",
      "           EL                  2\n",
      "2020-09    RV                207\n",
      "           EL                116\n",
      "           SF                 98\n",
      "           ALT                15\n",
      "           IA                 10\n",
      "           SIU                 7\n",
      "           JF                  5\n",
      "           UFG                 2\n",
      "2020-10    RV                512\n",
      "           SF                505\n",
      "           EL                281\n",
      "           IA                 43\n",
      "           ALT                41\n",
      "           JF                 26\n",
      "           SIU                25\n",
      "           UFG                24\n",
      "           SP                 16\n",
      "2020-11    SF                993\n",
      "           RV                770\n",
      "           EL                597\n",
      "           UFG                58\n",
      "           ALT                32\n",
      "           IA                  4\n",
      "           JF                  4\n",
      "           SP                  3\n",
      "2020-12    SF               1190\n",
      "           EL                851\n",
      "           RV                442\n",
      "           UFG               125\n",
      "           ALT                56\n",
      "           IA                 14\n",
      "           JF                 11\n",
      "           SIU                 3\n",
      "2021-01    SF                615\n",
      "           EL                513\n",
      "           RV                204\n",
      "           UFG                53\n",
      "           ALT                51\n",
      "2021-02    SF                655\n",
      "           EL                266\n",
      "           RV                227\n",
      "           UFG                47\n",
      "           ALT                36\n",
      "2021-03    SF               1326\n",
      "           RV                965\n",
      "           EL                479\n",
      "           UFG               168\n",
      "           ALT                51\n",
      "           IA                  1\n",
      "2021-04    SF               1501\n",
      "           RV                897\n",
      "           EL                804\n",
      "           UFG               144\n",
      "           ALT                85\n",
      "           SP                 19\n",
      "           IA                 15\n",
      "           JF                 13\n",
      "           SIU                13\n",
      "           KD                  3\n",
      "2021-05    SF               1231\n",
      "           RV                890\n",
      "           EL                796\n",
      "           UFG               257\n",
      "           KD                246\n",
      "           ALT               105\n",
      "           IA                 36\n",
      "           SIU                25\n",
      "           JF                 20\n",
      "           SP                 13\n",
      "2021-06    SF                433\n",
      "           RV                326\n",
      "           EL                251\n",
      "           KD                 69\n",
      "           ALT                37\n",
      "           UFG                23\n",
      "           IA                 13\n",
      "           SIU                12\n",
      "           SP                  8\n",
      "           JF                  7\n",
      "2021-08    SF                225\n",
      "           EL                 78\n",
      "           KD                 25\n",
      "           RV                 20\n",
      "           UFG                14\n",
      "2021-09    SF                143\n",
      "           RV                104\n",
      "           EL                 33\n",
      "           ALT                15\n",
      "           KD                 15\n",
      "           JF                  4\n",
      "           SP                  2\n",
      "           IA                  1\n",
      "           SIU                 1\n",
      "2021-10    SF                722\n",
      "           RV                300\n",
      "           EL                291\n",
      "           KD                 79\n",
      "           ALT                78\n",
      "           UFG                32\n",
      "           IA                 23\n",
      "           SIU                13\n",
      "           SP                 13\n",
      "           JF                  9\n",
      "2021-11    SF                606\n",
      "           RV                533\n",
      "           EL                465\n",
      "           FG                 75\n",
      "           KD                 30\n",
      "           ALT                28\n",
      "           IA                 28\n",
      "           SIU                24\n",
      "           JF                 19\n",
      "           SP                  8\n",
      "2021-12    SF                511\n",
      "           RV                508\n",
      "           EL                263\n",
      "           FG                108\n",
      "           KD                 62\n",
      "           ALT                45\n",
      "           IA                  8\n",
      "           UFG                 5\n",
      "           JF                  3\n",
      "           SIU                 3\n",
      "           SP                  3\n",
      "2022-01    SF                280\n",
      "           EL                 95\n",
      "           KD                 69\n",
      "           FG                 62\n",
      "           RV                 57\n",
      "2022-02    SF                386\n",
      "           RV                383\n",
      "           EL                120\n",
      "           FG                 46\n",
      "           KD                 39\n",
      "           ALT                29\n",
      "2022-03    SF                837\n",
      "           EL                738\n",
      "           RV                422\n",
      "           FG                113\n",
      "           ALT                30\n",
      "           KD                 23\n",
      "           IA                  1\n",
      "           SIU                 1\n",
      "2022-04    SF                999\n",
      "           RV                581\n",
      "           EL                573\n",
      "           FG                136\n",
      "           ALT                66\n",
      "           IA                 16\n",
      "           SIU                14\n",
      "           SP                 13\n",
      "           JF                 12\n",
      "           KD                 10\n",
      "2022-05    SF               1109\n",
      "           RV                884\n",
      "           EL                562\n",
      "           FG                 89\n",
      "           ALT                66\n",
      "           IA                 48\n",
      "           SIU                44\n",
      "           JF                 29\n",
      "           SP                 23\n",
      "           KD                  8\n",
      "2022-06    RV                231\n",
      "           SF                120\n",
      "           EL                 66\n",
      "           ALT                10\n",
      "           FG                 10\n"
     ]
    }
   ],
   "source": [
    "print(df_dk[df_dk[\"Party_status\"].isna()].groupby(\"YearMonth\")[\"Speaker_party\"].value_counts().to_string())"
   ]
  },
  {
   "cell_type": "markdown",
   "id": "73c9ce17",
   "metadata": {},
   "source": [
    "#### Party status"
   ]
  },
  {
   "cell_type": "code",
   "execution_count": 24,
   "id": "7a4d3b00",
   "metadata": {},
   "outputs": [],
   "source": [
    "#remove faroes and greenland \n",
    "df_dk = df_dk[~df_dk[\"Speaker_party\"].isin([\"IA\", \"JF\", \"SIU\", \"T\", \"SP\", \"NQ\", \"FG\"])]"
   ]
  },
  {
   "cell_type": "code",
   "execution_count": 25,
   "id": "1b3bc56b",
   "metadata": {},
   "outputs": [],
   "source": [
    "#remove chaiperson\n",
    "df_dk = df_dk[df_dk[\"Speaker_role\"]!= \"Chairperson\"]"
   ]
  },
  {
   "cell_type": "code",
   "execution_count": 26,
   "id": "d6913f92",
   "metadata": {},
   "outputs": [],
   "source": [
    "#remove non-minister non-MPs\n",
    "df_dk = df_dk.drop(df_dk[(df_dk[\"Speaker_Minister\"] == \"-\") & (df_dk[\"Speaker_MP\"] == \"notMP\")].index)"
   ]
  },
  {
   "cell_type": "code",
   "execution_count": 27,
   "id": "26ce0716",
   "metadata": {},
   "outputs": [
    {
     "data": {
      "text/plain": [
       "Party_status\n",
       "Coalition     0.306172\n",
       "Opposition    0.472855\n",
       "NaN           0.220973\n",
       "Name: ID, dtype: float64"
      ]
     },
     "execution_count": 27,
     "metadata": {},
     "output_type": "execute_result"
    }
   ],
   "source": [
    "df_dk.groupby(\"Party_status\", dropna = False)[\"ID\"].count()/len(df_dk)"
   ]
  },
  {
   "cell_type": "code",
   "execution_count": 28,
   "id": "275b5c01",
   "metadata": {},
   "outputs": [
    {
     "data": {
      "text/plain": [
       "Party_status  Speaker_Minister\n",
       "Coalition     -                   0.201413\n",
       "              Minister            0.121908\n",
       "Opposition    -                   0.424028\n",
       "NaN           -                   0.252650\n",
       "Name: Speaker_name, dtype: float64"
      ]
     },
     "execution_count": 28,
     "metadata": {},
     "output_type": "execute_result"
    }
   ],
   "source": [
    "df_dk.groupby([\"Party_status\", \"Speaker_Minister\"], dropna = False)[\"Speaker_name\"].nunique()/df_dk.groupby([\"Party_status\", \"Speaker_Minister\"], dropna = False)[\"Speaker_name\"].nunique().sum()"
   ]
  },
  {
   "cell_type": "code",
   "execution_count": 29,
   "id": "d707adaa",
   "metadata": {},
   "outputs": [
    {
     "data": {
      "text/plain": [
       "Party_status  Speaker_Minister\n",
       "Coalition     -                   0.201413\n",
       "              Minister            0.121908\n",
       "Opposition    -                   0.424028\n",
       "NaN           -                   0.252650\n",
       "Name: Speaker_name, dtype: float64"
      ]
     },
     "execution_count": 29,
     "metadata": {},
     "output_type": "execute_result"
    }
   ],
   "source": [
    "df_dk.groupby([\"Party_status\", \"Speaker_Minister\"], dropna = False)[\"Speaker_name\"].nunique()/df_dk.groupby([\"Party_status\", \"Speaker_Minister\"], dropna = False)[\"Speaker_name\"].nunique().sum()"
   ]
  },
  {
   "cell_type": "code",
   "execution_count": 30,
   "id": "b76e6551",
   "metadata": {},
   "outputs": [
    {
     "data": {
      "text/plain": [
       "Party_status  Speaker_Minister\n",
       "Coalition     -                   0.117193\n",
       "              Minister            0.209796\n",
       "Opposition    -                   0.463256\n",
       "NaN           -                   0.209754\n",
       "Name: Word_total, dtype: float64"
      ]
     },
     "execution_count": 30,
     "metadata": {},
     "output_type": "execute_result"
    }
   ],
   "source": [
    "df_dk.groupby([\"Party_status\", \"Speaker_Minister\"], dropna = False)[\"Word_total\"].sum()/df_dk[\"Word_total\"].sum()"
   ]
  },
  {
   "cell_type": "code",
   "execution_count": 31,
   "id": "e6ec009e",
   "metadata": {},
   "outputs": [
    {
     "data": {
      "text/plain": [
       "Party_status  Speaker_Minister\n",
       "Coalition     -                   0.125144\n",
       "              Minister            0.181028\n",
       "Opposition    -                   0.472855\n",
       "NaN           -                   0.220973\n",
       "Name: Word_total, dtype: float64"
      ]
     },
     "execution_count": 31,
     "metadata": {},
     "output_type": "execute_result"
    }
   ],
   "source": [
    "df_dk.groupby([\"Party_status\", \"Speaker_Minister\"], dropna = False)[\"Word_total\"].count()/len(df_dk)"
   ]
  },
  {
   "cell_type": "code",
   "execution_count": 32,
   "id": "ba3e4b4e",
   "metadata": {},
   "outputs": [
    {
     "data": {
      "text/plain": [
       "Party_status  Speaker_Minister\n",
       "Coalition     -                   188.865684\n",
       "              Minister            233.728548\n",
       "Opposition    -                   197.585339\n",
       "NaN           -                   191.440057\n",
       "Name: Word_total, dtype: float64"
      ]
     },
     "execution_count": 32,
     "metadata": {},
     "output_type": "execute_result"
    }
   ],
   "source": [
    "df_dk.groupby([\"Party_status\", \"Speaker_Minister\"], dropna = False)[\"Word_total\"].mean()"
   ]
  },
  {
   "cell_type": "code",
   "execution_count": 33,
   "id": "6225f835",
   "metadata": {},
   "outputs": [
    {
     "data": {
      "text/plain": [
       "Party_status\n",
       "Coalition     215.391380\n",
       "Opposition    197.585339\n",
       "NaN           191.440057\n",
       "Name: Word_total, dtype: float64"
      ]
     },
     "execution_count": 33,
     "metadata": {},
     "output_type": "execute_result"
    }
   ],
   "source": [
    "df_dk.groupby([\"Party_status\"], dropna = False)[\"Word_total\"].mean()"
   ]
  },
  {
   "cell_type": "code",
   "execution_count": 34,
   "id": "a9bfe62d",
   "metadata": {},
   "outputs": [
    {
     "data": {
      "text/plain": [
       "Party_status\n",
       "Coalition     0.326989\n",
       "Opposition    0.463256\n",
       "NaN           0.209754\n",
       "Name: Word_total, dtype: float64"
      ]
     },
     "execution_count": 34,
     "metadata": {},
     "output_type": "execute_result"
    }
   ],
   "source": [
    "df_dk.groupby(\"Party_status\", dropna = False)[\"Word_total\"].sum()/df_dk[\"Word_total\"].sum()"
   ]
  },
  {
   "cell_type": "code",
   "execution_count": 35,
   "id": "69f0aa6c",
   "metadata": {},
   "outputs": [
    {
     "data": {
      "text/plain": [
       "Party_status  Speaker_Minister\n",
       "Coalition     -                   188.865684\n",
       "              Minister            233.728548\n",
       "Opposition    -                   197.585339\n",
       "NaN           -                   191.440057\n",
       "Name: Word_total, dtype: float64"
      ]
     },
     "execution_count": 35,
     "metadata": {},
     "output_type": "execute_result"
    }
   ],
   "source": [
    "df_dk.groupby([\"Party_status\", \"Speaker_Minister\"], dropna = False)[\"Word_total\"].mean()"
   ]
  },
  {
   "cell_type": "code",
   "execution_count": 36,
   "id": "46e91566",
   "metadata": {},
   "outputs": [],
   "source": [
    "proportions = df_dk.groupby([\"Government\", \"Party_status\"], dropna = False)[\"Word_total\"].sum()/df_dk.groupby([\"Government\"], dropna = False)[\"Word_total\"].sum()"
   ]
  },
  {
   "cell_type": "code",
   "execution_count": 37,
   "id": "24bbb47a",
   "metadata": {},
   "outputs": [
    {
     "name": "stdout",
     "output_type": "stream",
     "text": [
      "Government           Party_status\n",
      "Frederiksen I        Coalition       0.313505\n",
      "                     Opposition      0.429203\n",
      "                     NaN             0.257292\n",
      "Rasmussen II         Coalition       0.261249\n",
      "                     Opposition      0.509055\n",
      "                     NaN             0.229696\n",
      "Rasmussen III        Coalition       0.363171\n",
      "                     Opposition      0.499298\n",
      "                     NaN             0.137531\n",
      "Thorning-Schmidt II  Coalition       0.371901\n",
      "                     Opposition      0.407612\n",
      "                     NaN             0.220488\n",
      "Name: Word_total, dtype: float64\n"
     ]
    }
   ],
   "source": [
    "print(proportions)"
   ]
  },
  {
   "cell_type": "markdown",
   "id": "542f754e",
   "metadata": {},
   "source": [
    "### By meeting type"
   ]
  },
  {
   "cell_type": "code",
   "execution_count": 38,
   "id": "40fab8aa",
   "metadata": {},
   "outputs": [],
   "source": [
    "matches = [\"behandling\", \"Spm.|Spørgetime|spørgetime\", \"forhandling|Forhandling\", \"afstemning\", \n",
    "          \"partilederdebat|Partilederdebat\", \"hasteforespørgsel\"]"
   ]
  },
  {
   "cell_type": "code",
   "execution_count": 39,
   "id": "65c49272",
   "metadata": {},
   "outputs": [],
   "source": [
    "percent = []\n",
    "words = []\n",
    "\n",
    "for match in matches:\n",
    "    percent.append(df_dk[\"Topic_title\"].str.contains(match).value_counts().loc[True]/len(df_dk))\n",
    "    words.append(df_dk[df_dk[\"Topic_title\"].str.contains(match)][\"Word_total\"].sum()/df_dk[\"Word_total\"].sum())"
   ]
  },
  {
   "cell_type": "code",
   "execution_count": 40,
   "id": "69d437d4",
   "metadata": {},
   "outputs": [
    {
     "data": {
      "image/png": "[encoded data removed]",
      "text/plain": [
       "<Figure size 576x432 with 1 Axes>"
      ]
     },
     "metadata": {},
     "output_type": "display_data"
    }
   ],
   "source": [
    "plt.rcParams[\"figure.figsize\"] = (8,6)\n",
    "\n",
    "explode = (0, 0, 0 ,0.5, 0.3, 0.1)\n",
    "patches, tags, pers = plt.pie(percent, labels=None, explode = explode, autopct='%1.1f%%', pctdistance=1.1)\n",
    "plt.title('Speeches (%) by Type of Meeting in the Danish Parliament', size = 16)\n",
    "labels = [\"reading\", \"question\", \"negotiation\", \"voting\", \"party leader debate\", \"request\"]\n",
    "\n",
    "    \n",
    "plt.legend(patches, labels, loc='center left', bbox_to_anchor=(-0.4, 0.5),\n",
    "           fontsize=10)\n",
    "plt.show()"
   ]
  },
  {
   "cell_type": "code",
   "execution_count": 59,
   "id": "3ae8b095",
   "metadata": {},
   "outputs": [
    {
     "data": {
      "image/png": "[encoded data removed]",
      "text/plain": [
       "<Figure size 576x432 with 1 Axes>"
      ]
     },
     "metadata": {},
     "output_type": "display_data"
    }
   ],
   "source": [
    "plt.rcParams[\"figure.figsize\"] = (8,6)\n",
    "\n",
    "labels = [\"reading\", \"question\", \"negotiation\", \"voting\", \"party leader debate\", \"request\"]\n",
    "colors = plt.get_cmap(\"RdGy\")(np.linspace(0.1, 0.9, len(labels)))\n",
    "explode = (0, 0, 0 ,0.5, 0.3, 0.1)\n",
    "patches, tags, pers = plt.pie(words, labels=None, explode = explode, autopct='%1.1f%%', pctdistance=1.1, colors = colors)\n",
    "titlefont = {\"fontname\": \"Times\"}\n",
    "#plt.title('Words (%) by Type of Meeting in the Danish Parliament', size = 16, **titlefont)\n",
    "\n",
    "    \n",
    "plt.legend(patches, labels, loc='center left', bbox_to_anchor=(-0.4, 0.5),\n",
    "           fontsize=10)\n",
    "plt.show()"
   ]
  },
  {
   "cell_type": "code",
   "execution_count": 42,
   "id": "573b20c1",
   "metadata": {},
   "outputs": [],
   "source": [
    "resten = df_dk[~df_dk[\"Topic_title\"].str.contains(\"behandling|Spm.|Spørgetime|forhandling|Punkt 0|afstemning|spørgetime|Forhandling\")][\"Topic_title\"]"
   ]
  },
  {
   "cell_type": "code",
   "execution_count": 43,
   "id": "a9ab4936",
   "metadata": {},
   "outputs": [
    {
     "data": {
      "text/plain": [
       "'3356      Redegørelse givet af R 1: Om statsministerens ...\\n19843                              Udvidet partilederdebat.\\n19845                              Udvidet partilederdebat.\\n19847                              Udvidet partilederdebat.\\n19849                              Udvidet partilederdebat.\\n19851                              Udvidet partilederdebat.\\n19853                              Udvidet partilederdebat.\\n19855                              Udvidet partilederdebat.\\n19857                              Udvidet partilederdebat.\\n19859                              Udvidet partilederdebat.\\n19861                              Udvidet partilederdebat.\\n19863                              Udvidet partilederdebat.\\n19865                              Udvidet partilederdebat.\\n19867                              Udvidet partilederdebat.\\n19869                              Udvidet partilederdebat.\\n19871                              Udvidet partilederdebat.\\n19873                              Udvidet partilederdebat.\\n19875                              Udvidet partilederdebat.\\n19877                              Udvidet partilederdebat.\\n19879                              Udvidet partilederdebat.\\n19881                              Udvidet partilederdebat.\\n19883                              Udvidet partilederdebat.\\n19885                              Udvidet partilederdebat.\\n19887                              Udvidet partilederdebat.\\n19889                              Udvidet partilederdebat.\\n19891                              Udvidet partilederdebat.\\n19895                              Udvidet partilederdebat.\\n19899                              Udvidet partilederdebat.\\n19901                              Udvidet partilederdebat.\\n19903                              Udvidet partilederdebat.\\n19905                              Udvidet partilederdebat.\\n19907                              Udvidet partilederdebat.\\n19909                              Udvidet partilederdebat.\\n19911                              Udvidet partilederdebat.\\n19913                              Udvidet partilederdebat.\\n19915                              Udvidet partilederdebat.\\n19919                              Udvidet partilederdebat.\\n19923                              Udvidet partilederdebat.\\n19927                              Udvidet partilederdebat.\\n19931                              Udvidet partilederdebat.\\n19935                              Udvidet partilederdebat.\\n19939                              Udvidet partilederdebat.\\n19943                              Udvidet partilederdebat.\\n19947                              Udvidet partilederdebat.\\n19951                              Udvidet partilederdebat.\\n19955                              Udvidet partilederdebat.\\n19957                              Udvidet partilederdebat.\\n19959                              Udvidet partilederdebat.\\n19961                              Udvidet partilederdebat.\\n19963                              Udvidet partilederdebat.\\n19965                              Udvidet partilederdebat.\\n19967                              Udvidet partilederdebat.\\n19969                              Udvidet partilederdebat.\\n19971                              Udvidet partilederdebat.\\n19973                              Udvidet partilederdebat.\\n19975                              Udvidet partilederdebat.\\n19977                              Udvidet partilederdebat.\\n19979                              Udvidet partilederdebat.\\n19981                              Udvidet partilederdebat.\\n19983                              Udvidet partilederdebat.\\n19985                              Udvidet partilederdebat.\\n19989                              Udvidet partilederdebat.\\n19993                              Udvidet partilederdebat.\\n19997                              Udvidet partilederdebat.\\n20001                              Udvidet partilederdebat.\\n20005                              Udvidet partilederdebat.\\n20009                              Udvidet partilederdebat.\\n20011                              Udvidet partilederdebat.\\n20013                              Udvidet partilederdebat.\\n20015                              Udvidet partilederdebat.\\n20017                              Udvidet partilederdebat.\\n20019                              Udvidet partilederdebat.\\n20021                              Udvidet partilederdebat.\\n20023                              Udvidet partilederdebat.\\n20025                              Udvidet partilederdebat.\\n20027                              Udvidet partilederdebat.\\n20029                              Udvidet partilederdebat.\\n20031                              Udvidet partilederdebat.\\n20033                              Udvidet partilederdebat.\\n20037                              Udvidet partilederdebat.\\n20041                              Udvidet partilederdebat.\\n20045                              Udvidet partilederdebat.\\n20049                              Udvidet partilederdebat.\\n20053                              Udvidet partilederdebat.\\n20057                              Udvidet partilederdebat.\\n20059                              Udvidet partilederdebat.\\n20061                              Udvidet partilederdebat.\\n20063                              Udvidet partilederdebat.\\n20065                              Udvidet partilederdebat.\\n20067                              Udvidet partilederdebat.\\n20069                              Udvidet partilederdebat.\\n20071                              Udvidet partilederdebat.\\n20073                              Udvidet partilederdebat.\\n20075                              Udvidet partilederdebat.\\n20079                              Udvidet partilederdebat.\\n20083                              Udvidet partilederdebat.\\n20085                              Udvidet partilederdebat.\\n20087                              Udvidet partilederdebat.\\n20089                              Udvidet partilederdebat.\\n20091                              Udvidet partilederdebat.\\n20093                              Udvidet partilederdebat.\\n20095                              Udvidet partilederdebat.\\n20097                              Udvidet partilederdebat.\\n20099                              Udvidet partilederdebat.\\n20101                              Udvidet partilederdebat.\\n20103                              Udvidet partilederdebat.\\n20105                              Udvidet partilederdebat.\\n20107                              Udvidet partilederdebat.\\n20109                              Udvidet partilederdebat.\\n20111                              Udvidet partilederdebat.\\n20113                              Udvidet partilederdebat.\\n20115                              Udvidet partilederdebat.\\n20117                              Udvidet partilederdebat.\\n20119                              Udvidet partilederdebat.\\n20121                              Udvidet partilederdebat.\\n20123                              Udvidet partilederdebat.\\n20127                              Udvidet partilederdebat.\\n20131                              Udvidet partilederdebat.\\n20133                              Udvidet partilederdebat.\\n20135                              Udvidet partilederdebat.\\n20137                              Udvidet partilederdebat.\\n20139                              Udvidet partilederdebat.\\n20141                              Udvidet partilederdebat.\\n20143                              Udvidet partilederdebat.\\n20145                              Udvidet partilederdebat.\\n20147                              Udvidet partilederdebat.\\n20149                              Udvidet partilederdebat.\\n20151                              Udvidet partilederdebat.\\n20153                              Udvidet partilederdebat.\\n20157                              Udvidet partilederdebat.\\n20161                              Udvidet partilederdebat.\\n20163                              Udvidet partilederdebat.\\n20165                              Udvidet partilederdebat.\\n20167                              Udvidet partilederdebat.\\n20169                              Udvidet partilederdebat.\\n20173                              Udvidet partilederdebat.\\n20177                              Udvidet partilederdebat.\\n20179                              Udvidet partilederdebat.\\n20181                              Udvidet partilederdebat.\\n20183                              Udvidet partilederdebat.\\n20185                              Udvidet partilederdebat.\\n20187                              Udvidet partilederdebat.\\n20189                              Udvidet partilederdebat.\\n20191                              Udvidet partilederdebat.\\n20193                              Udvidet partilederdebat.\\n20195                              Udvidet partilederdebat.\\n20197                              Udvidet partilederdebat.\\n20199                              Udvidet partilederdebat.\\n20201                              Udvidet partilederdebat.\\n20203                              Udvidet partilederdebat.\\n20205                              Udvidet partilederdebat.\\n20207                              Udvidet partilederdebat.\\n20209                              Udvidet partilederdebat.\\n20211                              Udvidet partilederdebat.\\n20213                              Udvidet partilederdebat.\\n20215                              Udvidet partilederdebat.\\n20217                              Udvidet partilederdebat.\\n20219                              Udvidet partilederdebat.\\n20221                              Udvidet partilederdebat.\\n20223                              Udvidet partilederdebat.\\n20225                              Udvidet partilederdebat.\\n20227                              Udvidet partilederdebat.\\n20229                              Udvidet partilederdebat.\\n20231                              Udvidet partilederdebat.\\n20233                              Udvidet partilederdebat.\\n20235                              Udvidet partilederdebat.\\n20239                              Udvidet partilederdebat.\\n20243                              Udvidet partilederdebat.\\n20245                              Udvidet partilederdebat.\\n20247                              Udvidet partilederdebat.\\n20249                              Udvidet partilederdebat.\\n20251                              Udvidet partilederdebat.\\n20253                              Udvidet partilederdebat.\\n20255                              Udvidet partilederdebat.\\n20257                              Udvidet partilederdebat.\\n20259                              Udvidet partilederdebat.\\n20263                              Udvidet partilederdebat.\\n20267                              Udvidet partilederdebat.\\n20269                              Udvidet partilederdebat.\\n20271                              Udvidet partilederdebat.\\n20273                              Udvidet partilederdebat.\\n20275                              Udvidet partilederdebat.\\n20277                              Udvidet partilederdebat.\\n20279                              Udvidet partilederdebat.\\n20281                              Udvidet partilederdebat.\\n20283                              Udvidet partilederdebat.\\n20285                              Udvidet partilederdebat.\\n20287                              Udvidet partilederdebat.\\n20289                              Udvidet partilederdebat.\\n20291                              Udvidet partilederdebat.\\n20293                              Udvidet partilederdebat.\\n20295                              Udvidet partilederdebat.\\n20297                              Udvidet partilederdebat.\\n20299                              Udvidet partilederdebat.\\n20301                              Udvidet partilederdebat.\\n20303                              Udvidet partilederdebat.\\n20305                              Udvidet partilederdebat.\\n20307                              Udvidet partilederdebat.\\n20309                              Udvidet partilederdebat.\\n20311                              Udvidet partilederdebat.\\n20313                              Udvidet partilederdebat.\\n20315                              Udvidet partilederdebat.\\n20317                              Udvidet partilederdebat.\\n20321                              Udvidet partilederdebat.\\n20325                              Udvidet partilederdebat.\\n20329                              Udvidet partilederdebat.\\n20333                              Udvidet partilederdebat.\\n20335                              Udvidet partilederdebat.\\n20337                              Udvidet partilederdebat.\\n20339                              Udvidet partilederdebat.\\n20341                              Udvidet partilederdebat.\\n20345                              Udvidet partilederdebat.\\n20349                              Udvidet partilederdebat.\\n20353                              Udvidet partilederdebat.\\n20357                              Udvidet partilederdebat.\\n20361                              Udvidet partilederdebat.\\n20365                              Udvidet partilederdebat.\\n20367                              Udvidet partilederdebat.\\n20369                              Udvidet partilederdebat.\\n20371                              Udvidet partilederdebat.\\n20373                              Udvidet partilederdebat.\\n20375                              Udvidet partilederdebat.\\n20377                              Udvidet partilederdebat.\\n20379                              Udvidet partilederdebat.\\n20381                              Udvidet partilederdebat.\\n20383                              Udvidet partilederdebat.\\n20385                              Udvidet partilederdebat.\\n20387                              Udvidet partilederdebat.\\n20389                              Udvidet partilederdebat.\\n20391                              Udvidet partilederdebat.\\n20393                              Udvidet partilederdebat.\\n20395                              Udvidet partilederdebat.\\n20399                              Udvidet partilederdebat.\\n20401                              Udvidet partilederdebat.\\n20403                              Udvidet partilederdebat.\\n20405                              Udvidet partilederdebat.\\n20417                              Udvidet partilederdebat.\\n20421                              Udvidet partilederdebat.\\n20425                              Udvidet partilederdebat.\\n20429                              Udvidet partilederdebat.\\n20433                              Udvidet partilederdebat.\\n20437                              Udvidet partilederdebat.\\n20441                              Udvidet partilederdebat.\\n20445                              Udvidet partilederdebat.\\n20457                              Udvidet partilederdebat.\\n20461                              Udvidet partilederdebat.\\n20465                              Udvidet partilederdebat.\\n20469                              Udvidet partilederdebat.\\n20475                              Udvidet partilederdebat.\\n20479                              Udvidet partilederdebat.\\n20483                              Udvidet partilederdebat.\\n20487                              Udvidet partilederdebat.\\n20491                              Udvidet partilederdebat.\\n20495                              Udvidet partilederdebat.\\n20499                              Udvidet partilederdebat.\\n20503                              Udvidet partilederdebat.\\n20507                              Udvidet partilederdebat.\\n20513                              Udvidet partilederdebat.\\n20517                              Udvidet partilederdebat.\\n20521                              Udvidet partilederdebat.\\n20525                              Udvidet partilederdebat.\\n20529                              Udvidet partilederdebat.\\n20533                              Udvidet partilederdebat.\\n20547                              Udvidet partilederdebat.\\n20551                              Udvidet partilederdebat.\\n20559                              Udvidet partilederdebat.\\n20565                              Udvidet partilederdebat.\\n20569                              Udvidet partilederdebat.\\n20573                              Udvidet partilederdebat.\\n20579                              Udvidet partilederdebat.\\n20583                              Udvidet partilederdebat.\\n20587                              Udvidet partilederdebat.\\n20589                              Udvidet partilederdebat.\\n20591                              Udvidet partilederdebat.\\n20593                              Udvidet partilederdebat.\\n20595                              Udvidet partilederdebat.\\n20597                              Udvidet partilederdebat.\\n20599                              Udvidet partilederdebat.\\n64122     Behandling af hasteforespørgsel af F 11: Om bo...\\n64124     Behandling af hasteforespørgsel af F 11: Om bo...\\n64126     Behandling af hasteforespørgsel af F 11: Om bo...\\n64128     Behandling af hasteforespørgsel af F 11: Om bo...\\n64130     Behandling af hasteforespørgsel af F 11: Om bo...\\n64132     Behandling af hasteforespørgsel af F 11: Om bo...\\n64134     Behandling af hasteforespørgsel af F 11: Om bo...\\n64136     Behandling af hasteforespørgsel af F 11: Om bo...\\n64138     Behandling af hasteforespørgsel af F 11: Om bo...\\n64140     Behandling af hasteforespørgsel af F 11: Om bo...\\n64142     Behandling af hasteforespørgsel af F 11: Om bo...\\n64144     Behandling af hasteforespørgsel af F 11: Om bo...\\n64146     Behandling af hasteforespørgsel af F 11: Om bo...\\n64148     Behandling af hasteforespørgsel af F 11: Om bo...\\n64150     Behandling af hasteforespørgsel af F 11: Om bo...\\n64152     Behandling af hasteforespørgsel af F 11: Om bo...\\n64154     Behandling af hasteforespørgsel af F 11: Om bo...\\n64156     Behandling af hasteforespørgsel af F 11: Om bo...\\n64158     Behandling af hasteforespørgsel af F 11: Om bo...\\n64160     Behandling af hasteforespørgsel af F 11: Om bo...\\n64162     Behandling af hasteforespørgsel af F 11: Om bo...\\n64164     Behandling af hasteforespørgsel af F 11: Om bo...\\n64166     Behandling af hasteforespørgsel af F 11: Om bo...\\n64168     Behandling af hasteforespørgsel af F 11: Om bo...\\n64170     Behandling af hasteforespørgsel af F 11: Om bo...\\n64172     Behandling af hasteforespørgsel af F 11: Om bo...\\n64174     Behandling af hasteforespørgsel af F 11: Om bo...\\n64176     Behandling af hasteforespørgsel af F 11: Om bo...\\n64178     Behandling af hasteforespørgsel af F 11: Om bo...\\n64180     Behandling af hasteforespørgsel af F 11: Om bo...\\n64182     Behandling af hasteforespørgsel af F 11: Om bo...\\n64184     Behandling af hasteforespørgsel af F 11: Om bo...\\n64186     Behandling af hasteforespørgsel af F 11: Om bo...\\n64188     Behandling af hasteforespørgsel af F 11: Om bo...\\n64190     Behandling af hasteforespørgsel af F 11: Om bo...\\n64192     Behandling af hasteforespørgsel af F 11: Om bo...\\n64194     Behandling af hasteforespørgsel af F 11: Om bo...\\n64196     Behandling af hasteforespørgsel af F 11: Om bo...\\n64198     Behandling af hasteforespørgsel af F 11: Om bo...\\n64200     Behandling af hasteforespørgsel af F 11: Om bo...\\n64202     Behandling af hasteforespørgsel af F 11: Om bo...\\n64204     Behandling af hasteforespørgsel af F 11: Om bo...\\n64206     Behandling af hasteforespørgsel af F 11: Om bo...\\n64208     Behandling af hasteforespørgsel af F 11: Om bo...\\n64210     Behandling af hasteforespørgsel af F 11: Om bo...\\n64212     Behandling af hasteforespørgsel af F 11: Om bo...\\n64214     Behandling af hasteforespørgsel af F 11: Om bo...\\n64216     Behandling af hasteforespørgsel af F 11: Om bo...\\n64218     Behandling af hasteforespørgsel af F 11: Om bo...\\n64220     Behandling af hasteforespørgsel af F 11: Om bo...\\n64222     Behandling af hasteforespørgsel af F 11: Om bo...\\n64224     Behandling af hasteforespørgsel af F 11: Om bo...\\n64226     Behandling af hasteforespørgsel af F 11: Om bo...\\n64228     Behandling af hasteforespørgsel af F 11: Om bo...\\n64230     Behandling af hasteforespørgsel af F 11: Om bo...\\n64232     Behandling af hasteforespørgsel af F 11: Om bo...\\n64234     Behandling af hasteforespørgsel af F 11: Om bo...\\n64236     Behandling af hasteforespørgsel af F 11: Om bo...\\n64238     Behandling af hasteforespørgsel af F 11: Om bo...\\n64240     Behandling af hasteforespørgsel af F 11: Om bo...\\n64242     Behandling af hasteforespørgsel af F 11: Om bo...\\n64244     Behandling af hasteforespørgsel af F 11: Om bo...\\n64246     Behandling af hasteforespørgsel af F 11: Om bo...\\n64248     Behandling af hasteforespørgsel af F 11: Om bo...\\n64250     Behandling af hasteforespørgsel af F 11: Om bo...\\n64252     Behandling af hasteforespørgsel af F 11: Om bo...\\n64254     Behandling af hasteforespørgsel af F 11: Om bo...\\n64256     Behandling af hasteforespørgsel af F 11: Om bo...\\n64258     Behandling af hasteforespørgsel af F 11: Om bo...\\n64260     Behandling af hasteforespørgsel af F 11: Om bo...\\n64262     Behandling af hasteforespørgsel af F 11: Om bo...\\n64264     Behandling af hasteforespørgsel af F 11: Om bo...\\n64266     Behandling af hasteforespørgsel af F 11: Om bo...\\n64268     Behandling af hasteforespørgsel af F 11: Om bo...\\n64270     Behandling af hasteforespørgsel af F 11: Om bo...\\n64272     Behandling af hasteforespørgsel af F 11: Om bo...\\n64274     Behandling af hasteforespørgsel af F 11: Om bo...\\n64276     Behandling af hasteforespørgsel af F 11: Om bo...\\n64278     Behandling af hasteforespørgsel af F 11: Om bo...\\n64280     Behandling af hasteforespørgsel af F 11: Om bo...\\n64282     Behandling af hasteforespørgsel af F 11: Om bo...\\n64284     Behandling af hasteforespørgsel af F 11: Om bo...\\n64286     Behandling af hasteforespørgsel af F 11: Om bo...\\n64288     Behandling af hasteforespørgsel af F 11: Om bo...\\n64290     Behandling af hasteforespørgsel af F 11: Om bo...\\n64292     Behandling af hasteforespørgsel af F 11: Om bo...\\n64294     Behandling af hasteforespørgsel af F 11: Om bo...\\n64296     Behandling af hasteforespørgsel af F 11: Om bo...\\n64298     Behandling af hasteforespørgsel af F 11: Om bo...\\n64300     Behandling af hasteforespørgsel af F 11: Om bo...\\n64302     Behandling af hasteforespørgsel af F 11: Om bo...\\n64304     Behandling af hasteforespørgsel af F 11: Om bo...\\n64306     Behandling af hasteforespørgsel af F 11: Om bo...\\n64308     Behandling af hasteforespørgsel af F 11: Om bo...\\n64310     Behandling af hasteforespørgsel af F 11: Om bo...\\n64312     Behandling af hasteforespørgsel af F 11: Om bo...\\n64314     Behandling af hasteforespørgsel af F 11: Om bo...\\n64316     Behandling af hasteforespørgsel af F 11: Om bo...\\n64318     Behandling af hasteforespørgsel af F 11: Om bo...\\n64320     Behandling af hasteforespørgsel af F 11: Om bo...\\n64322     Behandling af hasteforespørgsel af F 11: Om bo...\\n64324     Behandling af hasteforespørgsel af F 11: Om bo...\\n64326     Behandling af hasteforespørgsel af F 11: Om bo...\\n64328     Behandling af hasteforespørgsel af F 11: Om bo...\\n64330     Behandling af hasteforespørgsel af F 11: Om bo...\\n64332     Behandling af hasteforespørgsel af F 11: Om bo...\\n64334     Behandling af hasteforespørgsel af F 11: Om bo...\\n64336     Behandling af hasteforespørgsel af F 11: Om bo...\\n64338     Behandling af hasteforespørgsel af F 11: Om bo...\\n64340     Behandling af hasteforespørgsel af F 11: Om bo...\\n64342     Behandling af hasteforespørgsel af F 11: Om bo...\\n64344     Behandling af hasteforespørgsel af F 11: Om bo...\\n64346     Behandling af hasteforespørgsel af F 11: Om bo...\\n74345               Om statsministerens åbningsredegørelse.\\n78989     Behandling - hasteforespørgsel af F 15: Om Thu...\\n78993     Behandling - hasteforespørgsel af F 15: Om Thu...\\n78995     Behandling - hasteforespørgsel af F 15: Om Thu...\\n78997     Behandling - hasteforespørgsel af F 15: Om Thu...\\n78999     Behandling - hasteforespørgsel af F 15: Om Thu...\\n79001     Behandling - hasteforespørgsel af F 15: Om Thu...\\n79003     Behandling - hasteforespørgsel af F 15: Om Thu...\\n79005     Behandling - hasteforespørgsel af F 15: Om Thu...\\n79007     Behandling - hasteforespørgsel af F 15: Om Thu...\\n79009     Behandling - hasteforespørgsel af F 15: Om Thu...\\n79011     Behandling - hasteforespørgsel af F 15: Om Thu...\\n79013     Behandling - hasteforespørgsel af F 15: Om Thu...\\n79015     Behandling - hasteforespørgsel af F 15: Om Thu...\\n79017     Behandling - hasteforespørgsel af F 15: Om Thu...\\n79019     Behandling - hasteforespørgsel af F 15: Om Thu...\\n79023     Behandling - hasteforespørgsel af F 15: Om Thu...\\n79025     Behandling - hasteforespørgsel af F 15: Om Thu...\\n79027     Behandling - hasteforespørgsel af F 15: Om Thu...\\n79029     Behandling - hasteforespørgsel af F 15: Om Thu...\\n79031     Behandling - hasteforespørgsel af F 15: Om Thu...\\n79033     Behandling - hasteforespørgsel af F 15: Om Thu...\\n79035     Behandling - hasteforespørgsel af F 15: Om Thu...\\n79037     Behandling - hasteforespørgsel af F 15: Om Thu...\\n79039     Behandling - hasteforespørgsel af F 15: Om Thu...\\n79041     Behandling - hasteforespørgsel af F 15: Om Thu...\\n79043     Behandling - hasteforespørgsel af F 15: Om Thu...\\n79045     Behandling - hasteforespørgsel af F 15: Om Thu...\\n79047     Behandling - hasteforespørgsel af F 15: Om Thu...\\n79049     Behandling - hasteforespørgsel af F 15: Om Thu...\\n79051     Behandling - hasteforespørgsel af F 15: Om Thu...\\n79053     Behandling - hasteforespørgsel af F 15: Om Thu...\\n79055     Behandling - hasteforespørgsel af F 15: Om Thu...\\n79057     Behandling - hasteforespørgsel af F 15: Om Thu...\\n79059     Behandling - hasteforespørgsel af F 15: Om Thu...\\n79063     Behandling - hasteforespørgsel af F 15: Om Thu...\\n79065     Behandling - hasteforespørgsel af F 15: Om Thu...\\n79067     Behandling - hasteforespørgsel af F 15: Om Thu...\\n79069     Behandling - hasteforespørgsel af F 15: Om Thu...\\n79071     Behandling - hasteforespørgsel af F 15: Om Thu...\\n79073     Behandling - hasteforespørgsel af F 15: Om Thu...\\n79075     Behandling - hasteforespørgsel af F 15: Om Thu...\\n79077     Behandling - hasteforespørgsel af F 15: Om Thu...\\n79079     Behandling - hasteforespørgsel af F 15: Om Thu...\\n79081     Behandling - hasteforespørgsel af F 15: Om Thu...\\n79083     Behandling - hasteforespørgsel af F 15: Om Thu...\\n79085     Behandling - hasteforespørgsel af F 15: Om Thu...\\n79087     Behandling - hasteforespørgsel af F 15: Om Thu...\\n79089     Behandling - hasteforespørgsel af F 15: Om Thu...\\n79091     Behandling - hasteforespørgsel af F 15: Om Thu...\\n79093     Behandling - hasteforespørgsel af F 15: Om Thu...\\n79095     Behandling - hasteforespørgsel af F 15: Om Thu...\\n79099     Behandling - hasteforespørgsel af F 15: Om Thu...\\n79103     Behandling - hasteforespørgsel af F 15: Om Thu...\\n79107     Behandling - hasteforespørgsel af F 15: Om Thu...\\n79111     Behandling - hasteforespørgsel af F 15: Om Thu...\\n79115     Behandling - hasteforespørgsel af F 15: Om Thu...\\n79119     Behandling - hasteforespørgsel af F 15: Om Thu...\\n79123     Behandling - hasteforespørgsel af F 15: Om Thu...\\n79125     Behandling - hasteforespørgsel af F 15: Om Thu...\\n79127     Behandling - hasteforespørgsel af F 15: Om Thu...\\n79129     Behandling - hasteforespørgsel af F 15: Om Thu...\\n79131     Behandling - hasteforespørgsel af F 15: Om Thu...\\n79133     Behandling - hasteforespørgsel af F 15: Om Thu...\\n79135     Behandling - hasteforespørgsel af F 15: Om Thu...\\n79139     Behandling - hasteforespørgsel af F 15: Om Thu...\\n79141     Behandling - hasteforespørgsel af F 15: Om Thu...\\n79143     Behandling - hasteforespørgsel af F 15: Om Thu...\\n79145     Behandling - hasteforespørgsel af F 15: Om Thu...\\n79147     Behandling - hasteforespørgsel af F 15: Om Thu...\\n93514     Statsministerens redegørelse i henhold til gru...\\n138428    Statsministerens redegørelse i henhold til gru...\\n164458                                      Partilederdebat\\n164460                                      Partilederdebat\\n164462                                      Partilederdebat\\n164464                                      Partilederdebat\\n164466                                      Partilederdebat\\n164468                                      Partilederdebat\\n164470                                      Partilederdebat\\n164472                                      Partilederdebat\\n164474                                      Partilederdebat\\n164476                                      Partilederdebat\\n164478                                      Partilederdebat\\n164480                                      Partilederdebat\\n164482                                      Partilederdebat\\n164484                                      Partilederdebat\\n164486                                      Partilederdebat\\n164488                                      Partilederdebat\\n164490                                      Partilederdebat\\n164492                                      Partilederdebat\\n164494                                      Partilederdebat\\n164496                                      Partilederdebat\\n164498                                      Partilederdebat\\n164500                                      Partilederdebat\\n164502                                      Partilederdebat\\n164504                                      Partilederdebat\\n164506                                      Partilederdebat\\n164508                                      Partilederdebat\\n164510                                      Partilederdebat\\n164512                                      Partilederdebat\\n164514                                      Partilederdebat\\n164516                                      Partilederdebat\\n164518                                      Partilederdebat\\n164520                                      Partilederdebat\\n164522                                      Partilederdebat\\n164524                                      Partilederdebat\\n164526                                      Partilederdebat\\n164528                                      Partilederdebat\\n164530                                      Partilederdebat\\n164532                                      Partilederdebat\\n164534                                      Partilederdebat\\n164536                                      Partilederdebat\\n164538                                      Partilederdebat\\n164540                                      Partilederdebat\\n164542                                      Partilederdebat\\n164544                                      Partilederdebat\\n164546                                      Partilederdebat\\n164548                                      Partilederdebat\\n164550                                      Partilederdebat\\n164552                                      Partilederdebat\\n164554                                      Partilederdebat\\n164556                                      Partilederdebat\\n164558                                      Partilederdebat\\n164560                                      Partilederdebat\\n164562                                      Partilederdebat\\n164564                                      Partilederdebat\\n164566                                      Partilederdebat\\n164568                                      Partilederdebat\\n164570                                      Partilederdebat\\n164572                                      Partilederdebat\\n164574                                      Partilederdebat\\n164576                                      Partilederdebat\\n164578                                      Partilederdebat\\n164580                                      Partilederdebat\\n164582                                      Partilederdebat\\n164584                                      Partilederdebat\\n164586                                      Partilederdebat\\n164588                                      Partilederdebat\\n164590                                      Partilederdebat\\n164592                                      Partilederdebat\\n164594                                      Partilederdebat\\n164596                                      Partilederdebat\\n164598                                      Partilederdebat\\n164600                                      Partilederdebat\\n164602                                      Partilederdebat\\n164604                                      Partilederdebat\\n164606                                      Partilederdebat\\n164608                                      Partilederdebat\\n164610                                      Partilederdebat\\n164612                                      Partilederdebat\\n164614                                      Partilederdebat\\n164616                                      Partilederdebat\\n164618                                      Partilederdebat\\n164620                                      Partilederdebat\\n164622                                      Partilederdebat\\n164624                                      Partilederdebat\\n164626                                      Partilederdebat\\n164628                                      Partilederdebat\\n164630                                      Partilederdebat\\n164632                                      Partilederdebat\\n164634                                      Partilederdebat\\n164636                                      Partilederdebat\\n164638                                      Partilederdebat\\n164640                                      Partilederdebat\\n164642                                      Partilederdebat\\n164644                                      Partilederdebat\\n164646                                      Partilederdebat\\n164648                                      Partilederdebat\\n164650                                      Partilederdebat\\n164652                                      Partilederdebat\\n164654                                      Partilederdebat\\n164656                                      Partilederdebat\\n164658                                      Partilederdebat\\n164660                                      Partilederdebat\\n164662                                      Partilederdebat\\n164664                                      Partilederdebat\\n164666                                      Partilederdebat\\n164668                                      Partilederdebat\\n164670                                      Partilederdebat\\n164672                                      Partilederdebat\\n164674                                      Partilederdebat\\n164676                                      Partilederdebat\\n164678                                      Partilederdebat\\n164680                                      Partilederdebat\\n164682                                      Partilederdebat\\n164684                                      Partilederdebat\\n164686                                      Partilederdebat\\n164688                                      Partilederdebat\\n164690                                      Partilederdebat\\n164692                                      Partilederdebat\\n164694                                      Partilederdebat\\n164696                                      Partilederdebat\\n164698                                      Partilederdebat\\n164700                                      Partilederdebat\\n164702                                      Partilederdebat\\n164704                                      Partilederdebat\\n164706                                      Partilederdebat\\n164708                                      Partilederdebat\\n164710                                      Partilederdebat\\n164712                                      Partilederdebat\\n164714                                      Partilederdebat\\n164716                                      Partilederdebat\\n164718                                      Partilederdebat\\n164720                                      Partilederdebat\\n164722                                      Partilederdebat\\n164724                                      Partilederdebat\\n164726                                      Partilederdebat\\n164728                                      Partilederdebat\\n164730                                      Partilederdebat\\n164732                                      Partilederdebat\\n164734                                      Partilederdebat\\n164736                                      Partilederdebat\\n164738                                      Partilederdebat\\n164740                                      Partilederdebat\\n164742                                      Partilederdebat\\n164744                                      Partilederdebat\\n164746                                      Partilederdebat\\n164748                                      Partilederdebat\\n164750                                      Partilederdebat\\n164752                                      Partilederdebat\\n164754                                      Partilederdebat\\n164756                                      Partilederdebat\\n164758                                      Partilederdebat\\n164760                                      Partilederdebat\\n164762                                      Partilederdebat\\n164764                                      Partilederdebat\\n164766                                      Partilederdebat\\n164768                                      Partilederdebat\\n164770                                      Partilederdebat\\n164772                                      Partilederdebat\\n164774                                      Partilederdebat\\n164776                                      Partilederdebat\\n164778                                      Partilederdebat\\n164780                                      Partilederdebat\\n164782                                      Partilederdebat\\n164784                                      Partilederdebat\\n164786                                      Partilederdebat\\n164788                                      Partilederdebat\\n164790                                      Partilederdebat\\n164792                                      Partilederdebat\\n164794                                      Partilederdebat\\n164796                                      Partilederdebat\\n164798                                      Partilederdebat\\n164800                                      Partilederdebat\\n164802                                      Partilederdebat\\n164804                                      Partilederdebat\\n164806                                      Partilederdebat\\n164811          Indstilling fra Udvalget til Valgs Prøvelse\\n195050    Statsministerens redegørelse i henhold til gru...\\n208468                             Udvidet partilederdebat.\\n208472                             Udvidet partilederdebat.\\n208484                             Udvidet partilederdebat.\\n208488                             Udvidet partilederdebat.\\n208492                             Udvidet partilederdebat.\\n208496                             Udvidet partilederdebat.\\n208500                             Udvidet partilederdebat.\\n208504                             Udvidet partilederdebat.\\n208508                             Udvidet partilederdebat.\\n208512                             Udvidet partilederdebat.\\n208524                             Udvidet partilederdebat.\\n208526                             Udvidet partilederdebat.\\n208528                             Udvidet partilederdebat.\\n208530                             Udvidet partilederdebat.\\n208532                             Udvidet partilederdebat.\\n208534                             Udvidet partilederdebat.\\n208536                             Udvidet partilederdebat.\\n208538                             Udvidet partilederdebat.\\n208540                             Udvidet partilederdebat.\\n208542                             Udvidet partilederdebat.\\n208544                             Udvidet partilederdebat.\\n208546                             Udvidet partilederdebat.\\n208548                             Udvidet partilederdebat.\\n208550                             Udvidet partilederdebat.\\n208552                             Udvidet partilederdebat.\\n208554                             Udvidet partilederdebat.\\n208556                             Udvidet partilederdebat.\\n208558                             Udvidet partilederdebat.\\n208560                             Udvidet partilederdebat.\\n208562                             Udvidet partilederdebat.\\n208564                             Udvidet partilederdebat.\\n208568                             Udvidet partilederdebat.\\n208572                             Udvidet partilederdebat.\\n208574                             Udvidet partilederdebat.\\n208576                             Udvidet partilederdebat.\\n208578                             Udvidet partilederdebat.\\n208580                             Udvidet partilederdebat.\\n208584                             Udvidet partilederdebat.\\n208588                             Udvidet partilederdebat.\\n208592                             Udvidet partilederdebat.\\n208596                             Udvidet partilederdebat.\\n208598                             Udvidet partilederdebat.\\n208600                             Udvidet partilederdebat.\\n208602                             Udvidet partilederdebat.\\n208604                             Udvidet partilederdebat.\\n208606                             Udvidet partilederdebat.\\n208608                             Udvidet partilederdebat.\\n208610                             Udvidet partilederdebat.\\n208612                             Udvidet partilederdebat.\\n208614                             Udvidet partilederdebat.\\n208616                             Udvidet partilederdebat.\\n208618                             Udvidet partilederdebat.\\n208620                             Udvidet partilederdebat.\\n208622                             Udvidet partilederdebat.\\n208626                             Udvidet partilederdebat.\\n208630                             Udvidet partilederdebat.\\n208632                             Udvidet partilederdebat.\\n208634                             Udvidet partilederdebat.\\n208636                             Udvidet partilederdebat.\\n208638                             Udvidet partilederdebat.\\n208642                             Udvidet partilederdebat.\\n208646                             Udvidet partilederdebat.\\n208650                             Udvidet partilederdebat.\\n208654                             Udvidet partilederdebat.\\n208656                             Udvidet partilederdebat.\\n208658                             Udvidet partilederdebat.\\n208660                             Udvidet partilederdebat.\\n208662                             Udvidet partilederdebat.\\n208664                             Udvidet partilederdebat.\\n208666                             Udvidet partilederdebat.\\n208668                             Udvidet partilederdebat.\\n208672                             Udvidet partilederdebat.\\n208676                             Udvidet partilederdebat.\\n208678                             Udvidet partilederdebat.\\n208680                             Udvidet partilederdebat.\\n208682                             Udvidet partilederdebat.\\n208684                             Udvidet partilederdebat.\\n208686                             Udvidet partilederdebat.\\n208688                             Udvidet partilederdebat.\\n208690                             Udvidet partilederdebat.\\n208692                             Udvidet partilederdebat.\\n208694                             Udvidet partilederdebat.\\n208696                             Udvidet partilederdebat.\\n208698                             Udvidet partilederdebat.\\n208700                             Udvidet partilederdebat.\\n208702                             Udvidet partilederdebat.\\n208704                             Udvidet partilederdebat.\\n208706                             Udvidet partilederdebat.\\n208708                             Udvidet partilederdebat.\\n208710                             Udvidet partilederdebat.\\n208712                             Udvidet partilederdebat.\\n208714                             Udvidet partilederdebat.\\n208716                             Udvidet partilederdebat.\\n208717                             Udvidet partilederdebat.\\n208719                             Udvidet partilederdebat.\\n208721                             Udvidet partilederdebat.\\n208723                             Udvidet partilederdebat.\\n208724                             Udvidet partilederdebat.\\n208728                             Udvidet partilederdebat.\\n208732                             Udvidet partilederdebat.\\n208736                             Udvidet partilederdebat.\\n208740                             Udvidet partilederdebat.\\n208742                             Udvidet partilederdebat.\\n208744                             Udvidet partilederdebat.\\n208746                             Udvidet partilederdebat.\\n208748                             Udvidet partilederdebat.\\n208750                             Udvidet partilederdebat.\\n208752                             Udvidet partilederdebat.\\n208754                             Udvidet partilederdebat.\\n208756                             Udvidet partilederdebat.\\n208758                             Udvidet partilederdebat.\\n208760                             Udvidet partilederdebat.\\n208762                             Udvidet partilederdebat.\\n208764                             Udvidet partilederdebat.\\n208766                             Udvidet partilederdebat.\\n208768                             Udvidet partilederdebat.\\n208770                             Udvidet partilederdebat.\\n208772                             Udvidet partilederdebat.\\n208774                             Udvidet partilederdebat.\\n208776                             Udvidet partilederdebat.\\n208778                             Udvidet partilederdebat.\\n208780                             Udvidet partilederdebat.\\n208782                             Udvidet partilederdebat.\\n208786                             Udvidet partilederdebat.\\n208790                             Udvidet partilederdebat.\\n208794                             Udvidet partilederdebat.\\n208796                             Udvidet partilederdebat.\\n208798                             Udvidet partilederdebat.\\n208800                             Udvidet partilederdebat.\\n208802                             Udvidet partilederdebat.\\n208804                             Udvidet partilederdebat.\\n208806                             Udvidet partilederdebat.\\n208808                             Udvidet partilederdebat.\\n208810                             Udvidet partilederdebat.\\n208812                             Udvidet partilederdebat.\\n208814                             Udvidet partilederdebat.\\n208816                             Udvidet partilederdebat.\\n208818                             Udvidet partilederdebat.\\n208820                             Udvidet partilederdebat.\\n208824                             Udvidet partilederdebat.\\n208828                             Udvidet partilederdebat.\\n208830                             Udvidet partilederdebat.\\n208832                             Udvidet partilederdebat.\\n208834                             Udvidet partilederdebat.\\n208836                             Udvidet partilederdebat.\\n208838                             Udvidet partilederdebat.\\n208840                             Udvidet partilederdebat.\\n208842                             Udvidet partilederdebat.\\n208844                             Udvidet partilederdebat.\\n208846                             Udvidet partilederdebat.\\n208848                             Udvidet partilederdebat.\\n208850                             Udvidet partilederdebat.\\n208852                             Udvidet partilederdebat.\\n208856                             Udvidet partilederdebat.\\n208860                             Udvidet partilederdebat.\\n208864                             Udvidet partilederdebat.\\n208868                             Udvidet partilederdebat.\\n208870                             Udvidet partilederdebat.\\n208872                             Udvidet partilederdebat.\\n208874                             Udvidet partilederdebat.\\n208876                             Udvidet partilederdebat.\\n208878                             Udvidet partilederdebat.\\n208880                             Udvidet partilederdebat.\\n208882                             Udvidet partilederdebat.\\n208884                             Udvidet partilederdebat.\\n208886                             Udvidet partilederdebat.\\n208888                             Udvidet partilederdebat.\\n208890                             Udvidet partilederdebat.\\n208892                             Udvidet partilederdebat.\\n208894                             Udvidet partilederdebat.\\n208896                             Udvidet partilederdebat.\\n208898                             Udvidet partilederdebat.\\n208900                             Udvidet partilederdebat.\\n208902                             Udvidet partilederdebat.\\n208906                             Udvidet partilederdebat.\\n208910                             Udvidet partilederdebat.\\n208914                             Udvidet partilederdebat.\\n208918                             Udvidet partilederdebat.\\n208924                             Udvidet partilederdebat.\\n208928                             Udvidet partilederdebat.\\n208932                             Udvidet partilederdebat.\\n208936                             Udvidet partilederdebat.\\n208940                             Udvidet partilederdebat.\\n208944                             Udvidet partilederdebat.\\n208950                             Udvidet partilederdebat.\\n208954                             Udvidet partilederdebat.\\n208958                             Udvidet partilederdebat.\\n208962                             Udvidet partilederdebat.\\n208965                             Udvidet partilederdebat.\\n208969                             Udvidet partilederdebat.\\n208975                             Udvidet partilederdebat.\\n208979                             Udvidet partilederdebat.\\n208983                             Udvidet partilederdebat.\\n230721                                     Partilederdebat.\\n230723                                     Partilederdebat.\\n230725                                     Partilederdebat.\\n230727                                     Partilederdebat.\\n230729                                     Partilederdebat.\\n230731                                     Partilederdebat.\\n230733                                     Partilederdebat.\\n230735                                     Partilederdebat.\\n230737                                     Partilederdebat.\\n230739                                     Partilederdebat.\\n230741                                     Partilederdebat.\\n230743                                     Partilederdebat.\\n230745                                     Partilederdebat.\\n230747                                     Partilederdebat.\\n230749                                     Partilederdebat.\\n230751                                     Partilederdebat.\\n230753                                     Partilederdebat.\\n230757                                     Partilederdebat.\\n230761                                     Partilederdebat.\\n230763                                     Partilederdebat.\\n230765                                     Partilederdebat.\\n230767                                     Partilederdebat.\\n230769                                     Partilederdebat.\\n230771                                     Partilederdebat.\\n230773                                     Partilederdebat.\\n230775                                     Partilederdebat.\\n230777                                     Partilederdebat.\\n230781                                     Partilederdebat.\\n230785                                     Partilederdebat.\\n230787                                     Partilederdebat.\\n230789                                     Partilederdebat.\\n230791                                     Partilederdebat.\\n230793                                     Partilederdebat.\\n230795                                     Partilederdebat.\\n230797                                     Partilederdebat.\\n230799                                     Partilederdebat.\\n230801                                     Partilederdebat.\\n230803                                     Partilederdebat.\\n230805                                     Partilederdebat.\\n230807                                     Partilederdebat.\\n230809                                     Partilederdebat.\\n230811                                     Partilederdebat.\\n230813                                     Partilederdebat.\\n230815                                     Partilederdebat.\\n230817                                     Partilederdebat.\\n230819                                     Partilederdebat.\\n230823                                     Partilederdebat.\\n230827                                     Partilederdebat.\\n230829                                     Partilederdebat.\\n230831                                     Partilederdebat.\\n230833                                     Partilederdebat.\\n230835                                     Partilederdebat.\\n230839                                     Partilederdebat.\\n230843                                     Partilederdebat.\\n230845                                     Partilederdebat.\\n230847                                     Partilederdebat.\\n230849                                     Partilederdebat.\\n230851                                     Partilederdebat.\\n230853                                     Partilederdebat.\\n230855                                     Partilederdebat.\\n230857                                     Partilederdebat.\\n230859                                     Partilederdebat.\\n230861                                     Partilederdebat.\\n230863                                     Partilederdebat.\\n230865                                     Partilederdebat.\\n230867                                     Partilederdebat.\\n230869                                     Partilederdebat.\\n230871                                     Partilederdebat.\\n230873                                     Partilederdebat.\\n230875                                     Partilederdebat.\\n230877                                     Partilederdebat.\\n230881                                     Partilederdebat.\\n230885                                     Partilederdebat.\\n230887                                     Partilederdebat.\\n230889                                     Partilederdebat.\\n230891                                     Partilederdebat.\\n230893                                     Partilederdebat.\\n230897                                     Partilederdebat.\\n230901                                     Partilederdebat.\\n230903                                     Partilederdebat.\\n230905                                     Partilederdebat.\\n230907                                     Partilederdebat.\\n230909                                     Partilederdebat.\\n230911                                     Partilederdebat.\\n230913                                     Partilederdebat.\\n230915                                     Partilederdebat.\\n230917                                     Partilederdebat.\\n230919                                     Partilederdebat.\\n230921                                     Partilederdebat.\\n230923                                     Partilederdebat.\\n230925                                     Partilederdebat.\\n230927                                     Partilederdebat.\\n230929                                     Partilederdebat.\\n230931                                     Partilederdebat.\\n230933                                     Partilederdebat.\\n230935                                     Partilederdebat.\\n230937                                     Partilederdebat.\\n230939                                     Partilederdebat.\\n230941                                     Partilederdebat.\\n230943                                     Partilederdebat.\\n230947                                     Partilederdebat.\\n230951                                     Partilederdebat.\\n230953                                     Partilederdebat.\\n230955                                     Partilederdebat.\\n230957                                     Partilederdebat.\\n230959                                     Partilederdebat.\\n230961                                     Partilederdebat.\\n230963                                     Partilederdebat.\\n230965                                     Partilederdebat.\\n230967                                     Partilederdebat.\\n230969                                     Partilederdebat.\\n230971                                     Partilederdebat.\\n230973                                     Partilederdebat.\\n230975                                     Partilederdebat.\\n230977                                     Partilederdebat.\\n230979                                     Partilederdebat.\\n230981                                     Partilederdebat.\\n230983                                     Partilederdebat.\\n230985                                     Partilederdebat.\\n230987                                     Partilederdebat.\\n230989                                     Partilederdebat.\\n230991                                     Partilederdebat.\\n230993                                     Partilederdebat.\\n230997                                     Partilederdebat.\\n231001                                     Partilederdebat.\\n231005                                     Partilederdebat.\\n231009                                     Partilederdebat.\\n231013                                     Partilederdebat.\\n231017                                     Partilederdebat.\\n231021                                     Partilederdebat.\\n231025                                     Partilederdebat.\\n231029                                     Partilederdebat.\\n231033                                     Partilederdebat.\\n231037                                     Partilederdebat.\\n231041                                     Partilederdebat.\\n231053                                     Partilederdebat.\\n231055                                     Partilederdebat.\\n231057                                     Partilederdebat.\\n231059                                     Partilederdebat.\\n231061                                     Partilederdebat.\\n231063                                     Partilederdebat.\\n231065                                     Partilederdebat.\\n231067                                     Partilederdebat.\\n231069                                     Partilederdebat.\\n231071                                     Partilederdebat.\\n231073                                     Partilederdebat.\\n231075                                     Partilederdebat.\\n231077                                     Partilederdebat.\\n231079                                     Partilederdebat.\\n231081                                     Partilederdebat.\\n231083                                     Partilederdebat.\\n231085                                     Partilederdebat.\\n231087                                     Partilederdebat.\\n231089                                     Partilederdebat.\\n231091                                     Partilederdebat.\\n231093                                     Partilederdebat.\\n231095                                     Partilederdebat.\\n231097                                     Partilederdebat.\\n231099                                     Partilederdebat.\\n231101                                     Partilederdebat.\\n231105                                     Partilederdebat.\\n231109                                     Partilederdebat.\\n231111                                     Partilederdebat.\\n231113                                     Partilederdebat.\\n231115                                     Partilederdebat.\\n231117                                     Partilederdebat.\\n231119                                     Partilederdebat.\\n231121                                     Partilederdebat.\\n231123                                     Partilederdebat.\\n231125                                     Partilederdebat.\\n231127                                     Partilederdebat.\\n231129                                     Partilederdebat.\\n231131                                     Partilederdebat.\\n231133                                     Partilederdebat.\\n231135                                     Partilederdebat.\\n231137                                     Partilederdebat.\\n231139                                     Partilederdebat.\\n231141                                     Partilederdebat.\\n231143                                     Partilederdebat.\\n231147                                     Partilederdebat.\\n231150                                     Partilederdebat.\\n231154                                     Partilederdebat.\\n231158                                     Partilederdebat.\\n279010                                     Partilederdebat.\\n279012                                     Partilederdebat.\\n279013                                     Partilederdebat.\\n279015                                     Partilederdebat.\\n279017                                     Partilederdebat.\\n279019                                     Partilederdebat.\\n279021                                     Partilederdebat.\\n279023                                     Partilederdebat.\\n279025                                     Partilederdebat.\\n279027                                     Partilederdebat.\\n279029                                     Partilederdebat.\\n279031                                     Partilederdebat.\\n279033                                     Partilederdebat.\\n279035                                     Partilederdebat.\\n279037                                     Partilederdebat.\\n279039                                     Partilederdebat.\\n279041                                     Partilederdebat.\\n279045                                     Partilederdebat.\\n279049                                     Partilederdebat.\\n279051                                     Partilederdebat.\\n279053                                     Partilederdebat.\\n279055                                     Partilederdebat.\\n279057                                     Partilederdebat.\\n279059                                     Partilederdebat.\\n279061                                     Partilederdebat.\\n279063                                     Partilederdebat.\\n279065                                     Partilederdebat.\\n279067                                     Partilederdebat.\\n279069                                     Partilederdebat.\\n279071                                     Partilederdebat.\\n279073                                     Partilederdebat.\\n279075                                     Partilederdebat.\\n279077                                     Partilederdebat.\\n279079                                     Partilederdebat.\\n279081                                     Partilederdebat.\\n279083                                     Partilederdebat.\\n279085                                     Partilederdebat.\\n279087                                     Partilederdebat.\\n279089                                     Partilederdebat.\\n279091                                     Partilederdebat.\\n279093                                     Partilederdebat.\\n279095                                     Partilederdebat.\\n279097                                     Partilederdebat.\\n279099                                     Partilederdebat.\\n279101                                     Partilederdebat.\\n279103                                     Partilederdebat.\\n279105                                     Partilederdebat.\\n279107                                     Partilederdebat.\\n279109                                     Partilederdebat.\\n279111                                     Partilederdebat.\\n279113                                     Partilederdebat.\\n279115                                     Partilederdebat.\\n279119                                     Partilederdebat.\\n279123                                     Partilederdebat.\\n279125                                     Partilederdebat.\\n279127                                     Partilederdebat.\\n279129                                     Partilederdebat.\\n279131                                     Partilederdebat.\\n279133                                     Partilederdebat.\\n279135                                     Partilederdebat.\\n279137                                     Partilederdebat.\\n279139                                     Partilederdebat.\\n279141                                     Partilederdebat.\\n279142                                     Partilederdebat.\\n279144                                     Partilederdebat.\\n279146                                     Partilederdebat.\\n279148                                     Partilederdebat.\\n279150                                     Partilederdebat.\\n279152                                     Partilederdebat.\\n279154                                     Partilederdebat.\\n279156                                     Partilederdebat.\\n279158                                     Partilederdebat.\\n279160                                     Partilederdebat.\\n279162                                     Partilederdebat.\\n279164                                     Partilederdebat.\\n279166                                     Partilederdebat.\\n279168                                     Partilederdebat.\\n279170                                     Partilederdebat.\\n279172                                     Partilederdebat.\\n279174                                     Partilederdebat.\\n279176                                     Partilederdebat.\\n279178                                     Partilederdebat.\\n279180                                     Partilederdebat.\\n279184                                     Partilederdebat.\\n279188                                     Partilederdebat.\\n279190                                     Partilederdebat.\\n279192                                     Partilederdebat.\\n279194                                     Partilederdebat.\\n279196                                     Partilederdebat.\\n279198                                     Partilederdebat.\\n279200                                     Partilederdebat.\\n279202                                     Partilederdebat.\\n279204                                     Partilederdebat.\\n279206                                     Partilederdebat.\\n279208                                     Partilederdebat.\\n279210                                     Partilederdebat.\\n279212                                     Partilederdebat.\\n279214                                     Partilederdebat.\\n279216                                     Partilederdebat.\\n279218                                     Partilederdebat.\\n279220                                     Partilederdebat.\\n279222                                     Partilederdebat.\\n279224                                     Partilederdebat.\\n279226                                     Partilederdebat.\\n279228                                     Partilederdebat.\\n279230                                     Partilederdebat.\\n279232                                     Partilederdebat.\\n279234                                     Partilederdebat.\\n279236                                     Partilederdebat.\\n279238                                     Partilederdebat.\\n279242                                     Partilederdebat.\\n279246                                     Partilederdebat.\\n279248                                     Partilederdebat.\\n279250                                     Partilederdebat.\\n279252                                     Partilederdebat.\\n279254                                     Partilederdebat.\\n279256                                     Partilederdebat.\\n279257                                     Partilederdebat.\\n279259                                     Partilederdebat.\\n279261                                     Partilederdebat.\\n279263                                     Partilederdebat.\\n279265                                     Partilederdebat.\\n279267                                     Partilederdebat.\\n279269                                     Partilederdebat.\\n279271                                     Partilederdebat.\\n279273                                     Partilederdebat.\\n279275                                     Partilederdebat.\\n279277                                     Partilederdebat.\\n279279                                     Partilederdebat.\\n279281                                     Partilederdebat.\\n279283                                     Partilederdebat.\\n279285                                     Partilederdebat.\\n279287                                     Partilederdebat.\\n279289                                     Partilederdebat.\\n279291                                     Partilederdebat.\\n279293                                     Partilederdebat.\\n279295                                     Partilederdebat.\\n279297                                     Partilederdebat.\\n279299                                     Partilederdebat.\\n279301                                     Partilederdebat.\\n279303                                     Partilederdebat.\\n279305                                     Partilederdebat.\\n279307                                     Partilederdebat.\\n279309                                     Partilederdebat.\\n279311                                     Partilederdebat.\\n279313                                     Partilederdebat.\\n279315                                     Partilederdebat.\\n279317                                     Partilederdebat.\\n279319                                     Partilederdebat.\\n279321                                     Partilederdebat.\\n279323                                     Partilederdebat.\\n279325                                     Partilederdebat.\\n279327                                     Partilederdebat.\\n279329                                     Partilederdebat.\\n279331                                     Partilederdebat.\\n279333                                     Partilederdebat.\\n279335                                     Partilederdebat.\\n279339                                     Partilederdebat.\\n279343                                     Partilederdebat.\\n279347                                     Partilederdebat.\\n279351                                     Partilederdebat.\\n279355                                     Partilederdebat.\\n279359                                     Partilederdebat.\\n279363                                     Partilederdebat.\\n279367                                     Partilederdebat.\\n279371                                     Partilederdebat.\\n279375                                     Partilederdebat.\\n279379                                     Partilederdebat.\\n279383                                     Partilederdebat.\\n279387                                     Partilederdebat.\\n279389                                     Partilederdebat.\\n279391                                     Partilederdebat.\\n279393                                     Partilederdebat.\\n279395                                     Partilederdebat.\\n279397                                     Partilederdebat.\\n279399                                     Partilederdebat.\\n279401                                     Partilederdebat.\\n279403                                     Partilederdebat.\\n279405                                     Partilederdebat.\\n279407                                     Partilederdebat.\\n279409                                     Partilederdebat.\\n279411                                     Partilederdebat.\\n279413                                     Partilederdebat.\\n279415                                     Partilederdebat.\\n279417                                     Partilederdebat.\\n279419                                     Partilederdebat.\\n279421                                     Partilederdebat.\\n279423                                     Partilederdebat.\\n279425                                     Partilederdebat.\\n279427                                     Partilederdebat.\\n279429                                     Partilederdebat.\\n279431                                     Partilederdebat.\\n279433                                     Partilederdebat.\\n279435                                     Partilederdebat.\\n279437                                     Partilederdebat.\\n279439                                     Partilederdebat.\\n279441                                     Partilederdebat.\\n279443                                     Partilederdebat.\\n279445                                     Partilederdebat.\\n279447                                     Partilederdebat.\\n279449                                     Partilederdebat.\\n279451                                     Partilederdebat.\\n279453                                     Partilederdebat.\\n279455                                     Partilederdebat.\\n279456                                     Partilederdebat.\\n279458                                     Partilederdebat.\\n279460                                     Partilederdebat.\\n279462                                     Partilederdebat.\\n279464                                     Partilederdebat.\\n279466                                     Partilederdebat.\\n279468                                     Partilederdebat.\\n279470                                     Partilederdebat.\\n279472                                     Partilederdebat.\\n279474                                     Partilederdebat.\\n279476                                     Partilederdebat.\\n279478                                     Partilederdebat.\\n279480                                     Partilederdebat.\\n279482                                     Partilederdebat.\\n279484                                     Partilederdebat.\\n279486                                     Partilederdebat.\\n279488                                     Partilederdebat.\\n279490                                     Partilederdebat.\\n279492                                     Partilederdebat.\\n279494                                     Partilederdebat.\\n279496                                     Partilederdebat.\\n279498                                     Partilederdebat.\\n279500                                     Partilederdebat.\\n279502                                     Partilederdebat.\\n279504                                     Partilederdebat.\\n279506                                     Partilederdebat.\\n279508                                     Partilederdebat.\\n292392                 Godkendelse af grønlandske mandater.\\n295052    Statsministerens redegørelse i henhold til gru...\\n315307    HØJTIDELIGHED I ANLEDNING AF AT H.K.H. PRINS H...\\n328331    Statsministerens redegørelse i henhold til gru...\\n328332    Statsministerens redegørelse i henhold til gru...\\n378194    Redegørelse af statsministeren i henhold til f...\\n388096    Statsministerens redegørelse i henhold til gru...'"
      ]
     },
     "execution_count": 43,
     "metadata": {},
     "output_type": "execute_result"
    }
   ],
   "source": [
    "resten.to_string()"
   ]
  },
  {
   "cell_type": "code",
   "execution_count": 44,
   "id": "3dfc46cd",
   "metadata": {},
   "outputs": [
    {
     "data": {
      "text/plain": [
       "True     0.617906\n",
       "False    0.382094\n",
       "Name: Topic_title, dtype: float64"
      ]
     },
     "execution_count": 44,
     "metadata": {},
     "output_type": "execute_result"
    }
   ],
   "source": [
    "df_dk[\"Topic_title\"].str.contains(\"behandling\").value_counts()/len(df_dk)"
   ]
  },
  {
   "cell_type": "code",
   "execution_count": 45,
   "id": "d70b2ae5",
   "metadata": {},
   "outputs": [],
   "source": [
    "df_dk[\"Meeting_type\"] = pd.Series(dtype='str')"
   ]
  },
  {
   "cell_type": "code",
   "execution_count": 46,
   "id": "b9d81454",
   "metadata": {},
   "outputs": [],
   "source": [
    "reading = df_dk[\"Topic_title\"].str.contains(\"behandling\")\n",
    "negotiation = df_dk[\"Topic_title\"].str.contains(\"forhandling|Forhandling\")\n",
    "question = df_dk[\"Topic_title\"].str.contains(\"Spm.|spørgetime|Spørgetime\")"
   ]
  },
  {
   "cell_type": "code",
   "execution_count": 47,
   "id": "556d319d",
   "metadata": {},
   "outputs": [],
   "source": [
    "df_dk[\"Meeting_type\"] = df_dk[\"Meeting_type\"].mask(reading, other = \"reading\")\n",
    "df_dk[\"Meeting_type\"] = df_dk[\"Meeting_type\"].mask(negotiation, other = \"negotiation\")\n",
    "df_dk[\"Meeting_type\"] = df_dk[\"Meeting_type\"].mask(question, other = \"question\")"
   ]
  },
  {
   "cell_type": "code",
   "execution_count": 48,
   "id": "e3d3c9f1",
   "metadata": {},
   "outputs": [
    {
     "data": {
      "text/plain": [
       "Meeting_type  Party_status\n",
       "negotiation   Coalition       0.308878\n",
       "              Opposition      0.451602\n",
       "              NaN             0.239520\n",
       "question      Coalition       0.558880\n",
       "              Opposition      0.345253\n",
       "              NaN             0.095866\n",
       "reading       Coalition       0.286038\n",
       "              Opposition      0.491639\n",
       "              NaN             0.222323\n",
       "NaN           Coalition            NaN\n",
       "              Opposition           NaN\n",
       "              NaN                  NaN\n",
       "Name: Word_total, dtype: float64"
      ]
     },
     "execution_count": 48,
     "metadata": {},
     "output_type": "execute_result"
    }
   ],
   "source": [
    "df_dk.groupby([\"Meeting_type\", \"Party_status\"], dropna = False)[\"Word_total\"].sum()/df_dk.groupby([\"Meeting_type\"])[\"Word_total\"].sum()"
   ]
  },
  {
   "cell_type": "code",
   "execution_count": 49,
   "id": "e402e9b9",
   "metadata": {},
   "outputs": [
    {
     "data": {
      "text/plain": [
       "Meeting_type  Party_status\n",
       "negotiation   Coalition       0.263343\n",
       "              Opposition      0.468780\n",
       "              NaN             0.267878\n",
       "question      Coalition       0.507112\n",
       "              Opposition      0.386909\n",
       "              NaN             0.105979\n",
       "reading       Coalition       0.266997\n",
       "              Opposition      0.497358\n",
       "              NaN             0.235645\n",
       "NaN           Coalition            NaN\n",
       "              Opposition           NaN\n",
       "              NaN                  NaN\n",
       "Name: Word_total, dtype: float64"
      ]
     },
     "execution_count": 49,
     "metadata": {},
     "output_type": "execute_result"
    }
   ],
   "source": [
    "df_dk.groupby([\"Meeting_type\", \"Party_status\"], dropna = False)[\"Word_total\"].count()/df_dk.groupby([\"Meeting_type\"])[\"Word_total\"].count()"
   ]
  },
  {
   "cell_type": "code",
   "execution_count": 157,
   "id": "c4ba1c43",
   "metadata": {},
   "outputs": [
    {
     "data": {
      "text/plain": [
       "Meeting_type  Party_status\n",
       "negotiation   Coalition       250.396089\n",
       "              Opposition      205.659707\n",
       "              NaN             190.882927\n",
       "question      Coalition       170.400000\n",
       "              Opposition      137.969799\n",
       "              NaN             139.862101\n",
       "reading       Coalition       225.769512\n",
       "              Opposition      208.316840\n",
       "              NaN             198.826746\n",
       "NaN           Coalition       335.252830\n",
       "              Opposition      145.125561\n",
       "              NaN             132.043228\n",
       "Name: Word_total, dtype: float64"
      ]
     },
     "execution_count": 157,
     "metadata": {},
     "output_type": "execute_result"
    }
   ],
   "source": [
    "df_dk.groupby([\"Meeting_type\", \"Party_status\"], dropna = False)[\"Word_total\"].mean()"
   ]
  },
  {
   "cell_type": "code",
   "execution_count": null,
   "id": "878b8dae",
   "metadata": {},
   "outputs": [],
   "source": [
    "df_dk[df_dk[\"Topic_title\"].str.contains(\"behandling\")]"
   ]
  },
  {
   "cell_type": "code",
   "execution_count": 220,
   "id": "0acb707e",
   "metadata": {},
   "outputs": [
    {
     "data": {
      "text/plain": [
       "143674"
      ]
     },
     "execution_count": 220,
     "metadata": {},
     "output_type": "execute_result"
    }
   ],
   "source": [
    "df_dk[\"Topic_title\"].str.contains(\"behandling|Spm.|forhandling|Punkt 0|afstemning|spørgetime\").value_counts().loc[True]"
   ]
  },
  {
   "cell_type": "code",
   "execution_count": 198,
   "id": "f272c556",
   "metadata": {},
   "outputs": [
    {
     "data": {
      "text/plain": [
       "False    0.995238\n",
       "True     0.004762\n",
       "Name: Topic_title, dtype: float64"
      ]
     },
     "execution_count": 198,
     "metadata": {},
     "output_type": "execute_result"
    }
   ],
   "source": [
    "df_dk[\"Topic_title\"].str.contains(\"afstemning\").value_counts()/len(df_dk)"
   ]
  },
  {
   "cell_type": "code",
   "execution_count": 207,
   "id": "ca3680d2",
   "metadata": {},
   "outputs": [
    {
     "data": {
      "text/plain": [
       "False    0.785666\n",
       "True     0.214334\n",
       "Name: Topic_title, dtype: float64"
      ]
     },
     "execution_count": 207,
     "metadata": {},
     "output_type": "execute_result"
    }
   ],
   "source": [
    "df_dk[\"Topic_title\"].str.contains(\"forhandling|Forhandling\").value_counts()/len(df_dk)"
   ]
  },
  {
   "cell_type": "code",
   "execution_count": 209,
   "id": "c256de92",
   "metadata": {},
   "outputs": [
    {
     "data": {
      "text/plain": [
       "False    0.83184\n",
       "True     0.16816\n",
       "Name: Topic_title, dtype: float64"
      ]
     },
     "execution_count": 209,
     "metadata": {},
     "output_type": "execute_result"
    }
   ],
   "source": [
    "df_dk[\"Topic_title\"].str.contains(\"Spm.|spørgetime|Spørgetime\").value_counts()/len(df_dk)"
   ]
  },
  {
   "cell_type": "code",
   "execution_count": 199,
   "id": "020ed45a",
   "metadata": {},
   "outputs": [
    {
     "data": {
      "text/plain": [
       "False    0.999858\n",
       "True     0.000142\n",
       "Name: Topic_title, dtype: float64"
      ]
     },
     "execution_count": 199,
     "metadata": {},
     "output_type": "execute_result"
    }
   ],
   "source": [
    "df_dk[\"Topic_title\"].str.contains(\"Punkt 0\").value_counts()/len(df_dk)"
   ]
  },
  {
   "cell_type": "code",
   "execution_count": null,
   "id": "a67b3cdc",
   "metadata": {},
   "outputs": [],
   "source": [
    "df_dk[\"Topic_title\"].str.contains(\"behandling\").value_counts()"
   ]
  },
  {
   "cell_type": "code",
   "execution_count": 187,
   "id": "bb019500",
   "metadata": {},
   "outputs": [
    {
     "data": {
      "text/plain": [
       "Question\n",
       "False    0.382094\n",
       "True     0.617906\n",
       "Name: Word_total, dtype: float64"
      ]
     },
     "execution_count": 187,
     "metadata": {},
     "output_type": "execute_result"
    }
   ],
   "source": [
    "df_dk.groupby([\"Question\"], dropna = False)[\"Word_total\"].count()/len(df_dk)"
   ]
  },
  {
   "cell_type": "code",
   "execution_count": 190,
   "id": "2598ba35",
   "metadata": {},
   "outputs": [
    {
     "data": {
      "text/plain": [
       "Debate\n",
       "False    0.871908\n",
       "True     0.128092\n",
       "Name: Word_total, dtype: float64"
      ]
     },
     "execution_count": 190,
     "metadata": {},
     "output_type": "execute_result"
    }
   ],
   "source": [
    "df_dk.groupby([\"Debate\"], dropna = False)[\"Word_total\"].sum()/df_dk[\"Word_total\"].sum()"
   ]
  },
  {
   "cell_type": "code",
   "execution_count": 155,
   "id": "560398e1",
   "metadata": {},
   "outputs": [
    {
     "data": {
      "text/plain": [
       "Debate  Party_status\n",
       "False   Coalition       0.293340\n",
       "        Opposition      0.480265\n",
       "        NaN             0.226395\n",
       "True    Coalition       0.556034\n",
       "        Opposition      0.347481\n",
       "        NaN             0.096485\n",
       "Name: Word_total, dtype: float64"
      ]
     },
     "execution_count": 155,
     "metadata": {},
     "output_type": "execute_result"
    }
   ],
   "source": [
    "df_dk.groupby([\"Debate\", \"Party_status\"], dropna = False)[\"Word_total\"].sum()/df_dk.groupby([\"Debate\"], dropna = False)[\"Word_total\"].sum()"
   ]
  },
  {
   "cell_type": "code",
   "execution_count": 156,
   "id": "95de3615",
   "metadata": {},
   "outputs": [
    {
     "data": {
      "text/plain": [
       "Debate  Party_status\n",
       "False   Coalition       0.265769\n",
       "        Opposition      0.490084\n",
       "        NaN             0.244147\n",
       "True    Coalition       0.506389\n",
       "        Opposition      0.387476\n",
       "        NaN             0.106135\n",
       "Name: Word_total, dtype: float64"
      ]
     },
     "execution_count": 156,
     "metadata": {},
     "output_type": "execute_result"
    }
   ],
   "source": [
    "df_dk.groupby([\"Debate\", \"Party_status\"], dropna = False)[\"Word_total\"].count()/df_dk.groupby([\"Debate\"], dropna = False)[\"Word_total\"].count()"
   ]
  },
  {
   "cell_type": "code",
   "execution_count": 157,
   "id": "61eeea3d",
   "metadata": {},
   "outputs": [
    {
     "data": {
      "text/plain": [
       "Question  Party_status\n",
       "False     Coalition       0.400607\n",
       "          Opposition      0.412312\n",
       "          NaN             0.187081\n",
       "True      Coalition       0.286547\n",
       "          Opposition      0.491243\n",
       "          NaN             0.222210\n",
       "Name: Word_total, dtype: float64"
      ]
     },
     "execution_count": 157,
     "metadata": {},
     "output_type": "execute_result"
    }
   ],
   "source": [
    "df_dk.groupby([\"Question\", \"Party_status\"], dropna = False)[\"Word_total\"].sum()/df_dk.groupby([\"Question\"], dropna = False)[\"Word_total\"].sum()"
   ]
  },
  {
   "cell_type": "code",
   "execution_count": 158,
   "id": "018cfd56",
   "metadata": {},
   "outputs": [
    {
     "data": {
      "text/plain": [
       "Question  Party_status\n",
       "False     Coalition       0.368720\n",
       "          Opposition      0.434041\n",
       "          NaN             0.197238\n",
       "True      Coalition       0.267495\n",
       "          Opposition      0.496855\n",
       "          NaN             0.235650\n",
       "Name: Word_total, dtype: float64"
      ]
     },
     "execution_count": 158,
     "metadata": {},
     "output_type": "execute_result"
    }
   ],
   "source": [
    "df_dk.groupby([\"Question\", \"Party_status\"], dropna = False)[\"Word_total\"].count()/df_dk.groupby([\"Question\"], dropna = False)[\"Word_total\"].count()"
   ]
  },
  {
   "cell_type": "code",
   "execution_count": 159,
   "id": "4232f8ee",
   "metadata": {},
   "outputs": [],
   "source": [
    "elsewhere = df_dk[(df_dk[\"Debate\"] == \"False\") & (df_dk[\"Question\"] == \"False\")]"
   ]
  },
  {
   "cell_type": "code",
   "execution_count": 160,
   "id": "935cdcac",
   "metadata": {},
   "outputs": [
    {
     "data": {
      "text/plain": [
       "Party_status\n",
       "Coalition     0.314134\n",
       "Opposition    0.448239\n",
       "NaN           0.237627\n",
       "Name: Word_total, dtype: float64"
      ]
     },
     "execution_count": 160,
     "metadata": {},
     "output_type": "execute_result"
    }
   ],
   "source": [
    "elsewhere.groupby([\"Party_status\"], dropna = False)[\"Word_total\"].sum()/elsewhere[\"Word_total\"].sum()"
   ]
  },
  {
   "cell_type": "code",
   "execution_count": 161,
   "id": "ee2eb420",
   "metadata": {},
   "outputs": [
    {
     "data": {
      "text/plain": [
       "Party_status\n",
       "Coalition     0.262579\n",
       "Opposition    0.469568\n",
       "NaN           0.267854\n",
       "Name: Word_total, dtype: float64"
      ]
     },
     "execution_count": 161,
     "metadata": {},
     "output_type": "execute_result"
    }
   ],
   "source": [
    "elsewhere.groupby([\"Party_status\"], dropna = False)[\"Word_total\"].count()/elsewhere[\"Word_total\"].count()"
   ]
  },
  {
   "cell_type": "markdown",
   "id": "7d10d4ab",
   "metadata": {},
   "source": [
    "### Gender"
   ]
  },
  {
   "cell_type": "code",
   "execution_count": 97,
   "id": "c2016938",
   "metadata": {},
   "outputs": [],
   "source": [
    "regulars = df_dk[df_dk[\"Speaker_Minister\"] == \"-\"]"
   ]
  },
  {
   "cell_type": "code",
   "execution_count": 98,
   "id": "e58009b5",
   "metadata": {},
   "outputs": [
    {
     "data": {
      "text/plain": [
       "Speaker_gender\n",
       "F    0.336048\n",
       "M    0.663952\n",
       "Name: Word_total, dtype: float64"
      ]
     },
     "execution_count": 98,
     "metadata": {},
     "output_type": "execute_result"
    }
   ],
   "source": [
    "regulars.groupby([\"Speaker_gender\"], dropna = False)[\"Word_total\"].sum()/regulars[\"Word_total\"].sum()"
   ]
  },
  {
   "cell_type": "code",
   "execution_count": 99,
   "id": "a902059e",
   "metadata": {},
   "outputs": [
    {
     "data": {
      "text/plain": [
       "Speaker_gender\n",
       "F    0.404624\n",
       "M    0.595376\n",
       "Name: Speaker_name, dtype: float64"
      ]
     },
     "execution_count": 99,
     "metadata": {},
     "output_type": "execute_result"
    }
   ],
   "source": [
    "regulars.groupby([\"Speaker_gender\"], dropna = False)[\"Speaker_name\"].nunique()/regulars[\"Speaker_name\"].nunique()"
   ]
  },
  {
   "cell_type": "code",
   "execution_count": 104,
   "id": "0772d497",
   "metadata": {},
   "outputs": [
    {
     "data": {
      "text/plain": [
       "Bloc   Speaker_gender\n",
       "Left   F                 0.373421\n",
       "       M                 0.626579\n",
       "Right  F                 0.295183\n",
       "       M                 0.704817\n",
       "NaN    F                 0.251162\n",
       "       M                 0.748838\n",
       "Name: Word_total, dtype: float64"
      ]
     },
     "execution_count": 104,
     "metadata": {},
     "output_type": "execute_result"
    }
   ],
   "source": [
    "regulars.groupby([\"Bloc\", \"Speaker_gender\"], dropna = False)[\"Word_total\"].sum()/regulars.groupby([\"Bloc\"], dropna = False)[\"Word_total\"].sum()"
   ]
  },
  {
   "cell_type": "code",
   "execution_count": 116,
   "id": "9e20e9b2",
   "metadata": {},
   "outputs": [
    {
     "data": {
      "text/plain": [
       "Bloc   Speaker_gender\n",
       "Left   F                 0.370573\n",
       "       M                 0.629427\n",
       "Right  F                 0.302530\n",
       "       M                 0.697470\n",
       "NaN    F                 0.255394\n",
       "       M                 0.744606\n",
       "Name: ID, dtype: float64"
      ]
     },
     "execution_count": 116,
     "metadata": {},
     "output_type": "execute_result"
    }
   ],
   "source": [
    "regulars.groupby([\"Bloc\", \"Speaker_gender\"], dropna = False)[\"ID\"].nunique()/regulars.groupby([\"Bloc\"], dropna=False)[\"ID\"].nunique()"
   ]
  },
  {
   "cell_type": "code",
   "execution_count": 110,
   "id": "b62e13a4",
   "metadata": {},
   "outputs": [
    {
     "data": {
      "text/plain": [
       "Index(['Unnamed: 0', 'ID', 'Sentiment', 'Word_total', 'Score', 'Title', 'Date',\n",
       "       'Body', 'Term', 'Session', 'Meeting', 'Sitting', 'Agenda', 'Subcorpus',\n",
       "       'Speaker_role', 'Speaker_MP', 'Speaker_Minister', 'Speaker_party',\n",
       "       'Speaker_party_name', 'Party_status', 'Speaker_name', 'Speaker_gender',\n",
       "       'Speaker_birth', 'Topic_title', 'Question', 'Debate', 'YearMonth',\n",
       "       'Government', 'Bloc'],\n",
       "      dtype='object')"
      ]
     },
     "execution_count": 110,
     "metadata": {},
     "output_type": "execute_result"
    }
   ],
   "source": [
    "regulars.columns"
   ]
  },
  {
   "cell_type": "code",
   "execution_count": 101,
   "id": "54ebbeaf",
   "metadata": {},
   "outputs": [
    {
     "data": {
      "text/plain": [
       "Bloc   Speaker_gender\n",
       "Left   F                 202.045990\n",
       "       M                 199.598345\n",
       "Right  F                 184.252299\n",
       "       M                 190.827628\n",
       "NaN    F                 168.536346\n",
       "       M                 172.350404\n",
       "Name: Word_total, dtype: float64"
      ]
     },
     "execution_count": 101,
     "metadata": {},
     "output_type": "execute_result"
    }
   ],
   "source": [
    "regulars.groupby([\"Bloc\", \"Speaker_gender\"], dropna = False)[\"Word_total\"].mean()"
   ]
  },
  {
   "cell_type": "code",
   "execution_count": 103,
   "id": "d33c4c24",
   "metadata": {},
   "outputs": [
    {
     "data": {
      "text/plain": [
       "Bloc   Speaker_gender  Speaker_Minister\n",
       "Left   F               -                   202.045990\n",
       "                       Minister            249.036470\n",
       "       M               -                   199.598345\n",
       "                       Minister            231.876119\n",
       "Right  F               -                   184.252299\n",
       "                       Minister            229.185966\n",
       "       M               -                   190.827628\n",
       "                       Minister            229.487693\n",
       "NaN    F               -                   168.536346\n",
       "       M               -                   172.350404\n",
       "Name: Word_total, dtype: float64"
      ]
     },
     "execution_count": 103,
     "metadata": {},
     "output_type": "execute_result"
    }
   ],
   "source": [
    "df_dk.groupby([\"Bloc\", \"Speaker_gender\", \"Speaker_Minister\"], dropna = False)[\"Word_total\"].mean()"
   ]
  },
  {
   "cell_type": "code",
   "execution_count": 63,
   "id": "76b0e5b1",
   "metadata": {},
   "outputs": [
    {
     "data": {
      "text/plain": [
       "Bloc   Speaker_gender\n",
       "Left   F                 0.435897\n",
       "       M                 0.564103\n",
       "Right  F                 0.351852\n",
       "       M                 0.648148\n",
       "NaN    F                 0.363636\n",
       "       M                 0.636364\n",
       "Name: Speaker_name, dtype: float64"
      ]
     },
     "execution_count": 63,
     "metadata": {},
     "output_type": "execute_result"
    }
   ],
   "source": [
    "df_dk.groupby([\"Bloc\", \"Speaker_gender\"], dropna = False)[\"Speaker_name\"].nunique()/df_dk.groupby([\"Bloc\"], dropna = False)[\"Speaker_name\"].nunique()"
   ]
  },
  {
   "cell_type": "code",
   "execution_count": 62,
   "id": "8139cd63",
   "metadata": {},
   "outputs": [
    {
     "data": {
      "text/plain": [
       "array(['Sambandsflokkurin', 'Inuit Ataqatigiit', 'Javnaðarflokkurin',\n",
       "       'Uden for folketingsgrupperne', 'Siumut', 'Kristendemokraterne',\n",
       "       'Frie Grønne', 'Tjóðveldi', nan, 'Nunatta Qitornai'], dtype=object)"
      ]
     },
     "execution_count": 62,
     "metadata": {},
     "output_type": "execute_result"
    }
   ],
   "source": [
    "df_dk[df_dk[\"Bloc\"].isna()][\"Speaker_party_name\"].unique()"
   ]
  },
  {
   "cell_type": "code",
   "execution_count": 55,
   "id": "401587b6",
   "metadata": {},
   "outputs": [
    {
     "data": {
      "text/plain": [
       "Government           Speaker_gender\n",
       "Frederiksen I        F                 0.367755\n",
       "                     M                 0.632245\n",
       "Rasmussen II         F                 0.323412\n",
       "                     M                 0.676588\n",
       "Rasmussen III        F                 0.336338\n",
       "                     M                 0.663662\n",
       "Thorning-Schmidt II  F                 0.332749\n",
       "                     M                 0.667251\n",
       "Name: Word_total, dtype: float64"
      ]
     },
     "execution_count": 55,
     "metadata": {},
     "output_type": "execute_result"
    }
   ],
   "source": [
    "df_dk.groupby([\"Government\", \"Speaker_gender\"], dropna = False)[\"Word_total\"].sum()/df_dk.groupby([\"Government\"], dropna = False)[\"Word_total\"].sum()"
   ]
  },
  {
   "cell_type": "markdown",
   "id": "101eb42e",
   "metadata": {},
   "source": [
    "    2011\t179\t70\t39.1\n",
    "    2015\t179\t67\t37,4\n",
    "    2019\t179\t70\t39,1\n",
    "    2022\t179\t78\t43,6"
   ]
  },
  {
   "cell_type": "code",
   "execution_count": 164,
   "id": "fabf9327",
   "metadata": {},
   "outputs": [
    {
     "data": {
      "text/plain": [
       "Speaker_gender\n",
       "F    202.042029\n",
       "M    201.498039\n",
       "Name: Word_total, dtype: float64"
      ]
     },
     "execution_count": 164,
     "metadata": {},
     "output_type": "execute_result"
    }
   ],
   "source": [
    "#speech length\n",
    "df_dk.groupby([\"Speaker_gender\"], dropna = False)[\"Word_total\"].mean()"
   ]
  },
  {
   "cell_type": "markdown",
   "id": "f53e8473",
   "metadata": {},
   "source": [
    "### Gender and meeting type"
   ]
  },
  {
   "cell_type": "code",
   "execution_count": 160,
   "id": "6d330095",
   "metadata": {},
   "outputs": [
    {
     "data": {
      "text/plain": [
       "Meeting_type  Speaker_gender\n",
       "negotiation   F                 0.329717\n",
       "              M                 0.670283\n",
       "question      F                 0.347001\n",
       "              M                 0.652999\n",
       "reading       F                 0.331453\n",
       "              M                 0.668547\n",
       "NaN           F                 0.395094\n",
       "              M                 0.604906\n",
       "Name: Word_total, dtype: float64"
      ]
     },
     "execution_count": 160,
     "metadata": {},
     "output_type": "execute_result"
    }
   ],
   "source": [
    "df_dk.groupby([\"Meeting_type\", \"Speaker_gender\"], dropna = False)[\"Word_total\"].sum()/df_dk.groupby([\"Meeting_type\"], dropna = False)[\"Word_total\"].sum()"
   ]
  },
  {
   "cell_type": "code",
   "execution_count": 165,
   "id": "63b6d25b",
   "metadata": {},
   "outputs": [
    {
     "data": {
      "text/plain": [
       "Debate  Speaker_gender\n",
       "False   F                 0.331676\n",
       "        M                 0.668324\n",
       "True    F                 0.345647\n",
       "        M                 0.654353\n",
       "Name: Word_total, dtype: float64"
      ]
     },
     "execution_count": 165,
     "metadata": {},
     "output_type": "execute_result"
    }
   ],
   "source": [
    "#by meeting type\n",
    "df_dk.groupby([\"Debate\", \"Speaker_gender\"], dropna = False)[\"Word_total\"].sum()/df_dk.groupby([\"Debate\"], dropna = False)[\"Word_total\"].sum()"
   ]
  },
  {
   "cell_type": "code",
   "execution_count": 166,
   "id": "dd40cb01",
   "metadata": {},
   "outputs": [
    {
     "data": {
      "text/plain": [
       "Question  Speaker_gender\n",
       "False     F                 0.336830\n",
       "          M                 0.663170\n",
       "True      F                 0.331617\n",
       "          M                 0.668383\n",
       "Name: Word_total, dtype: float64"
      ]
     },
     "execution_count": 166,
     "metadata": {},
     "output_type": "execute_result"
    }
   ],
   "source": [
    "df_dk.groupby([\"Question\", \"Speaker_gender\"], dropna = False)[\"Word_total\"].sum()/df_dk.groupby([\"Question\"], dropna = False)[\"Word_total\"].sum()"
   ]
  },
  {
   "cell_type": "code",
   "execution_count": 167,
   "id": "553ef6e1",
   "metadata": {},
   "outputs": [
    {
     "data": {
      "text/plain": [
       "Speaker_gender\n",
       "F    0.338583\n",
       "M    0.661417\n",
       "Name: Word_total, dtype: float64"
      ]
     },
     "execution_count": 167,
     "metadata": {},
     "output_type": "execute_result"
    }
   ],
   "source": [
    "elsewhere.groupby([\"Speaker_gender\"], dropna = False)[\"Word_total\"].count()/elsewhere[\"Word_total\"].count()"
   ]
  },
  {
   "cell_type": "markdown",
   "id": "5ba81ccb",
   "metadata": {},
   "source": [
    "### Gender and bloc"
   ]
  },
  {
   "cell_type": "code",
   "execution_count": 168,
   "id": "457e2773",
   "metadata": {},
   "outputs": [
    {
     "data": {
      "text/plain": [
       "Bloc   Speaker_gender\n",
       "Left   F                 0.367875\n",
       "       M                 0.632125\n",
       "Right  F                 0.295372\n",
       "       M                 0.704628\n",
       "NaN    F                 0.251162\n",
       "       M                 0.748838\n",
       "Name: Word_total, dtype: float64"
      ]
     },
     "execution_count": 168,
     "metadata": {},
     "output_type": "execute_result"
    }
   ],
   "source": [
    "df_dk.groupby([\"Bloc\", \"Speaker_gender\"], dropna = False)[\"Word_total\"].sum()/df_dk.groupby([\"Bloc\"], dropna = False)[\"Word_total\"].sum()"
   ]
  },
  {
   "cell_type": "code",
   "execution_count": 173,
   "id": "bd469b1f",
   "metadata": {},
   "outputs": [
    {
     "data": {
      "text/plain": [
       "Left     94350\n",
       "Right    86358\n",
       "NaN       1993\n",
       "Name: Bloc, dtype: int64"
      ]
     },
     "execution_count": 173,
     "metadata": {},
     "output_type": "execute_result"
    }
   ],
   "source": [
    "df_dk[\"Bloc\"].value_counts(dropna = False)"
   ]
  },
  {
   "cell_type": "markdown",
   "id": "2742f70f",
   "metadata": {},
   "source": [
    "### Role"
   ]
  },
  {
   "cell_type": "code",
   "execution_count": 99,
   "id": "954094f4",
   "metadata": {},
   "outputs": [
    {
     "data": {
      "text/plain": [
       "Index(['Unnamed: 0', 'ID', 'Sentiment', 'Word_total', 'Score', 'Title', 'Date',\n",
       "       'Body', 'Term', 'Session', 'Meeting', 'Sitting', 'Agenda', 'Subcorpus',\n",
       "       'Speaker_role', 'Speaker_MP', 'Speaker_Minister', 'Speaker_party',\n",
       "       'Speaker_party_name', 'Party_status', 'Speaker_name', 'Speaker_gender',\n",
       "       'Speaker_birth', 'Topic_title', 'Question', 'Debate', 'YearMonth',\n",
       "       'Government', 'Bloc'],\n",
       "      dtype='object')"
      ]
     },
     "execution_count": 99,
     "metadata": {},
     "output_type": "execute_result"
    }
   ],
   "source": [
    "df_dk.columns"
   ]
  },
  {
   "cell_type": "code",
   "execution_count": 100,
   "id": "51baae6f",
   "metadata": {},
   "outputs": [
    {
     "data": {
      "text/plain": [
       "array(['-', 'Minister'], dtype=object)"
      ]
     },
     "execution_count": 100,
     "metadata": {},
     "output_type": "execute_result"
    }
   ],
   "source": [
    "pd.unique(df_dk[\"Speaker_Minister\"])"
   ]
  },
  {
   "cell_type": "code",
   "execution_count": 101,
   "id": "de58ce13",
   "metadata": {
    "scrolled": true
   },
   "outputs": [
    {
     "data": {
      "text/plain": [
       "Speaker_Minister\n",
       "-           0.790204\n",
       "Minister    0.209796\n",
       "Name: Word_total, dtype: float64"
      ]
     },
     "execution_count": 101,
     "metadata": {},
     "output_type": "execute_result"
    }
   ],
   "source": [
    "df_dk.groupby([\"Speaker_Minister\"], dropna = False)[\"Word_total\"].sum()/df_dk[\"Word_total\"].sum()"
   ]
  },
  {
   "cell_type": "code",
   "execution_count": 102,
   "id": "7e1c937b",
   "metadata": {},
   "outputs": [
    {
     "data": {
      "text/plain": [
       "Speaker_Minister\n",
       "-           0.818972\n",
       "Minister    0.181028\n",
       "Name: ID, dtype: float64"
      ]
     },
     "execution_count": 102,
     "metadata": {},
     "output_type": "execute_result"
    }
   ],
   "source": [
    "df_dk.groupby([\"Speaker_Minister\"], dropna = False)[\"ID\"].count()/len(df_dk)"
   ]
  },
  {
   "cell_type": "code",
   "execution_count": 103,
   "id": "00c70435",
   "metadata": {},
   "outputs": [
    {
     "data": {
      "text/plain": [
       "Speaker_Minister\n",
       "-           194.594812\n",
       "Minister    233.728548\n",
       "Name: Word_total, dtype: float64"
      ]
     },
     "execution_count": 103,
     "metadata": {},
     "output_type": "execute_result"
    }
   ],
   "source": [
    "df_dk.groupby([\"Speaker_Minister\"], dropna = False)[\"Word_total\"].mean()"
   ]
  },
  {
   "cell_type": "code",
   "execution_count": null,
   "id": "0917a747",
   "metadata": {},
   "outputs": [],
   "source": []
  },
  {
   "cell_type": "code",
   "execution_count": null,
   "id": "6c3578d4",
   "metadata": {},
   "outputs": [],
   "source": []
  },
  {
   "cell_type": "code",
   "execution_count": null,
   "id": "676304d4",
   "metadata": {},
   "outputs": [],
   "source": []
  }
 ],
 "metadata": {
  "kernelspec": {
   "display_name": "Python [conda env:root] *",
   "language": "python",
   "name": "conda-root-py"
  },
  "language_info": {
   "codemirror_mode": {
    "name": "ipython",
    "version": 3
   },
   "file_extension": ".py",
   "mimetype": "text/x-python",
   "name": "python",
   "nbconvert_exporter": "python",
   "pygments_lexer": "ipython3",
   "version": "3.9.7"
  }
 },
 "nbformat": 4,
 "nbformat_minor": 5
}
