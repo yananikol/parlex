{
 "cells": [
  {
   "cell_type": "markdown",
   "id": "0c8845c7",
   "metadata": {},
   "source": [
    "# Creating Bugarian Seed Dictionary"
   ]
  },
  {
   "cell_type": "markdown",
   "id": "56ebee0e",
   "metadata": {},
   "source": [
    "### Loading lists and removing duplicates"
   ]
  },
  {
   "cell_type": "code",
   "execution_count": 1,
   "id": "7386ad24",
   "metadata": {},
   "outputs": [],
   "source": [
    "import os\n",
    "path = os.getcwd()"
   ]
  },
  {
   "cell_type": "code",
   "execution_count": 2,
   "id": "266f4fb7",
   "metadata": {},
   "outputs": [],
   "source": [
    "os.chdir(path)"
   ]
  },
  {
   "cell_type": "code",
   "execution_count": 3,
   "id": "3f47e89a",
   "metadata": {},
   "outputs": [],
   "source": [
    "#load files\n",
    "with open('positive_seed_BG.txt', 'r') as file:\n",
    "    pos_bg = file.read()\n",
    "    \n",
    "with open('negative_seed_BG.txt', 'r') as file:\n",
    "    neg_bg = file.read()"
   ]
  },
  {
   "cell_type": "markdown",
   "id": "5d0ee986",
   "metadata": {},
   "source": [
    "### POS-tagging and Lemmatization"
   ]
  },
  {
   "cell_type": "code",
   "execution_count": 8,
   "id": "895fa838",
   "metadata": {},
   "outputs": [],
   "source": [
    "import classla"
   ]
  },
  {
   "cell_type": "code",
   "execution_count": 9,
   "id": "b67430c7",
   "metadata": {
    "collapsed": true
   },
   "outputs": [
    {
     "name": "stderr",
     "output_type": "stream",
     "text": [
      "2023-03-15 16:26:48 INFO: Loading these models for language: bg (Bulgarian):\n",
      "========================\n",
      "| Processor | Package  |\n",
      "------------------------\n",
      "| tokenize  | standard |\n",
      "| pos       | standard |\n",
      "| lemma     | standard |\n",
      "========================\n",
      "\n",
      "2023-03-15 16:26:48 INFO: Use device: cpu\n",
      "2023-03-15 16:26:48 INFO: Loading: tokenize\n",
      "2023-03-15 16:26:48 INFO: Loading: pos\n",
      "2023-03-15 16:26:49 INFO: Loading: lemma\n",
      "2023-03-15 16:26:51 INFO: Done loading processors!\n"
     ]
    }
   ],
   "source": [
    "#create processing pipeline\n",
    "nlp = classla.Pipeline('bg', processors='tokenize, pos, lemma')"
   ]
  },
  {
   "cell_type": "code",
   "execution_count": 44,
   "id": "7d0f570a",
   "metadata": {},
   "outputs": [],
   "source": [
    "#processing documents\n",
    "docpos = nlp(pos_bg)\n",
    "docneg = nlp(neg_bg)"
   ]
  },
  {
   "cell_type": "code",
   "execution_count": 45,
   "id": "817656da",
   "metadata": {},
   "outputs": [],
   "source": [
    "#gathering annotations into lists - positive\n",
    "pos_pos = []\n",
    "lemmas_pos = []\n",
    "pos_bg = []\n",
    "\n",
    "for sent in docpos.to_dict():\n",
    "    for word in sent[0]:\n",
    "        pos_bg.append(word['text'])\n",
    "        lemmas_pos.append(word['lemma'])\n",
    "        pos_pos.append(word['upos'])"
   ]
  },
  {
   "cell_type": "code",
   "execution_count": 46,
   "id": "aec9dca2",
   "metadata": {},
   "outputs": [],
   "source": [
    "#gathering annotations into lists - negative\n",
    "neg_pos = []\n",
    "lemmas_neg = []\n",
    "neg_bg = []\n",
    "\n",
    "for sent in docneg.to_dict():\n",
    "    for word in sent[0]:\n",
    "        neg_bg.append(word['text'])\n",
    "        lemmas_neg.append(word['lemma'])\n",
    "        neg_pos.append(word['upos'])"
   ]
  },
  {
   "cell_type": "markdown",
   "id": "6aa74558",
   "metadata": {},
   "source": [
    "### Write new meta files -- for manual correction"
   ]
  },
  {
   "cell_type": "markdown",
   "id": "72521602",
   "metadata": {},
   "source": [
    "    with open('positive_seed_BG_meta.txt', 'w') as f:\n",
    "        for word, lemma, pos in zip(pos_bg,lemmas_pos, pos_pos):\n",
    "            f.write(word + '\\t' + lemma + '\\t' + pos + '\\n')"
   ]
  },
  {
   "cell_type": "markdown",
   "id": "f06a5be3",
   "metadata": {},
   "source": [
    "    with open('negative_seed_BG_meta.txt', 'w') as f:\n",
    "        for word, lemma, pos in zip(neg_bg,lemmas_neg, neg_pos):\n",
    "            f.write(word + '\\t' + lemma + '\\t' + pos + '\\n')"
   ]
  },
  {
   "cell_type": "markdown",
   "id": "cae0ac9f",
   "metadata": {},
   "source": [
    "### Load files with corrections"
   ]
  },
  {
   "cell_type": "code",
   "execution_count": 207,
   "id": "b1089b0a",
   "metadata": {},
   "outputs": [],
   "source": [
    "#load files - positive\n",
    "with open('positive_seed_BG_meta.txt', 'r') as f:\n",
    "    lines = [el.split('\\t') for el in f.readlines()]"
   ]
  },
  {
   "cell_type": "code",
   "execution_count": 208,
   "id": "9be97ac7",
   "metadata": {},
   "outputs": [],
   "source": [
    "pos_pos = [line[2].rstrip() for line in lines]\n",
    "lemmas_pos = [line[1] for line in lines]\n",
    "pos_bg = [line[0] for line in lines]"
   ]
  },
  {
   "cell_type": "code",
   "execution_count": 109,
   "id": "94132096",
   "metadata": {},
   "outputs": [],
   "source": [
    "#load files - negative\n",
    "with open('negative_seed_BG_meta.txt', 'r') as f:\n",
    "    lines = [el.split('\\t') for el in f.readlines()]"
   ]
  },
  {
   "cell_type": "code",
   "execution_count": 110,
   "id": "9bc56159",
   "metadata": {},
   "outputs": [],
   "source": [
    "neg_pos = [line[2].rstrip() for line in lines]\n",
    "lemmas_neg = [line[1] for line in lines]\n",
    "neg_bg = [line[0] for line in lines]"
   ]
  },
  {
   "cell_type": "markdown",
   "id": "3a0f3b99",
   "metadata": {},
   "source": [
    "### Frequency ranking"
   ]
  },
  {
   "cell_type": "code",
   "execution_count": 27,
   "id": "01478c48",
   "metadata": {},
   "outputs": [],
   "source": [
    "#read frequency list\n",
    "with open('BTB-FreqList100000.txt', 'r', encoding = 'utf-16') as file:\n",
    "    freqlines = [line.split('\\t') for line in file.readlines()]"
   ]
  },
  {
   "cell_type": "code",
   "execution_count": 28,
   "id": "3706ba47",
   "metadata": {},
   "outputs": [],
   "source": [
    "#create frequency dictionary (for reference): {token: frequency}\n",
    "freq_dict = {}\n",
    "for line in freqlines:\n",
    "    freq_dict[line[0]] = float(line[2].rstrip())"
   ]
  },
  {
   "cell_type": "code",
   "execution_count": 29,
   "id": "715e6061",
   "metadata": {},
   "outputs": [],
   "source": [
    "#PoS-tag and lemmatize keys (tokens)\n",
    "keylist = ' '.join(list(freq_dict.keys()))\n",
    "freqpos = dict()\n",
    "\n",
    "keydoc = nlp(keylist)"
   ]
  },
  {
   "cell_type": "code",
   "execution_count": 187,
   "id": "024b442d",
   "metadata": {},
   "outputs": [],
   "source": [
    "#save lemmas and tags to lists\n",
    "key_pos = []\n",
    "key_lemma = []\n",
    "\n",
    "for sent in keydoc.to_dict():\n",
    "    for word in sent[0]:\n",
    "        key_lemma.append(word['lemma'])\n",
    "        key_pos.append(word['upos'])"
   ]
  },
  {
   "cell_type": "code",
   "execution_count": 189,
   "id": "4f9e75ea",
   "metadata": {},
   "outputs": [],
   "source": [
    "#create dictionaries: {lemma: frequency} and {lemma: PoS}\n",
    "lem_freq = {}\n",
    "\n",
    "for lemma, line in zip(key_lemma, freqlines):\n",
    "    lem_freq[lemma] = lem_freq.get(lemma, 0) + float(line[2].rstrip())\n",
    "    \n",
    "lem_pos = {}\n",
    "\n",
    "for lemma, tag in zip(key_lemma, key_pos):\n",
    "    lem_pos[lemma] = tag"
   ]
  },
  {
   "cell_type": "markdown",
   "id": "86594f7f",
   "metadata": {},
   "source": [
    "#### Check if all words are in frequency dict"
   ]
  },
  {
   "cell_type": "code",
   "execution_count": 209,
   "id": "62670dc1",
   "metadata": {
    "collapsed": true
   },
   "outputs": [
    {
     "name": "stdout",
     "output_type": "stream",
     "text": [
      "I got a KeyError - reason \"'юначен'\"\n",
      "I got a KeyError - reason \"'дръзновен'\"\n",
      "I got a KeyError - reason \"'импозантен'\"\n",
      "I got a KeyError - reason \"'безпристрастие'\"\n",
      "I got a KeyError - reason \"'похвалвам-(се)'\"\n",
      "I got a KeyError - reason \"'възхвалям'\"\n",
      "I got a KeyError - reason \"'превъзнасям-(се)'\"\n",
      "I got a KeyError - reason \"'превъзнеса-(се)'\"\n",
      "I got a KeyError - reason \"'славословя'\"\n",
      "I got a KeyError - reason \"'зачета'\"\n",
      "I got a KeyError - reason \"'разсъдлив'\"\n",
      "I got a KeyError - reason \"'укрепя'\"\n",
      "I got a KeyError - reason \"'ободря'\"\n",
      "I got a KeyError - reason \"'ободрявам'\"\n",
      "I got a KeyError - reason \"'заслуженост'\"\n",
      "I got a KeyError - reason \"'сполуча'\"\n",
      "I got a KeyError - reason \"'сполучвам'\"\n",
      "I got a KeyError - reason \"'изкусност'\"\n",
      "I got a KeyError - reason \"'умелост'\"\n",
      "I got a KeyError - reason \"'чалъм'\"\n",
      "I got a KeyError - reason \"'добросърдечен'\"\n",
      "I got a KeyError - reason \"'добродушие'\"\n",
      "I got a KeyError - reason \"'поддържаност'\"\n",
      "I got a KeyError - reason \"'приятност'\"\n",
      "I got a KeyError - reason \"'първокачествен'\"\n",
      "I got a KeyError - reason \"'благодетелен'\"\n",
      "I got a KeyError - reason \"'уместност'\"\n",
      "I got a KeyError - reason \"'моралност'\"\n",
      "I got a KeyError - reason \"'високоморален'\"\n",
      "I got a KeyError - reason \"'освежителен'\"\n",
      "I got a KeyError - reason \"'ободрявам'\"\n",
      "I got a KeyError - reason \"'хигиеничен'\"\n",
      "I got a KeyError - reason \"'възлюбен'\"\n",
      "I got a KeyError - reason \"'миловиден'\"\n",
      "I got a KeyError - reason \"'леснодостъпен'\"\n",
      "I got a KeyError - reason \"'еуфоричен'\"\n",
      "I got a KeyError - reason \"'схватлив'\"\n",
      "I got a KeyError - reason \"'разсъдлив'\"\n",
      "I got a KeyError - reason \"'добросърдечност'\"\n",
      "I got a KeyError - reason \"'благодетелност'\"\n",
      "I got a KeyError - reason \"'обгрижа'\"\n",
      "I got a KeyError - reason \"'обгрижвам'\"\n",
      "I got a KeyError - reason \"'защитея'\"\n",
      "I got a KeyError - reason \"'застъп'\"\n"
     ]
    }
   ],
   "source": [
    "#check if all posiitve words are in frequency list\n",
    "freq_pos = []\n",
    "for lemma in lemmas_pos:\n",
    "    try:\n",
    "        freq_pos.append(lem_freq[lemma])\n",
    "    except KeyError as e:\n",
    "        print('I got a KeyError - reason \"%s\"' % str(e))\n",
    "        freq_pos.append(0)"
   ]
  },
  {
   "cell_type": "code",
   "execution_count": 210,
   "id": "2db0ca31",
   "metadata": {},
   "outputs": [
    {
     "data": {
      "text/plain": [
       "0.11027568922305764"
      ]
     },
     "execution_count": 210,
     "metadata": {},
     "output_type": "execute_result"
    }
   ],
   "source": [
    "#proportion not found\n",
    "freq_pos.count(0)/len(freq_pos)"
   ]
  },
  {
   "cell_type": "code",
   "execution_count": 192,
   "id": "22def856",
   "metadata": {
    "collapsed": true
   },
   "outputs": [
    {
     "name": "stdout",
     "output_type": "stream",
     "text": [
      "I got a KeyError - reason \"'гнусота'\"\n",
      "I got a KeyError - reason \"'травматичен'\"\n",
      "I got a KeyError - reason \"'травмирам'\"\n",
      "I got a KeyError - reason \"'зложелание'\"\n",
      "I got a KeyError - reason \"'избухливост'\"\n",
      "I got a KeyError - reason \"'дивам-(се)'\"\n",
      "I got a KeyError - reason \"'невежлив'\"\n",
      "I got a KeyError - reason \"'неучтив'\"\n",
      "I got a KeyError - reason \"'привилизова'\"\n",
      "I got a KeyError - reason \"'безбожен'\"\n",
      "I got a KeyError - reason \"'безбожие'\"\n",
      "I got a KeyError - reason \"'нереден'\"\n",
      "I got a KeyError - reason \"'неквалифицаран'\"\n",
      "I got a KeyError - reason \"'некултурен'\"\n",
      "I got a KeyError - reason \"'непорядъчност'\"\n",
      "I got a KeyError - reason \"'непорядъчен'\"\n",
      "I got a KeyError - reason \"'нетактичен'\"\n",
      "I got a KeyError - reason \"'нетактичност'\"\n",
      "I got a KeyError - reason \"'заплитане'\"\n",
      "I got a KeyError - reason \"'злосторничество'\"\n",
      "I got a KeyError - reason \"'нахълтване'\"\n",
      "I got a KeyError - reason \"'тъпоумен'\"\n",
      "I got a KeyError - reason \"'тъпоглав'\"\n",
      "I got a KeyError - reason \"'твърдоглавие'\"\n",
      "I got a KeyError - reason \"'вятърничав'\"\n",
      "I got a KeyError - reason \"'празноглав'\"\n",
      "I got a KeyError - reason \"'дебелоглав'\"\n",
      "I got a KeyError - reason \"'безрасъдство'\"\n",
      "I got a KeyError - reason \"'непостоянство'\"\n",
      "I got a KeyError - reason \"'дрънканица'\"\n",
      "I got a KeyError - reason \"'непоследователен'\"\n",
      "I got a KeyError - reason \"'спорене'\"\n",
      "I got a KeyError - reason \"'грознов'\"\n",
      "I got a KeyError - reason \"'низост'\"\n",
      "I got a KeyError - reason \"'гнусота'\"\n",
      "I got a KeyError - reason \"'противност'\"\n",
      "I got a KeyError - reason \"'противя'\"\n",
      "I got a KeyError - reason \"'ненавидя'\"\n",
      "I got a KeyError - reason \"'възмутям'\"\n",
      "I got a KeyError - reason \"'отвращам'\"\n",
      "I got a KeyError - reason \"'отвратя'\"\n",
      "I got a KeyError - reason \"'презра'\"\n",
      "I got a KeyError - reason \"'антипатичен'\"\n",
      "I got a KeyError - reason \"'присмея'\"\n",
      "I got a KeyError - reason \"'присмивка'\"\n",
      "I got a KeyError - reason \"'надсмиване'\"\n",
      "I got a KeyError - reason \"'осмивам-(се)'\"\n",
      "I got a KeyError - reason \"'осмея'\"\n",
      "I got a KeyError - reason \"'осмиване'\"\n",
      "I got a KeyError - reason \"'подиграя-(се)'\"\n",
      "I got a KeyError - reason \"'хаплив'\"\n",
      "I got a KeyError - reason \"'възмута'\"\n",
      "I got a KeyError - reason \"'неучтивост'\"\n",
      "I got a KeyError - reason \"'афронт'\"\n",
      "I got a KeyError - reason \"'ненавременен'\"\n",
      "I got a KeyError - reason \"'болестотворен'\"\n",
      "I got a KeyError - reason \"'вирулентен'\"\n",
      "I got a KeyError - reason \"'мръснишки'\"\n",
      "I got a KeyError - reason \"'диаболичен'\"\n",
      "I got a KeyError - reason \"'морбиден'\"\n",
      "I got a KeyError - reason \"'агонизирам'\"\n",
      "I got a KeyError - reason \"'измъча'\"\n",
      "I got a KeyError - reason \"'гнетя'\"\n",
      "I got a KeyError - reason \"'изтребвам'\"\n",
      "I got a KeyError - reason \"'препънкам'\"\n",
      "I got a KeyError - reason \"'боязлив'\"\n",
      "I got a KeyError - reason \"'плашлив'\"\n",
      "I got a KeyError - reason \"'безочлив'\"\n",
      "I got a KeyError - reason \"'безсрамник'\"\n",
      "I got a KeyError - reason \"'нахалност'\"\n",
      "I got a KeyError - reason \"'хейтър'\"\n",
      "I got a KeyError - reason \"'порочност'\"\n",
      "I got a KeyError - reason \"'обезобразяване'\"\n",
      "I got a KeyError - reason \"'ядосване'\"\n",
      "I got a KeyError - reason \"'фрустрация'\"\n",
      "I got a KeyError - reason \"'фрустрирам'\"\n",
      "I got a KeyError - reason \"'необещаващ'\"\n",
      "I got a KeyError - reason \"'несъразмерен'\"\n",
      "I got a KeyError - reason \"'неинтелигентен'\"\n",
      "I got a KeyError - reason \"'неприязнен'\"\n",
      "I got a KeyError - reason \"'второкачествен'\"\n",
      "I got a KeyError - reason \"'пороча'\"\n",
      "I got a KeyError - reason \"'прокобен'\"\n",
      "I got a KeyError - reason \"'горестен'\"\n",
      "I got a KeyError - reason \"'бозав'\"\n",
      "I got a KeyError - reason \"'меланхоличен'\"\n",
      "I got a KeyError - reason \"'изнуря'\"\n",
      "I got a KeyError - reason \"'перазположа-(се)'\"\n",
      "I got a KeyError - reason \"'немарлив'\"\n",
      "I got a KeyError - reason \"'несръчност'\"\n",
      "I got a KeyError - reason \"'неумел'\"\n",
      "I got a KeyError - reason \"'неприроден'\"\n",
      "I got a KeyError - reason \"'слабоумен'\"\n",
      "I got a KeyError - reason \"'касапски'\"\n",
      "I got a KeyError - reason \"'имбецил'\"\n",
      "I got a KeyError - reason \"'бъгав'\"\n",
      "I got a KeyError - reason \"'животозастрашам'\"\n",
      "I got a KeyError - reason \"'притеснея'\"\n",
      "I got a KeyError - reason \"'нехаещ'\"\n",
      "I got a KeyError - reason \"'низък'\"\n",
      "I got a KeyError - reason \"'покваря-(се)'\"\n"
     ]
    }
   ],
   "source": [
    "#check if all negative words are in frequency list\n",
    "freq_neg = []\n",
    "for lemma in lemmas_neg:\n",
    "    try:\n",
    "        freq_neg.append(lem_freq[lemma])\n",
    "    except KeyError as e:\n",
    "        try: \n",
    "            freq_neg.append(freq_dict[lemma])\n",
    "        except KeyError as e:\n",
    "            print('I got a KeyError - reason \"%s\"' % str(e))\n",
    "            freq_neg.append(0)"
   ]
  },
  {
   "cell_type": "code",
   "execution_count": 193,
   "id": "1a6d7ed3",
   "metadata": {},
   "outputs": [
    {
     "data": {
      "text/plain": [
       "0.1762652705061082"
      ]
     },
     "execution_count": 193,
     "metadata": {},
     "output_type": "execute_result"
    }
   ],
   "source": [
    "#proportion not found\n",
    "freq_neg.count(0)/len(freq_neg)"
   ]
  },
  {
   "cell_type": "markdown",
   "id": "0d39f66a",
   "metadata": {},
   "source": [
    "### Save frequency-ranked lemma lists\n",
    "\n",
    "    #also check if they are in GloVe vocab\n",
    "\n"
   ]
  },
  {
   "cell_type": "code",
   "execution_count": 171,
   "id": "5464933e",
   "metadata": {},
   "outputs": [],
   "source": [
    "#load glove vocab \n",
    "with open('glove/vocab_bg.txt', 'r') as f:\n",
    "    vocab = [line.split('\\n')[:-1] for line in f.readlines()]\n",
    "vocab_words = [line[0].split(\" \")[0].split('-')[0] for line in vocab]"
   ]
  },
  {
   "cell_type": "markdown",
   "id": "adb2da61",
   "metadata": {},
   "source": [
    "#### Positive seed"
   ]
  },
  {
   "cell_type": "code",
   "execution_count": 211,
   "id": "a6ba0ee0",
   "metadata": {},
   "outputs": [],
   "source": [
    "#sort positive words by frequency\n",
    "frequencies = set(zip(lemmas_pos, pos_pos, freq_pos))\n",
    "sorted_by_freq = sorted(frequencies, key=lambda tup: tup[2], reverse = True)"
   ]
  },
  {
   "cell_type": "code",
   "execution_count": 213,
   "id": "5bf0c1dc",
   "metadata": {},
   "outputs": [
    {
     "data": {
      "text/plain": [
       "390"
      ]
     },
     "execution_count": 213,
     "metadata": {},
     "output_type": "execute_result"
    }
   ],
   "source": [
    "#number of positive seeds\n",
    "len(sorted_by_freq)"
   ]
  },
  {
   "cell_type": "code",
   "execution_count": 217,
   "id": "bb73d3fb",
   "metadata": {},
   "outputs": [],
   "source": [
    "#save the positive seeds that are also in the corpus vocabulary\n",
    "with open('positive_seed_BG_ALL.txt', 'w') as f:\n",
    "    for word, pos, freq in sorted_by_freq:\n",
    "        if word in vocab_words:\n",
    "            f.write(word + '\\t' + pos + '\\t' + str(freq) + '\\n')"
   ]
  },
  {
   "cell_type": "markdown",
   "id": "d69acf0a",
   "metadata": {},
   "source": [
    "#### Negative seed"
   ]
  },
  {
   "cell_type": "code",
   "execution_count": 218,
   "id": "a4dbbd4e",
   "metadata": {},
   "outputs": [],
   "source": [
    "#sort by frequency\n",
    "frequencies_neg = zip(lemmas_neg, neg_pos, freq_neg)\n",
    "sorted_by_freq_neg = sorted(frequencies_neg, key=lambda tup: tup[2], reverse = True)"
   ]
  },
  {
   "cell_type": "code",
   "execution_count": 219,
   "id": "f4aa04a1",
   "metadata": {},
   "outputs": [
    {
     "data": {
      "text/plain": [
       "573"
      ]
     },
     "execution_count": 219,
     "metadata": {},
     "output_type": "execute_result"
    }
   ],
   "source": [
    "#number of positive seeds\n",
    "len(sorted_by_freq_neg)"
   ]
  },
  {
   "cell_type": "code",
   "execution_count": 220,
   "id": "e477831a",
   "metadata": {},
   "outputs": [],
   "source": [
    "#save the negative seeds that are also in the corpus vocabulary\n",
    "with open('negative_seed_BG_ALL.txt', 'w') as f:\n",
    "    for word, pos, freq in sorted_by_freq_neg:\n",
    "        if word in vocab_words:\n",
    "            f.write(word + '\\t' + pos + '\\t' + str(freq) + '\\n')"
   ]
  },
  {
   "cell_type": "markdown",
   "id": "827f1f9f",
   "metadata": {},
   "source": [
    "### Stats "
   ]
  },
  {
   "cell_type": "code",
   "execution_count": 221,
   "id": "c6d10750",
   "metadata": {},
   "outputs": [
    {
     "data": {
      "text/plain": [
       "(('тържество', 'NOUN', 2053.0), ('тъжен', 'ADJ', 1498.0))"
      ]
     },
     "execution_count": 221,
     "metadata": {},
     "output_type": "execute_result"
    }
   ],
   "source": [
    "sorted_by_freq[100], sorted_by_freq_neg[100]"
   ]
  },
  {
   "cell_type": "code",
   "execution_count": 232,
   "id": "4d22b6d2",
   "metadata": {},
   "outputs": [],
   "source": [
    "import numpy as np\n",
    "\n",
    "freqs_pos = np.array([tup[2] for tup in sorted_by_freq[:100]])\n",
    "freqs_neg = np.array([tup[2] for tup in sorted_by_freq_neg[:100]])"
   ]
  },
  {
   "cell_type": "code",
   "execution_count": 233,
   "id": "4209fd50",
   "metadata": {},
   "outputs": [
    {
     "data": {
      "image/png": "[encoded data removed]",
      "text/plain": [
       "<Figure size 432x288 with 1 Axes>"
      ]
     },
     "metadata": {
      "needs_background": "light"
     },
     "output_type": "display_data"
    }
   ],
   "source": [
    "import matplotlib.pyplot as plt\n",
    "\n",
    "plt.hist(freqs_pos);"
   ]
  },
  {
   "cell_type": "code",
   "execution_count": 234,
   "id": "1ac1f382",
   "metadata": {},
   "outputs": [
    {
     "data": {
      "image/png": "[encoded data removed]",
      "text/plain": [
       "<Figure size 432x288 with 1 Axes>"
      ]
     },
     "metadata": {
      "needs_background": "light"
     },
     "output_type": "display_data"
    }
   ],
   "source": [
    "plt.hist(freqs_neg);"
   ]
  },
  {
   "cell_type": "code",
   "execution_count": 239,
   "id": "3245e63f",
   "metadata": {},
   "outputs": [],
   "source": [
    "POS_pos = np.array([tup[1] for tup in sorted_by_freq[:100]])\n",
    "POS_neg = np.array([tup[1] for tup in sorted_by_freq_neg[:100]])"
   ]
  },
  {
   "cell_type": "code",
   "execution_count": 240,
   "id": "9230331e",
   "metadata": {},
   "outputs": [
    {
     "data": {
      "image/png": "[encoded data removed]",
      "text/plain": [
       "<Figure size 432x288 with 1 Axes>"
      ]
     },
     "metadata": {},
     "output_type": "display_data"
    }
   ],
   "source": [
    "labels, counts = np.unique(POS_pos, return_counts = True)\n",
    "plt.pie(counts, labels = labels);"
   ]
  },
  {
   "cell_type": "code",
   "execution_count": 241,
   "id": "c887a212",
   "metadata": {},
   "outputs": [
    {
     "data": {
      "image/png": "[encoded data removed]",
      "text/plain": [
       "<Figure size 432x288 with 1 Axes>"
      ]
     },
     "metadata": {},
     "output_type": "display_data"
    }
   ],
   "source": [
    "labels, counts = np.unique(POS_neg, return_counts = True)\n",
    "plt.pie(counts, labels = labels);"
   ]
  },
  {
   "cell_type": "code",
   "execution_count": null,
   "id": "7c596183",
   "metadata": {},
   "outputs": [],
   "source": []
  }
 ],
 "metadata": {
  "kernelspec": {
   "display_name": "Python [conda env:root] *",
   "language": "python",
   "name": "conda-root-py"
  },
  "language_info": {
   "codemirror_mode": {
    "name": "ipython",
    "version": 3
   },
   "file_extension": ".py",
   "mimetype": "text/x-python",
   "name": "python",
   "nbconvert_exporter": "python",
   "pygments_lexer": "ipython3",
   "version": "3.9.7"
  }
 },
 "nbformat": 4,
 "nbformat_minor": 5
}
