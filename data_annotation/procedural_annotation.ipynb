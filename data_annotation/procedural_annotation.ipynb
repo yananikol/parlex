{
 "cells": [
  {
   "cell_type": "markdown",
   "id": "32c60f1b",
   "metadata": {},
   "source": [
    "# Annotate meta files"
   ]
  },
  {
   "cell_type": "code",
   "execution_count": 76,
   "id": "c656b332",
   "metadata": {},
   "outputs": [],
   "source": [
    "import pandas as pd\n",
    "import numpy as np\n",
    "import re\n",
    "import matplotlib.pyplot as plt\n",
    "import random\n",
    "import os\n",
    "from tqdm import tqdm\n",
    "pd.set_option('display.max_colwidth', None)"
   ]
  },
  {
   "cell_type": "code",
   "execution_count": 77,
   "id": "2797efb8",
   "metadata": {},
   "outputs": [
    {
     "name": "stderr",
     "output_type": "stream",
     "text": [
      "0it [00:00, ?it/s]\n",
      "100%|███████████████████████████████████████████| 27/27 [00:00<00:00, 29.91it/s]\n",
      "100%|███████████████████████████████████████████| 87/87 [00:02<00:00, 36.34it/s]\n",
      "100%|█████████████████████████████████████████| 132/132 [00:03<00:00, 36.69it/s]\n",
      "100%|█████████████████████████████████████████| 101/101 [00:05<00:00, 20.02it/s]\n",
      "100%|█████████████████████████████████████████| 122/122 [00:03<00:00, 31.13it/s]\n",
      "100%|███████████████████████████████████████████| 70/70 [00:09<00:00,  7.44it/s]\n",
      "100%|█████████████████████████████████████████| 122/122 [00:04<00:00, 26.98it/s]\n",
      "100%|█████████████████████████████████████████| 132/132 [00:04<00:00, 32.21it/s]\n",
      "100%|█████████████████████████████████████████| 128/128 [00:03<00:00, 32.50it/s]\n"
     ]
    }
   ],
   "source": [
    "DIR = \"ParlaMint-BG.txt\"\n",
    "\n",
    "for root, dirs, files in os.walk(DIR, topdown=True):\n",
    "    files = [file for file in files if file.endswith(\".txt\") and file != \"00README.txt\"]\n",
    "    for file in tqdm(files):\n",
    "        file_id, end = os.path.splitext(file)\n",
    "        metafile = file_id + \"-meta.csv\"\n",
    "        \n",
    "        filepath = os.path.join(root, file)\n",
    "        metapath = os.path.join(root, metafile)   \n",
    "        \n",
    "        df_txt = pd.read_csv(filepath, delimiter = \"\\t\", names = [\"ID\", \"Speech\"]).set_index(\"ID\")\n",
    "        df_meta = pd.read_csv(metapath, delimiter = \"\\t\")\n",
    "        \n",
    "        df = df_meta.join(df_txt, on = \"ID\")\n",
    "        \n",
    "        df[\"Comission\"] = df[\"Speech\"].str.contains(\"Комисията не подкрепя|Комисията подкрепя\")\n",
    "        df_meta[\"Comission\"] = df[\"Comission\"]\n",
    "        \n",
    "        df_meta.to_csv(metapath, sep = \"\\t\", index = False)\n"
   ]
  },
  {
   "cell_type": "markdown",
   "id": "33fadfa3",
   "metadata": {},
   "source": [
    "# Statistics on Comission Speeches "
   ]
  },
  {
   "cell_type": "code",
   "execution_count": 94,
   "id": "c45c1913",
   "metadata": {},
   "outputs": [],
   "source": [
    "df_dk = pd.read_csv(\"ParlaMint-BG-SENT.csv\", delimiter = \",\", dtype = object)\n",
    "df_dk = df_dk[df_dk[\"Speaker_role\"]!= \"Chairperson\"]\n",
    "df_dk = df_dk.drop(df_dk[(df_dk[\"Speaker_Minister\"] == \"-\") & (df_dk[\"Speaker_MP\"] == \"notMP\")].index)\n",
    "df_dk[\"Word_total\"] = df_dk[\"Word_total\"].astype(float)\n",
    "df_dk = df_dk[df_dk[\"Word_total\"] > 10]\n",
    "df_dk[\"Score\"] = df_dk[\"Score\"].astype(float)\n",
    "df_dk[\"Sentiment\"] = df_dk[\"Sentiment\"].astype(float)\n",
    "df_dk[\"Negscore\"] = df_dk[\"Negscore\"].astype(float)/df_dk[\"Word_total\"]\n",
    "pd.set_option('display.max_colwidth', None)"
   ]
  },
  {
   "cell_type": "code",
   "execution_count": 83,
   "id": "b7cb06d4",
   "metadata": {},
   "outputs": [
    {
     "data": {
      "text/plain": [
       "Party_status  Comission\n",
       "Coalition     False        23659\n",
       "              True         10270\n",
       "Opposition    False        34496\n",
       "              True          1528\n",
       "Name: Comission, dtype: int64"
      ]
     },
     "execution_count": 83,
     "metadata": {},
     "output_type": "execute_result"
    }
   ],
   "source": [
    "df_dk.groupby(\"Party_status\")[\"Comission\"].value_counts()"
   ]
  },
  {
   "cell_type": "code",
   "execution_count": 92,
   "id": "76706c5e",
   "metadata": {},
   "outputs": [
    {
     "data": {
      "text/plain": [
       "Party_status\n",
       "Coalition     0.037631\n",
       "Opposition    0.037719\n",
       "Name: Score, dtype: float64"
      ]
     },
     "execution_count": 92,
     "metadata": {},
     "output_type": "execute_result"
    }
   ],
   "source": [
    "df_dk[df_dk[\"Comission\"] == \"False\"].groupby(\"Party_status\")[\"Score\"].mean()"
   ]
  },
  {
   "cell_type": "code",
   "execution_count": 96,
   "id": "8900d321",
   "metadata": {},
   "outputs": [
    {
     "data": {
      "text/plain": [
       "Party_status\n",
       "Coalition     0.029749\n",
       "Opposition    0.027953\n",
       "Name: Negscore, dtype: float64"
      ]
     },
     "execution_count": 96,
     "metadata": {},
     "output_type": "execute_result"
    }
   ],
   "source": [
    "df_dk[df_dk[\"Comission\"] == \"False\"].groupby(\"Party_status\")[\"Negscore\"].mean()"
   ]
  },
  {
   "cell_type": "code",
   "execution_count": 97,
   "id": "da2a7c6b",
   "metadata": {},
   "outputs": [
    {
     "data": {
      "text/plain": [
       "Comission\n",
       "False    0.037888\n",
       "True     0.013118\n",
       "Name: Score, dtype: float64"
      ]
     },
     "execution_count": 97,
     "metadata": {},
     "output_type": "execute_result"
    }
   ],
   "source": [
    "df_dk.groupby(\"Comission\")[\"Score\"].mean()"
   ]
  },
  {
   "cell_type": "code",
   "execution_count": 102,
   "id": "4b4b4689",
   "metadata": {},
   "outputs": [
    {
     "data": {
      "text/plain": [
       "<AxesSubplot:>"
      ]
     },
     "execution_count": 102,
     "metadata": {},
     "output_type": "execute_result"
    },
    {
     "data": {
      "image/png": "[encoded data removed]",
      "text/plain": [
       "<Figure size 432x288 with 1 Axes>"
      ]
     },
     "metadata": {
      "needs_background": "light"
     },
     "output_type": "display_data"
    }
   ],
   "source": [
    "df_dk[df_dk[\"Comission\"] == \"True\"][\"Score\"].hist(bins = 20)"
   ]
  },
  {
   "cell_type": "code",
   "execution_count": 105,
   "id": "61d19d1b",
   "metadata": {},
   "outputs": [
    {
     "data": {
      "text/plain": [
       "Comission\n",
       "False    2740\n",
       "True     3985\n",
       "Name: ID, dtype: int64"
      ]
     },
     "execution_count": 105,
     "metadata": {},
     "output_type": "execute_result"
    }
   ],
   "source": [
    "df_dk[df_dk[\"Score\"] == 0.0].groupby(\"Comission\")[\"ID\"].count()"
   ]
  },
  {
   "cell_type": "code",
   "execution_count": 106,
   "id": "1562674b",
   "metadata": {},
   "outputs": [
    {
     "data": {
      "text/plain": [
       "Party_status  Comission\n",
       "Coalition     False        1300\n",
       "              True         3374\n",
       "Opposition    False        1149\n",
       "              True          533\n",
       "Name: ID, dtype: int64"
      ]
     },
     "execution_count": 106,
     "metadata": {},
     "output_type": "execute_result"
    }
   ],
   "source": [
    "df_dk[df_dk[\"Score\"] == 0.0].groupby([\"Party_status\", \"Comission\"])[\"ID\"].count()"
   ]
  },
  {
   "cell_type": "code",
   "execution_count": 107,
   "id": "f50b6e54",
   "metadata": {},
   "outputs": [
    {
     "data": {
      "text/plain": [
       "Meeting_type  Comission\n",
       "ГЛАСУВАНЕ     False        31937\n",
       "              True         10310\n",
       "ДОКЛАД        False         1807\n",
       "              True            21\n",
       "ЗАКОНОПРОЕКТ  False         3858\n",
       "              True           323\n",
       "ИЗБОР         False         1770\n",
       "ИЗСЛУШВАНЕ    False         2883\n",
       "              True            62\n",
       "КОНТРОЛ       False         1712\n",
       "ОСТАВКА       False           86\n",
       "ОТНОСНО       False          121\n",
       "ОТЧЕТ         False          410\n",
       "ПРЕДСТАВЯНЕ   False            7\n",
       "ПРОЕКТ        False         9939\n",
       "              True           374\n",
       "ПРОЕКТИ       False          688\n",
       "              True            21\n",
       "ПРОМЕНИ       False          128\n",
       "РАЗИСКВАНИЯ   False          341\n",
       "РЕШЕНИЕ       False          389\n",
       "              True             1\n",
       "ЧЕТЕНЕ        False         2142\n",
       "              True           654\n",
       "Name: Comission, dtype: int64"
      ]
     },
     "execution_count": 107,
     "metadata": {},
     "output_type": "execute_result"
    }
   ],
   "source": [
    "df_dk.groupby(\"Meeting_type\")[\"Comission\"].value_counts()"
   ]
  },
  {
   "cell_type": "code",
   "execution_count": null,
   "id": "4e254cda",
   "metadata": {},
   "outputs": [],
   "source": []
  }
 ],
 "metadata": {
  "kernelspec": {
   "display_name": "Python [conda env:root] *",
   "language": "python",
   "name": "conda-root-py"
  },
  "language_info": {
   "codemirror_mode": {
    "name": "ipython",
    "version": 3
   },
   "file_extension": ".py",
   "mimetype": "text/x-python",
   "name": "python",
   "nbconvert_exporter": "python",
   "pygments_lexer": "ipython3",
   "version": "3.9.7"
  }
 },
 "nbformat": 4,
 "nbformat_minor": 5
}
