{
 "cells": [
  {
   "cell_type": "markdown",
   "id": "b22d7a65",
   "metadata": {},
   "source": [
    "# Creating Danish Seed Dictionary"
   ]
  },
  {
   "cell_type": "markdown",
   "id": "32c0eeda",
   "metadata": {},
   "source": [
    "### Loading lists and removing duplicates"
   ]
  },
  {
   "cell_type": "code",
   "execution_count": 1,
   "id": "b85c324b",
   "metadata": {},
   "outputs": [],
   "source": [
    "with open('positive_seed_DK.txt', 'r') as file:\n",
    "    pos_dk = list(set([el.rstrip() for el in file.readlines()]))\n",
    "    \n",
    "with open('negative_seed_DK.txt', 'r') as file:\n",
    "    neg_dk = list(set([el.rstrip() for el in file.readlines()]))"
   ]
  },
  {
   "cell_type": "code",
   "execution_count": 2,
   "id": "2e3e57b7",
   "metadata": {},
   "outputs": [
    {
     "name": "stdout",
     "output_type": "stream",
     "text": [
      "Length of positive list: 314\n",
      "Length of negative list: 548\n"
     ]
    }
   ],
   "source": [
    "print(\"Length of positive list:\", len(pos_dk))\n",
    "print(\"Length of negative list:\", len(neg_dk))"
   ]
  },
  {
   "cell_type": "markdown",
   "id": "5d0ee986",
   "metadata": {},
   "source": [
    "### POS-tagging and Lemmatization - CST"
   ]
  },
  {
   "cell_type": "code",
   "execution_count": 11,
   "id": "c4e0e1fe",
   "metadata": {},
   "outputs": [],
   "source": [
    "#download CST-tagged files\n",
    "with open('positive_seed_DK.txt.ord.klasse.lem.SOLIDUS.txt', 'r') as f:\n",
    "    postext = f.read().split()\n",
    "\n",
    "with open('negative_seed_DK.txt.ord.klasse.lem.SOLIDUS.txt', 'r') as f:\n",
    "    negtext = f.read().split()"
   ]
  },
  {
   "cell_type": "code",
   "execution_count": 14,
   "id": "7f17475a",
   "metadata": {},
   "outputs": [],
   "source": [
    "#gathering annotations into lists - positive\n",
    "pos_pos = []\n",
    "lemmas_pos = []\n",
    "pos_dk = []\n",
    "\n",
    "for word in postext:\n",
    "    w = word.split('/')\n",
    "    lemmas_pos.append(w[2])\n",
    "    pos_pos.append(w[1])\n",
    "    pos_dk.append(w[0])"
   ]
  },
  {
   "cell_type": "code",
   "execution_count": 26,
   "id": "edae1800",
   "metadata": {},
   "outputs": [],
   "source": [
    "#gathering annotations into lists - negative\n",
    "neg_pos = []\n",
    "lemmas_neg = []\n",
    "neg_dk = []\n",
    "\n",
    "for word in negtext:\n",
    "    w = word.split('/')\n",
    "    lemmas_neg.append(w[2])\n",
    "    neg_pos.append(w[1])\n",
    "    neg_dk.append(w[0])"
   ]
  },
  {
   "cell_type": "code",
   "execution_count": 18,
   "id": "ff47286b",
   "metadata": {},
   "outputs": [
    {
     "data": {
      "text/plain": [
       "(559, 537)"
      ]
     },
     "execution_count": 18,
     "metadata": {},
     "output_type": "execute_result"
    }
   ],
   "source": [
    "len(lemmas_neg), len(set(lemmas_neg))"
   ]
  },
  {
   "cell_type": "code",
   "execution_count": 19,
   "id": "5010b704",
   "metadata": {},
   "outputs": [],
   "source": [
    "lemmas_pos_unique = list(set(lemmas_pos)) #remove duplicates\n",
    "lemmas_neg_unique = list(set(lemmas_neg)) #remove duplicates"
   ]
  },
  {
   "cell_type": "code",
   "execution_count": 20,
   "id": "2174eb31",
   "metadata": {},
   "outputs": [
    {
     "name": "stdout",
     "output_type": "stream",
     "text": [
      "Length of positive list: 301\n",
      "Length of negative list: 537\n"
     ]
    }
   ],
   "source": [
    "print(\"Length of positive list:\", len(lemmas_pos_unique))\n",
    "print(\"Length of negative list:\", len(lemmas_neg_unique))"
   ]
  },
  {
   "cell_type": "markdown",
   "id": "2af01ce6",
   "metadata": {},
   "source": [
    "### Write new file with lemmas and POS -- for manual correction"
   ]
  },
  {
   "cell_type": "markdown",
   "id": "18124477",
   "metadata": {},
   "source": [
    "    with open('positive_seed_DK_meta.txt', 'w') as f:\n",
    "        for word, lemma, pos in zip(pos_dk,lemmas_pos, pos_pos):\n",
    "            f.write(word + '\\t' + lemma + '\\t' + pos + '\\n')"
   ]
  },
  {
   "cell_type": "markdown",
   "id": "0204eb24",
   "metadata": {},
   "source": [
    "    with open('negative_seed_DK_meta.txt', 'w') as f:\n",
    "        for word, lemma, pos in zip(neg_dk,lemmas_neg, neg_pos):\n",
    "            f.write(word + '\\t' + lemma + '\\t' + pos + '\\n')"
   ]
  },
  {
   "cell_type": "markdown",
   "id": "3d79d3f8",
   "metadata": {},
   "source": [
    "### Frequency ranking"
   ]
  },
  {
   "cell_type": "code",
   "execution_count": 28,
   "id": "9427520b",
   "metadata": {},
   "outputs": [],
   "source": [
    "#read frequency list\n",
    "with open('lemma-30k-2017.txt') as file:\n",
    "    freqlines = [line.split('\\t') for line in file.readlines()]"
   ]
  },
  {
   "cell_type": "code",
   "execution_count": 29,
   "id": "078e7c65",
   "metadata": {},
   "outputs": [],
   "source": [
    "#create dictionary {lemma:frequency}\n",
    "freq_dict = {}\n",
    "for line in freqlines:\n",
    "    freq_dict[line[1]] = float(line[2].rstrip())"
   ]
  },
  {
   "cell_type": "code",
   "execution_count": 36,
   "id": "06f366a9",
   "metadata": {},
   "outputs": [],
   "source": [
    "#load positive seed with metadata\n",
    "with open('positive_seed_DK_meta.txt', 'r') as f:\n",
    "    lines = [line.split('\\t') for line in f.readlines()] \n",
    "    lemmas_pos = [line[1] for line in lines] #get lemma \n",
    "    pos_pos = [line[2].rstrip() for line in lines] #get POS tag"
   ]
  },
  {
   "cell_type": "code",
   "execution_count": 48,
   "id": "3bee41cd",
   "metadata": {},
   "outputs": [],
   "source": [
    "#load negative seed with metadata\n",
    "with open('negative_seed_DK_meta.txt', 'r') as f:\n",
    "    lines = [line.split('\\t') for line in f.readlines()] \n",
    "    lemmas_neg = [line[1] for line in lines] #get lemma \n",
    "    neg_pos = [line[2].rstrip() for line in lines] #get POS tag"
   ]
  },
  {
   "cell_type": "code",
   "execution_count": 38,
   "id": "34591962",
   "metadata": {},
   "outputs": [],
   "source": [
    "#check if all posiitve words are in frequency list\n",
    "freq_pos = []\n",
    "for lemma in lemmas_pos:\n",
    "    try:\n",
    "        freq_pos.append(freq_dict[lemma])\n",
    "    except KeyError as e:\n",
    "        print('I got a KeyError - reason \"%s\"' % str(e))\n",
    "        freq_pos.append(0)\n"
   ]
  },
  {
   "cell_type": "code",
   "execution_count": 49,
   "id": "fdbd2566",
   "metadata": {},
   "outputs": [
    {
     "name": "stdout",
     "output_type": "stream",
     "text": [
      "I got a KeyError - reason \"'hjamsk'\"\n",
      "I got a KeyError - reason \"'småtbegavet'\"\n",
      "I got a KeyError - reason \"'inkohærens'\"\n",
      "I got a KeyError - reason \"'kvalmende'\"\n",
      "I got a KeyError - reason \"'kortluntet'\"\n",
      "I got a KeyError - reason \"'tomhovedet'\"\n"
     ]
    }
   ],
   "source": [
    "#check if all negative words are in frequency list\n",
    "freq_neg = []\n",
    "for lemma in lemmas_neg:\n",
    "    try:\n",
    "        freq_neg.append(freq_dict[lemma])\n",
    "    except KeyError as e:\n",
    "        print('I got a KeyError - reason \"%s\"' % str(e))\n",
    "        freq_neg.append(0)"
   ]
  },
  {
   "cell_type": "code",
   "execution_count": 50,
   "id": "ceca8368",
   "metadata": {},
   "outputs": [
    {
     "data": {
      "text/plain": [
       "0.01073345259391771"
      ]
     },
     "execution_count": 50,
     "metadata": {},
     "output_type": "execute_result"
    }
   ],
   "source": [
    "freq_neg.count(0)/len(freq_neg)"
   ]
  },
  {
   "cell_type": "markdown",
   "id": "837f423d",
   "metadata": {},
   "source": [
    "### Save frequency-ranked lemma lists"
   ]
  },
  {
   "cell_type": "code",
   "execution_count": 52,
   "id": "8cff3f19",
   "metadata": {},
   "outputs": [],
   "source": [
    "#load glove vocab \n",
    "with open('glove/vocab.txt', 'r') as f:\n",
    "    vocab = [line.split('\\n')[:-1] for line in f.readlines()]\n",
    "vocab_words = [line[0].split(\" \")[0].split('-')[0] for line in vocab]"
   ]
  },
  {
   "cell_type": "code",
   "execution_count": 59,
   "id": "4f3614c3",
   "metadata": {},
   "outputs": [],
   "source": [
    "frequencies = set(zip(lemmas_pos, pos_pos, freq_pos))\n",
    "sorted_by_freq = sorted(frequencies, key=lambda tup: tup[2], reverse = True)"
   ]
  },
  {
   "cell_type": "code",
   "execution_count": 60,
   "id": "4fe5ea78",
   "metadata": {},
   "outputs": [],
   "source": [
    "with open('positive_seed_DK_ALL.txt', 'w') as f:\n",
    "    for word, pos, freq in sorted_by_freq:\n",
    "        if word in vocab_words:\n",
    "            f.write(word + '\\t' + pos + '\\t' + str(freq) + '\\n')"
   ]
  },
  {
   "cell_type": "code",
   "execution_count": 61,
   "id": "d86f7707",
   "metadata": {},
   "outputs": [],
   "source": [
    "frequencies_neg = set(zip(lemmas_neg, neg_pos, freq_neg))\n",
    "sorted_by_freq_neg = sorted(frequencies_neg, key=lambda tup: tup[2], reverse = True)"
   ]
  },
  {
   "cell_type": "code",
   "execution_count": 62,
   "id": "47ab2c6f",
   "metadata": {},
   "outputs": [],
   "source": [
    "with open('negative_seed_DK_ALL.txt', 'w') as f:\n",
    "    for word, pos, freq in sorted_by_freq_neg:\n",
    "        if word in vocab_words:\n",
    "            f.write(word + '\\t' + pos + '\\t' + str(freq) + '\\n')"
   ]
  },
  {
   "cell_type": "markdown",
   "id": "3ce115a1",
   "metadata": {},
   "source": [
    "### Stats -- POS and frequency distribution"
   ]
  },
  {
   "cell_type": "code",
   "execution_count": 64,
   "id": "a28fb8f5",
   "metadata": {},
   "outputs": [
    {
     "name": "stdout",
     "output_type": "stream",
     "text": [
      "Length of positive list: 305\n",
      "Length of negative list: 539\n"
     ]
    }
   ],
   "source": [
    "print(\"Length of positive list:\", len(frequencies))\n",
    "print(\"Length of negative list:\", len(frequencies_neg))"
   ]
  },
  {
   "cell_type": "code",
   "execution_count": 65,
   "id": "dd2ce60f",
   "metadata": {},
   "outputs": [
    {
     "data": {
      "text/plain": [
       "(('komfortabel', 'ADJ', 7.35084829473043e-06),\n",
       " ('korrupt', 'ADV', 8.21133779565623e-06))"
      ]
     },
     "execution_count": 65,
     "metadata": {},
     "output_type": "execute_result"
    }
   ],
   "source": [
    "sorted_by_freq[100], sorted_by_freq_neg[100]"
   ]
  },
  {
   "cell_type": "code",
   "execution_count": 66,
   "id": "41338a12",
   "metadata": {},
   "outputs": [],
   "source": [
    "import numpy as np\n",
    "\n",
    "freqs_pos = np.array([tup[2] for tup in sorted_by_freq[:100]])\n",
    "freqs_neg = np.array([tup[2] for tup in sorted_by_freq_neg[:100]])"
   ]
  },
  {
   "cell_type": "code",
   "execution_count": 67,
   "id": "0a575429",
   "metadata": {},
   "outputs": [
    {
     "data": {
      "image/png": "[encoded data removed]",
      "text/plain": [
       "<Figure size 432x288 with 1 Axes>"
      ]
     },
     "metadata": {
      "needs_background": "light"
     },
     "output_type": "display_data"
    }
   ],
   "source": [
    "import matplotlib.pyplot as plt\n",
    "\n",
    "plt.hist(freqs_pos);"
   ]
  },
  {
   "cell_type": "code",
   "execution_count": 68,
   "id": "0b1d973a",
   "metadata": {},
   "outputs": [
    {
     "data": {
      "image/png": "[encoded data removed]",
      "text/plain": [
       "<Figure size 432x288 with 1 Axes>"
      ]
     },
     "metadata": {
      "needs_background": "light"
     },
     "output_type": "display_data"
    }
   ],
   "source": [
    "plt.hist(freqs_neg);"
   ]
  },
  {
   "cell_type": "code",
   "execution_count": 75,
   "id": "a174a413",
   "metadata": {},
   "outputs": [],
   "source": [
    "POS_pos = np.array([tup[1] for tup in sorted_by_freq[:200]])\n",
    "POS_neg = np.array([tup[1] for tup in sorted_by_freq_neg[:200]])"
   ]
  },
  {
   "cell_type": "code",
   "execution_count": 76,
   "id": "89f3cd1c",
   "metadata": {},
   "outputs": [
    {
     "data": {
      "image/png": "[encoded data removed]",
      "text/plain": [
       "<Figure size 432x288 with 1 Axes>"
      ]
     },
     "metadata": {},
     "output_type": "display_data"
    }
   ],
   "source": [
    "labels, counts = np.unique(POS_pos, return_counts = True)\n",
    "plt.pie(counts, labels = labels);"
   ]
  },
  {
   "cell_type": "code",
   "execution_count": 77,
   "id": "d247febe",
   "metadata": {},
   "outputs": [
    {
     "data": {
      "image/png": "[encoded data removed]",
      "text/plain": [
       "<Figure size 432x288 with 1 Axes>"
      ]
     },
     "metadata": {},
     "output_type": "display_data"
    }
   ],
   "source": [
    "labels, counts = np.unique(POS_neg, return_counts = True)\n",
    "plt.pie(counts, labels = labels);"
   ]
  },
  {
   "cell_type": "code",
   "execution_count": null,
   "id": "5cff22ae",
   "metadata": {},
   "outputs": [],
   "source": []
  }
 ],
 "metadata": {
  "kernelspec": {
   "display_name": "Python [conda env:root] *",
   "language": "python",
   "name": "conda-root-py"
  },
  "language_info": {
   "codemirror_mode": {
    "name": "ipython",
    "version": 3
   },
   "file_extension": ".py",
   "mimetype": "text/x-python",
   "name": "python",
   "nbconvert_exporter": "python",
   "pygments_lexer": "ipython3",
   "version": "3.9.7"
  }
 },
 "nbformat": 4,
 "nbformat_minor": 5
}
