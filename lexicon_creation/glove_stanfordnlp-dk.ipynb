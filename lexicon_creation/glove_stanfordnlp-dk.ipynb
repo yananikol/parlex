{
 "cells": [
  {
   "cell_type": "markdown",
   "id": "c69dbf44",
   "metadata": {},
   "source": [
    "### Clone repository"
   ]
  },
  {
   "cell_type": "code",
   "execution_count": 1,
   "id": "491f9825",
   "metadata": {
    "collapsed": true
   },
   "outputs": [
    {
     "name": "stdout",
     "output_type": "stream",
     "text": [
      "Cloning into 'glove'...\n",
      "warning: redirecting to https://github.com/stanfordnlp/glove/\n",
      "remote: Enumerating objects: 631, done.\u001b[K\n",
      "remote: Counting objects: 100% (39/39), done.\u001b[K\n",
      "remote: Compressing objects: 100% (18/18), done.\u001b[K\n",
      "remote: Total 631 (delta 21), reused 30 (delta 21), pack-reused 592\u001b[K\n",
      "Receiving objects: 100% (631/631), 235.75 KiB | 1.79 MiB/s, done.\n",
      "Resolving deltas: 100% (359/359), done.\n"
     ]
    }
   ],
   "source": [
    "!git clone http://github.com/stanfordnlp/glove"
   ]
  },
  {
   "cell_type": "code",
   "execution_count": 2,
   "id": "4ada690d",
   "metadata": {
    "collapsed": true
   },
   "outputs": [
    {
     "name": "stdout",
     "output_type": "stream",
     "text": [
      "mkdir -p build\n",
      "gcc -c src/vocab_count.c -o build/vocab_count.o -lm -pthread -O3 -march=native -funroll-loops -Wall -Wextra -Wpedantic\n",
      "clang: \u001b[0;1;35mwarning: \u001b[0m-lm: 'linker' input unused [-Wunused-command-line-argument]\u001b[0m\n",
      "gcc -c src/cooccur.c -o build/cooccur.o -lm -pthread -O3 -march=native -funroll-loops -Wall -Wextra -Wpedantic\n",
      "clang: \u001b[0;1;35mwarning: \u001b[0m-lm: 'linker' input unused [-Wunused-command-line-argument]\u001b[0m\n",
      "gcc -c src/shuffle.c -o build/shuffle.o -lm -pthread -O3 -march=native -funroll-loops -Wall -Wextra -Wpedantic\n",
      "clang: \u001b[0;1;35mwarning: \u001b[0m-lm: 'linker' input unused [-Wunused-command-line-argument]\u001b[0m\n",
      "gcc -c src/glove.c -o build/glove.o -lm -pthread -O3 -march=native -funroll-loops -Wall -Wextra -Wpedantic\n",
      "clang: \u001b[0;1;35mwarning: \u001b[0m-lm: 'linker' input unused [-Wunused-command-line-argument]\u001b[0m\n",
      "gcc -c src/common.c -o build/common.o -lm -pthread -O3 -march=native -funroll-loops -Wall -Wextra -Wpedantic\n",
      "clang: \u001b[0;1;35mwarning: \u001b[0m-lm: 'linker' input unused [-Wunused-command-line-argument]\u001b[0m\n",
      "gcc build/vocab_count.o build/common.o -o build/vocab_count -lm -pthread -O3 -march=native -funroll-loops -Wall -Wextra -Wpedantic\n",
      "gcc build/cooccur.o build/common.o -o build/cooccur -lm -pthread -O3 -march=native -funroll-loops -Wall -Wextra -Wpedantic\n",
      "gcc build/shuffle.o build/common.o -o build/shuffle -lm -pthread -O3 -march=native -funroll-loops -Wall -Wextra -Wpedantic\n",
      "gcc build/glove.o build/common.o -o build/glove -lm -pthread -O3 -march=native -funroll-loops -Wall -Wextra -Wpedantic\n"
     ]
    }
   ],
   "source": [
    "!cd glove && make"
   ]
  },
  {
   "cell_type": "code",
   "execution_count": 36,
   "id": "54f74eaa",
   "metadata": {},
   "outputs": [],
   "source": [
    "import pandas as pd\n",
    "from tqdm import tqdm"
   ]
  },
  {
   "cell_type": "markdown",
   "id": "09190bdb",
   "metadata": {},
   "source": [
    "### Building corpus file"
   ]
  },
  {
   "cell_type": "markdown",
   "id": "6ebbcccb",
   "metadata": {},
   "source": [
    "    - build year list\n",
    "    - build file list for each year\n",
    "    - for each file get speech list\n",
    "    - for each speech create wordlist, join and write"
   ]
  },
  {
   "cell_type": "code",
   "execution_count": 28,
   "id": "4e4246d9",
   "metadata": {},
   "outputs": [],
   "source": [
    "os.chdir(\"/Users/yananikolova/Dropbox/ITCOG/Thesis/\")"
   ]
  },
  {
   "cell_type": "code",
   "execution_count": 30,
   "id": "c4cd3efb",
   "metadata": {},
   "outputs": [],
   "source": [
    "yearlist = os.listdir('ParlaMint-DK.TEI.CSV')"
   ]
  },
  {
   "cell_type": "code",
   "execution_count": 31,
   "id": "6666c34e",
   "metadata": {},
   "outputs": [],
   "source": [
    "yeardict = dict()\n",
    "for year in yearlist:\n",
    "    yeardict[year] = os.listdir('ParlaMint-DK.TEI.CSV/' + year)"
   ]
  },
  {
   "cell_type": "code",
   "execution_count": 34,
   "id": "e27fc278",
   "metadata": {},
   "outputs": [],
   "source": [
    "def create_wordlist(df, num):\n",
    "    return df[df['id'] == speechlist[num]][['lemma', 'pos']].agg('-'.join, axis=1).to_numpy()"
   ]
  },
  {
   "cell_type": "code",
   "execution_count": 40,
   "id": "2b9ab4b2",
   "metadata": {},
   "outputs": [
    {
     "name": "stderr",
     "output_type": "stream",
     "text": [
      "100%|███████████████████████████████████████████████| 39/39 [00:59<00:00,  1.52s/it]\n",
      "100%|███████████████████████████████████████████████| 79/79 [02:30<00:00,  1.91s/it]\n",
      "100%|█████████████████████████████████████████████| 100/100 [03:42<00:00,  2.22s/it]\n",
      "100%|█████████████████████████████████████████████| 112/112 [04:27<00:00,  2.39s/it]\n",
      "100%|█████████████████████████████████████████████| 102/102 [03:42<00:00,  2.18s/it]\n",
      "100%|█████████████████████████████████████████████| 137/137 [05:30<00:00,  2.41s/it]\n",
      "100%|█████████████████████████████████████████████| 153/153 [05:29<00:00,  2.15s/it]\n",
      "100%|█████████████████████████████████████████████| 109/109 [03:41<00:00,  2.03s/it]\n",
      "100%|█████████████████████████████████████████████| 116/116 [05:19<00:00,  2.75s/it]\n"
     ]
    }
   ],
   "source": [
    "os.chdir(\"/Users/yananikolova/Dropbox/ITCOG/Thesis/ParlaMint-DK.TEI.CSV/\")\n",
    "with open(\"corpus.txt\", \"w\") as f:\n",
    "    for year in yearlist:\n",
    "        os.chdir(\"/Users/yananikolova/Dropbox/ITCOG/Thesis/ParlaMint-DK.TEI.CSV/\" + year)\n",
    "        for file in tqdm(yeardict[year]):\n",
    "            \n",
    "            df = pd.read_csv(file, dtype=object)\n",
    "            speechlist = pd.unique(df['id'])\n",
    "            \n",
    "            for i, speech in enumerate(speechlist): \n",
    "                wordlist = create_wordlist(df, i)\n",
    "                f.write(\" \".join(wordlist) + \"\\n\")"
   ]
  },
  {
   "cell_type": "markdown",
   "id": "ad710576",
   "metadata": {},
   "source": [
    "### Running GloVe algorithm"
   ]
  },
  {
   "cell_type": "code",
   "execution_count": 52,
   "id": "a78f3ee3",
   "metadata": {},
   "outputs": [],
   "source": [
    "os.chdir('/Users/yananikolova/Dropbox/ITCOG/Thesis/glove')"
   ]
  },
  {
   "cell_type": "code",
   "execution_count": 53,
   "id": "dea598dc",
   "metadata": {
    "scrolled": true
   },
   "outputs": [
    {
     "name": "stdout",
     "output_type": "stream",
     "text": [
      "mkdir -p build\n",
      "\n",
      "$ build/vocab_count -min-count 5 -verbose 2 < corpus.txt > vocab.txt\n",
      "BUILDING VOCABULARY\n"
     ]
    },
    {
     "name": "stdout",
     "output_type": "stream",
     "text": [
      "Processed 0 tokens.\u001b[11G100000 tokens.\u001b[11G200000 tokens.\u001b[11G300000 tokens.\u001b[11G400000 tokens.\u001b[11G500000 tokens.\u001b[11G600000 tokens.\u001b[11G700000 tokens.\u001b[11G800000 tokens.\u001b[11G900000 tokens.\u001b[11G1000000 tokens.\u001b[11G1100000 tokens.\u001b[11G1200000 tokens.\u001b[11G1300000 tokens.\u001b[11G1400000 tokens.\u001b[11G1500000 tokens.\u001b[11G1600000 tokens.\u001b[11G1700000 tokens.\u001b[11G1800000 tokens.\u001b[11G1900000 tokens.\u001b[11G2000000 tokens.\u001b[11G2100000 tokens.\u001b[11G2200000 tokens.\u001b[11G2300000 tokens.\u001b[11G2400000 tokens.\u001b[11G2500000 tokens.\u001b[11G2600000 tokens.\u001b[11G2700000 tokens.\u001b[11G2800000 tokens.\u001b[11G2900000 tokens.\u001b[11G3000000 tokens.\u001b[11G3100000 tokens.\u001b[11G3200000 tokens.\u001b[11G3300000 tokens.\u001b[11G3400000 tokens.\u001b[11G3500000 tokens.\u001b[11G3600000 tokens.\u001b[11G3700000 tokens.\u001b[11G3800000 tokens.\u001b[11G3900000 tokens.\u001b[11G4000000 tokens.\u001b[11G4100000 tokens.\u001b[11G4200000 tokens.\u001b[11G4300000 tokens.\u001b[11G4400000 tokens.\u001b[11G4500000 tokens.\u001b[11G4600000 tokens.\u001b[11G4700000 tokens.\u001b[11G4800000 tokens.\u001b[11G4900000 tokens.\u001b[11G5000000 tokens.\u001b[11G5100000 tokens.\u001b[11G5200000 tokens.\u001b[11G5300000 tokens.\u001b[11G5400000 tokens.\u001b[11G5500000 tokens.\u001b[11G5600000 tokens.\u001b[11G5700000 tokens.\u001b[11G5800000 tokens.\u001b[11G5900000 tokens.\u001b[11G6000000 tokens.\u001b[11G6100000 tokens.\u001b[11G6200000 tokens.\u001b[11G6300000 tokens.\u001b[11G6400000 tokens.\u001b[11G6500000 tokens.\u001b[11G6600000 tokens.\u001b[11G6700000 tokens.\u001b[11G6800000 tokens.\u001b[11G6900000 tokens.\u001b[11G7000000 tokens.\u001b[11G7100000 tokens.\u001b[11G7200000 tokens.\u001b[11G7300000 tokens.\u001b[11G7400000 tokens.\u001b[11G7500000 tokens.\u001b[11G7600000 tokens.\u001b[11G7700000 tokens.\u001b[11G7800000 tokens.\u001b[11G7900000 tokens.\u001b[11G8000000 tokens.\u001b[11G8100000 tokens.\u001b[11G8200000 tokens.\u001b[11G8300000 tokens.\u001b[11G8400000 tokens.\u001b[11G8500000 tokens.\u001b[11G8600000 tokens.\u001b[11G8700000 tokens.\u001b[11G8800000 tokens.\u001b[11G8900000 tokens.\u001b[11G9000000 tokens.\u001b[11G9100000 tokens.\u001b[11G9200000 tokens.\u001b[11G9300000 tokens.\u001b[11G9400000 tokens.\u001b[11G9500000 tokens.\u001b[11G9600000 tokens.\u001b[11G9700000 tokens.\u001b[11G9800000 tokens.\u001b[11G9900000 tokens.\u001b[11G10000000 tokens.\u001b[11G10100000 tokens.\u001b[11G10200000 tokens.\u001b[11G10300000 tokens.\u001b[11G10400000 tokens.\u001b[11G10500000 tokens.\u001b[11G10600000 tokens.\u001b[11G10700000 tokens.\u001b[11G10800000 tokens.\u001b[11G10900000 tokens.\u001b[11G11000000 tokens.\u001b[11G11100000 tokens.\u001b[11G11200000 tokens.\u001b[11G11300000 tokens.\u001b[11G11400000 tokens.\u001b[11G11500000 tokens.\u001b[11G11600000 tokens.\u001b[11G11700000 tokens.\u001b[11G11800000 tokens.\u001b[11G11900000 tokens.\u001b[11G12000000 tokens.\u001b[11G12100000 tokens.\u001b[11G12200000 tokens.\u001b[11G12300000 tokens.\u001b[11G12400000 tokens.\u001b[11G12500000 tokens.\u001b[11G12600000 tokens.\u001b[11G12700000 tokens.\u001b[11G12800000 tokens.\u001b[11G12900000 tokens.\u001b[11G13000000 tokens.\u001b[11G13100000 tokens.\u001b[11G13200000 tokens.\u001b[11G13300000 tokens.\u001b[11G13400000 tokens.\u001b[11G13500000 tokens.\u001b[11G13600000 tokens.\u001b[11G13700000 tokens.\u001b[11G13800000 tokens.\u001b[11G13900000 tokens.\u001b[11G14000000 tokens.\u001b[11G14100000 tokens.\u001b[11G14200000 tokens.\u001b[11G14300000 tokens.\u001b[11G14400000 tokens.\u001b[11G14500000 tokens.\u001b[11G14600000 tokens.\u001b[11G14700000 tokens.\u001b[11G14800000 tokens.\u001b[11G14900000 tokens.\u001b[11G15000000 tokens.\u001b[11G15100000 tokens.\u001b[11G15200000 tokens.\u001b[11G15300000 tokens.\u001b[11G15400000 tokens.\u001b[11G15500000 tokens.\u001b[11G15600000 tokens.\u001b[11G15700000 tokens.\u001b[11G15800000 tokens.\u001b[11G15900000 tokens.\u001b[11G16000000 tokens.\u001b[11G16100000 tokens.\u001b[11G16200000 tokens.\u001b[11G16300000 tokens.\u001b[11G16400000 tokens.\u001b[11G16500000 tokens.\u001b[11G16600000 tokens.\u001b[11G16700000 tokens.\u001b[11G16800000 tokens.\u001b[11G16900000 tokens.\u001b[11G17000000 tokens.\u001b[11G17100000 tokens.\u001b[11G17200000 tokens.\u001b[11G17300000 tokens.\u001b[11G17400000 tokens.\u001b[11G17500000 tokens.\u001b[11G17600000 tokens.\u001b[11G17700000 tokens.\u001b[11G17800000 tokens.\u001b[11G17900000 tokens.\u001b[11G18000000 tokens.\u001b[11G18100000 tokens.\u001b[11G18200000 tokens.\u001b[11G18300000 tokens.\u001b[11G18400000 tokens.\u001b[11G18500000 tokens.\u001b[11G18600000 tokens.\u001b[11G18700000 tokens.\u001b[11G18800000 tokens.\u001b[11G18900000 tokens.\u001b[11G19000000 tokens.\u001b[11G19100000 tokens.\u001b[11G19200000 tokens.\u001b[11G19300000 tokens.\u001b[11G19400000 tokens.\u001b[11G19500000 tokens.\u001b[11G19600000 tokens.\u001b[11G19700000 tokens.\u001b[11G19800000 tokens.\u001b[11G19900000 tokens.\u001b[11G20000000 tokens.\u001b[11G20100000 tokens.\u001b[11G20200000 tokens.\u001b[11G20300000 tokens.\u001b[11G20400000 tokens.\u001b[11G20500000 tokens.\u001b[11G20600000 tokens.\u001b[11G20700000 tokens.\u001b[11G20800000 tokens.\u001b[11G20900000 tokens.\u001b[11G21000000 tokens.\u001b[11G21100000 tokens.\u001b[11G21200000 tokens.\u001b[11G21300000 tokens.\u001b[11G21400000 tokens.\u001b[11G21500000 tokens.\u001b[11G21600000 tokens.\u001b[11G21700000 tokens.\u001b[11G21800000 tokens.\u001b[11G21900000 tokens.\u001b[11G22000000 tokens.\u001b[11G22100000 tokens.\u001b[11G22200000 tokens.\u001b[11G22300000 tokens.\u001b[11G22400000 tokens.\u001b[11G22500000 tokens.\u001b[11G22600000 tokens.\u001b[11G22700000 tokens.\u001b[11G22800000 tokens.\u001b[11G22900000 tokens.\u001b[11G23000000 tokens.\u001b[11G23100000 tokens.\u001b[11G23200000 tokens.\u001b[11G23300000 tokens.\u001b[11G23400000 tokens.\u001b[11G23500000 tokens.\u001b[11G23600000 tokens.\u001b[11G23700000 tokens.\u001b[11G23800000 tokens.\u001b[11G23900000 tokens.\u001b[11G24000000 tokens.\u001b[11G24100000 tokens.\u001b[11G24200000 tokens.\u001b[11G24300000 tokens.\u001b[11G24400000 tokens.\u001b[11G24500000 tokens.\u001b[11G24600000 tokens.\u001b[11G24700000 tokens.\u001b[11G24800000 tokens.\u001b[11G24900000 tokens.\u001b[11G25000000 tokens.\u001b[11G25100000 tokens.\u001b[11G25200000 tokens.\u001b[11G25300000 tokens.\u001b[11G25400000 tokens.\u001b[11G25500000 tokens.\u001b[11G25600000 tokens.\u001b[11G25700000 tokens.\u001b[11G25800000 tokens.\u001b[11G25900000 tokens.\u001b[11G26000000 tokens.\u001b[11G26100000 tokens.\u001b[11G26200000 tokens.\u001b[11G26300000 tokens.\u001b[11G26400000 tokens.\u001b[11G26500000 tokens.\u001b[11G26600000 tokens.\u001b[11G26700000 tokens.\u001b[11G26800000 tokens.\u001b[11G26900000 tokens.\u001b[11G27000000 tokens.\u001b[11G27100000 tokens.\u001b[11G27200000 tokens.\u001b[11G27300000 tokens.\u001b[11G27400000 tokens.\u001b[11G27500000 tokens.\u001b[11G27600000 tokens.\u001b[11G27700000 tokens.\u001b[11G27800000 tokens.\u001b[11G27900000 tokens.\u001b[11G28000000 tokens.\u001b[11G28100000 tokens.\u001b[11G28200000 tokens.\u001b[11G28300000 tokens.\u001b[11G28400000 tokens.\u001b[11G28500000 tokens.\u001b[11G28600000 tokens.\u001b[11G28700000 tokens.\u001b[11G28800000 tokens.\u001b[11G28900000 tokens.\u001b[11G29000000 tokens.\u001b[11G29100000 tokens.\u001b[11G29200000 tokens.\u001b[11G29300000 tokens.\u001b[11G29400000 tokens.\u001b[11G29500000 tokens.\u001b[11G29600000 tokens.\u001b[11G29700000 tokens.\u001b[11G29800000 tokens.\u001b[11G29900000 tokens.\u001b[11G30000000 tokens.\u001b[11G30100000 tokens.\u001b[11G30200000 tokens.\u001b[11G30300000 tokens.\u001b[11G30400000 tokens.\u001b[11G30500000 tokens.\u001b[11G30600000 tokens.\u001b[11G30700000 tokens.\u001b[11G30800000 tokens.\u001b[11G30900000 tokens.\u001b[11G31000000 tokens.\u001b[11G31100000 tokens.\u001b[11G31200000 tokens.\u001b[11G31300000 tokens.\u001b[11G31400000 tokens.\u001b[11G31500000 tokens.\u001b[11G31600000 tokens.\u001b[11G31700000 tokens.\u001b[11G31800000 tokens.\u001b[11G31900000 tokens.\u001b[11G32000000 tokens.\u001b[11G32100000 tokens.\u001b[11G32200000 tokens.\u001b[11G32300000 tokens.\u001b[11G32400000 tokens.\u001b[11G32500000 tokens.\u001b[11G32600000 tokens.\u001b[11G32700000 tokens.\u001b[11G32800000 tokens.\u001b[11G32900000 tokens.\u001b[11G33000000 tokens.\u001b[11G33100000 tokens.\u001b[11G33200000 tokens.\u001b[11G33300000 tokens.\u001b[11G33400000 tokens.\u001b[11G33500000 tokens.\u001b[11G33600000 tokens.\u001b[11G33700000 tokens.\u001b[11G33800000 tokens.\u001b[11G33900000 tokens.\u001b[11G34000000 tokens.\u001b[11G34100000 tokens.\u001b[11G34200000 tokens.\u001b[11G34300000 tokens.\u001b[11G34400000 tokens.\u001b[11G34500000 tokens.\u001b[11G34600000 tokens.\u001b[11G34700000 tokens.\u001b[11G34800000 tokens.\u001b[11G34900000 tokens.\u001b[11G35000000 tokens.\u001b[11G35100000 tokens.\u001b[11G35200000 tokens.\u001b[11G35300000 tokens.\u001b[11G35400000 tokens.\u001b[11G35500000 tokens.\u001b[11G35600000 tokens.\u001b[11G35700000 tokens.\u001b[11G35800000 tokens.\u001b[11G35900000 tokens.\u001b[11G36000000 tokens.\u001b[11G36100000 tokens.\u001b[11G36200000 tokens.\u001b[11G36300000 tokens.\u001b[11G36400000 tokens.\u001b[11G36500000 tokens.\u001b[11G36600000 tokens.\u001b[11G36700000 tokens.\u001b[11G36800000 tokens.\u001b[11G36900000 tokens.\u001b[11G37000000 tokens.\u001b[11G37100000 tokens.\u001b[11G37200000 tokens.\u001b[11G37300000 tokens.\u001b[11G37400000 tokens.\u001b[11G37500000 tokens.\u001b[11G37600000 tokens.\u001b[11G37700000 tokens.\u001b[11G37800000 tokens.\u001b[11G37900000 tokens.\u001b[11G38000000 tokens.\u001b[11G38100000 tokens.\u001b[11G38200000 tokens.\u001b[11G38300000 tokens.\u001b[11G38400000 tokens.\u001b[11G38500000 tokens.\u001b[11G38600000 tokens.\u001b[11G38700000 tokens.\u001b[11G38800000 tokens.\u001b[11G38900000 tokens.\u001b[11G39000000 tokens.\u001b[11G39100000 tokens.\u001b[11G39200000 tokens.\u001b[11G39300000 tokens.\u001b[11G39400000 tokens.\u001b[11G39500000 tokens."
     ]
    },
    {
     "name": "stdout",
     "output_type": "stream",
     "text": [
      "\u001b[11G39600000 tokens.\u001b[11G39700000 tokens.\u001b[11G39800000 tokens.\u001b[11G39900000 tokens.\u001b[11G40000000 tokens.\u001b[11G40100000 tokens.\u001b[11G40200000 tokens.\u001b[11G40300000 tokens.\u001b[11G40400000 tokens.\u001b[11G40500000 tokens.\u001b[11G40600000 tokens.\u001b[11G40700000 tokens.\u001b[11G40800000 tokens.\u001b[11G40900000 tokens.\u001b[11G41000000 tokens.\u001b[11G41100000 tokens.\u001b[11G41200000 tokens.\u001b[11G41300000 tokens.\u001b[11G41400000 tokens.\u001b[11G41500000 tokens.\u001b[11G41600000 tokens.\u001b[11G41700000 tokens.\u001b[11G41800000 tokens.\u001b[11G41900000 tokens.\u001b[11G42000000 tokens.\u001b[11G42100000 tokens.\u001b[11G42200000 tokens.\u001b[11G42300000 tokens.\u001b[11G42400000 tokens.\u001b[11G42500000 tokens.\u001b[11G42600000 tokens.\u001b[11G42700000 tokens.\u001b[11G42800000 tokens.\u001b[11G42900000 tokens.\u001b[11G43000000 tokens.\u001b[11G43100000 tokens.\u001b[11G43200000 tokens.\u001b[11G43300000 tokens.\u001b[11G43400000 tokens.\u001b[11G43500000 tokens.\u001b[11G43600000 tokens.\u001b[11G43700000 tokens.\u001b[11G43800000 tokens.\u001b[11G43900000 tokens.\u001b[11G44000000 tokens.\u001b[11G44100000 tokens.\u001b[11G44200000 tokens.\u001b[11G44300000 tokens.\u001b[11G44400000 tokens.\u001b[11G44500000 tokens.\u001b[11G44600000 tokens.\u001b[11G44700000 tokens.\u001b[11G44800000 tokens.\u001b[11G44900000 tokens.\u001b[11G45000000 tokens.\u001b[11G45100000 tokens.\u001b[11G45200000 tokens.\u001b[11G45300000 tokens.\u001b[11G45400000 tokens.\u001b[11G45500000 tokens.\u001b[11G45600000 tokens.\u001b[11G45700000 tokens.\u001b[11G45800000 tokens.\u001b[11G45900000 tokens.\u001b[11G46000000 tokens.\u001b[11G46100000 tokens.\u001b[11G46200000 tokens.\u001b[11G46300000 tokens.\u001b[11G46400000 tokens.\u001b[11G46500000 tokens.\u001b[11G46600000 tokens.\u001b[11G46700000 tokens.\u001b[11G46800000 tokens.\u001b[11G46900000 tokens.\u001b[11G47000000 tokens.\u001b[0GProcessed 47058881 tokens.\n",
      "Counted 193009 unique words.\n",
      "Truncating vocabulary at min count 5.\n",
      "Using vocabulary of size 56210.\n",
      "\n",
      "$ build/cooccur -memory 4.0 -vocab-file vocab.txt -verbose 2 -window-size 15 < corpus.txt > cooccurrence.bin\n",
      "COUNTING COOCCURRENCES\n",
      "window size: 15\n",
      "context: symmetric\n",
      "max product: 13752509\n",
      "overflow length: 38028356\n",
      "Reading vocab from file \"vocab.txt\"...loaded 56210 words.\n",
      "Building lookup table...table contains 88468483 elements.\n",
      "Processing token: 0\u001b[19G100000\u001b[19G200000\u001b[19G300000\u001b[19G400000\u001b[19G500000\u001b[19G600000\u001b[19G700000\u001b[19G800000\u001b[19G900000\u001b[19G1000000\u001b[19G1100000\u001b[19G1200000\u001b[19G1300000\u001b[19G1400000\u001b[19G1500000\u001b[19G1600000\u001b[19G1700000\u001b[19G1800000\u001b[19G1900000\u001b[19G2000000\u001b[19G2100000\u001b[19G2200000\u001b[19G2300000\u001b[19G2400000\u001b[19G2500000\u001b[19G2600000\u001b[19G2700000\u001b[19G2800000\u001b[19G2900000\u001b[19G3000000\u001b[19G3100000\u001b[19G3200000\u001b[19G3300000\u001b[19G3400000\u001b[19G3500000\u001b[19G3600000\u001b[19G3700000\u001b[19G3800000\u001b[19G3900000\u001b[19G4000000\u001b[19G4100000\u001b[19G4200000\u001b[19G4300000\u001b[19G4400000\u001b[19G4500000\u001b[19G4600000\u001b[19G4700000\u001b[19G4800000\u001b[19G4900000\u001b[19G5000000\u001b[19G5100000\u001b[19G5200000\u001b[19G5300000\u001b[19G5400000\u001b[19G5500000\u001b[19G5600000\u001b[19G5700000\u001b[19G5800000\u001b[19G5900000\u001b[19G6000000\u001b[19G6100000\u001b[19G6200000\u001b[19G6300000\u001b[19G6400000\u001b[19G6500000\u001b[19G6600000\u001b[19G6700000\u001b[19G6800000\u001b[19G6900000\u001b[19G7000000\u001b[19G7100000\u001b[19G7200000\u001b[19G7300000\u001b[19G7400000\u001b[19G7500000\u001b[19G7600000\u001b[19G7700000\u001b[19G7800000\u001b[19G7900000\u001b[19G8000000\u001b[19G8100000\u001b[19G8200000\u001b[19G8300000\u001b[19G8400000\u001b[19G8500000\u001b[19G8600000\u001b[19G8700000\u001b[19G8800000\u001b[19G8900000\u001b[19G9000000\u001b[19G9100000\u001b[19G9200000\u001b[19G9300000\u001b[19G9400000\u001b[19G9500000\u001b[19G9600000\u001b[19G9700000\u001b[19G9800000\u001b[19G9900000\u001b[19G10000000\u001b[19G10100000\u001b[19G10200000\u001b[19G10300000\u001b[19G10400000\u001b[19G10500000\u001b[19G10600000\u001b[19G10700000\u001b[19G10800000\u001b[19G10900000\u001b[19G11000000\u001b[19G11100000\u001b[19G11200000\u001b[19G11300000\u001b[19G11400000\u001b[19G11500000\u001b[19G11600000\u001b[19G11700000\u001b[19G11800000\u001b[19G11900000\u001b[19G12000000\u001b[19G12100000\u001b[19G12200000\u001b[19G12300000\u001b[19G12400000\u001b[19G12500000\u001b[19G12600000\u001b[19G12700000\u001b[19G12800000\u001b[19G12900000\u001b[19G13000000\u001b[19G13100000\u001b[19G13200000\u001b[19G13300000\u001b[19G13400000\u001b[19G13500000\u001b[19G13600000\u001b[19G13700000\u001b[19G13800000\u001b[19G13900000\u001b[19G14000000\u001b[19G14100000\u001b[19G14200000\u001b[19G14300000\u001b[19G14400000\u001b[19G14500000\u001b[19G14600000\u001b[19G14700000\u001b[19G14800000\u001b[19G14900000\u001b[19G15000000\u001b[19G15100000\u001b[19G15200000\u001b[19G15300000\u001b[19G15400000\u001b[19G15500000\u001b[19G15600000\u001b[19G15700000\u001b[19G15800000\u001b[19G15900000\u001b[19G16000000\u001b[19G16100000\u001b[19G16200000\u001b[19G16300000\u001b[19G16400000\u001b[19G16500000\u001b[19G16600000\u001b[19G16700000\u001b[19G16800000\u001b[19G16900000\u001b[19G17000000\u001b[19G17100000\u001b[19G17200000\u001b[19G17300000\u001b[19G17400000\u001b[19G17500000\u001b[19G17600000\u001b[19G17700000\u001b[19G17800000\u001b[19G17900000\u001b[19G18000000\u001b[19G18100000\u001b[19G18200000\u001b[19G18300000\u001b[19G18400000\u001b[19G18500000\u001b[19G18600000\u001b[19G18700000\u001b[19G18800000\u001b[19G18900000\u001b[19G19000000\u001b[19G19100000\u001b[19G19200000\u001b[19G19300000\u001b[19G19400000\u001b[19G19500000\u001b[19G19600000\u001b[19G19700000\u001b[19G19800000\u001b[19G19900000\u001b[19G20000000\u001b[19G20100000\u001b[19G20200000\u001b[19G20300000\u001b[19G20400000\u001b[19G20500000\u001b[19G20600000\u001b[19G20700000\u001b[19G20800000\u001b[19G20900000\u001b[19G21000000\u001b[19G21100000\u001b[19G21200000\u001b[19G21300000\u001b[19G21400000\u001b[19G21500000\u001b[19G21600000\u001b[19G21700000\u001b[19G21800000\u001b[19G21900000\u001b[19G22000000\u001b[19G22100000\u001b[19G22200000\u001b[19G22300000\u001b[19G22400000\u001b[19G22500000\u001b[19G22600000\u001b[19G22700000\u001b[19G22800000\u001b[19G22900000\u001b[19G23000000\u001b[19G23100000\u001b[19G23200000\u001b[19G23300000\u001b[19G23400000\u001b[19G23500000\u001b[19G23600000\u001b[19G23700000\u001b[19G23800000\u001b[19G23900000\u001b[19G24000000\u001b[19G24100000\u001b[19G24200000\u001b[19G24300000\u001b[19G24400000\u001b[19G24500000\u001b[19G24600000\u001b[19G24700000\u001b[19G24800000\u001b[19G24900000\u001b[19G25000000\u001b[19G25100000\u001b[19G25200000\u001b[19G25300000\u001b[19G25400000\u001b[19G25500000\u001b[19G25600000\u001b[19G25700000\u001b[19G25800000\u001b[19G25900000\u001b[19G26000000\u001b[19G26100000\u001b[19G26200000\u001b[19G26300000\u001b[19G26400000\u001b[19G26500000\u001b[19G26600000\u001b[19G26700000\u001b[19G26800000\u001b[19G26900000\u001b[19G27000000\u001b[19G27100000\u001b[19G27200000\u001b[19G27300000\u001b[19G27400000\u001b[19G27500000\u001b[19G27600000\u001b[19G27700000\u001b[19G27800000\u001b[19G27900000\u001b[19G28000000\u001b[19G28100000\u001b[19G28200000\u001b[19G28300000\u001b[19G28400000\u001b[19G28500000\u001b[19G28600000\u001b[19G28700000\u001b[19G28800000\u001b[19G28900000\u001b[19G29000000\u001b[19G29100000\u001b[19G29200000\u001b[19G29300000\u001b[19G29400000\u001b[19G29500000\u001b[19G29600000\u001b[19G29700000\u001b[19G29800000\u001b[19G29900000\u001b[19G30000000\u001b[19G30100000\u001b[19G30200000\u001b[19G30300000\u001b[19G30400000\u001b[19G30500000\u001b[19G30600000\u001b[19G30700000\u001b[19G30800000\u001b[19G30900000\u001b[19G31000000\u001b[19G31100000\u001b[19G31200000\u001b[19G31300000\u001b[19G31400000\u001b[19G31500000\u001b[19G31600000\u001b[19G31700000\u001b[19G31800000\u001b[19G31900000\u001b[19G32000000\u001b[19G32100000\u001b[19G32200000\u001b[19G32300000\u001b[19G32400000\u001b[19G32500000\u001b[19G32600000\u001b[19G32700000\u001b[19G32800000\u001b[19G32900000\u001b[19G33000000\u001b[19G33100000\u001b[19G33200000\u001b[19G33300000\u001b[19G33400000\u001b[19G33500000\u001b[19G33600000\u001b[19G33700000\u001b[19G33800000\u001b[19G33900000\u001b[19G34000000\u001b[19G34100000\u001b[19G34200000\u001b[19G34300000\u001b[19G34400000\u001b[19G34500000\u001b[19G34600000\u001b[19G34700000\u001b[19G34800000\u001b[19G34900000\u001b[19G35000000\u001b[19G35100000\u001b[19G35200000\u001b[19G35300000\u001b[19G35400000\u001b[19G35500000\u001b[19G35600000\u001b[19G35700000\u001b[19G35800000\u001b[19G35900000\u001b[19G36000000\u001b[19G36100000\u001b[19G36200000\u001b[19G36300000\u001b[19G36400000\u001b[19G36500000\u001b[19G36600000\u001b[19G36700000\u001b[19G36800000\u001b[19G36900000\u001b[19G37000000\u001b[19G37100000\u001b[19G37200000\u001b[19G37300000\u001b[19G37400000\u001b[19G37500000\u001b[19G37600000\u001b[19G37700000\u001b[19G37800000\u001b[19G37900000\u001b[19G38000000\u001b[19G38100000\u001b[19G38200000\u001b[19G38300000\u001b[19G38400000\u001b[19G38500000\u001b[19G38600000\u001b[19G38700000\u001b[19G38800000\u001b[19G38900000\u001b[19G39000000\u001b[19G39100000\u001b[19G39200000\u001b[19G39300000\u001b[19G39400000\u001b[19G39500000\u001b[19G39600000\u001b[19G39700000\u001b[19G39800000\u001b[19G39900000\u001b[19G40000000\u001b[19G40100000\u001b[19G40200000\u001b[19G40300000\u001b[19G40400000\u001b[19G40500000\u001b[19G40600000\u001b[19G40700000\u001b[19G40800000\u001b[19G40900000\u001b[19G41000000\u001b[19G41100000\u001b[19G41200000\u001b[19G41300000\u001b[19G41400000\u001b[19G41500000\u001b[19G41600000\u001b[19G41700000\u001b[19G41800000\u001b[19G41900000\u001b[19G42000000\u001b[19G42100000\u001b[19G42200000\u001b[19G42300000\u001b[19G42400000\u001b[19G42500000\u001b[19G42600000\u001b[19G42700000\u001b[19G42800000\u001b[19G42900000\u001b[19G43000000\u001b[19G43100000\u001b[19G43200000\u001b[19G43300000\u001b[19G43400000\u001b[19G43500000\u001b[19G43600000\u001b[19G43700000\u001b[19G43800000\u001b[19G43900000\u001b[19G44000000\u001b[19G44100000\u001b[19G44200000\u001b[19G44300000\u001b[19G44400000\u001b[19G44500000\u001b[19G44600000\u001b[19G44700000\u001b[19G44800000\u001b[19G44900000\u001b[19G45000000\u001b[19G45100000\u001b[19G45200000\u001b[19G45300000\u001b[19G45400000\u001b[19G45500000\u001b[19G45600000\u001b[19G45700000\u001b[19G45800000\u001b[19G45900000\u001b[19G46000000\u001b[19G46100000\u001b[19G46200000\u001b[19G46300000\u001b[19G46400000\u001b[19G46500000\u001b[19G46600000\u001b[19G46700000\u001b[19G46800000\u001b[19G46900000\u001b[19G47000000\u001b[0GProcessed 47058881 tokens.\n",
      "Writing cooccurrences to disk.........2 files in total.\n"
     ]
    },
    {
     "name": "stdout",
     "output_type": "stream",
     "text": [
      "Merging cooccurrence files: processed 0 lines.\u001b[39G100000 lines.\u001b[39G200000 lines.\u001b[39G300000 lines.\u001b[39G400000 lines.\u001b[39G500000 lines.\u001b[39G600000 lines.\u001b[39G700000 lines.\u001b[39G800000 lines.\u001b[39G900000 lines.\u001b[39G1000000 lines.\u001b[39G1100000 lines.\u001b[39G1200000 lines.\u001b[39G1300000 lines.\u001b[39G1400000 lines.\u001b[39G1500000 lines.\u001b[39G1600000 lines.\u001b[39G1700000 lines.\u001b[39G1800000 lines.\u001b[39G1900000 lines.\u001b[39G2000000 lines.\u001b[39G2100000 lines.\u001b[39G2200000 lines.\u001b[39G2300000 lines.\u001b[39G2400000 lines.\u001b[39G2500000 lines.\u001b[39G2600000 lines.\u001b[39G2700000 lines.\u001b[39G2800000 lines.\u001b[39G2900000 lines.\u001b[39G3000000 lines.\u001b[39G3100000 lines.\u001b[39G3200000 lines.\u001b[39G3300000 lines.\u001b[39G3400000 lines.\u001b[39G3500000 lines.\u001b[39G3600000 lines.\u001b[39G3700000 lines.\u001b[39G3800000 lines.\u001b[39G3900000 lines.\u001b[39G4000000 lines.\u001b[39G4100000 lines.\u001b[39G4200000 lines.\u001b[39G4300000 lines.\u001b[39G4400000 lines.\u001b[39G4500000 lines.\u001b[39G4600000 lines.\u001b[39G4700000 lines.\u001b[39G4800000 lines.\u001b[39G4900000 lines.\u001b[39G5000000 lines.\u001b[39G5100000 lines.\u001b[39G5200000 lines.\u001b[39G5300000 lines.\u001b[39G5400000 lines.\u001b[39G5500000 lines.\u001b[39G5600000 lines.\u001b[39G5700000 lines.\u001b[39G5800000 lines.\u001b[39G5900000 lines.\u001b[39G6000000 lines.\u001b[39G6100000 lines.\u001b[39G6200000 lines.\u001b[39G6300000 lines.\u001b[39G6400000 lines.\u001b[39G6500000 lines.\u001b[39G6600000 lines.\u001b[39G6700000 lines.\u001b[39G6800000 lines.\u001b[39G6900000 lines.\u001b[39G7000000 lines.\u001b[39G7100000 lines.\u001b[39G7200000 lines.\u001b[39G7300000 lines.\u001b[39G7400000 lines.\u001b[39G7500000 lines.\u001b[39G7600000 lines.\u001b[39G7700000 lines.\u001b[39G7800000 lines.\u001b[39G7900000 lines.\u001b[39G8000000 lines.\u001b[39G8100000 lines.\u001b[39G8200000 lines.\u001b[39G8300000 lines.\u001b[39G8400000 lines.\u001b[39G8500000 lines.\u001b[39G8600000 lines.\u001b[39G8700000 lines.\u001b[39G8800000 lines.\u001b[39G8900000 lines.\u001b[39G9000000 lines.\u001b[39G9100000 lines.\u001b[39G9200000 lines.\u001b[39G9300000 lines.\u001b[39G9400000 lines.\u001b[39G9500000 lines.\u001b[39G9600000 lines.\u001b[39G9700000 lines.\u001b[39G9800000 lines.\u001b[39G9900000 lines.\u001b[39G10000000 lines.\u001b[39G10100000 lines.\u001b[39G10200000 lines.\u001b[39G10300000 lines.\u001b[39G10400000 lines.\u001b[39G10500000 lines.\u001b[39G10600000 lines.\u001b[39G10700000 lines.\u001b[39G10800000 lines.\u001b[39G10900000 lines.\u001b[39G11000000 lines.\u001b[39G11100000 lines.\u001b[39G11200000 lines.\u001b[39G11300000 lines.\u001b[39G11400000 lines.\u001b[39G11500000 lines.\u001b[39G11600000 lines.\u001b[39G11700000 lines.\u001b[39G11800000 lines.\u001b[39G11900000 lines.\u001b[39G12000000 lines.\u001b[39G12100000 lines.\u001b[39G12200000 lines.\u001b[39G12300000 lines.\u001b[39G12400000 lines.\u001b[39G12500000 lines.\u001b[39G12600000 lines.\u001b[39G12700000 lines.\u001b[39G12800000 lines.\u001b[39G12900000 lines.\u001b[39G13000000 lines.\u001b[39G13100000 lines.\u001b[39G13200000 lines.\u001b[39G13300000 lines.\u001b[39G13400000 lines.\u001b[39G13500000 lines.\u001b[39G13600000 lines.\u001b[39G13700000 lines.\u001b[39G13800000 lines.\u001b[39G13900000 lines.\u001b[39G14000000 lines.\u001b[39G14100000 lines.\u001b[39G14200000 lines.\u001b[39G14300000 lines.\u001b[39G14400000 lines.\u001b[39G14500000 lines.\u001b[39G14600000 lines.\u001b[39G14700000 lines.\u001b[39G14800000 lines.\u001b[39G14900000 lines.\u001b[39G15000000 lines.\u001b[39G15100000 lines.\u001b[39G15200000 lines.\u001b[39G15300000 lines.\u001b[39G15400000 lines.\u001b[39G15500000 lines.\u001b[39G15600000 lines.\u001b[39G15700000 lines.\u001b[39G15800000 lines.\u001b[39G15900000 lines.\u001b[39G16000000 lines.\u001b[39G16100000 lines.\u001b[39G16200000 lines.\u001b[39G16300000 lines.\u001b[39G16400000 lines.\u001b[39G16500000 lines.\u001b[39G16600000 lines.\u001b[39G16700000 lines.\u001b[39G16800000 lines.\u001b[39G16900000 lines.\u001b[39G17000000 lines.\u001b[39G17100000 lines.\u001b[39G17200000 lines.\u001b[39G17300000 lines.\u001b[39G17400000 lines.\u001b[39G17500000 lines.\u001b[39G17600000 lines.\u001b[39G17700000 lines.\u001b[39G17800000 lines.\u001b[39G17900000 lines.\u001b[39G18000000 lines.\u001b[39G18100000 lines.\u001b[39G18200000 lines.\u001b[39G18300000 lines.\u001b[39G18400000 lines.\u001b[39G18500000 lines.\u001b[39G18600000 lines.\u001b[39G18700000 lines.\u001b[39G18800000 lines.\u001b[39G18900000 lines.\u001b[39G19000000 lines.\u001b[39G19100000 lines.\u001b[39G19200000 lines.\u001b[39G19300000 lines.\u001b[39G19400000 lines.\u001b[39G19500000 lines.\u001b[39G19600000 lines.\u001b[39G19700000 lines.\u001b[39G19800000 lines.\u001b[39G19900000 lines.\u001b[39G20000000 lines.\u001b[39G20100000 lines.\u001b[39G20200000 lines.\u001b[39G20300000 lines.\u001b[39G20400000 lines.\u001b[39G20500000 lines.\u001b[39G20600000 lines.\u001b[39G20700000 lines.\u001b[39G20800000 lines.\u001b[39G20900000 lines.\u001b[39G21000000 lines.\u001b[39G21100000 lines.\u001b[39G21200000 lines.\u001b[39G21300000 lines.\u001b[39G21400000 lines.\u001b[39G21500000 lines.\u001b[39G21600000 lines.\u001b[39G21700000 lines.\u001b[39G21800000 lines.\u001b[39G21900000 lines.\u001b[39G22000000 lines.\u001b[39G22100000 lines.\u001b[39G22200000 lines.\u001b[39G22300000 lines.\u001b[39G22400000 lines.\u001b[39G22500000 lines.\u001b[39G22600000 lines.\u001b[39G22700000 lines.\u001b[39G22800000 lines.\u001b[39G22900000 lines.\u001b[39G23000000 lines.\u001b[39G23100000 lines.\u001b[39G23200000 lines.\u001b[39G23300000 lines.\u001b[39G23400000 lines.\u001b[39G23500000 lines.\u001b[39G23600000 lines.\u001b[39G23700000 lines.\u001b[39G23800000 lines.\u001b[39G23900000 lines.\u001b[39G24000000 lines.\u001b[39G24100000 lines.\u001b[39G24200000 lines.\u001b[39G24300000 lines.\u001b[39G24400000 lines.\u001b[39G24500000 lines.\u001b[39G24600000 lines.\u001b[39G24700000 lines.\u001b[39G24800000 lines.\u001b[39G24900000 lines.\u001b[39G25000000 lines.\u001b[39G25100000 lines.\u001b[39G25200000 lines.\u001b[39G25300000 lines.\u001b[39G25400000 lines.\u001b[39G25500000 lines.\u001b[39G25600000 lines.\u001b[39G25700000 lines.\u001b[39G25800000 lines.\u001b[39G25900000 lines.\u001b[39G26000000 lines.\u001b[39G26100000 lines.\u001b[39G26200000 lines.\u001b[39G26300000 lines.\u001b[39G26400000 lines.\u001b[39G26500000 lines.\u001b[39G26600000 lines.\u001b[39G26700000 lines.\u001b[39G26800000 lines.\u001b[39G26900000 lines.\u001b[39G27000000 lines.\u001b[39G27100000 lines.\u001b[39G27200000 lines.\u001b[39G27300000 lines.\u001b[39G27400000 lines.\u001b[39G27500000 lines.\u001b[39G27600000 lines.\u001b[39G27700000 lines.\u001b[39G27800000 lines.\u001b[39G27900000 lines.\u001b[39G28000000 lines.\u001b[39G28100000 lines.\u001b[39G28200000 lines.\u001b[39G28300000 lines.\u001b[39G28400000 lines.\u001b[39G28500000 lines.\u001b[39G28600000 lines.\u001b[39G28700000 lines.\u001b[39G28800000 lines.\u001b[39G28900000 lines.\u001b[39G29000000 lines.\u001b[39G29100000 lines.\u001b[39G29200000 lines.\u001b[39G29300000 lines.\u001b[39G29400000 lines.\u001b[39G29500000 lines.\u001b[39G29600000 lines.\u001b[39G29700000 lines.\u001b[39G29800000 lines.\u001b[39G29900000 lines.\u001b[39G30000000 lines.\u001b[39G30100000 lines.\u001b[39G30200000 lines.\u001b[39G30300000 lines.\u001b[39G30400000 lines.\u001b[39G30500000 lines.\u001b[39G30600000 lines.\u001b[39G30700000 lines.\u001b[39G30800000 lines.\u001b[39G30900000 lines.\u001b[39G31000000 lines.\u001b[39G31100000 lines.\u001b[39G31200000 lines.\u001b[39G31300000 lines.\u001b[39G31400000 lines.\u001b[39G31500000 lines.\u001b[39G31600000 lines.\u001b[39G31700000 lines.\u001b[39G31800000 lines.\u001b[39G31900000 lines.\u001b[39G32000000 lines.\u001b[39G32100000 lines.\u001b[39G32200000 lines.\u001b[39G32300000 lines.\u001b[39G32400000 lines.\u001b[39G32500000 lines.\u001b[39G32600000 lines.\u001b[39G32700000 lines.\u001b[39G32800000 lines.\u001b[39G32900000 lines.\u001b[39G33000000 lines.\u001b[39G33100000 lines.\u001b[39G33200000 lines.\u001b[39G33300000 lines.\u001b[39G33400000 lines.\u001b[39G33500000 lines.\u001b[39G33600000 lines.\u001b[39G33700000 lines.\u001b[39G33800000 lines.\u001b[39G33900000 lines.\u001b[39G34000000 lines.\u001b[39G34100000 lines.\u001b[39G34200000 lines.\u001b[39G34300000 lines.\u001b[39G34400000 lines.\u001b[39G34500000 lines.\u001b[39G34600000 lines.\u001b[39G34700000 lines.\u001b[39G34800000 lines.\u001b[39G34900000 lines.\u001b[39G35000000 lines.\u001b[39G35100000 lines.\u001b[39G35200000 lines.\u001b[39G35300000 lines.\u001b[39G35400000 lines.\u001b[39G35500000 lines.\u001b[39G35600000 lines.\u001b[39G35700000 lines.\u001b[39G35800000 lines.\u001b[39G35900000 lines.\u001b[39G36000000 lines.\u001b[39G36100000 lines.\u001b[39G36200000 lines.\u001b[39G36300000 lines.\u001b[39G36400000 lines.\u001b[39G36500000 lines.\u001b[39G36600000 lines.\u001b[39G36700000 lines.\u001b[39G36800000 lines.\u001b[39G36900000 lines.\u001b[39G37000000 lines.\u001b[39G37100000 lines.\u001b[39G37200000 lines.\u001b[0GMerging cooccurrence files: processed 37208232 lines.\n",
      "\n",
      "$ build/shuffle -memory 4.0 -verbose 2 < cooccurrence.bin > cooccurrence.shuf.bin\n",
      "Using random seed 1678390117\n",
      "SHUFFLING COOCCURRENCES\n",
      "array size: 255013683\n",
      "Shuffling by chunks: processed 0 lines.\u001b[22Gprocessed 37208232 lines.\n",
      "Wrote 1 temporary file(s).\n",
      "Merging temp files: processed 0 lines.\u001b[31G37208232 lines.\u001b[0GMerging temp files: processed 37208232 lines.\n",
      "\n",
      "$ build/glove -save-file vectors -threads 8 -input-file cooccurrence.shuf.bin -x-max 10 -iter 15 -vector-size 150 -binary 2 -vocab-file vocab.txt -verbose 2\n",
      "TRAINING MODEL\n",
      "Read 37208232 lines.\n",
      "Initializing parameters...Using random seed 1678390134\n",
      "done.\n",
      "vector size: 150\n",
      "vocab size: 56210\n",
      "x_max: 10.000000\n",
      "alpha: 0.750000\n",
      "03/09/23 - 01:29.08PM, iter: 001, cost: 0.089091\n",
      "03/09/23 - 01:29.22PM, iter: 002, cost: 0.060692\n"
     ]
    },
    {
     "name": "stdout",
     "output_type": "stream",
     "text": [
      "03/09/23 - 01:29.37PM, iter: 003, cost: 0.049930\n",
      "03/09/23 - 01:29.50PM, iter: 004, cost: 0.042003\n",
      "03/09/23 - 01:30.05PM, iter: 005, cost: 0.036920\n",
      "03/09/23 - 01:30.22PM, iter: 006, cost: 0.033902\n",
      "03/09/23 - 01:30.37PM, iter: 007, cost: 0.031890\n",
      "03/09/23 - 01:30.51PM, iter: 008, cost: 0.030433\n",
      "03/09/23 - 01:31.05PM, iter: 009, cost: 0.029362\n",
      "03/09/23 - 01:31.20PM, iter: 010, cost: 0.028517\n",
      "03/09/23 - 01:31.34PM, iter: 011, cost: 0.027861\n",
      "03/09/23 - 01:31.48PM, iter: 012, cost: 0.027267\n",
      "03/09/23 - 01:32.03PM, iter: 013, cost: 0.026793\n",
      "03/09/23 - 01:32.18PM, iter: 014, cost: 0.026371\n",
      "03/09/23 - 01:32.33PM, iter: 015, cost: 0.026013\n"
     ]
    }
   ],
   "source": [
    "! ./demo.sh"
   ]
  },
  {
   "cell_type": "code",
   "execution_count": 25,
   "id": "ba581f63",
   "metadata": {},
   "outputs": [
    {
     "data": {
      "text/plain": [
       "'/Users/yananikolova/Dropbox/ITCOG/Thesis'"
      ]
     },
     "execution_count": 25,
     "metadata": {},
     "output_type": "execute_result"
    }
   ],
   "source": [
    "import os\n",
    "os.getcwd()"
   ]
  },
  {
   "cell_type": "code",
   "execution_count": 26,
   "id": "d1176b4b",
   "metadata": {},
   "outputs": [],
   "source": [
    "os.chdir('/Users/yananikolova/Dropbox/ITCOG/Thesis/glove')"
   ]
  },
  {
   "cell_type": "code",
   "execution_count": null,
   "id": "84cb1b82",
   "metadata": {},
   "outputs": [],
   "source": []
  }
 ],
 "metadata": {
  "kernelspec": {
   "display_name": "Python [conda env:root] *",
   "language": "python",
   "name": "conda-root-py"
  },
  "language_info": {
   "codemirror_mode": {
    "name": "ipython",
    "version": 3
   },
   "file_extension": ".py",
   "mimetype": "text/x-python",
   "name": "python",
   "nbconvert_exporter": "python",
   "pygments_lexer": "ipython3",
   "version": "3.9.7"
  }
 },
 "nbformat": 4,
 "nbformat_minor": 5
}
