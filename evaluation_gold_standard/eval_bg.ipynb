{
 "cells": [
  {
   "cell_type": "code",
   "execution_count": 1,
   "id": "1cf6c0e0",
   "metadata": {},
   "outputs": [],
   "source": [
    "import pandas as pd\n",
    "import numpy as np\n",
    "import matplotlib.pyplot as plt\n"
   ]
  },
  {
   "cell_type": "code",
   "execution_count": 2,
   "id": "16dd422c",
   "metadata": {},
   "outputs": [],
   "source": [
    "gs = pd.read_csv(\"annotated_BG_gold.tsv\", delimiter = \"\\t\", encoding = \"utf-16le\", usecols = [0,1,2,3,4,5], \n",
    "                names = [\"ID\", \"Sentiment\", \"Speech\", \"Annotation\", \"Note\", \"2nd Annot\"], dtype = object).dropna(subset = \"Annotation\")[:300]"
   ]
  },
  {
   "cell_type": "code",
   "execution_count": 3,
   "id": "24c79229",
   "metadata": {},
   "outputs": [
    {
     "data": {
      "text/html": [
       "<div>\n",
       "<style scoped>\n",
       "    .dataframe tbody tr th:only-of-type {\n",
       "        vertical-align: middle;\n",
       "    }\n",
       "\n",
       "    .dataframe tbody tr th {\n",
       "        vertical-align: top;\n",
       "    }\n",
       "\n",
       "    .dataframe thead th {\n",
       "        text-align: right;\n",
       "    }\n",
       "</style>\n",
       "<table border=\"1\" class=\"dataframe\">\n",
       "  <thead>\n",
       "    <tr style=\"text-align: right;\">\n",
       "      <th></th>\n",
       "      <th>ID</th>\n",
       "      <th>Sentiment</th>\n",
       "      <th>Speech</th>\n",
       "      <th>Annotation</th>\n",
       "      <th>Note</th>\n",
       "      <th>2nd Annot</th>\n",
       "    </tr>\n",
       "  </thead>\n",
       "  <tbody>\n",
       "    <tr>\n",
       "      <th>0</th>\n",
       "      <td>ParlaMint-BG_2022-07-14.u60</td>\n",
       "      <td>0.022931118447415487</td>\n",
       "      <td>Моята процедура е да бъде гледано на първо и в...</td>\n",
       "      <td>0</td>\n",
       "      <td>NaN</td>\n",
       "      <td>0</td>\n",
       "    </tr>\n",
       "    <tr>\n",
       "      <th>1</th>\n",
       "      <td>ParlaMint-BG_2016-06-09.u31</td>\n",
       "      <td>00.00</td>\n",
       "      <td>Благодаря Ви , господин Александров . Реплики ...</td>\n",
       "      <td>0</td>\n",
       "      <td>NaN</td>\n",
       "      <td>0</td>\n",
       "    </tr>\n",
       "    <tr>\n",
       "      <th>2</th>\n",
       "      <td>ParlaMint-BG_2019-06-06.u100</td>\n",
       "      <td>0.07535767160197494</td>\n",
       "      <td>Весело е , но е вярно . И аз се радвам . Радва...</td>\n",
       "      <td>2</td>\n",
       "      <td>NaN</td>\n",
       "      <td>2</td>\n",
       "    </tr>\n",
       "    <tr>\n",
       "      <th>3</th>\n",
       "      <td>ParlaMint-BG_2022-06-02.u180</td>\n",
       "      <td>0.08893593861412055</td>\n",
       "      <td>Уважаеми господин Председател , уважаеми госпо...</td>\n",
       "      <td>1</td>\n",
       "      <td>NaN</td>\n",
       "      <td>-1</td>\n",
       "    </tr>\n",
       "    <tr>\n",
       "      <th>4</th>\n",
       "      <td>ParlaMint-BG_2014-12-12.u156</td>\n",
       "      <td>0.076745611756566</td>\n",
       "      <td>Тоест на гладните отнемате коричката хляб , а ...</td>\n",
       "      <td>-1</td>\n",
       "      <td>NaN</td>\n",
       "      <td>-1</td>\n",
       "    </tr>\n",
       "  </tbody>\n",
       "</table>\n",
       "</div>"
      ],
      "text/plain": [
       "                             ID             Sentiment  \\\n",
       "0   ParlaMint-BG_2022-07-14.u60  0.022931118447415487   \n",
       "1   ParlaMint-BG_2016-06-09.u31                 00.00   \n",
       "2  ParlaMint-BG_2019-06-06.u100   0.07535767160197494   \n",
       "3  ParlaMint-BG_2022-06-02.u180   0.08893593861412055   \n",
       "4  ParlaMint-BG_2014-12-12.u156     0.076745611756566   \n",
       "\n",
       "                                              Speech Annotation Note 2nd Annot  \n",
       "0  Моята процедура е да бъде гледано на първо и в...          0  NaN         0  \n",
       "1  Благодаря Ви , господин Александров . Реплики ...          0  NaN         0  \n",
       "2  Весело е , но е вярно . И аз се радвам . Радва...          2  NaN         2  \n",
       "3  Уважаеми господин Председател , уважаеми госпо...          1  NaN        -1  \n",
       "4  Тоест на гладните отнемате коричката хляб , а ...         -1  NaN        -1  "
      ]
     },
     "execution_count": 3,
     "metadata": {},
     "output_type": "execute_result"
    }
   ],
   "source": [
    "gs.head()"
   ]
  },
  {
   "cell_type": "code",
   "execution_count": 4,
   "id": "359f127e",
   "metadata": {},
   "outputs": [],
   "source": [
    "gs[\"Sentiment\"] = gs[\"Sentiment\"].astype(float)\n",
    "gs[\"Annotation\"] = gs[\"Annotation\"].astype(float)\n",
    "gs[\"2nd Annot\"] = gs[\"2nd Annot\"].astype(float)"
   ]
  },
  {
   "cell_type": "code",
   "execution_count": 5,
   "id": "c6e9e078",
   "metadata": {},
   "outputs": [
    {
     "data": {
      "text/plain": [
       "-0.18333333333333332"
      ]
     },
     "execution_count": 5,
     "metadata": {},
     "output_type": "execute_result"
    }
   ],
   "source": [
    "gs[\"Annotation\"].mean()"
   ]
  },
  {
   "cell_type": "markdown",
   "id": "5507a474",
   "metadata": {},
   "source": [
    "### Histograms"
   ]
  },
  {
   "cell_type": "code",
   "execution_count": 6,
   "id": "93a12dab",
   "metadata": {},
   "outputs": [
    {
     "data": {
      "text/plain": [
       "<AxesSubplot:>"
      ]
     },
     "execution_count": 6,
     "metadata": {},
     "output_type": "execute_result"
    },
    {
     "data": {
      "image/png": "[encoded data removed]",
      "text/plain": [
       "<Figure size 432x288 with 1 Axes>"
      ]
     },
     "metadata": {
      "needs_background": "light"
     },
     "output_type": "display_data"
    }
   ],
   "source": [
    "gs[\"Sentiment\"].hist()"
   ]
  },
  {
   "cell_type": "code",
   "execution_count": 7,
   "id": "30cf2eb7",
   "metadata": {},
   "outputs": [],
   "source": [
    "data = gs['Annotation'].value_counts().sort_index()"
   ]
  },
  {
   "cell_type": "code",
   "execution_count": 8,
   "id": "7d22277f",
   "metadata": {},
   "outputs": [
    {
     "data": {
      "text/plain": [
       "<AxesSubplot:>"
      ]
     },
     "execution_count": 8,
     "metadata": {},
     "output_type": "execute_result"
    },
    {
     "data": {
      "image/png": "[encoded data removed]",
      "text/plain": [
       "<Figure size 432x288 with 1 Axes>"
      ]
     },
     "metadata": {
      "needs_background": "light"
     },
     "output_type": "display_data"
    }
   ],
   "source": [
    "data.plot(kind='bar', width=1.0)"
   ]
  },
  {
   "cell_type": "code",
   "execution_count": 9,
   "id": "d30213af",
   "metadata": {},
   "outputs": [
    {
     "data": {
      "text/plain": [
       "<AxesSubplot:>"
      ]
     },
     "execution_count": 9,
     "metadata": {},
     "output_type": "execute_result"
    },
    {
     "data": {
      "image/png": "[encoded data removed]",
      "text/plain": [
       "<Figure size 432x288 with 1 Axes>"
      ]
     },
     "metadata": {
      "needs_background": "light"
     },
     "output_type": "display_data"
    }
   ],
   "source": [
    " gs[\"2nd Annot\"].value_counts().sort_index().plot(kind = \"bar\", width = 1.0)"
   ]
  },
  {
   "cell_type": "markdown",
   "id": "65955e3b",
   "metadata": {},
   "source": [
    "### Interannotator agreement"
   ]
  },
  {
   "cell_type": "code",
   "execution_count": 10,
   "id": "4adfb499",
   "metadata": {},
   "outputs": [
    {
     "name": "stderr",
     "output_type": "stream",
     "text": [
      "/Users/yananikolova/opt/anaconda3/lib/python3.9/site-packages/scipy/__init__.py:146: UserWarning: A NumPy version >=1.16.5 and <1.23.0 is required for this version of SciPy (detected version 1.23.0\n",
      "  warnings.warn(f\"A NumPy version >={np_minversion} and <{np_maxversion}\"\n"
     ]
    }
   ],
   "source": [
    "import sklearn\n",
    "from sklearn.metrics import cohen_kappa_score"
   ]
  },
  {
   "cell_type": "code",
   "execution_count": 11,
   "id": "dcbdd83f",
   "metadata": {},
   "outputs": [
    {
     "data": {
      "text/plain": [
       "0.7123957434570032"
      ]
     },
     "execution_count": 11,
     "metadata": {},
     "output_type": "execute_result"
    }
   ],
   "source": [
    "#fair/slight agreement\n",
    "cohen_kappa_score(gs[\"Annotation\"][:100], gs[\"2nd Annot\"][:100])"
   ]
  },
  {
   "cell_type": "code",
   "execution_count": 12,
   "id": "b5f48465",
   "metadata": {},
   "outputs": [],
   "source": [
    "#how about with three categories?\n",
    "\n",
    "negative = gs[\"Annotation\"].isin([-2, -1])\n",
    "positive = gs[\"Annotation\"].isin([2, 1])\n",
    "neutral = gs[\"Annotation\"] == 0\n",
    "\n",
    "gs[\"Minimal\"] = pd.Series(dtype = float)\n",
    "gs[\"Minimal\"] = gs[\"Minimal\"].mask(negative, other = -1)\n",
    "gs[\"Minimal\"] = gs[\"Minimal\"].mask(positive, other = 1)\n",
    "gs[\"Minimal\"] = gs[\"Minimal\"].mask(neutral, other = 0)"
   ]
  },
  {
   "cell_type": "code",
   "execution_count": 13,
   "id": "11d31c60",
   "metadata": {},
   "outputs": [],
   "source": [
    "negative = gs[\"2nd Annot\"].isin([-2, -1])\n",
    "positive = gs[\"2nd Annot\"].isin([2, 1])\n",
    "neutral = gs[\"2nd Annot\"] == 0\n",
    "\n",
    "gs[\"2nd Minimal\"] = pd.Series(dtype = float)\n",
    "gs[\"2nd Minimal\"] = gs[\"2nd Minimal\"].mask(negative, other = -1)\n",
    "gs[\"2nd Minimal\"] = gs[\"2nd Minimal\"].mask(positive, other = 1)\n",
    "gs[\"2nd Minimal\"] = gs[\"2nd Minimal\"].mask(neutral, other = 0)"
   ]
  },
  {
   "cell_type": "code",
   "execution_count": 14,
   "id": "08694331",
   "metadata": {},
   "outputs": [
    {
     "data": {
      "text/plain": [
       "0.7831474597273854"
      ]
     },
     "execution_count": 14,
     "metadata": {},
     "output_type": "execute_result"
    }
   ],
   "source": [
    "#fair/moderate agreement\n",
    "cohen_kappa_score(gs[\"Minimal\"][:100], gs[\"2nd Minimal\"][:100])"
   ]
  },
  {
   "cell_type": "code",
   "execution_count": 15,
   "id": "2903370d",
   "metadata": {},
   "outputs": [],
   "source": [
    "#confusion matrix \n",
    "from sklearn.metrics import confusion_matrix\n",
    "\n",
    "cm = confusion_matrix(gs[\"Minimal\"][:100], gs[\"2nd Minimal\"][:100])\n"
   ]
  },
  {
   "cell_type": "code",
   "execution_count": 16,
   "id": "70e4f054",
   "metadata": {},
   "outputs": [
    {
     "data": {
      "image/png": "[encoded data removed]",
      "text/plain": [
       "<Figure size 432x288 with 1 Axes>"
      ]
     },
     "metadata": {
      "needs_background": "light"
     },
     "output_type": "display_data"
    }
   ],
   "source": [
    "import seaborn as sns\n",
    "\n",
    "ax= plt.subplot()\n",
    "sns.set (rc = {'figure.figsize':(4,4)})\n",
    "sns.heatmap(cm, annot=True, fmt='g', ax=ax, cmap = \"Reds\", cbar = False, annot_kws={\"size\": 15});  #annot=True to annotate cells, ftm='g' to disable scientific notation\n",
    "\n",
    "# labels, title and ticks\n",
    "ax.set_xlabel('Annotator 2', fontsize = 14);\n",
    "ax.set_ylabel('Annotator 1', fontsize = 14); \n",
    "ax.set_title('Bulgarian');\n",
    "ax.xaxis.set_ticklabels(['neg', 'neu', 'pos'], fontsize = 13); \n",
    "ax.yaxis.set_ticklabels(['neg', 'neu', 'pos'], fontsize = 13);"
   ]
  },
  {
   "cell_type": "markdown",
   "id": "2ec468d5",
   "metadata": {},
   "source": [
    "## Correlation"
   ]
  },
  {
   "cell_type": "code",
   "execution_count": 17,
   "id": "309ec55e",
   "metadata": {},
   "outputs": [],
   "source": [
    "from sklearn.feature_selection import r_regression"
   ]
  },
  {
   "cell_type": "code",
   "execution_count": 18,
   "id": "d585d2aa",
   "metadata": {},
   "outputs": [
    {
     "data": {
      "text/plain": [
       "array([0.40242303])"
      ]
     },
     "execution_count": 18,
     "metadata": {},
     "output_type": "execute_result"
    }
   ],
   "source": [
    "r_regression(gs[\"Annotation\"].to_numpy().reshape(-1, 1), gs[\"Sentiment\"])"
   ]
  },
  {
   "cell_type": "code",
   "execution_count": 19,
   "id": "b44852c8",
   "metadata": {},
   "outputs": [
    {
     "data": {
      "image/png": "[encoded data removed]",
      "text/plain": [
       "<Figure size 432x360 with 1 Axes>"
      ]
     },
     "metadata": {},
     "output_type": "display_data"
    }
   ],
   "source": [
    "b, a = np.polyfit(gs[\"Annotation\"], gs[\"Sentiment\"], deg=1)\n",
    "xseq = np.linspace(-2.1,2.1,50)\n",
    "plt.rcParams[\"figure.figsize\"] = (6,5)\n",
    "plt.grid(zorder = -3.0)\n",
    "\n",
    "\n",
    "plt.scatter(gs[\"Annotation\"], gs[\"Sentiment\"], color = \"indianred\", alpha = 1, zorder = 2.0)\n",
    "plt.plot(xseq, a + b * xseq, color=\"k\", lw=2.5);\n",
    "plt.text(1.5, -0.03, \"r = 0.40\", fontsize = 12, weight = \"bold\")\n",
    "plt.ylim(-0.042, 0.122)\n",
    "plt.xlabel(\"Gold Standard\", fontsize = 14)\n",
    "plt.ylabel(\"ParLex BG\", fontsize = 14)\n",
    "#plt.title(\"Danish\")\n",
    "plt.show()"
   ]
  },
  {
   "cell_type": "code",
   "execution_count": 20,
   "id": "388ae30c",
   "metadata": {},
   "outputs": [
    {
     "data": {
      "image/png": "[encoded data removed]",
      "text/plain": [
       "<Figure size 432x360 with 1 Axes>"
      ]
     },
     "metadata": {},
     "output_type": "display_data"
    }
   ],
   "source": [
    "b, a = np.polyfit(gs[\"Annotation\"], gs[\"Sentiment\"], deg=1)\n",
    "xseq = np.linspace(-2.1,2.1,50)\n",
    "\n",
    "plt.scatter(gs[\"Annotation\"], gs[\"Sentiment\"])\n",
    "plt.plot(xseq, a + b * xseq, color=\"k\", lw=2.5);\n",
    "plt.text(1.5, -0.03, \"r = 0.40\", fontsize = 12)\n",
    "plt.xlabel(\"Gold Standard Scores\")\n",
    "plt.ylabel(\"Automated Sentiment Scores\")\n",
    "plt.title(\"BG: Automated vs. Human Sentiment Scoring\")\n",
    "plt.show()"
   ]
  },
  {
   "cell_type": "code",
   "execution_count": 26,
   "id": "1fca8326",
   "metadata": {},
   "outputs": [
    {
     "data": {
      "text/plain": [
       "Annotation\n",
       "-2.0    0.010755\n",
       "-1.0    0.026273\n",
       " 0.0    0.029376\n",
       " 1.0    0.047315\n",
       " 2.0    0.059855\n",
       "Name: Sentiment, dtype: float64"
      ]
     },
     "execution_count": 26,
     "metadata": {},
     "output_type": "execute_result"
    }
   ],
   "source": [
    "gs.groupby([\"Annotation\"])[\"Sentiment\"].mean()"
   ]
  },
  {
   "cell_type": "code",
   "execution_count": 27,
   "id": "6c64335d",
   "metadata": {},
   "outputs": [
    {
     "data": {
      "text/plain": [
       "array([0.41031102])"
      ]
     },
     "execution_count": 27,
     "metadata": {},
     "output_type": "execute_result"
    }
   ],
   "source": [
    "r_regression(gs[~(gs[\"Note\"] == \"sarcasm\")][\"Annotation\"].to_numpy().reshape(-1, 1), gs[~(gs[\"Note\"] == \"sarcasm\")][\"Sentiment\"])"
   ]
  },
  {
   "cell_type": "code",
   "execution_count": 28,
   "id": "5b900a7e",
   "metadata": {},
   "outputs": [
    {
     "data": {
      "text/plain": [
       "9"
      ]
     },
     "execution_count": 28,
     "metadata": {},
     "output_type": "execute_result"
    }
   ],
   "source": [
    "(gs[\"Note\"] == \"sarcasm\").sum()"
   ]
  },
  {
   "cell_type": "code",
   "execution_count": 29,
   "id": "b274a6bf",
   "metadata": {},
   "outputs": [
    {
     "data": {
      "text/plain": [
       "0.02666666666666667"
      ]
     },
     "execution_count": 29,
     "metadata": {},
     "output_type": "execute_result"
    }
   ],
   "source": [
    "8/300"
   ]
  },
  {
   "cell_type": "markdown",
   "id": "09135823",
   "metadata": {},
   "source": [
    "## Comparison to other lexicon"
   ]
  },
  {
   "cell_type": "code",
   "execution_count": 45,
   "id": "b1287d48",
   "metadata": {},
   "outputs": [],
   "source": [
    "plt.rcdefaults()"
   ]
  },
  {
   "cell_type": "code",
   "execution_count": 46,
   "id": "cae82ec8",
   "metadata": {},
   "outputs": [],
   "source": [
    "pos_bg = pd.read_csv(\"positive_bg.csv\", delimiter = \",\", names = [\"Word\"], encoding = \"utf-8\", dtype = \"str\")[\"Word\"].to_list()\n",
    "neg_bg = pd.read_csv(\"negative_bg.csv\", delimiter = \",\", names = [\"Word\"], encoding = \"utf-8\",  dtype = \"str\")[\"Word\"].to_list()\n"
   ]
  },
  {
   "cell_type": "code",
   "execution_count": 47,
   "id": "f2442ae3",
   "metadata": {},
   "outputs": [],
   "source": [
    "negwords = [\"няма\", \"никога\", \"никой\", \"не\"]\n",
    "punct = [\".\", \",\", \"?\", \"!\"]\n",
    "skip = False\n",
    "scores = []\n",
    "for speech in gs[\"Speech\"]:\n",
    "    speech = [word.lower() for word in speech.split(\" \")]\n",
    "    score = 0\n",
    "    for word in speech:\n",
    "        if word in negwords:\n",
    "            skip = True\n",
    "        elif word in punct:\n",
    "            skip = False\n",
    "            \n",
    "        if skip == False:\n",
    "            if word in pos_bg:\n",
    "                score += 1\n",
    "            elif word in neg_bg:\n",
    "                score += -1\n",
    "    scores.append(score)\n",
    "    "
   ]
  },
  {
   "cell_type": "code",
   "execution_count": 48,
   "id": "8f9acde1",
   "metadata": {},
   "outputs": [],
   "source": [
    "gs[\"Other\"] = scores"
   ]
  },
  {
   "cell_type": "code",
   "execution_count": 49,
   "id": "a3615d15",
   "metadata": {},
   "outputs": [
    {
     "data": {
      "text/plain": [
       "<AxesSubplot:>"
      ]
     },
     "execution_count": 49,
     "metadata": {},
     "output_type": "execute_result"
    },
    {
     "data": {
      "image/png": "[encoded data removed]",
      "text/plain": [
       "<Figure size 640x480 with 1 Axes>"
      ]
     },
     "metadata": {},
     "output_type": "display_data"
    }
   ],
   "source": [
    "gs[\"Other\"].hist()"
   ]
  },
  {
   "cell_type": "code",
   "execution_count": 50,
   "id": "1888805a",
   "metadata": {},
   "outputs": [
    {
     "data": {
      "text/plain": [
       "array([0.18545933])"
      ]
     },
     "execution_count": 50,
     "metadata": {},
     "output_type": "execute_result"
    }
   ],
   "source": [
    "r_regression(gs[\"Sentiment\"].to_numpy().reshape(-1, 1), gs[\"Other\"])"
   ]
  },
  {
   "cell_type": "code",
   "execution_count": 53,
   "id": "9ea9b522",
   "metadata": {},
   "outputs": [
    {
     "data": {
      "image/png": "[encoded data removed]",
      "text/plain": [
       "<Figure size 600x500 with 1 Axes>"
      ]
     },
     "metadata": {},
     "output_type": "display_data"
    }
   ],
   "source": [
    "b, a = np.polyfit(gs[\"Annotation\"], gs[\"Sentiment\"], deg=1)\n",
    "xseq = np.linspace(-2.1,2.1,50)\n",
    "plt.rcParams[\"figure.figsize\"] = (6,5)\n",
    "\n",
    "\n",
    "plt.scatter(gs[\"Annotation\"], gs[\"Sentiment\"], color = \"indianred\", alpha = 1, zorder = 2.0)\n",
    "plt.plot(xseq, a + b * xseq, color=\"k\", lw=2.5);\n",
    "plt.text(1.5, -0.03, \"r = 0.40\", fontsize = 12, weight = \"bold\")\n",
    "plt.ylim(-0.042, 0.122)\n",
    "plt.xlabel(\"Gold Standard\", fontsize = 14)\n",
    "plt.ylabel(\"ParLex BG\", fontsize = 14)\n",
    "#plt.title(\"Danish\")\n",
    "plt.show()\n",
    "\n",
    "\n",
    "\n",
    "b, a = np.polyfit(gs[\"Sentiment\"], gs[\"Other\"], deg=1)\n",
    "xseq = np.linspace(-0.05, 0.1,50)\n",
    "plt.rcParams[\"figure.figsize\"] = (6,5)\n",
    "\n",
    "\n",
    "\n",
    "plt.scatter(gs[\"Sentiment\"], gs[\"Other\"], color = \"indianred\", alpha = 1, zorder = 2.0)\n",
    "plt.plot(xseq, a + b * xseq, color=\"k\", lw=2.5);\n",
    "plt.text(0.09,-4, \"r = 0.18\", fontsize = 12, weight = \"bold\")\n",
    "plt.xlabel(\"ParLex Scores\")\n",
    "plt.ylabel(\"Other Scores\")\n",
    "plt.title(\"Automated vs. Human Sentiment Scoring\")\n",
    "plt.show()"
   ]
  },
  {
   "cell_type": "code",
   "execution_count": 36,
   "id": "32c94eeb",
   "metadata": {},
   "outputs": [
    {
     "data": {
      "text/plain": [
       "array([0.3486454])"
      ]
     },
     "execution_count": 36,
     "metadata": {},
     "output_type": "execute_result"
    }
   ],
   "source": [
    "r_regression(gs[\"Annotation\"].to_numpy().reshape(-1, 1), gs[\"Other\"])"
   ]
  },
  {
   "cell_type": "code",
   "execution_count": 70,
   "id": "e9bd1aed",
   "metadata": {},
   "outputs": [
    {
     "data": {
      "image/png": "[encoded data removed]",
      "text/plain": [
       "<Figure size 600x500 with 1 Axes>"
      ]
     },
     "metadata": {},
     "output_type": "display_data"
    }
   ],
   "source": [
    "\n",
    "plt.rcParams[\"figure.figsize\"] = (6,5)\n",
    "\n",
    "\n",
    "b, a = np.polyfit(gs[\"Annotation\"], gs[\"Other\"], deg=1)\n",
    "xseq = np.linspace(-2, 2,50)\n",
    "plt.grid(zorder = -3.0)\n",
    "\n",
    "\n",
    "plt.scatter(gs[\"Annotation\"], gs[\"Other\"], color = \"indianred\", alpha = 1, zorder = 2.0)\n",
    "plt.plot(xseq, a + b * xseq, color=\"k\", lw=2.5);\n",
    "plt.text(1.4, -4,\"r = 0.35\",fontsize = 12, weight = \"bold\")\n",
    "plt.ylim(-5,13)\n",
    "plt.xlabel(\"Gold Standard\", fontsize = 14)\n",
    "plt.ylabel(\"Chen & Skiena (2014) Lexicon \", fontsize =14)\n",
    "plt.show()"
   ]
  },
  {
   "cell_type": "markdown",
   "id": "8bfd45ef",
   "metadata": {},
   "source": [
    "### Overlap"
   ]
  },
  {
   "cell_type": "code",
   "execution_count": 38,
   "id": "9323c417",
   "metadata": {},
   "outputs": [
    {
     "name": "stderr",
     "output_type": "stream",
     "text": [
      "2023-05-17 16:43:53 INFO: Loading these models for language: bg (Bulgarian):\n",
      "========================\n",
      "| Processor | Package  |\n",
      "------------------------\n",
      "| tokenize  | standard |\n",
      "| pos       | standard |\n",
      "| lemma     | standard |\n",
      "========================\n",
      "\n",
      "2023-05-17 16:43:53 INFO: Use device: cpu\n",
      "2023-05-17 16:43:53 INFO: Loading: tokenize\n",
      "2023-05-17 16:43:53 INFO: Loading: pos\n",
      "2023-05-17 16:43:54 INFO: Loading: lemma\n",
      "2023-05-17 16:43:55 INFO: Done loading processors!\n"
     ]
    }
   ],
   "source": [
    "import classla\n",
    "nlp = classla.Pipeline('bg', processors='tokenize, pos, lemma', tokenize_pretokenized = True)\n"
   ]
  },
  {
   "cell_type": "code",
   "execution_count": 39,
   "id": "64a72651",
   "metadata": {},
   "outputs": [],
   "source": [
    "doc = nlp(\" \".join(pos_bg + neg_bg))"
   ]
  },
  {
   "cell_type": "code",
   "execution_count": 40,
   "id": "5ca41094",
   "metadata": {},
   "outputs": [],
   "source": [
    "tokens = []\n",
    "lemmas = []\n",
    "pos = []\n",
    "\n",
    "for word in doc.to_dict()[0][0]:\n",
    "    tokens.append(word['text'])\n",
    "    try:\n",
    "        lemmas.append(word['lemma'])\n",
    "        pos.append(word['upos'])\n",
    "    except:\n",
    "        lemmas.append(word['text'])\n",
    "        pos.append(\"UNK\")"
   ]
  },
  {
   "cell_type": "code",
   "execution_count": 41,
   "id": "a6221454",
   "metadata": {},
   "outputs": [],
   "source": [
    "lemmas = list(set(lemmas))"
   ]
  },
  {
   "cell_type": "code",
   "execution_count": 42,
   "id": "9c5b695b",
   "metadata": {},
   "outputs": [
    {
     "data": {
      "text/plain": [
       "2585"
      ]
     },
     "execution_count": 42,
     "metadata": {},
     "output_type": "execute_result"
    }
   ],
   "source": [
    "len(lemmas)"
   ]
  },
  {
   "cell_type": "code",
   "execution_count": 43,
   "id": "e017bdb6",
   "metadata": {},
   "outputs": [],
   "source": [
    "with open('sentdict_pos_BG.txt', 'r') as f:\n",
    "    poslist = [el.split('\\t') for el in f.readlines()]\n",
    "    \n",
    "with open('sentdict_neg_BG.txt', 'r') as f:\n",
    "    neglist = [el.split('\\t') for el in f.readlines()]\n",
    "\n",
    "#aggregate sentiment words and their scores\n",
    "words = [line[0]for line in poslist] + [line[0] for line in neglist]\n"
   ]
  },
  {
   "cell_type": "code",
   "execution_count": 44,
   "id": "f0349fea",
   "metadata": {},
   "outputs": [
    {
     "data": {
      "text/plain": [
       "3985"
      ]
     },
     "execution_count": 44,
     "metadata": {},
     "output_type": "execute_result"
    }
   ],
   "source": [
    "len(words) + len(lemmas)"
   ]
  },
  {
   "cell_type": "code",
   "execution_count": 45,
   "id": "9ab41688",
   "metadata": {},
   "outputs": [
    {
     "data": {
      "text/plain": [
       "3430"
      ]
     },
     "execution_count": 45,
     "metadata": {},
     "output_type": "execute_result"
    }
   ],
   "source": [
    "len(set(words+list(lemmas)))"
   ]
  },
  {
   "cell_type": "code",
   "execution_count": 46,
   "id": "530b4ccb",
   "metadata": {},
   "outputs": [
    {
     "data": {
      "text/plain": [
       "555"
      ]
     },
     "execution_count": 46,
     "metadata": {},
     "output_type": "execute_result"
    }
   ],
   "source": [
    "(3985-3430) "
   ]
  },
  {
   "cell_type": "code",
   "execution_count": 47,
   "id": "d7ade552",
   "metadata": {},
   "outputs": [
    {
     "data": {
      "text/plain": [
       "0.13927227101631112"
      ]
     },
     "execution_count": 47,
     "metadata": {},
     "output_type": "execute_result"
    }
   ],
   "source": [
    "1 - 3430/3985"
   ]
  },
  {
   "cell_type": "code",
   "execution_count": 48,
   "id": "8148082f",
   "metadata": {
    "collapsed": true
   },
   "outputs": [
    {
     "name": "stdout",
     "output_type": "stream",
     "text": [
      "конструктивен\n",
      "възстановя-(се)\n",
      "измамник\n",
      "мъчителен\n",
      "заблуждение\n",
      "прозрачен\n",
      "професионалист\n",
      "отговорен\n",
      "обвинение\n",
      "налагам-(се)\n",
      "красота\n",
      "твърдение\n",
      "дупка\n",
      "помагам\n",
      "получа\n",
      "получа\n",
      "неравенство\n",
      "весел\n",
      "успявам\n",
      "отговарям\n",
      "отговарям\n",
      "сътрудничество\n",
      "разочарование\n",
      "ефикасен\n",
      "остарея\n",
      "остарея\n",
      "враг\n",
      "проблем\n",
      "подчертая\n",
      "мотивирам-(се)\n",
      "дефект\n",
      "съгласие\n",
      "щастие\n",
      "срам\n",
      "лоялен\n",
      "болезнен\n",
      "инат\n",
      "полза\n",
      "скандален\n",
      "заплаха\n",
      "заразя-(се)\n",
      "привързаност\n",
      "зараза\n",
      "избегна\n",
      "леко\n",
      "неправилен\n",
      "геноцид\n",
      "отклонение\n",
      "доведа\n",
      "противоречив\n",
      "нежелан\n",
      "освобождение\n",
      "несъвместимост\n",
      "първо\n",
      "чист\n",
      "принос\n",
      "увереност\n",
      "хроничен\n",
      "осигуряване\n",
      "изкривяване\n",
      "съвършен\n",
      "осъществяване\n",
      "работя\n",
      "работя\n",
      "злоба\n",
      "чест\n",
      "чест\n",
      "пропаст\n",
      "остана\n",
      "провокация\n",
      "годен\n",
      "тревожен\n",
      "свободен\n",
      "несигурност\n",
      "конфронтация\n",
      "симпатия\n",
      "умирам\n",
      "стимулиране\n",
      "открит\n",
      "падане\n",
      "болен\n",
      "постигане\n",
      "виновен\n",
      "неуспех\n",
      "абсурден\n",
      "инфекция\n",
      "престъпник\n",
      "мъдър\n",
      "неприятен\n",
      "готов\n",
      "страдание\n",
      "достоен\n",
      "щастлив\n",
      "желая\n",
      "сигурен\n",
      "катастрофа\n",
      "суров\n",
      "отчаяние\n",
      "авария\n",
      "повиша-(се)\n",
      "готовност\n",
      "поздрав\n",
      "спор\n",
      "затваряне\n",
      "отпразнувам\n",
      "обич\n",
      "свобода\n",
      "каша\n",
      "изискам\n",
      "патриотичен\n",
      "криминален\n",
      "нищожен\n",
      "бедствие\n",
      "лош\n",
      "обичам\n",
      "неясен\n",
      "нарушение\n",
      "истински\n",
      "страхотен\n",
      "умение\n",
      "помогна\n",
      "забавя-(се)\n",
      "репутация\n",
      "хаос\n",
      "безпристрастен\n",
      "неудобен\n",
      "отблъсна\n",
      "радостен\n",
      "осъществявам-(се)\n",
      "нормален\n",
      "отстраняване\n",
      "лъскав\n",
      "достойнство\n",
      "брутален\n",
      "интелигентност\n",
      "обрека-(се)\n",
      "натрупване\n",
      "благодарност\n",
      "мощен\n",
      "удовлетворение\n",
      "маловажен\n",
      "сеч\n",
      "постижение\n",
      "проклятие\n",
      "печеля\n",
      "фалит\n",
      "риторика\n",
      "повреда\n",
      "епидемия\n",
      "любим\n",
      "забележителен\n",
      "талантлив\n",
      "чудовище\n",
      "конфликт\n",
      "гибел\n",
      "благоденствие\n",
      "стабилност\n",
      "симпатичен\n",
      "ненужен\n",
      "рана\n",
      "ентусиазъм\n",
      "презрение\n",
      "оправдание\n",
      "свиреп\n",
      "враждебен\n",
      "страх\n",
      "незаконен\n",
      "отмъщение\n",
      "направо\n",
      "разногласие\n",
      "величие\n",
      "красив\n",
      "блокиране\n",
      "укриване\n",
      "използвам\n",
      "репресивен\n",
      "замразяване\n",
      "независим\n",
      "посегателство\n",
      "силен\n",
      "справедлив\n",
      "разумен\n",
      "прецизен\n",
      "омраза\n",
      "превишаване\n",
      "прост\n",
      "приятен\n",
      "изпълня-(се)\n",
      "жесток\n",
      "поражение\n",
      "искрен\n",
      "участие\n",
      "точен\n",
      "долен\n",
      "слава\n",
      "бърз\n",
      "скандал\n",
      "чудесен\n",
      "неудобство\n",
      "нужда\n",
      "очевиден\n",
      "битка\n",
      "жив\n",
      "демон\n",
      "отличен\n",
      "зловещ\n",
      "ограничение\n",
      "почтен\n",
      "защитавам\n",
      "грешка\n",
      "смъртоносен\n",
      "неспокоен\n",
      "насилствен\n",
      "отровен\n",
      "хубаво\n",
      "противен\n",
      "повишаване\n",
      "славен\n",
      "сваляне\n",
      "неефективен\n",
      "морал\n",
      "срив\n",
      "вражда\n",
      "храбър\n",
      "талант\n",
      "стабилен\n",
      "сериозен\n",
      "неблагоприятен\n",
      "грозен\n",
      "успех\n",
      "смятам\n",
      "кошмар\n",
      "великолепен\n",
      "напрегнат\n",
      "трудност\n",
      "илюзия\n",
      "уверен\n",
      "неточен\n",
      "елегантен\n",
      "прекрасен\n",
      "труден\n",
      "квалифицирам\n",
      "оплакване\n",
      "удобен\n",
      "поддържам\n",
      "скучен\n",
      "противник\n",
      "умен\n",
      "клише\n",
      "масивен\n",
      "почит\n",
      "обилен\n",
      "уважение\n",
      "активен\n",
      "тромав\n",
      "кураж\n",
      "ползвам-(се)\n",
      "юнак\n",
      "положителен\n",
      "агресия\n",
      "изпълнение\n",
      "фин\n",
      "щедър\n",
      "оплаквам\n",
      "поддържане\n",
      "подобря-(се)\n",
      "ясен\n",
      "недоволство\n",
      "съставя\n",
      "мъртъв\n",
      "преустановя\n",
      "празен\n",
      "величествен\n",
      "ужас\n",
      "благосъстояние\n",
      "умора\n",
      "убийство\n",
      "критика\n",
      "невинен\n",
      "пренебрегна\n",
      "гаранция\n",
      "травма\n",
      "труд\n",
      "разочаровам\n",
      "ярък\n",
      "смърт\n",
      "препятствие\n",
      "предам-(се)\n",
      "приятелски\n",
      "лицемерие\n",
      "устойчив\n",
      "позволя-(си)\n",
      "несъответствие\n",
      "благодарен\n",
      "добър\n",
      "измама\n",
      "отбрана\n",
      "отличие\n",
      "пропуск\n",
      "страдам\n",
      "ценя\n",
      "излишен\n",
      "страшен\n",
      "благотворителен\n",
      "съгласувам\n",
      "загуба\n",
      "убедителен\n",
      "недостатъчен\n",
      "разбиране\n",
      "млад\n",
      "скъп\n",
      "почивка\n",
      "достатъчен\n",
      "престъпление\n",
      "велик\n",
      "революционен\n",
      "мошеник\n",
      "зъл\n",
      "безсмислен\n",
      "достъпен\n",
      "недостиг\n",
      "категоричен\n",
      "лоялност\n",
      "здрав\n",
      "вреда\n",
      "тъп\n",
      "съкращение\n",
      "правилен\n",
      "солиден\n",
      "неизвестен\n",
      "болка\n",
      "обида\n",
      "заслужа\n",
      "надежден\n",
      "заслуга\n",
      "давам-(се)\n",
      "достатъчно\n",
      "мрачен\n",
      "мнение\n",
      "грешен\n",
      "добре\n",
      "нестабилност\n",
      "мразя\n",
      "интерес\n",
      "спокоен\n",
      "осъждам\n",
      "бездействие\n",
      "грях\n",
      "фатален\n",
      "манипулация\n",
      "подкрепа\n",
      "глупав\n",
      "обикновен\n",
      "престъпен\n",
      "провал\n",
      "божествен\n",
      "тежък\n",
      "пречка\n",
      "слабост\n",
      "интелигентен\n",
      "енергичен\n",
      "подобряване\n",
      "помощ\n",
      "нежелание\n",
      "адекватен\n",
      "вина\n",
      "влошаване\n",
      "незначителен\n",
      "спечеля\n",
      "смелост\n",
      "мъка\n",
      "внимателен\n",
      "понижаване\n",
      "некомпетентност\n",
      "спортен\n",
      "несигурен\n",
      "ефективен\n",
      "идиот\n",
      "грабеж\n",
      "издигна-(се)\n",
      "хубав\n",
      "защита\n",
      "критикувам\n",
      "убиец\n",
      "отчаян\n",
      "сладък\n",
      "абсурд\n",
      "паника\n",
      "способен\n",
      "агресивен\n",
      "продължа\n",
      "успея\n",
      "изостана\n",
      "авторитетен\n",
      "вяра\n",
      "здравословен\n",
      "неизбежен\n",
      "любов\n",
      "важен\n",
      "ангажимент\n",
      "блестя\n",
      "трагедия\n",
      "унижение\n",
      "признак\n",
      "кражба\n",
      "неяснота\n",
      "вреден\n",
      "свлачище\n",
      "важно\n",
      "модерен\n",
      "радост\n",
      "ад\n",
      "слаб\n",
      "изключване\n",
      "справедливост\n",
      "липса\n",
      "трагичен\n",
      "тържествен\n",
      "ужасявам-(се)\n",
      "реален\n",
      "примитивен\n",
      "напрежение\n",
      "оценявам\n",
      "ценен\n",
      "възмездие\n",
      "гето\n",
      "объркване\n",
      "коректен\n",
      "утвърждаване\n",
      "изолирам-(се)\n",
      "яростен\n",
      "обръщам-(се)\n",
      "доволен\n",
      "осъдя\n",
      "кратък\n",
      "груб\n",
      "гняв\n",
      "жестокост\n",
      "учен\n",
      "молба\n",
      "опасност\n",
      "неприемлив\n",
      "пострадам\n",
      "облекчавам-(се)\n",
      "образовам\n",
      "късмет\n",
      "противоречие\n",
      "мизерия\n",
      "спекулация\n",
      "госпожа\n",
      "възстановяване\n",
      "некомпетентен\n",
      "уважавам\n",
      "смущение\n",
      "нелеп\n",
      "затруднение\n",
      "заслужавам\n",
      "злоупотреба\n",
      "недостатък\n",
      "милост\n",
      "неуспешен\n",
      "гневен\n",
      "мил\n",
      "заблуда\n",
      "вкусен\n",
      "честване\n",
      "усилие\n",
      "недоразумение\n",
      "значителен\n",
      "перфектен\n",
      "вирус\n",
      "неточност\n",
      "безопасен\n",
      "горене\n",
      "възпитан\n",
      "сърце\n",
      "глупост\n",
      "чума\n",
      "осигурявам\n",
      "привлекателен\n",
      "автентичен\n",
      "драстично\n",
      "траен\n",
      "свеж\n",
      "нападение\n",
      "последователен\n",
      "греша\n",
      "тържество\n",
      "див\n",
      "смущавам-(се)\n",
      "смущавам-(се)\n",
      "търпение\n",
      "терор\n",
      "желание\n",
      "настрана\n",
      "насърчаване\n",
      "детски\n",
      "полагам\n",
      "несправедливост\n",
      "злополука\n",
      "доказване\n",
      "тъжен\n",
      "беда\n",
      "симптом\n",
      "обещавам\n",
      "спокойствие\n",
      "смел\n",
      "необратим\n",
      "интегрирам\n",
      "несъвършенство\n",
      "депресия\n",
      "тоталитарен\n",
      "отвратителен\n",
      "верен\n",
      "жалък\n",
      "полезен\n",
      "робство\n",
      "непълен\n",
      "замърсяване\n",
      "явен\n",
      "застраша\n",
      "подходящ\n",
      "грижа\n",
      "нещастен\n",
      "забавяне\n",
      "светъл\n",
      "любезен\n",
      "вярвам\n",
      "странен\n",
      "унизителен\n",
      "ярост\n",
      "поддръжник\n",
      "мръсен\n",
      "съвместен\n",
      "честен\n",
      "радвам-(се)\n",
      "тормоз\n",
      "подозрение\n",
      "замразя-(се)\n",
      "стремеж\n"
     ]
    }
   ],
   "source": [
    "for lemma in lemmas:\n",
    "    for word in words:\n",
    "        if lemma == word:\n",
    "            print(lemma)"
   ]
  },
  {
   "cell_type": "markdown",
   "id": "dd6033fc",
   "metadata": {},
   "source": [
    "### Do averages match?"
   ]
  },
  {
   "cell_type": "code",
   "execution_count": 21,
   "id": "bfd547fc",
   "metadata": {},
   "outputs": [],
   "source": [
    "df_dk = pd.read_csv(\"ParlaMint-BG-SENT.csv\", delimiter = \",\", dtype = object)\n",
    "df_dk = df_dk[df_dk[\"Speaker_role\"]!= \"Chairperson\"]\n",
    "df_dk = df_dk.drop(df_dk[(df_dk[\"Speaker_Minister\"] == \"-\") & (df_dk[\"Speaker_MP\"] == \"notMP\")].index)"
   ]
  },
  {
   "cell_type": "code",
   "execution_count": 22,
   "id": "fe583d06",
   "metadata": {},
   "outputs": [],
   "source": [
    "gs_full = gs.set_index(\"ID\").merge(df_dk.set_index(\"ID\"), on = \"ID\", how = \"left\")"
   ]
  },
  {
   "cell_type": "code",
   "execution_count": 23,
   "id": "e994a49c",
   "metadata": {},
   "outputs": [
    {
     "data": {
      "text/plain": [
       "Party_status\n",
       "Coalition     0.034211\n",
       "Opposition    0.030600\n",
       "Name: Sentiment_x, dtype: float64"
      ]
     },
     "execution_count": 23,
     "metadata": {},
     "output_type": "execute_result"
    }
   ],
   "source": [
    "gs_full.groupby([\"Party_status\"])[\"Sentiment_x\"].mean()"
   ]
  },
  {
   "cell_type": "code",
   "execution_count": 24,
   "id": "ce03d8eb",
   "metadata": {},
   "outputs": [
    {
     "data": {
      "text/plain": [
       "Party_status\n",
       "Coalition    -0.017544\n",
       "Opposition   -0.258993\n",
       "Name: Annotation, dtype: float64"
      ]
     },
     "execution_count": 24,
     "metadata": {},
     "output_type": "execute_result"
    }
   ],
   "source": [
    "gs_full.groupby([\"Party_status\"])[\"Annotation\"].mean()"
   ]
  },
  {
   "cell_type": "code",
   "execution_count": 38,
   "id": "76333e31",
   "metadata": {},
   "outputs": [
    {
     "data": {
      "text/plain": [
       "Ttest_indResult(statistic=2.0958574175227027, pvalue=0.03709660473213197)"
      ]
     },
     "execution_count": 38,
     "metadata": {},
     "output_type": "execute_result"
    }
   ],
   "source": [
    "coal = gs_full[gs_full[\"Party_status\"] == \"Coalition\"][\"Annotation\"]\n",
    "oppo = gs_full[gs_full[\"Party_status\"] == \"Opposition\"][\"Annotation\"]\n",
    "\n",
    "from scipy import stats\n",
    "stats.ttest_ind(coal, oppo)"
   ]
  },
  {
   "cell_type": "code",
   "execution_count": 30,
   "id": "67a41eeb",
   "metadata": {},
   "outputs": [
    {
     "data": {
      "text/plain": [
       "Ttest_indResult(statistic=2.0958574175227027, pvalue=0.03709660473213197)"
      ]
     },
     "execution_count": 30,
     "metadata": {},
     "output_type": "execute_result"
    }
   ],
   "source": []
  },
  {
   "cell_type": "code",
   "execution_count": 36,
   "id": "ac942ca9",
   "metadata": {},
   "outputs": [
    {
     "data": {
      "text/plain": [
       "Ttest_indResult(statistic=1.2011292951544943, pvalue=0.23083324640571945)"
      ]
     },
     "execution_count": 36,
     "metadata": {},
     "output_type": "execute_result"
    }
   ],
   "source": [
    "coal = gs_full[gs_full[\"Party_status\"] == \"Coalition\"][\"Sentiment_x\"]\n",
    "oppo = gs_full[gs_full[\"Party_status\"] == \"Opposition\"][\"Sentiment_x\"]\n",
    "\n",
    "stats.ttest_ind(coal, oppo)"
   ]
  },
  {
   "cell_type": "code",
   "execution_count": 35,
   "id": "5aec007d",
   "metadata": {},
   "outputs": [
    {
     "data": {
      "text/plain": [
       "Ttest_indResult(statistic=1.8137417930713684, pvalue=0.07072321775118788)"
      ]
     },
     "execution_count": 35,
     "metadata": {},
     "output_type": "execute_result"
    }
   ],
   "source": [
    "men = gs_full[gs_full[\"Speaker_gender\"] == \"M\"][\"Annotation\"]\n",
    "women = gs_full[gs_full[\"Speaker_gender\"] == \"F\"][\"Annotation\"]\n",
    "\n",
    "stats.ttest_ind(men, women)"
   ]
  },
  {
   "cell_type": "code",
   "execution_count": 37,
   "id": "bcef33a6",
   "metadata": {},
   "outputs": [
    {
     "data": {
      "text/plain": [
       "Ttest_indResult(statistic=-0.032916230070649054, pvalue=0.973763425731532)"
      ]
     },
     "execution_count": 37,
     "metadata": {},
     "output_type": "execute_result"
    }
   ],
   "source": [
    "men = gs_full[gs_full[\"Speaker_gender\"] == \"M\"][\"Sentiment_x\"]\n",
    "women = gs_full[gs_full[\"Speaker_gender\"] == \"F\"][\"Sentiment_x\"]\n",
    "\n",
    "stats.ttest_ind(men, women)"
   ]
  },
  {
   "cell_type": "code",
   "execution_count": 32,
   "id": "2f608224",
   "metadata": {},
   "outputs": [
    {
     "data": {
      "text/plain": [
       "Speaker_gender\n",
       "F    0.031738\n",
       "M    0.031621\n",
       "Name: Sentiment_x, dtype: float64"
      ]
     },
     "execution_count": 32,
     "metadata": {},
     "output_type": "execute_result"
    }
   ],
   "source": [
    "gs_full.groupby([\"Speaker_gender\"])[\"Sentiment_x\"].mean()"
   ]
  },
  {
   "cell_type": "code",
   "execution_count": 33,
   "id": "ee563eb0",
   "metadata": {},
   "outputs": [
    {
     "data": {
      "text/plain": [
       "Speaker_gender\n",
       "F   -0.379310\n",
       "M   -0.136364\n",
       "Name: Annotation, dtype: float64"
      ]
     },
     "execution_count": 33,
     "metadata": {},
     "output_type": "execute_result"
    }
   ],
   "source": [
    "gs_full.groupby([\"Speaker_gender\"])[\"Annotation\"].mean()"
   ]
  },
  {
   "cell_type": "code",
   "execution_count": 55,
   "id": "f13b963e",
   "metadata": {},
   "outputs": [
    {
     "data": {
      "text/plain": [
       "Party_status  Speaker_gender\n",
       "Coalition     F                  21\n",
       "              M                  93\n",
       "Opposition    F                  30\n",
       "              M                 109\n",
       "Name: Annotation, dtype: int64"
      ]
     },
     "execution_count": 55,
     "metadata": {},
     "output_type": "execute_result"
    }
   ],
   "source": [
    "gs_full.groupby([\"Party_status\", \"Speaker_gender\"])[\"Annotation\"].count()"
   ]
  },
  {
   "cell_type": "code",
   "execution_count": 56,
   "id": "31f17612",
   "metadata": {},
   "outputs": [
    {
     "data": {
      "text/plain": [
       "Meeting_type  Party_status\n",
       "ГЛАСУВАНЕ     Coalition       0.036588\n",
       "              Opposition      0.028334\n",
       "ДОКЛАД        Coalition       0.031256\n",
       "              Opposition      0.044283\n",
       "ЗАКОНОПРОЕКТ  Coalition       0.015082\n",
       "              Opposition      0.022755\n",
       "ИЗБОР         Coalition       0.036155\n",
       "              Opposition      0.034590\n",
       "ИЗСЛУШВАНЕ    Coalition       0.037958\n",
       "              Opposition      0.012543\n",
       "КОНТРОЛ       Coalition       0.034376\n",
       "              Opposition      0.019450\n",
       "ОСТАВКА       Coalition       0.061888\n",
       "ПРОЕКТ        Coalition       0.031068\n",
       "              Opposition      0.038390\n",
       "ПРОЕКТИ       Coalition       0.038003\n",
       "              Opposition      0.055396\n",
       "РАЗИСКВАНИЯ   Coalition       0.054934\n",
       "              Opposition      0.025074\n",
       "РЕШЕНИЕ       Coalition       0.036375\n",
       "ЧЕТЕНЕ        Coalition       0.051262\n",
       "              Opposition      0.051878\n",
       "Name: Sentiment_x, dtype: float64"
      ]
     },
     "execution_count": 56,
     "metadata": {},
     "output_type": "execute_result"
    }
   ],
   "source": [
    "gs_full.groupby([\"Meeting_type\", \"Party_status\"])[\"Sentiment_x\"].mean()"
   ]
  },
  {
   "cell_type": "code",
   "execution_count": 63,
   "id": "c5244595",
   "metadata": {},
   "outputs": [
    {
     "data": {
      "text/plain": [
       "32"
      ]
     },
     "execution_count": 63,
     "metadata": {},
     "output_type": "execute_result"
    }
   ],
   "source": [
    "(gs[\"Note\"] == \"procedural\").sum()"
   ]
  },
  {
   "cell_type": "code",
   "execution_count": 64,
   "id": "7e3d76b7",
   "metadata": {},
   "outputs": [
    {
     "data": {
      "text/plain": [
       "0.10666666666666667"
      ]
     },
     "execution_count": 64,
     "metadata": {},
     "output_type": "execute_result"
    }
   ],
   "source": [
    "32/300"
   ]
  },
  {
   "cell_type": "code",
   "execution_count": 25,
   "id": "58bd8b67",
   "metadata": {},
   "outputs": [
    {
     "data": {
      "text/plain": [
       "ID\n",
       "ParlaMint-BG_2022-07-14.u60      2.962516529163438\n",
       "ParlaMint-BG_2016-06-09.u31                    0.0\n",
       "ParlaMint-BG_2019-06-06.u100    20.044911447666752\n",
       "ParlaMint-BG_2022-06-02.u180     5.247220378233113\n",
       "ParlaMint-BG_2014-12-12.u156     5.106862250757884\n",
       "                                       ...        \n",
       "ParlaMint-BG_2016-06-09.u183     8.370265823859281\n",
       "ParlaMint-BG_2014-12-19.u639     2.540134988847217\n",
       "ParlaMint-BG_2016-11-25.u184    -5.106429039447537\n",
       "ParlaMint-BG_2019-09-25.u121    21.052974260867856\n",
       "ParlaMint-BG_2022-02-04.u28     0.6190983667981896\n",
       "Name: Negscore, Length: 300, dtype: object"
      ]
     },
     "execution_count": 25,
     "metadata": {},
     "output_type": "execute_result"
    }
   ],
   "source": [
    "gs_full[\"Negscore\"]"
   ]
  },
  {
   "cell_type": "code",
   "execution_count": 35,
   "id": "a0f0a2ef",
   "metadata": {},
   "outputs": [
    {
     "data": {
      "image/png": "[encoded data removed]",
      "text/plain": [
       "<Figure size 432x360 with 1 Axes>"
      ]
     },
     "metadata": {},
     "output_type": "display_data"
    }
   ],
   "source": [
    "b, a = np.polyfit(gs_full[\"Annotation\"], gs_full[\"Negscore\"].astype(np.float64) / gs_full[\"Word_total\"].astype(np.float64) , deg=1)\n",
    "xseq = np.linspace(-2.1,2.1,50)\n",
    "\n",
    "plt.scatter(gs[\"Annotation\"], gs_full[\"Negscore\"].astype(np.float64) / gs_full[\"Word_total\"].astype(np.float64))\n",
    "plt.plot(xseq, a + b * xseq, color=\"k\", lw=2.5);\n",
    "#plt.text(1.5, -0.03, \"r = 0.40\", fontsize = 12)\n",
    "plt.xlabel(\"Gold Standard Scores\")\n",
    "plt.ylabel(\"Automated Sentiment Scores\")\n",
    "plt.title(\"BG: Automated vs. Human Sentiment Scoring\")\n",
    "plt.show()"
   ]
  },
  {
   "cell_type": "code",
   "execution_count": 40,
   "id": "6ab7e928",
   "metadata": {},
   "outputs": [
    {
     "data": {
      "text/plain": [
       "array([0.40242303])"
      ]
     },
     "execution_count": 40,
     "metadata": {},
     "output_type": "execute_result"
    }
   ],
   "source": [
    "r_regression(gs_full[\"Annotation\"].to_numpy().reshape(-1, 1), gs_full[\"Sentiment_x\"])"
   ]
  },
  {
   "cell_type": "code",
   "execution_count": 39,
   "id": "df91e52a",
   "metadata": {},
   "outputs": [
    {
     "data": {
      "text/plain": [
       "Index(['Sentiment_x', 'Speech', 'Annotation', 'Note', '2nd Annot', 'Minimal',\n",
       "       '2nd Minimal', 'Unnamed: 0', 'Sentiment_y', 'Word_total', 'Score',\n",
       "       'Negscore', 'Title', 'Date', 'Body', 'Term', 'Session', 'Meeting',\n",
       "       'Sitting', 'Agenda', 'Subcorpus', 'Speaker_role', 'Speaker_MP',\n",
       "       'Speaker_Minister', 'Speaker_party', 'Speaker_party_name',\n",
       "       'Party_status', 'Speaker_name', 'Speaker_gender', 'Speaker_birth',\n",
       "       'Topic_title', 'Meeting_type', 'Comission', 'YearMonth', 'Government',\n",
       "       'Caretaker', 'Bloc'],\n",
       "      dtype='object')"
      ]
     },
     "execution_count": 39,
     "metadata": {},
     "output_type": "execute_result"
    }
   ],
   "source": [
    "gs_full.columns"
   ]
  },
  {
   "cell_type": "code",
   "execution_count": null,
   "id": "cbba500c",
   "metadata": {},
   "outputs": [],
   "source": []
  }
 ],
 "metadata": {
  "kernelspec": {
   "display_name": "Python [conda env:root] *",
   "language": "python",
   "name": "conda-root-py"
  },
  "language_info": {
   "codemirror_mode": {
    "name": "ipython",
    "version": 3
   },
   "file_extension": ".py",
   "mimetype": "text/x-python",
   "name": "python",
   "nbconvert_exporter": "python",
   "pygments_lexer": "ipython3",
   "version": "3.9.7"
  }
 },
 "nbformat": 4,
 "nbformat_minor": 5
}
