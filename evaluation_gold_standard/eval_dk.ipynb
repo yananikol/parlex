{
 "cells": [
  {
   "cell_type": "code",
   "execution_count": 1,
   "id": "1cf6c0e0",
   "metadata": {},
   "outputs": [],
   "source": [
    "import pandas as pd\n",
    "import numpy as np\n",
    "import matplotlib.pyplot as plt\n"
   ]
  },
  {
   "cell_type": "code",
   "execution_count": 2,
   "id": "16dd422c",
   "metadata": {},
   "outputs": [],
   "source": [
    "gs = pd.read_csv(\"annotated_DK_gold.tsv\", delimiter = \"\\t\", encoding = \"utf-16le\", usecols = [0,1,2,3,4,5], \n",
    "                names = [\"ID\", \"Sentiment\", \"Speech\", \"Annotation\", \"Note\", \"2nd Annot\"], dtype = object).dropna(subset = \"Annotation\")[:300]"
   ]
  },
  {
   "cell_type": "code",
   "execution_count": 3,
   "id": "24c79229",
   "metadata": {},
   "outputs": [
    {
     "data": {
      "text/html": [
       "<div>\n",
       "<style scoped>\n",
       "    .dataframe tbody tr th:only-of-type {\n",
       "        vertical-align: middle;\n",
       "    }\n",
       "\n",
       "    .dataframe tbody tr th {\n",
       "        vertical-align: top;\n",
       "    }\n",
       "\n",
       "    .dataframe thead th {\n",
       "        text-align: right;\n",
       "    }\n",
       "</style>\n",
       "<table border=\"1\" class=\"dataframe\">\n",
       "  <thead>\n",
       "    <tr style=\"text-align: right;\">\n",
       "      <th></th>\n",
       "      <th>ID</th>\n",
       "      <th>Sentiment</th>\n",
       "      <th>Speech</th>\n",
       "      <th>Annotation</th>\n",
       "      <th>Note</th>\n",
       "      <th>2nd Annot</th>\n",
       "    </tr>\n",
       "  </thead>\n",
       "  <tbody>\n",
       "    <tr>\n",
       "      <th>0</th>\n",
       "      <td>ParlaMint-DK_20181211164251</td>\n",
       "      <td>0.032793919436741065</td>\n",
       "      <td>Tak for det , og tak til ministeren for den he...</td>\n",
       "      <td>0</td>\n",
       "      <td>NaN</td>\n",
       "      <td>0</td>\n",
       "    </tr>\n",
       "    <tr>\n",
       "      <th>1</th>\n",
       "      <td>ParlaMint-DK_20151120124908</td>\n",
       "      <td>0.012924618611370906</td>\n",
       "      <td>Det handler vel om , om vi lader befolkningen ...</td>\n",
       "      <td>-1</td>\n",
       "      <td>NaN</td>\n",
       "      <td>-1</td>\n",
       "    </tr>\n",
       "    <tr>\n",
       "      <th>2</th>\n",
       "      <td>ParlaMint-DK_20201210104545</td>\n",
       "      <td>0.009549047072178355</td>\n",
       "      <td>Jeg skal beklage , hvis jeg har formuleret mig...</td>\n",
       "      <td>1</td>\n",
       "      <td>NaN</td>\n",
       "      <td>0</td>\n",
       "    </tr>\n",
       "    <tr>\n",
       "      <th>3</th>\n",
       "      <td>ParlaMint-DK_20191211150548</td>\n",
       "      <td>0.0222902005448092</td>\n",
       "      <td>Tak for spørgsmålet og interessen for vores fo...</td>\n",
       "      <td>-1</td>\n",
       "      <td>NaN</td>\n",
       "      <td>-1</td>\n",
       "    </tr>\n",
       "    <tr>\n",
       "      <th>4</th>\n",
       "      <td>ParlaMint-DK_20220128115928</td>\n",
       "      <td>-0.009523809523809525</td>\n",
       "      <td>Fru Kathrine Olldag fra Det Radikale Venstre s...</td>\n",
       "      <td>-1</td>\n",
       "      <td>NaN</td>\n",
       "      <td>-2</td>\n",
       "    </tr>\n",
       "  </tbody>\n",
       "</table>\n",
       "</div>"
      ],
      "text/plain": [
       "                            ID              Sentiment  \\\n",
       "0  ParlaMint-DK_20181211164251   0.032793919436741065   \n",
       "1  ParlaMint-DK_20151120124908   0.012924618611370906   \n",
       "2  ParlaMint-DK_20201210104545   0.009549047072178355   \n",
       "3  ParlaMint-DK_20191211150548     0.0222902005448092   \n",
       "4  ParlaMint-DK_20220128115928  -0.009523809523809525   \n",
       "\n",
       "                                              Speech Annotation Note 2nd Annot  \n",
       "0  Tak for det , og tak til ministeren for den he...          0  NaN         0  \n",
       "1  Det handler vel om , om vi lader befolkningen ...         -1  NaN        -1  \n",
       "2  Jeg skal beklage , hvis jeg har formuleret mig...          1  NaN         0  \n",
       "3  Tak for spørgsmålet og interessen for vores fo...         -1  NaN        -1  \n",
       "4  Fru Kathrine Olldag fra Det Radikale Venstre s...         -1  NaN        -2  "
      ]
     },
     "execution_count": 3,
     "metadata": {},
     "output_type": "execute_result"
    }
   ],
   "source": [
    "gs.head()"
   ]
  },
  {
   "cell_type": "code",
   "execution_count": 4,
   "id": "359f127e",
   "metadata": {},
   "outputs": [],
   "source": [
    "gs[\"Sentiment\"] = gs[\"Sentiment\"].astype(float)\n",
    "gs[\"Annotation\"] = gs[\"Annotation\"].astype(float)\n",
    "gs[\"2nd Annot\"] = gs[\"2nd Annot\"].astype(float)"
   ]
  },
  {
   "cell_type": "code",
   "execution_count": 5,
   "id": "db307c25",
   "metadata": {},
   "outputs": [
    {
     "data": {
      "text/plain": [
       "-0.09"
      ]
     },
     "execution_count": 5,
     "metadata": {},
     "output_type": "execute_result"
    }
   ],
   "source": [
    "gs[\"Annotation\"].mean()"
   ]
  },
  {
   "cell_type": "markdown",
   "id": "5507a474",
   "metadata": {},
   "source": [
    "### Histograms"
   ]
  },
  {
   "cell_type": "code",
   "execution_count": 6,
   "id": "93a12dab",
   "metadata": {},
   "outputs": [
    {
     "data": {
      "text/plain": [
       "<AxesSubplot:>"
      ]
     },
     "execution_count": 6,
     "metadata": {},
     "output_type": "execute_result"
    },
    {
     "data": {
      "image/png": "[encoded data removed]",
      "text/plain": [
       "<Figure size 432x288 with 1 Axes>"
      ]
     },
     "metadata": {
      "needs_background": "light"
     },
     "output_type": "display_data"
    }
   ],
   "source": [
    "gs[\"Sentiment\"].hist()"
   ]
  },
  {
   "cell_type": "code",
   "execution_count": 7,
   "id": "30cf2eb7",
   "metadata": {},
   "outputs": [],
   "source": [
    "data = gs['Annotation'].value_counts().sort_index()"
   ]
  },
  {
   "cell_type": "code",
   "execution_count": 8,
   "id": "7d22277f",
   "metadata": {},
   "outputs": [
    {
     "data": {
      "text/plain": [
       "<AxesSubplot:>"
      ]
     },
     "execution_count": 8,
     "metadata": {},
     "output_type": "execute_result"
    },
    {
     "data": {
      "image/png": "[encoded data removed]",
      "text/plain": [
       "<Figure size 432x288 with 1 Axes>"
      ]
     },
     "metadata": {
      "needs_background": "light"
     },
     "output_type": "display_data"
    }
   ],
   "source": [
    "data.plot(kind='bar', width=1.0)"
   ]
  },
  {
   "cell_type": "code",
   "execution_count": 9,
   "id": "d30213af",
   "metadata": {},
   "outputs": [
    {
     "data": {
      "text/plain": [
       "<AxesSubplot:>"
      ]
     },
     "execution_count": 9,
     "metadata": {},
     "output_type": "execute_result"
    },
    {
     "data": {
      "image/png": "[encoded data removed]",
      "text/plain": [
       "<Figure size 432x288 with 1 Axes>"
      ]
     },
     "metadata": {
      "needs_background": "light"
     },
     "output_type": "display_data"
    }
   ],
   "source": [
    " gs[\"2nd Annot\"].value_counts().sort_index().plot(kind = \"bar\", width = 1.0)"
   ]
  },
  {
   "cell_type": "markdown",
   "id": "65955e3b",
   "metadata": {},
   "source": [
    "### Interannotator agreement"
   ]
  },
  {
   "cell_type": "code",
   "execution_count": 10,
   "id": "4adfb499",
   "metadata": {},
   "outputs": [
    {
     "name": "stderr",
     "output_type": "stream",
     "text": [
      "/Users/yananikolova/opt/anaconda3/lib/python3.9/site-packages/scipy/__init__.py:146: UserWarning: A NumPy version >=1.16.5 and <1.23.0 is required for this version of SciPy (detected version 1.23.0\n",
      "  warnings.warn(f\"A NumPy version >={np_minversion} and <{np_maxversion}\"\n"
     ]
    }
   ],
   "source": [
    "import sklearn\n",
    "from sklearn.metrics import cohen_kappa_score"
   ]
  },
  {
   "cell_type": "code",
   "execution_count": 11,
   "id": "dcbdd83f",
   "metadata": {},
   "outputs": [
    {
     "data": {
      "text/plain": [
       "0.4008922880815806"
      ]
     },
     "execution_count": 11,
     "metadata": {},
     "output_type": "execute_result"
    }
   ],
   "source": [
    "#fair/slight agreement\n",
    "cohen_kappa_score(gs[\"Annotation\"][:100], gs[\"2nd Annot\"][:100])"
   ]
  },
  {
   "cell_type": "code",
   "execution_count": 12,
   "id": "b5f48465",
   "metadata": {},
   "outputs": [],
   "source": [
    "#how about with three categories?\n",
    "\n",
    "negative = gs[\"Annotation\"].isin([-2, -1])\n",
    "positive = gs[\"Annotation\"].isin([2, 1])\n",
    "neutral = gs[\"Annotation\"] == 0\n",
    "\n",
    "gs[\"Minimal\"] = pd.Series(dtype = float)\n",
    "gs[\"Minimal\"] = gs[\"Minimal\"].mask(negative, other = -1)\n",
    "gs[\"Minimal\"] = gs[\"Minimal\"].mask(positive, other = 1)\n",
    "gs[\"Minimal\"] = gs[\"Minimal\"].mask(neutral, other = 0)"
   ]
  },
  {
   "cell_type": "code",
   "execution_count": 13,
   "id": "11d31c60",
   "metadata": {},
   "outputs": [],
   "source": [
    "negative = gs[\"2nd Annot\"].isin([-2, -1])\n",
    "positive = gs[\"2nd Annot\"].isin([2, 1])\n",
    "neutral = gs[\"2nd Annot\"] == 0\n",
    "\n",
    "gs[\"2nd Minimal\"] = pd.Series(dtype = float)\n",
    "gs[\"2nd Minimal\"] = gs[\"2nd Minimal\"].mask(negative, other = -1)\n",
    "gs[\"2nd Minimal\"] = gs[\"2nd Minimal\"].mask(positive, other = 1)\n",
    "gs[\"2nd Minimal\"] = gs[\"2nd Minimal\"].mask(neutral, other = 0)"
   ]
  },
  {
   "cell_type": "code",
   "execution_count": 14,
   "id": "08694331",
   "metadata": {},
   "outputs": [
    {
     "data": {
      "text/plain": [
       "0.6641074856046065"
      ]
     },
     "execution_count": 14,
     "metadata": {},
     "output_type": "execute_result"
    }
   ],
   "source": [
    "#fair/moderate agreement\n",
    "cohen_kappa_score(gs[\"Minimal\"][:100], gs[\"2nd Minimal\"][:100])"
   ]
  },
  {
   "cell_type": "code",
   "execution_count": 15,
   "id": "2903370d",
   "metadata": {},
   "outputs": [],
   "source": [
    "#confusion matrix \n",
    "from sklearn.metrics import confusion_matrix\n",
    "\n",
    "cm = confusion_matrix(gs[\"Minimal\"][:100], gs[\"2nd Minimal\"][:100])\n"
   ]
  },
  {
   "cell_type": "code",
   "execution_count": 16,
   "id": "bf548f0b",
   "metadata": {},
   "outputs": [
    {
     "data": {
      "image/png": "[encoded data removed]",
      "text/plain": [
       "<Figure size 432x288 with 1 Axes>"
      ]
     },
     "metadata": {
      "needs_background": "light"
     },
     "output_type": "display_data"
    }
   ],
   "source": [
    "import seaborn as sns\n",
    "\n",
    "ax= plt.subplot()\n",
    "sns.set(font_scale=1)\n",
    "\n",
    "sns.set (rc = {'figure.figsize':(4,4)})\n",
    "sns.heatmap(cm, annot=True, fmt='g', ax=ax, cmap = \"Reds\", cbar = False, annot_kws={\"fontsize\":15});  #annot=True to annotate cells, ftm='g' to disable scientific notation\n",
    "\n",
    "# labels, title and ticks\n",
    "ax.set_xlabel('Annotator 2', fontsize = 14);\n",
    "ax.set_ylabel('Annotator 1', fontsize = 14); \n",
    "ax.set_title('Danish');\n",
    "ax.xaxis.set_ticklabels(['neg', 'neu', 'pos'], fontsize = 13); \n",
    "ax.yaxis.set_ticklabels(['neg', 'neu', 'pos'], fontsize = 13);"
   ]
  },
  {
   "cell_type": "markdown",
   "id": "2ec468d5",
   "metadata": {},
   "source": [
    "## Correlation"
   ]
  },
  {
   "cell_type": "code",
   "execution_count": 17,
   "id": "309ec55e",
   "metadata": {},
   "outputs": [],
   "source": [
    "from sklearn.feature_selection import r_regression\n",
    "from sklearn.metrics import r2_score\n"
   ]
  },
  {
   "cell_type": "code",
   "execution_count": 16,
   "id": "d585d2aa",
   "metadata": {},
   "outputs": [
    {
     "data": {
      "text/plain": [
       "array([0.47745481])"
      ]
     },
     "execution_count": 16,
     "metadata": {},
     "output_type": "execute_result"
    }
   ],
   "source": [
    "r_regression(gs[\"Annotation\"].to_numpy().reshape(-1, 1), gs[\"Sentiment\"])"
   ]
  },
  {
   "cell_type": "code",
   "execution_count": 18,
   "id": "1fe45e2a",
   "metadata": {},
   "outputs": [
    {
     "data": {
      "text/plain": [
       "0.005321598643730718"
      ]
     },
     "execution_count": 18,
     "metadata": {},
     "output_type": "execute_result"
    }
   ],
   "source": [
    "r2_score(gs[\"Annotation\"].to_numpy().reshape(-1, 1), gs[\"Sentiment\"])"
   ]
  },
  {
   "cell_type": "code",
   "execution_count": 25,
   "id": "402c57fe",
   "metadata": {},
   "outputs": [
    {
     "data": {
      "text/plain": [
       "array([0.47745481])"
      ]
     },
     "execution_count": 25,
     "metadata": {},
     "output_type": "execute_result"
    }
   ],
   "source": [
    "r_regression(gs[\"Sentiment\"].to_numpy().reshape(-1, 1), gs[\"Annotation\"])"
   ]
  },
  {
   "cell_type": "code",
   "execution_count": 22,
   "id": "893b5a06",
   "metadata": {},
   "outputs": [
    {
     "data": {
      "text/plain": [
       "-2555.258393547546"
      ]
     },
     "execution_count": 22,
     "metadata": {},
     "output_type": "execute_result"
    }
   ],
   "source": [
    "r2_score(gs[\"Sentiment\"], gs[\"Annotation\"].to_numpy().reshape(-1, 1))"
   ]
  },
  {
   "cell_type": "code",
   "execution_count": 19,
   "id": "388ae30c",
   "metadata": {},
   "outputs": [
    {
     "data": {
      "image/png": "[encoded data removed]",
      "text/plain": [
       "<Figure size 432x360 with 1 Axes>"
      ]
     },
     "metadata": {},
     "output_type": "display_data"
    }
   ],
   "source": [
    "b, a = np.polyfit(gs[\"Annotation\"], gs[\"Sentiment\"], deg=1)\n",
    "xseq = np.linspace(-2.1,2.1,50)\n",
    "plt.rcParams[\"figure.figsize\"] = (6,5)\n",
    "plt.grid(zorder = -3.0)\n",
    "\n",
    "\n",
    "plt.scatter(gs[\"Annotation\"], gs[\"Sentiment\"], color = \"indianred\", alpha = 1, zorder = 2.0)\n",
    "plt.plot(xseq, a + b * xseq, color=\"k\", lw=2.5);\n",
    "plt.text(1.5, -0.03, \"r = 0.48\", fontsize = 12, weight = \"bold\")\n",
    "plt.ylim(-0.042, 0.122)\n",
    "plt.xlabel(\"Gold Standard\", fontsize = 14)\n",
    "plt.ylabel(\"ParLex DK\", fontsize = 14)\n",
    "#plt.title(\"Danish\")\n",
    "plt.show()"
   ]
  },
  {
   "cell_type": "code",
   "execution_count": 20,
   "id": "1fca8326",
   "metadata": {},
   "outputs": [
    {
     "data": {
      "text/plain": [
       "Annotation\n",
       "-2.0    0.008454\n",
       "-1.0    0.010842\n",
       " 0.0    0.020616\n",
       " 1.0    0.028275\n",
       " 2.0    0.049068\n",
       "Name: Sentiment, dtype: float64"
      ]
     },
     "execution_count": 20,
     "metadata": {},
     "output_type": "execute_result"
    }
   ],
   "source": [
    "gs.groupby([\"Annotation\"])[\"Sentiment\"].mean()"
   ]
  },
  {
   "cell_type": "code",
   "execution_count": 21,
   "id": "6c64335d",
   "metadata": {},
   "outputs": [
    {
     "data": {
      "text/plain": [
       "array([0.48739395])"
      ]
     },
     "execution_count": 21,
     "metadata": {},
     "output_type": "execute_result"
    }
   ],
   "source": [
    "r_regression(gs[~(gs[\"Note\"] == \"sarcasm\")][\"Annotation\"].to_numpy().reshape(-1, 1), gs[~(gs[\"Note\"] == \"sarcasm\")][\"Sentiment\"])"
   ]
  },
  {
   "cell_type": "code",
   "execution_count": null,
   "id": "a7198023",
   "metadata": {},
   "outputs": [],
   "source": []
  },
  {
   "cell_type": "code",
   "execution_count": 30,
   "id": "84f488ba",
   "metadata": {},
   "outputs": [
    {
     "data": {
      "text/plain": [
       "8"
      ]
     },
     "execution_count": 30,
     "metadata": {},
     "output_type": "execute_result"
    }
   ],
   "source": [
    "(gs[\"Note\"] == \"sarcasm\").sum()"
   ]
  },
  {
   "cell_type": "markdown",
   "id": "09135823",
   "metadata": {},
   "source": [
    "## Comparison to AFINN"
   ]
  },
  {
   "cell_type": "code",
   "execution_count": 63,
   "id": "ec523748",
   "metadata": {},
   "outputs": [],
   "source": [
    "plt.rcdefaults()"
   ]
  },
  {
   "cell_type": "code",
   "execution_count": 64,
   "id": "cae82ec8",
   "metadata": {},
   "outputs": [],
   "source": [
    "afinn = pd.read_csv(\"afinn_dk.txt\", del1imiter = \"\\t\", names = [\"Word\", \"Score\"])\n",
    "finndict = dict(zip(afinn[\"Word\"].to_list(), afinn[\"Score\"].to_list()))"
   ]
  },
  {
   "cell_type": "code",
   "execution_count": 65,
   "id": "f2442ae3",
   "metadata": {},
   "outputs": [],
   "source": [
    "negwords = [\"ikke\", \"ingen\", \"hverken\", \"aldrig\"]\n",
    "punct = [\".\", \",\", \"?\", \"!\"]\n",
    "skip = False\n",
    "scores = []\n",
    "for speech in gs[\"Speech\"]:\n",
    "    speech = [word.lower() for word in speech.split(\" \")]\n",
    "    score = 0\n",
    "    for word in speech:\n",
    "        if word in negwords:\n",
    "            skip = True\n",
    "        elif word in punct:\n",
    "            skip = False\n",
    "            \n",
    "        if skip == False:\n",
    "            score += int(finndict.get(word, 0))\n",
    "    scores.append(score)\n",
    "    "
   ]
  },
  {
   "cell_type": "code",
   "execution_count": 66,
   "id": "8f9acde1",
   "metadata": {},
   "outputs": [],
   "source": [
    "gs[\"AFINN\"] = scores"
   ]
  },
  {
   "cell_type": "code",
   "execution_count": 67,
   "id": "a3615d15",
   "metadata": {},
   "outputs": [
    {
     "data": {
      "text/plain": [
       "<AxesSubplot:>"
      ]
     },
     "execution_count": 67,
     "metadata": {},
     "output_type": "execute_result"
    },
    {
     "data": {
      "image/png": "[encoded data removed]",
      "text/plain": [
       "<Figure size 640x480 with 1 Axes>"
      ]
     },
     "metadata": {},
     "output_type": "display_data"
    }
   ],
   "source": [
    "gs[\"AFINN\"].hist()"
   ]
  },
  {
   "cell_type": "code",
   "execution_count": 68,
   "id": "1888805a",
   "metadata": {},
   "outputs": [
    {
     "data": {
      "text/plain": [
       "array([0.5030999])"
      ]
     },
     "execution_count": 68,
     "metadata": {},
     "output_type": "execute_result"
    }
   ],
   "source": [
    "r_regression(gs[\"Sentiment\"].to_numpy().reshape(-1, 1), gs[\"AFINN\"])"
   ]
  },
  {
   "cell_type": "code",
   "execution_count": 69,
   "id": "9ea9b522",
   "metadata": {},
   "outputs": [
    {
     "data": {
      "image/png": "[encoded data removed]",
      "text/plain": [
       "<Figure size 640x480 with 1 Axes>"
      ]
     },
     "metadata": {},
     "output_type": "display_data"
    }
   ],
   "source": [
    "b, a = np.polyfit(gs[\"Sentiment\"], gs[\"AFINN\"], deg=1)\n",
    "xseq = np.linspace(-0.05, 0.1,50)\n",
    "\n",
    "plt.scatter(gs[\"Sentiment\"], gs[\"AFINN\"])\n",
    "plt.plot(xseq, a + b * xseq, color=\"k\", lw=2.5);\n",
    "plt.text(0.5, -0.03, \"r = 0.48\", fontsize = 12)\n",
    "plt.xlabel(\"ParLex Scores\")\n",
    "plt.ylabel(\"AFINN Scores\")\n",
    "plt.title(\"Automated vs. Human Sentiment Scoring\")\n",
    "plt.show()"
   ]
  },
  {
   "cell_type": "code",
   "execution_count": 70,
   "id": "32c94eeb",
   "metadata": {},
   "outputs": [
    {
     "data": {
      "text/plain": [
       "array([0.55462414])"
      ]
     },
     "execution_count": 70,
     "metadata": {},
     "output_type": "execute_result"
    }
   ],
   "source": [
    "r_regression(gs[\"Annotation\"].to_numpy().reshape(-1, 1), gs[\"AFINN\"])"
   ]
  },
  {
   "cell_type": "code",
   "execution_count": 76,
   "id": "e9bd1aed",
   "metadata": {},
   "outputs": [
    {
     "data": {
      "image/png": "[encoded data removed]",
      "text/plain": [
       "<Figure size 600x500 with 1 Axes>"
      ]
     },
     "metadata": {},
     "output_type": "display_data"
    }
   ],
   "source": [
    "\n",
    "\n",
    "plt.rcParams[\"figure.figsize\"] = (6,5)\n",
    "\n",
    "\n",
    "b, a = np.polyfit(gs[\"Annotation\"], gs[\"AFINN\"], deg=1)\n",
    "xseq = np.linspace(-2, 2,50)\n",
    "plt.grid(zorder = -3.0)\n",
    "\n",
    "\n",
    "\n",
    "plt.scatter(gs[\"Annotation\"], gs[\"AFINN\"], color = \"indianred\", alpha = 1, zorder = 2.0)\n",
    "plt.plot(xseq, a + b * xseq, color=\"k\", lw=2.5);\n",
    "plt.text(1.3, -8,\"r = 0.55\",fontsize = 12, weight = \"bold\")\n",
    "plt.xlabel(\"Gold Standard\", fontsize = 14)\n",
    "plt.ylabel(\"AFINN\", fontsize = 14)\n",
    "#plt.title(\"Automated vs. Human Sentiment Scoring\")\n",
    "plt.show()"
   ]
  },
  {
   "cell_type": "markdown",
   "id": "3ef41fc4",
   "metadata": {},
   "source": [
    "### Overlap"
   ]
  },
  {
   "cell_type": "code",
   "execution_count": 51,
   "id": "0b0abe3a",
   "metadata": {},
   "outputs": [],
   "source": [
    "with open(\"afinn_dk.txt.ord.pos.lem.TABULATOR.txt\", \"r\") as file:\n",
    "    af = file.readlines()[:-1]"
   ]
  },
  {
   "cell_type": "code",
   "execution_count": 59,
   "id": "2746acc6",
   "metadata": {},
   "outputs": [],
   "source": [
    "lemmas = []\n",
    "\n",
    "for line in af:\n",
    "    line = line.split(\"\\t\")\n",
    "    if len(line) == 3:\n",
    "        lemma = line[2].rstrip()\n",
    "        lemmas.append(lemma)"
   ]
  },
  {
   "cell_type": "code",
   "execution_count": 69,
   "id": "8486455e",
   "metadata": {},
   "outputs": [],
   "source": [
    "with open('sentdict_pos_DK.txt', 'r') as f:\n",
    "    poslist = [el.split('\\t') for el in f.readlines()]\n",
    "    \n",
    "with open('sentdict_neg_DK.txt', 'r') as f:\n",
    "    neglist = [el.split('\\t') for el in f.readlines()]\n",
    "\n",
    "#aggregate sentiment words and their scores\n",
    "words = [line[0] for line in poslist] + [line[0] for line in neglist]\n",
    "\n"
   ]
  },
  {
   "cell_type": "code",
   "execution_count": 76,
   "id": "93ff272e",
   "metadata": {},
   "outputs": [
    {
     "data": {
      "text/plain": [
       "3503"
      ]
     },
     "execution_count": 76,
     "metadata": {},
     "output_type": "execute_result"
    }
   ],
   "source": [
    "len(words) + len(set(lemmas))"
   ]
  },
  {
   "cell_type": "code",
   "execution_count": 72,
   "id": "b6b23947",
   "metadata": {},
   "outputs": [
    {
     "data": {
      "text/plain": [
       "3034"
      ]
     },
     "execution_count": 72,
     "metadata": {},
     "output_type": "execute_result"
    }
   ],
   "source": [
    "len(set(words+lemmas))"
   ]
  },
  {
   "cell_type": "code",
   "execution_count": 78,
   "id": "7b7b1366",
   "metadata": {},
   "outputs": [
    {
     "data": {
      "text/plain": [
       "0.1338852412218099"
      ]
     },
     "execution_count": 78,
     "metadata": {},
     "output_type": "execute_result"
    }
   ],
   "source": [
    "1 - 3034/3503"
   ]
  },
  {
   "cell_type": "code",
   "execution_count": 83,
   "id": "7c58473e",
   "metadata": {},
   "outputs": [
    {
     "data": {
      "text/plain": [
       "0.2230147408464099"
      ]
     },
     "execution_count": 83,
     "metadata": {},
     "output_type": "execute_result"
    }
   ],
   "source": [
    "-(3034 - 3503) /len(set(lemmas))"
   ]
  },
  {
   "cell_type": "markdown",
   "id": "dd6033fc",
   "metadata": {},
   "source": [
    "### Do averages match?"
   ]
  },
  {
   "cell_type": "code",
   "execution_count": 47,
   "id": "bfd547fc",
   "metadata": {},
   "outputs": [],
   "source": [
    "df_dk = pd.read_csv(\"ParlaMint-DK-SENT.csv\", delimiter = \",\", dtype = object)\n",
    "df_dk = df_dk[~df_dk[\"Speaker_party\"].isin([\"IA\", \"JF\", \"SIU\", \"T\", \"SP\", \"NQ\", \"FG\"])]\n",
    "df_dk = df_dk[df_dk[\"Speaker_role\"]!= \"Chairperson\"]\n",
    "df_dk = df_dk.drop(df_dk[(df_dk[\"Speaker_Minister\"] == \"-\") & (df_dk[\"Speaker_MP\"] == \"notMP\")].index)"
   ]
  },
  {
   "cell_type": "code",
   "execution_count": 48,
   "id": "fe583d06",
   "metadata": {},
   "outputs": [],
   "source": [
    "gs_full = gs.set_index(\"ID\").merge(df_dk.set_index(\"ID\"), on = \"ID\", how = \"left\")"
   ]
  },
  {
   "cell_type": "code",
   "execution_count": 49,
   "id": "e994a49c",
   "metadata": {},
   "outputs": [
    {
     "data": {
      "text/plain": [
       "Party_status\n",
       "Coalition     0.023060\n",
       "Opposition    0.018464\n",
       "Name: Sentiment_x, dtype: float64"
      ]
     },
     "execution_count": 49,
     "metadata": {},
     "output_type": "execute_result"
    }
   ],
   "source": [
    "gs_full.groupby([\"Party_status\"])[\"Sentiment_x\"].mean()"
   ]
  },
  {
   "cell_type": "code",
   "execution_count": 50,
   "id": "42f7f83b",
   "metadata": {},
   "outputs": [
    {
     "data": {
      "text/plain": [
       "Party_status\n",
       "Coalition     0.043956\n",
       "Opposition   -0.158273\n",
       "Name: Annotation, dtype: float64"
      ]
     },
     "execution_count": 50,
     "metadata": {},
     "output_type": "execute_result"
    }
   ],
   "source": [
    "gs_full.groupby([\"Party_status\"])[\"Annotation\"].mean()"
   ]
  },
  {
   "cell_type": "code",
   "execution_count": 53,
   "id": "87f1a8e3",
   "metadata": {},
   "outputs": [
    {
     "data": {
      "text/plain": [
       "Ttest_indResult(statistic=1.5540243965232894, pvalue=0.12156555939952714)"
      ]
     },
     "execution_count": 53,
     "metadata": {},
     "output_type": "execute_result"
    }
   ],
   "source": [
    "coal = gs_full[gs_full[\"Party_status\"] == \"Coalition\"][\"Annotation\"]\n",
    "oppo = gs_full[gs_full[\"Party_status\"] == \"Opposition\"][\"Annotation\"]\n",
    "\n",
    "from scipy import stats\n",
    "stats.ttest_ind(coal, oppo)"
   ]
  },
  {
   "cell_type": "code",
   "execution_count": 54,
   "id": "f096b6aa",
   "metadata": {},
   "outputs": [
    {
     "data": {
      "text/plain": [
       "Ttest_indResult(statistic=1.766920553118697, pvalue=0.0785794086410243)"
      ]
     },
     "execution_count": 54,
     "metadata": {},
     "output_type": "execute_result"
    }
   ],
   "source": [
    "coal = gs_full[gs_full[\"Party_status\"] == \"Coalition\"][\"Sentiment_x\"]\n",
    "oppo = gs_full[gs_full[\"Party_status\"] == \"Opposition\"][\"Sentiment_x\"]\n",
    "\n",
    "from scipy import stats\n",
    "stats.ttest_ind(coal, oppo)"
   ]
  },
  {
   "cell_type": "code",
   "execution_count": 55,
   "id": "b7bc1eb8",
   "metadata": {},
   "outputs": [
    {
     "data": {
      "text/plain": [
       "Ttest_indResult(statistic=0.17237786265582353, pvalue=0.8632582749271516)"
      ]
     },
     "execution_count": 55,
     "metadata": {},
     "output_type": "execute_result"
    }
   ],
   "source": [
    "men = gs_full[gs_full[\"Speaker_gender\"] == \"M\"][\"Annotation\"]\n",
    "women = gs_full[gs_full[\"Speaker_gender\"] == \"F\"][\"Annotation\"]\n",
    "\n",
    "stats.ttest_ind(men, women)"
   ]
  },
  {
   "cell_type": "code",
   "execution_count": 56,
   "id": "b7d55f69",
   "metadata": {},
   "outputs": [
    {
     "data": {
      "text/plain": [
       "Ttest_indResult(statistic=-1.1648074439999974, pvalue=0.245034823625134)"
      ]
     },
     "execution_count": 56,
     "metadata": {},
     "output_type": "execute_result"
    }
   ],
   "source": [
    "men = gs_full[gs_full[\"Speaker_gender\"] == \"M\"][\"Sentiment_x\"]\n",
    "women = gs_full[gs_full[\"Speaker_gender\"] == \"F\"][\"Sentiment_x\"]\n",
    "\n",
    "stats.ttest_ind(men, women)"
   ]
  },
  {
   "cell_type": "code",
   "execution_count": 51,
   "id": "2f608224",
   "metadata": {},
   "outputs": [
    {
     "data": {
      "text/plain": [
       "Speaker_gender\n",
       "F    0.021942\n",
       "M    0.019105\n",
       "Name: Sentiment_x, dtype: float64"
      ]
     },
     "execution_count": 51,
     "metadata": {},
     "output_type": "execute_result"
    }
   ],
   "source": [
    "gs_full.groupby([\"Speaker_gender\"])[\"Sentiment_x\"].mean()"
   ]
  },
  {
   "cell_type": "code",
   "execution_count": 52,
   "id": "9999a408",
   "metadata": {},
   "outputs": [
    {
     "data": {
      "text/plain": [
       "Speaker_gender  Annotation\n",
       "F               -1.0          29\n",
       "                 0.0          25\n",
       "                 1.0          22\n",
       "                -2.0           5\n",
       "                 2.0           4\n",
       "M                0.0          78\n",
       "                -1.0          68\n",
       "                 1.0          48\n",
       "                 2.0          10\n",
       "                -2.0           9\n",
       "Name: Annotation, dtype: int64"
      ]
     },
     "execution_count": 52,
     "metadata": {},
     "output_type": "execute_result"
    }
   ],
   "source": [
    "gs_full.groupby([\"Speaker_gender\"])[\"Annotation\"].value_counts()"
   ]
  },
  {
   "cell_type": "code",
   "execution_count": 26,
   "id": "31f17612",
   "metadata": {},
   "outputs": [
    {
     "data": {
      "text/plain": [
       "Debate  Party_status\n",
       "False   Coalition        68\n",
       "        Opposition      121\n",
       "True    Coalition        23\n",
       "        Opposition       18\n",
       "Name: Sentiment_x, dtype: int64"
      ]
     },
     "execution_count": 26,
     "metadata": {},
     "output_type": "execute_result"
    }
   ],
   "source": [
    "gs_full.groupby([\"Debate\", \"Party_status\"])[\"Sentiment_x\"].count()"
   ]
  },
  {
   "cell_type": "code",
   "execution_count": 156,
   "id": "0b8237c9",
   "metadata": {},
   "outputs": [
    {
     "data": {
      "text/plain": [
       "Question  Party_status\n",
       "False     Coalition       39\n",
       "          Opposition      46\n",
       "True      Coalition       52\n",
       "          Opposition      93\n",
       "Name: Sentiment_x, dtype: int64"
      ]
     },
     "execution_count": 156,
     "metadata": {},
     "output_type": "execute_result"
    }
   ],
   "source": [
    "gs_full.groupby([\"Question\", \"Party_status\"])[\"Sentiment_x\"].count()"
   ]
  },
  {
   "cell_type": "code",
   "execution_count": null,
   "id": "c5244595",
   "metadata": {},
   "outputs": [],
   "source": []
  }
 ],
 "metadata": {
  "kernelspec": {
   "display_name": "Python [conda env:root] *",
   "language": "python",
   "name": "conda-root-py"
  },
  "language_info": {
   "codemirror_mode": {
    "name": "ipython",
    "version": 3
   },
   "file_extension": ".py",
   "mimetype": "text/x-python",
   "name": "python",
   "nbconvert_exporter": "python",
   "pygments_lexer": "ipython3",
   "version": "3.9.7"
  }
 },
 "nbformat": 4,
 "nbformat_minor": 5
}
